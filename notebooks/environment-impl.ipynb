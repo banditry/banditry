{
 "cells": [
  {
   "cell_type": "code",
   "execution_count": 9,
   "metadata": {},
   "outputs": [],
   "source": [
    "import inspect\n",
    "\n",
    "import models"
   ]
  },
  {
   "cell_type": "markdown",
   "metadata": {},
   "source": [
    "# Model Hashing for Implicit Versioning"
   ]
  },
  {
   "cell_type": "code",
   "execution_count": 67,
   "metadata": {},
   "outputs": [
    {
     "data": {
      "text/plain": [
       "['class LogisticRegression(MCMCLogisticRegression):',\n",
       " '    def __init__(self, m0=None, P0=None, **kwargs):',\n",
       " '        super().__init__(**kwargs)',\n",
       " '        self.m0 = m0',\n",
       " '        self.P0 = P0',\n",
       " '    def sample_from_prior(self):',\n",
       " '        return self.rng.multivariate_normal(self.m0, self.P0)',\n",
       " '    def fit(self, X, y):',\n",
       " '        P0_inv = np.linalg.inv(self.P0)',\n",
       " '        P0_inv_m0 = P0_inv.dot(self.m0)',\n",
       " '        kappas = (y - 0.5).T',\n",
       " '        XTkappa = X.T.dot(kappas)',\n",
       " '        num_predictors = X.shape[1]',\n",
       " '        beta_hat = np.ndarray((self.num_samples + 1, num_predictors))',\n",
       " '        beta_hat[0] = self.sample_from_prior()',\n",
       " '        self.beta_hat_ = beta_hat[1:]  # discard initial sample from prior',\n",
       " '        for i in range(1, self.num_samples + 1):',\n",
       " '            omegas = draw_omegas(X, beta_hat[i - 1], self.pg_rng)',\n",
       " '            V_omega = np.linalg.inv((X.T * omegas).dot(X) + P0_inv)',\n",
       " '            m_omega = V_omega.dot(XTkappa + P0_inv_m0)',\n",
       " '            beta_hat[i] = self.rng.multivariate_normal(m_omega, V_omega)',\n",
       " '        return self']"
      ]
     },
     "execution_count": 67,
     "metadata": {},
     "output_type": "execute_result"
    }
   ],
   "source": [
    "lines = [l for l in inspect.getsource(models.LogisticRegression).split('\\n')\n",
    "         if l.strip()]\n",
    "\n",
    "\n",
    "def annotate_comments(lines):\n",
    "    in_multiline_comment = False\n",
    "    for line in lines:\n",
    "        stripped_line = line.strip()\n",
    "        if in_multiline_comment:\n",
    "            if stripped_line.endswith('\"\"\"'):\n",
    "                in_multiline_comment = False\n",
    "            yield line, True\n",
    "        elif stripped_line.startswith('\"\"\"'):\n",
    "            if stripped_line == '\"\"\"' or not stripped_line.endswith('\"\"\"'):\n",
    "                in_multiline_comment = True\n",
    "            yield line, True\n",
    "        elif stripped_line.startswith('#'):\n",
    "            yield line, True\n",
    "        else:\n",
    "            yield line, False\n",
    "\n",
    "\n",
    "def strip_comments(lines):\n",
    "    return (line for line, is_comment in annotate_comments(lines)\n",
    "            if not is_comment)\n",
    "        \n",
    "\n",
    "list(strip_comments(lines))"
   ]
  },
  {
   "cell_type": "code",
   "execution_count": 69,
   "metadata": {},
   "outputs": [
    {
     "data": {
      "text/plain": [
       "1043483796943723520"
      ]
     },
     "execution_count": 69,
     "metadata": {},
     "output_type": "execute_result"
    }
   ],
   "source": [
    "def hash_class(klass):\n",
    "    source_lines = (l for l in inspect.getsource(klass).split('\\n')\n",
    "                    if l.strip())\n",
    "    non_comment_source = ''.join(strip_comments(source_lines))\n",
    "    return hash(non_comment_source)\n",
    "\n",
    "\n",
    "hash_class(models.LogisticRegression)"
   ]
  },
  {
   "cell_type": "code",
   "execution_count": null,
   "metadata": {},
   "outputs": [],
   "source": [
    "# TODO: could also implement a version of this that chains together source from all super classes"
   ]
  },
  {
   "cell_type": "markdown",
   "metadata": {},
   "source": [
    "# Contextual bandit OpenAI Gym Environment Implementation"
   ]
  },
  {
   "cell_type": "code",
   "execution_count": 75,
   "metadata": {},
   "outputs": [
    {
     "name": "stdout",
     "output_type": "stream",
     "text": [
      "Episode finished after 14 timesteps\n"
     ]
    }
   ],
   "source": [
    "import gym\n",
    "\n",
    "env = gym.make('CartPole-v0')\n",
    "env.reset()\n",
    "\n",
    "for t in range(1000):\n",
    "    env.render()\n",
    "    random_action = env.action_space.sample()\n",
    "    obs, reward, done, info = env.step(random_action)\n",
    "    if done:\n",
    "        print(f\"Episode finished after {t} timesteps\")\n",
    "        break\n",
    "\n",
    "env.close()"
   ]
  },
  {
   "cell_type": "code",
   "execution_count": 76,
   "metadata": {},
   "outputs": [
    {
     "data": {
      "text/plain": [
       "Discrete(2)"
      ]
     },
     "execution_count": 76,
     "metadata": {},
     "output_type": "execute_result"
    }
   ],
   "source": [
    "env.action_space"
   ]
  },
  {
   "cell_type": "code",
   "execution_count": 77,
   "metadata": {},
   "outputs": [
    {
     "data": {
      "text/plain": [
       "Box(4,)"
      ]
     },
     "execution_count": 77,
     "metadata": {},
     "output_type": "execute_result"
    }
   ],
   "source": [
    "env.observation_space"
   ]
  },
  {
   "cell_type": "code",
   "execution_count": 78,
   "metadata": {},
   "outputs": [
    {
     "data": {
      "text/plain": [
       "array([4.8000002e+00, 3.4028235e+38, 4.1887903e-01, 3.4028235e+38],\n",
       "      dtype=float32)"
      ]
     },
     "execution_count": 78,
     "metadata": {},
     "output_type": "execute_result"
    }
   ],
   "source": [
    "env.observation_space.high"
   ]
  },
  {
   "cell_type": "code",
   "execution_count": 79,
   "metadata": {},
   "outputs": [
    {
     "data": {
      "text/plain": [
       "array([-4.8000002e+00, -3.4028235e+38, -4.1887903e-01, -3.4028235e+38],\n",
       "      dtype=float32)"
      ]
     },
     "execution_count": 79,
     "metadata": {},
     "output_type": "execute_result"
    }
   ],
   "source": [
    "env.observation_space.low"
   ]
  },
  {
   "cell_type": "code",
   "execution_count": 85,
   "metadata": {},
   "outputs": [
    {
     "data": {
      "text/plain": [
       "[EnvSpec(Copy-v0),\n",
       " EnvSpec(FetchPush-v1),\n",
       " EnvSpec(AirRaidDeterministic-v4),\n",
       " EnvSpec(AsterixNoFrameskip-v4),\n",
       " EnvSpec(BattleZone-ram-v4),\n",
       " EnvSpec(Boxing-ramDeterministic-v4),\n",
       " EnvSpec(ChopperCommand-ramNoFrameskip-v4),\n",
       " EnvSpec(ElevatorAction-v4),\n",
       " EnvSpec(FrostbiteDeterministic-v4),\n",
       " EnvSpec(IceHockeyNoFrameskip-v4),\n",
       " EnvSpec(Krull-ram-v4),\n",
       " EnvSpec(NameThisGame-ramDeterministic-v4),\n",
       " EnvSpec(Pooyan-ramNoFrameskip-v4),\n",
       " EnvSpec(Robotank-v4),\n",
       " EnvSpec(SpaceInvadersDeterministic-v4),\n",
       " EnvSpec(TutankhamNoFrameskip-v4),\n",
       " EnvSpec(WizardOfWor-ram-v4)]"
      ]
     },
     "execution_count": 85,
     "metadata": {},
     "output_type": "execute_result"
    }
   ],
   "source": [
    "list(gym.envs.registry.all())[::50]"
   ]
  },
  {
   "cell_type": "code",
   "execution_count": 96,
   "metadata": {},
   "outputs": [
    {
     "data": {
      "text/plain": [
       "{'id': 'Hopper-v2',\n",
       " 'make': <bound method EnvSpec.make of EnvSpec(Hopper-v2)>,\n",
       " 'max_episode_seconds': None,\n",
       " 'max_episode_steps': 1000,\n",
       " 'nondeterministic': False,\n",
       " 'reward_threshold': 3800.0,\n",
       " 'tags': {'wrapper_config.TimeLimit.max_episode_steps': 1000},\n",
       " 'timestep_limit': 1000,\n",
       " 'trials': 100}"
      ]
     },
     "execution_count": 96,
     "metadata": {},
     "output_type": "execute_result"
    }
   ],
   "source": [
    "spec = gym.envs.registry.spec('Hopper-v2')\n",
    "{name: getattr(spec, name) for name in dir(spec)\n",
    " if not name.startswith('_')}"
   ]
  },
  {
   "cell_type": "markdown",
   "metadata": {},
   "source": [
    "## Creating a new environment\n",
    "\n",
    "I've pieced together the following from reading the `openai/gym` source code.\n",
    "\n",
    "1.  A new environment can be registered by calling `gym.register(name, **kwargs)`\n",
    "    1.  The name is a unique identifier string for the environment\n",
    "    2.  The kwargs include a set of metadata. Some of this is optional. The important stuff seems to be:\n",
    "        1.  `entry_point`: Environment class or full qualified path to the class (which will be loaded dynamically)\n",
    "        2.  `trials`: number of trials to average reward over\n",
    "        3.  `kwargs`: passed through to Environment class\n",
    "        4.  `max_episode_steps`: seems to specify max number of time steps per replication / trial\n",
    "2.  Once registered, a new instance can be created by calling `gym.make(name)`\n",
    "    1.  This will create a new Environment instance by passing in `**kwargs` to `entry_point\n",
    "3.  Every `Environment` needs:\n",
    "    1.  to implement 5 methods:\n",
    "        1.  `reset()`: reset state of environment, and return initial observation\n",
    "        2.  `step(action)`: run one timestep, return tuple of `(observation, reward, done, info)`\n",
    "        3.  `seed(seed=None)`: set seed for env's RNG\n",
    "        4.  `close()`: perform any necessary cleanup operations\n",
    "        5.  `render(mode='human')`: render env if supported. This is not required, but it may be useful to implement something later on.\n",
    "    2.  to set 2-3 attributes:\n",
    "        1.  `action_space`: Space object representing valid actions\n",
    "        2.  `observation_space`: Space object representing valid observations\n",
    "        3.  (optional) `reward_range`: tuple specifying (min, max) of possible rewards, e.g. (0, 1) for binary"
   ]
  },
  {
   "cell_type": "markdown",
   "metadata": {},
   "source": [
    "### ContextualBanditEnvironment\n",
    "\n",
    "Each of our environments will be fully-characterized by:\n",
    "\n",
    "1.  Number of arms\n",
    "2.  Number of time steps\n",
    "3.  Context-generating distribution for decision instances (i.e. population characteristics)\n",
    "    -   which naturally encodes the number of context variables & covariates\n",
    "4.  True effects for each context covariate for each arm (assumed linear)\n",
    "5.  Random seed\n",
    "\n",
    "The link function will be Binomial-logistic for all our simulations for now. So rewards will be binary.\n",
    "\n",
    "The action space will be `range(num_arms)`.\n",
    "\n",
    "The observation space will correspond to the context-generating distribution."
   ]
  },
  {
   "cell_type": "markdown",
   "metadata": {},
   "source": [
    "#### First environment\n",
    "\n",
    "For the first environment, we'll have:\n",
    "\n",
    "1. 10 real-valued context variables, with no interactions\n",
    "2. Homogeneous effect sizes (all same variance)\n",
    "3. 10 arms\n",
    "4. 100 time steps\n",
    "\n",
    "9 of the arms will have exactly the same effects.\n",
    "1 will have slightly better effects, so it is best for every context.\n",
    "We will generate contexts to be stricly positive to make the setting of \"better\" effects as simple as increasing any of them."
   ]
  },
  {
   "cell_type": "code",
   "execution_count": 128,
   "metadata": {},
   "outputs": [],
   "source": [
    "from scipy import stats, special\n",
    "import numpy as np\n",
    "import pandas as pd"
   ]
  },
  {
   "cell_type": "code",
   "execution_count": 110,
   "metadata": {},
   "outputs": [],
   "source": [
    "num_arms = 10\n",
    "num_time_steps = 100\n",
    "num_predictors = 10\n",
    "shared_variance = 0.5\n",
    "\n",
    "rng = np.random.RandomState(42)"
   ]
  },
  {
   "cell_type": "code",
   "execution_count": 111,
   "metadata": {},
   "outputs": [
    {
     "data": {
      "text/plain": [
       "array([0.2440635 , 0.98305592, 0.55383303, 0.41961388, 0.09840172,\n",
       "       0.09838631, 0.03643071, 0.74959595, 0.42180713, 0.5269514 ])"
      ]
     },
     "execution_count": 111,
     "metadata": {},
     "output_type": "execute_result"
    }
   ],
   "source": [
    "# context-generating distribution\n",
    "dist = stats.truncnorm(0, 10, loc=0, scale=shared_variance)\n",
    "context = dist.rvs(num_predictors, random_state=rng)\n",
    "context"
   ]
  },
  {
   "cell_type": "code",
   "execution_count": 125,
   "metadata": {},
   "outputs": [
    {
     "data": {
      "text/plain": [
       "0.6961117144835017"
      ]
     },
     "execution_count": 125,
     "metadata": {},
     "output_type": "execute_result"
    }
   ],
   "source": [
    "rng.seed(42)\n",
    "effect_dist = stats.norm(0, 0.5)\n",
    "shared_effects = effect_dist.rvs(size=num_predictors, random_state=rng)\n",
    "special.expit(shared_effects.dot(context))"
   ]
  },
  {
   "cell_type": "code",
   "execution_count": 126,
   "metadata": {},
   "outputs": [
    {
     "data": {
      "text/plain": [
       "True"
      ]
     },
     "execution_count": 126,
     "metadata": {},
     "output_type": "execute_result"
    }
   ],
   "source": [
    "arm_effects = np.tile(shared_effects, 9).reshape(9, num_predictors)\n",
    "np.all(arm_effects[0] == arm_effects[1])"
   ]
  },
  {
   "cell_type": "code",
   "execution_count": 127,
   "metadata": {},
   "outputs": [
    {
     "data": {
      "text/plain": [
       "0.7015581484856768"
      ]
     },
     "execution_count": 127,
     "metadata": {},
     "output_type": "execute_result"
    }
   ],
   "source": [
    "better_effects = shared_effects.copy()\n",
    "better_effects += stats.truncnorm.rvs(0, 0.1, loc=0, scale=0.1, size=num_predictors)\n",
    "special.expit(better_effects.dot(context))"
   ]
  },
  {
   "cell_type": "code",
   "execution_count": 142,
   "metadata": {},
   "outputs": [
    {
     "data": {
      "text/plain": [
       "array([0.82885   , 0.82885   , 0.82885   , 0.82885   , 0.82885   ,\n",
       "       0.82885   , 0.82885   , 0.82885   , 0.82885   , 0.85472868])"
      ]
     },
     "execution_count": 142,
     "metadata": {},
     "output_type": "execute_result"
    }
   ],
   "source": [
    "all_effects = np.ndarray((10, 10))\n",
    "all_effects[:-1] = arm_effects\n",
    "all_effects[-1] = better_effects\n",
    "all_effects.dot(pd.Series(context))"
   ]
  },
  {
   "cell_type": "code",
   "execution_count": 146,
   "metadata": {},
   "outputs": [
    {
     "data": {
      "text/plain": [
       "1"
      ]
     },
     "execution_count": 146,
     "metadata": {},
     "output_type": "execute_result"
    }
   ],
   "source": [
    "rewards = rng.binomial(n=1, p=_oh[142])\n",
    "optimal_action = rewards.argmax()\n",
    "optimal_reward = rewards[optimal_action]"
   ]
  },
  {
   "cell_type": "code",
   "execution_count": 166,
   "metadata": {},
   "outputs": [
    {
     "data": {
      "text/plain": [
       "False"
      ]
     },
     "execution_count": 166,
     "metadata": {},
     "output_type": "execute_result"
    }
   ],
   "source": [
    "s = gym.spaces.Box(low=0, high=np.inf, shape=(10,), dtype=np.float)\n",
    "s.contains(np.array([10] * 11))"
   ]
  },
  {
   "cell_type": "code",
   "execution_count": 180,
   "metadata": {},
   "outputs": [],
   "source": [
    "from experiment import Seedable\n",
    "\n",
    "\n",
    "class ContextualBanditEnv(Seedable, gym.Env):\n",
    "\n",
    "    def __init__(self, num_arms, num_predictors, num_time_steps, **kwargs):\n",
    "        Seedable.__init__(self, **kwargs)  # implements seed and reset\n",
    "\n",
    "        self.num_arms = num_arms\n",
    "        self.num_predictors = num_predictors\n",
    "        self.num_time_steps = num_time_steps\n",
    "\n",
    "        self.action_space = gym.spaces.Discrete(num_arms)\n",
    "        self.observation_space = gym.spaces.Box(\n",
    "            low=0, high=np.inf, shape=(num_predictors,), dtype=np.float)\n",
    "        self.reward_range = (0, 1)\n",
    "\n",
    "        self._current_time_step = 0\n",
    "        self._last_observation = None\n",
    "\n",
    "        shared_variance = 0.5\n",
    "        self.context_dist = stats.truncnorm(0, 10, loc=0, scale=shared_variance)\n",
    "\n",
    "        # Set up arm effects.\n",
    "        self.arm_effects = np.ndarray((num_arms, num_predictors))\n",
    "\n",
    "        # All but one of the arms will have the same effects.\n",
    "        effect_dist = stats.norm(0, 0.5)\n",
    "        shared_effects = effect_dist.rvs(size=num_predictors, random_state=self.rng)\n",
    "        self.arm_effects[:-1] = (np.tile(shared_effects, num_arms - 1)\n",
    "                                   .reshape(num_arms - 1, num_predictors))\n",
    "\n",
    "        # The last one will have just slightly better effects.\n",
    "        self.arm_effects[-1] += shared_effects + stats.truncnorm.rvs(\n",
    "            0, 0.1, loc=0, scale=0.1, size=num_predictors, random_state=self.rng)\n",
    "\n",
    "    def _next_context(self):\n",
    "        context = self.context_dist.rvs(size=self.num_predictors, random_state=self.rng)\n",
    "        self._last_observation = pd.Series(context)\n",
    "        self._current_time_step += 1\n",
    "        return self._last_observation\n",
    "\n",
    "    def reset(self):\n",
    "        Seedable.reset(self)\n",
    "        return self._next_context()\n",
    "\n",
    "    def step(self, action):\n",
    "        rates = special.expit(self.arm_effects.dot(self._last_observation))\n",
    "        rewards = self.rng.binomial(n=1, p=rates)\n",
    "        optimal_action = rewards.argmax()\n",
    "        optimal_reward = rewards[optimal_action]\n",
    "        actual_reward = rewards[action]\n",
    "\n",
    "        info = dict(optimal_action=optimal_action,\n",
    "                    optimal_reward=optimal_reward)\n",
    "        next_observation = self._next_context()\n",
    "        done = self._current_time_step == self.num_time_steps\n",
    "        \n",
    "        return next_observation, actual_reward, done, info"
   ]
  },
  {
   "cell_type": "code",
   "execution_count": 181,
   "metadata": {},
   "outputs": [],
   "source": [
    "gym.envs.register('CMABRealsOnebestN10P10T100-v4', trials=100, max_episode_steps=100,\n",
    "             entry_point=ContextualBanditEnv, kwargs=dict(\n",
    "                 num_arms=10, num_predictors=10, num_time_steps=100, seed=42))"
   ]
  },
  {
   "cell_type": "code",
   "execution_count": 182,
   "metadata": {},
   "outputs": [
    {
     "data": {
      "text/plain": [
       "<TimeLimit<ContextualBanditEnv<CMABRealsOnebestN10P10T100-v4>>>"
      ]
     },
     "execution_count": 182,
     "metadata": {},
     "output_type": "execute_result"
    }
   ],
   "source": [
    "cmab_env = gym.envs.make('CMABRealsOnebestN10P10T100-v4')\n",
    "cmab_env"
   ]
  },
  {
   "cell_type": "code",
   "execution_count": 183,
   "metadata": {},
   "outputs": [
    {
     "name": "stdout",
     "output_type": "stream",
     "text": [
      "Episode finished after 98 timesteps\n"
     ]
    },
    {
     "data": {
      "text/plain": [
       "41.0"
      ]
     },
     "execution_count": 183,
     "metadata": {},
     "output_type": "execute_result"
    }
   ],
   "source": [
    "obs = cmab_env.reset()\n",
    "\n",
    "all_rewards = np.ndarray((num_time_steps,))\n",
    "optimal_rewards = np.ndarray((num_time_steps,))\n",
    "\n",
    "for t in range(100):\n",
    "    random_action = cmab_env.action_space.sample()\n",
    "    obs, reward, done, info = cmab_env.step(random_action)\n",
    "    all_rewards[t] = reward\n",
    "    optimal_rewards[t] = info['optimal_reward']\n",
    "    if done:\n",
    "        print(f\"Episode finished after {t} timesteps\")\n",
    "        break\n",
    "\n",
    "regret = optimal_rewards - all_rewards\n",
    "np.sum(regret)"
   ]
  },
  {
   "cell_type": "code",
   "execution_count": 184,
   "metadata": {},
   "outputs": [],
   "source": [
    "from experiment import plot_cum_regret"
   ]
  },
  {
   "cell_type": "code",
   "execution_count": 187,
   "metadata": {},
   "outputs": [
    {
     "data": {
      "image/png": "[encoded data removed]",
      "text/plain": [
       "<Figure size 432x288 with 1 Axes>"
      ]
     },
     "metadata": {
      "needs_background": "light"
     },
     "output_type": "display_data"
    }
   ],
   "source": [
    "plot_cum_regret(all_rewards, optimal_rewards);"
   ]
  },
  {
   "cell_type": "code",
   "execution_count": null,
   "metadata": {},
   "outputs": [],
   "source": []
  }
 ],
 "metadata": {
  "kernelspec": {
   "display_name": "Python 3",
   "language": "python",
   "name": "python3"
  },
  "language_info": {
   "codemirror_mode": {
    "name": "ipython",
    "version": 3
   },
   "file_extension": ".py",
   "mimetype": "text/x-python",
   "name": "python",
   "nbconvert_exporter": "python",
   "pygments_lexer": "ipython3",
   "version": "3.6.8"
  }
 },
 "nbformat": 4,
 "nbformat_minor": 2
}

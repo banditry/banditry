{
 "cells": [
  {
   "cell_type": "code",
   "execution_count": 134,
   "metadata": {},
   "outputs": [],
   "source": [
    "import time\n",
    "import json\n",
    "import inspect\n",
    "import itertools\n",
    "\n",
    "import gym\n",
    "from scipy import stats, special\n",
    "import numpy as np\n",
    "import pandas as pd\n",
    "import matplotlib.pyplot as plt\n",
    "\n",
    "from cmabeval import models\n",
    "from cmabeval.experiment import Seedable, ReplicationMetrics, plot_cum_regret"
   ]
  },
  {
   "cell_type": "code",
   "execution_count": 135,
   "metadata": {},
   "outputs": [
    {
     "name": "stdout",
     "output_type": "stream",
     "text": [
      "The autoreload extension is already loaded. To reload it, use:\n",
      "  %reload_ext autoreload\n"
     ]
    }
   ],
   "source": [
    "%load_ext autoreload\n",
    "%autoreload 2"
   ]
  },
  {
   "cell_type": "markdown",
   "metadata": {},
   "source": [
    "# Contextual bandit OpenAI Gym Environment Implementation"
   ]
  },
  {
   "cell_type": "code",
   "execution_count": 4,
   "metadata": {},
   "outputs": [
    {
     "name": "stdout",
     "output_type": "stream",
     "text": [
      "Episode finished after 48 timesteps\n"
     ]
    }
   ],
   "source": [
    "env = gym.make('CartPole-v0')\n",
    "obs = env.reset()\n",
    "\n",
    "for t in range(1000):\n",
    "    env.render()\n",
    "    random_action = env.action_space.sample()\n",
    "    obs, reward, done, info = env.step(random_action)\n",
    "    if done:\n",
    "        print(f\"Episode finished after {t} timesteps\")\n",
    "        break\n",
    "\n",
    "env.close()"
   ]
  },
  {
   "cell_type": "code",
   "execution_count": 5,
   "metadata": {},
   "outputs": [
    {
     "data": {
      "text/plain": [
       "Discrete(2)"
      ]
     },
     "execution_count": 5,
     "metadata": {},
     "output_type": "execute_result"
    }
   ],
   "source": [
    "env.action_space"
   ]
  },
  {
   "cell_type": "code",
   "execution_count": 6,
   "metadata": {},
   "outputs": [
    {
     "data": {
      "text/plain": [
       "Box(4,)"
      ]
     },
     "execution_count": 6,
     "metadata": {},
     "output_type": "execute_result"
    }
   ],
   "source": [
    "env.observation_space"
   ]
  },
  {
   "cell_type": "code",
   "execution_count": 7,
   "metadata": {},
   "outputs": [
    {
     "data": {
      "text/plain": [
       "array([4.8000002e+00, 3.4028235e+38, 4.1887903e-01, 3.4028235e+38],\n",
       "      dtype=float32)"
      ]
     },
     "execution_count": 7,
     "metadata": {},
     "output_type": "execute_result"
    }
   ],
   "source": [
    "env.observation_space.high"
   ]
  },
  {
   "cell_type": "code",
   "execution_count": 8,
   "metadata": {},
   "outputs": [
    {
     "data": {
      "text/plain": [
       "array([-4.8000002e+00, -3.4028235e+38, -4.1887903e-01, -3.4028235e+38],\n",
       "      dtype=float32)"
      ]
     },
     "execution_count": 8,
     "metadata": {},
     "output_type": "execute_result"
    }
   ],
   "source": [
    "env.observation_space.low"
   ]
  },
  {
   "cell_type": "code",
   "execution_count": 176,
   "metadata": {},
   "outputs": [
    {
     "data": {
      "text/plain": [
       "[EnvSpec(Copy-v0),\n",
       " EnvSpec(AirRaidDeterministic-v4),\n",
       " EnvSpec(BattleZone-ram-v4),\n",
       " EnvSpec(ChopperCommand-ramNoFrameskip-v4),\n",
       " EnvSpec(FrostbiteDeterministic-v4),\n",
       " EnvSpec(Krull-ram-v4),\n",
       " EnvSpec(Pooyan-ramNoFrameskip-v4),\n",
       " EnvSpec(SpaceInvadersDeterministic-v4),\n",
       " EnvSpec(WizardOfWor-ram-v4)]"
      ]
     },
     "execution_count": 176,
     "metadata": {},
     "output_type": "execute_result"
    }
   ],
   "source": [
    "list(gym.envs.registry.all())[::100]"
   ]
  },
  {
   "cell_type": "code",
   "execution_count": 10,
   "metadata": {},
   "outputs": [
    {
     "data": {
      "text/plain": [
       "{'id': 'Hopper-v2',\n",
       " 'make': <bound method EnvSpec.make of EnvSpec(Hopper-v2)>,\n",
       " 'max_episode_seconds': None,\n",
       " 'max_episode_steps': 1000,\n",
       " 'nondeterministic': False,\n",
       " 'reward_threshold': 3800.0,\n",
       " 'tags': {'wrapper_config.TimeLimit.max_episode_steps': 1000},\n",
       " 'timestep_limit': 1000,\n",
       " 'trials': 100}"
      ]
     },
     "execution_count": 10,
     "metadata": {},
     "output_type": "execute_result"
    }
   ],
   "source": [
    "spec = gym.envs.registry.spec('Hopper-v2')\n",
    "{name: getattr(spec, name) for name in dir(spec)\n",
    " if not name.startswith('_')}"
   ]
  },
  {
   "cell_type": "markdown",
   "metadata": {},
   "source": [
    "## Creating a new environment\n",
    "\n",
    "I've pieced together the following from reading the `openai/gym` source code.\n",
    "\n",
    "1.  A new environment can be registered by calling `gym.register(name, **kwargs)`\n",
    "    1.  The name is a unique identifier string for the environment\n",
    "    2.  The kwargs include a set of metadata. Some of this is optional. The important stuff seems to be:\n",
    "        1.  `entry_point`: Environment class or full qualified path to the class (which will be loaded dynamically)\n",
    "        2.  `trials`: number of trials to average reward over\n",
    "        3.  `kwargs`: passed through to Environment class\n",
    "        4.  `max_episode_steps`: specify max number of time steps per replication / trial. If you do this, you don't need to manage this in the lower-level environment. It will be wrapped in a `gym.wrappers.TimeLimit` which will set the `done` attribute to True when `step` has been called `max_episode_steps` times.\n",
    "2.  Once registered, a new instance can be created by calling `gym.make(name)`\n",
    "    1.  This will create a new Environment instance by passing in `**kwargs` to `entry_point\n",
    "3.  Every `Environment` needs:\n",
    "    1.  to implement 5 methods:\n",
    "        1.  `reset()`: reset state of environment, and return initial observation\n",
    "        2.  `step(action)`: run one timestep, return tuple of `(observation, reward, done, info)`\n",
    "        3.  `seed(seed=None)`: set seed for env's RNG\n",
    "        4.  `close()`: perform any necessary cleanup operations\n",
    "        5.  `render(mode='human')`: render env if supported. This is not required, but it may be useful to implement something later on.\n",
    "    2.  to set 2-3 attributes:\n",
    "        1.  `action_space`: Space object representing valid actions\n",
    "        2.  `observation_space`: Space object representing valid observations\n",
    "        3.  (optional) `reward_range`: tuple specifying (min, max) of possible rewards, e.g. (0, 1) for binary"
   ]
  },
  {
   "cell_type": "markdown",
   "metadata": {},
   "source": [
    "### ContextualBanditEnvironment\n",
    "\n",
    "Each of our environments will be fully-characterized by:\n",
    "\n",
    "1.  Number of arms\n",
    "2.  Number of time steps\n",
    "3.  Context-generating distribution for decision instances (i.e. population characteristics)\n",
    "    -   which naturally encodes the number of context variables & covariates\n",
    "4.  True effects for each context covariate for each arm (assumed linear)\n",
    "5.  Random seed\n",
    "\n",
    "The link function will be Binomial-logistic for all our simulations for now. So rewards will be binary.\n",
    "\n",
    "The action space will be `range(num_arms)`.\n",
    "\n",
    "The observation space will correspond to the context-generating distribution."
   ]
  },
  {
   "cell_type": "markdown",
   "metadata": {},
   "source": [
    "#### First environment\n",
    "\n",
    "For the first environment, we'll have:\n",
    "\n",
    "1. 10 real-valued context variables, with no interactions\n",
    "2. Homogeneous effect sizes (all same variance)\n",
    "3. 10 arms\n",
    "4. 100 time steps\n",
    "\n",
    "We'll start with what I believe is the simplest scenario:\n",
    "\n",
    "-   9 of the arms will have exactly the same effects.\n",
    "-   1 will have slightly better effects, so it is best for every context.\n",
    "\n",
    "Contexts will be generated to be strictly positive, to make the setting of \"better\" effects as simple as increasing any of them.\n",
    "\n",
    "This is part of the `OneBest` class of scenarios.\n",
    "\n",
    "-   One arm is the best across all contexts and the rest are the same.\n",
    "\n",
    "This will also be a `SparseRewards` scenario\n",
    "\n",
    "-   where most reward distributions yield rewards very seldom (less than 5% of the time)"
   ]
  },
  {
   "cell_type": "code",
   "execution_count": 22,
   "metadata": {},
   "outputs": [],
   "source": [
    "num_arms = 10\n",
    "num_time_steps = 100\n",
    "num_predictors = 10\n",
    "shared_variance = 0.5\n",
    "\n",
    "rng = np.random.RandomState(42)"
   ]
  },
  {
   "cell_type": "code",
   "execution_count": 23,
   "metadata": {},
   "outputs": [
    {
     "data": {
      "text/plain": [
       "array([0.2440635 , 0.98305592, 0.55383303, 0.41961388, 0.09840172,\n",
       "       0.09838631, 0.03643071, 0.74959595, 0.42180713, 0.5269514 ])"
      ]
     },
     "execution_count": 23,
     "metadata": {},
     "output_type": "execute_result"
    }
   ],
   "source": [
    "# context-generating distribution\n",
    "dist = stats.truncnorm(0, 10, loc=0, scale=shared_variance)\n",
    "context = dist.rvs(num_predictors, random_state=rng)\n",
    "context"
   ]
  },
  {
   "cell_type": "code",
   "execution_count": 24,
   "metadata": {},
   "outputs": [
    {
     "data": {
      "text/plain": [
       "0.03545851034183353"
      ]
     },
     "execution_count": 24,
     "metadata": {},
     "output_type": "execute_result"
    }
   ],
   "source": [
    "rng.seed(42)\n",
    "effect_dist = stats.norm(-1, 0.5)\n",
    "shared_effects = effect_dist.rvs(size=num_predictors, random_state=rng)\n",
    "special.expit(shared_effects.dot(context))"
   ]
  },
  {
   "cell_type": "code",
   "execution_count": 25,
   "metadata": {},
   "outputs": [
    {
     "data": {
      "text/plain": [
       "True"
      ]
     },
     "execution_count": 25,
     "metadata": {},
     "output_type": "execute_result"
    }
   ],
   "source": [
    "arm_effects = np.tile(shared_effects, 9).reshape(9, num_predictors)\n",
    "np.all(arm_effects[0] == arm_effects[1])"
   ]
  },
  {
   "cell_type": "code",
   "execution_count": 26,
   "metadata": {},
   "outputs": [
    {
     "data": {
      "text/plain": [
       "0.2628592904582224"
      ]
     },
     "execution_count": 26,
     "metadata": {},
     "output_type": "execute_result"
    }
   ],
   "source": [
    "better_effects = shared_effects.copy()\n",
    "better_effects += stats.truncnorm.rvs(0.4, 0.7, loc=0.5, scale=0.1, size=num_predictors)\n",
    "special.expit(better_effects.dot(context))"
   ]
  },
  {
   "cell_type": "code",
   "execution_count": 27,
   "metadata": {},
   "outputs": [
    {
     "data": {
      "text/plain": [
       "array([0.03545851, 0.03545851, 0.03545851, 0.03545851, 0.03545851,\n",
       "       0.03545851, 0.03545851, 0.03545851, 0.03545851, 0.26285929])"
      ]
     },
     "execution_count": 27,
     "metadata": {},
     "output_type": "execute_result"
    }
   ],
   "source": [
    "all_effects = np.ndarray((10, 10))\n",
    "all_effects[:-1] = arm_effects\n",
    "all_effects[-1] = better_effects\n",
    "rates = special.expit(all_effects.dot(pd.Series(context)))\n",
    "rates"
   ]
  },
  {
   "cell_type": "code",
   "execution_count": 28,
   "metadata": {},
   "outputs": [
    {
     "data": {
      "text/plain": [
       "(array([0, 0, 0, 0, 0, 0, 0, 0, 0, 0]), 0, 0)"
      ]
     },
     "execution_count": 28,
     "metadata": {},
     "output_type": "execute_result"
    }
   ],
   "source": [
    "rewards = rng.binomial(n=1, p=rates)\n",
    "optimal_action = rewards.argmax()\n",
    "optimal_reward = rewards[optimal_action]\n",
    "rewards, optimal_action, optimal_reward"
   ]
  },
  {
   "cell_type": "code",
   "execution_count": 29,
   "metadata": {},
   "outputs": [
    {
     "data": {
      "text/plain": [
       "False"
      ]
     },
     "execution_count": 29,
     "metadata": {},
     "output_type": "execute_result"
    }
   ],
   "source": [
    "s = gym.spaces.Box(low=0, high=np.inf, shape=(10,), dtype=np.float)\n",
    "s.contains(np.array([10] * 11))"
   ]
  },
  {
   "cell_type": "code",
   "execution_count": 34,
   "metadata": {},
   "outputs": [
    {
     "data": {
      "text/html": [
       "<div>\n",
       "<style scoped>\n",
       "    .dataframe tbody tr th:only-of-type {\n",
       "        vertical-align: middle;\n",
       "    }\n",
       "\n",
       "    .dataframe tbody tr th {\n",
       "        vertical-align: top;\n",
       "    }\n",
       "\n",
       "    .dataframe thead th {\n",
       "        text-align: right;\n",
       "    }\n",
       "</style>\n",
       "<table border=\"1\" class=\"dataframe\">\n",
       "  <thead>\n",
       "    <tr style=\"text-align: right;\">\n",
       "      <th></th>\n",
       "      <th>0</th>\n",
       "      <th>1</th>\n",
       "      <th>2</th>\n",
       "      <th>3</th>\n",
       "      <th>4</th>\n",
       "      <th>5</th>\n",
       "      <th>6</th>\n",
       "      <th>7</th>\n",
       "      <th>8</th>\n",
       "      <th>9</th>\n",
       "      <th>p0</th>\n",
       "      <th>p1</th>\n",
       "      <th>p2</th>\n",
       "      <th>p3</th>\n",
       "      <th>p4</th>\n",
       "      <th>p5</th>\n",
       "      <th>p6</th>\n",
       "      <th>p7</th>\n",
       "      <th>p8</th>\n",
       "      <th>p9</th>\n",
       "    </tr>\n",
       "  </thead>\n",
       "  <tbody>\n",
       "    <tr>\n",
       "      <th>0</th>\n",
       "      <td>1</td>\n",
       "      <td>0</td>\n",
       "      <td>0</td>\n",
       "      <td>0</td>\n",
       "      <td>0</td>\n",
       "      <td>0</td>\n",
       "      <td>0</td>\n",
       "      <td>0</td>\n",
       "      <td>0</td>\n",
       "      <td>0</td>\n",
       "      <td>0.244064</td>\n",
       "      <td>0.983056</td>\n",
       "      <td>0.553833</td>\n",
       "      <td>0.419614</td>\n",
       "      <td>0.098402</td>\n",
       "      <td>0.098386</td>\n",
       "      <td>0.036431</td>\n",
       "      <td>0.749596</td>\n",
       "      <td>0.421807</td>\n",
       "      <td>0.526951</td>\n",
       "    </tr>\n",
       "    <tr>\n",
       "      <th>1</th>\n",
       "      <td>0</td>\n",
       "      <td>1</td>\n",
       "      <td>0</td>\n",
       "      <td>0</td>\n",
       "      <td>0</td>\n",
       "      <td>0</td>\n",
       "      <td>0</td>\n",
       "      <td>0</td>\n",
       "      <td>0</td>\n",
       "      <td>0</td>\n",
       "      <td>0.244064</td>\n",
       "      <td>0.983056</td>\n",
       "      <td>0.553833</td>\n",
       "      <td>0.419614</td>\n",
       "      <td>0.098402</td>\n",
       "      <td>0.098386</td>\n",
       "      <td>0.036431</td>\n",
       "      <td>0.749596</td>\n",
       "      <td>0.421807</td>\n",
       "      <td>0.526951</td>\n",
       "    </tr>\n",
       "    <tr>\n",
       "      <th>2</th>\n",
       "      <td>0</td>\n",
       "      <td>0</td>\n",
       "      <td>1</td>\n",
       "      <td>0</td>\n",
       "      <td>0</td>\n",
       "      <td>0</td>\n",
       "      <td>0</td>\n",
       "      <td>0</td>\n",
       "      <td>0</td>\n",
       "      <td>0</td>\n",
       "      <td>0.244064</td>\n",
       "      <td>0.983056</td>\n",
       "      <td>0.553833</td>\n",
       "      <td>0.419614</td>\n",
       "      <td>0.098402</td>\n",
       "      <td>0.098386</td>\n",
       "      <td>0.036431</td>\n",
       "      <td>0.749596</td>\n",
       "      <td>0.421807</td>\n",
       "      <td>0.526951</td>\n",
       "    </tr>\n",
       "    <tr>\n",
       "      <th>3</th>\n",
       "      <td>0</td>\n",
       "      <td>0</td>\n",
       "      <td>0</td>\n",
       "      <td>1</td>\n",
       "      <td>0</td>\n",
       "      <td>0</td>\n",
       "      <td>0</td>\n",
       "      <td>0</td>\n",
       "      <td>0</td>\n",
       "      <td>0</td>\n",
       "      <td>0.244064</td>\n",
       "      <td>0.983056</td>\n",
       "      <td>0.553833</td>\n",
       "      <td>0.419614</td>\n",
       "      <td>0.098402</td>\n",
       "      <td>0.098386</td>\n",
       "      <td>0.036431</td>\n",
       "      <td>0.749596</td>\n",
       "      <td>0.421807</td>\n",
       "      <td>0.526951</td>\n",
       "    </tr>\n",
       "    <tr>\n",
       "      <th>4</th>\n",
       "      <td>0</td>\n",
       "      <td>0</td>\n",
       "      <td>0</td>\n",
       "      <td>0</td>\n",
       "      <td>1</td>\n",
       "      <td>0</td>\n",
       "      <td>0</td>\n",
       "      <td>0</td>\n",
       "      <td>0</td>\n",
       "      <td>0</td>\n",
       "      <td>0.244064</td>\n",
       "      <td>0.983056</td>\n",
       "      <td>0.553833</td>\n",
       "      <td>0.419614</td>\n",
       "      <td>0.098402</td>\n",
       "      <td>0.098386</td>\n",
       "      <td>0.036431</td>\n",
       "      <td>0.749596</td>\n",
       "      <td>0.421807</td>\n",
       "      <td>0.526951</td>\n",
       "    </tr>\n",
       "    <tr>\n",
       "      <th>5</th>\n",
       "      <td>0</td>\n",
       "      <td>0</td>\n",
       "      <td>0</td>\n",
       "      <td>0</td>\n",
       "      <td>0</td>\n",
       "      <td>1</td>\n",
       "      <td>0</td>\n",
       "      <td>0</td>\n",
       "      <td>0</td>\n",
       "      <td>0</td>\n",
       "      <td>0.244064</td>\n",
       "      <td>0.983056</td>\n",
       "      <td>0.553833</td>\n",
       "      <td>0.419614</td>\n",
       "      <td>0.098402</td>\n",
       "      <td>0.098386</td>\n",
       "      <td>0.036431</td>\n",
       "      <td>0.749596</td>\n",
       "      <td>0.421807</td>\n",
       "      <td>0.526951</td>\n",
       "    </tr>\n",
       "    <tr>\n",
       "      <th>6</th>\n",
       "      <td>0</td>\n",
       "      <td>0</td>\n",
       "      <td>0</td>\n",
       "      <td>0</td>\n",
       "      <td>0</td>\n",
       "      <td>0</td>\n",
       "      <td>1</td>\n",
       "      <td>0</td>\n",
       "      <td>0</td>\n",
       "      <td>0</td>\n",
       "      <td>0.244064</td>\n",
       "      <td>0.983056</td>\n",
       "      <td>0.553833</td>\n",
       "      <td>0.419614</td>\n",
       "      <td>0.098402</td>\n",
       "      <td>0.098386</td>\n",
       "      <td>0.036431</td>\n",
       "      <td>0.749596</td>\n",
       "      <td>0.421807</td>\n",
       "      <td>0.526951</td>\n",
       "    </tr>\n",
       "    <tr>\n",
       "      <th>7</th>\n",
       "      <td>0</td>\n",
       "      <td>0</td>\n",
       "      <td>0</td>\n",
       "      <td>0</td>\n",
       "      <td>0</td>\n",
       "      <td>0</td>\n",
       "      <td>0</td>\n",
       "      <td>1</td>\n",
       "      <td>0</td>\n",
       "      <td>0</td>\n",
       "      <td>0.244064</td>\n",
       "      <td>0.983056</td>\n",
       "      <td>0.553833</td>\n",
       "      <td>0.419614</td>\n",
       "      <td>0.098402</td>\n",
       "      <td>0.098386</td>\n",
       "      <td>0.036431</td>\n",
       "      <td>0.749596</td>\n",
       "      <td>0.421807</td>\n",
       "      <td>0.526951</td>\n",
       "    </tr>\n",
       "    <tr>\n",
       "      <th>8</th>\n",
       "      <td>0</td>\n",
       "      <td>0</td>\n",
       "      <td>0</td>\n",
       "      <td>0</td>\n",
       "      <td>0</td>\n",
       "      <td>0</td>\n",
       "      <td>0</td>\n",
       "      <td>0</td>\n",
       "      <td>1</td>\n",
       "      <td>0</td>\n",
       "      <td>0.244064</td>\n",
       "      <td>0.983056</td>\n",
       "      <td>0.553833</td>\n",
       "      <td>0.419614</td>\n",
       "      <td>0.098402</td>\n",
       "      <td>0.098386</td>\n",
       "      <td>0.036431</td>\n",
       "      <td>0.749596</td>\n",
       "      <td>0.421807</td>\n",
       "      <td>0.526951</td>\n",
       "    </tr>\n",
       "    <tr>\n",
       "      <th>9</th>\n",
       "      <td>0</td>\n",
       "      <td>0</td>\n",
       "      <td>0</td>\n",
       "      <td>0</td>\n",
       "      <td>0</td>\n",
       "      <td>0</td>\n",
       "      <td>0</td>\n",
       "      <td>0</td>\n",
       "      <td>0</td>\n",
       "      <td>1</td>\n",
       "      <td>0.244064</td>\n",
       "      <td>0.983056</td>\n",
       "      <td>0.553833</td>\n",
       "      <td>0.419614</td>\n",
       "      <td>0.098402</td>\n",
       "      <td>0.098386</td>\n",
       "      <td>0.036431</td>\n",
       "      <td>0.749596</td>\n",
       "      <td>0.421807</td>\n",
       "      <td>0.526951</td>\n",
       "    </tr>\n",
       "  </tbody>\n",
       "</table>\n",
       "</div>"
      ],
      "text/plain": [
       "   0  1  2  3  4  5  6  7  8  9        p0        p1        p2        p3  \\\n",
       "0  1  0  0  0  0  0  0  0  0  0  0.244064  0.983056  0.553833  0.419614   \n",
       "1  0  1  0  0  0  0  0  0  0  0  0.244064  0.983056  0.553833  0.419614   \n",
       "2  0  0  1  0  0  0  0  0  0  0  0.244064  0.983056  0.553833  0.419614   \n",
       "3  0  0  0  1  0  0  0  0  0  0  0.244064  0.983056  0.553833  0.419614   \n",
       "4  0  0  0  0  1  0  0  0  0  0  0.244064  0.983056  0.553833  0.419614   \n",
       "5  0  0  0  0  0  1  0  0  0  0  0.244064  0.983056  0.553833  0.419614   \n",
       "6  0  0  0  0  0  0  1  0  0  0  0.244064  0.983056  0.553833  0.419614   \n",
       "7  0  0  0  0  0  0  0  1  0  0  0.244064  0.983056  0.553833  0.419614   \n",
       "8  0  0  0  0  0  0  0  0  1  0  0.244064  0.983056  0.553833  0.419614   \n",
       "9  0  0  0  0  0  0  0  0  0  1  0.244064  0.983056  0.553833  0.419614   \n",
       "\n",
       "         p4        p5        p6        p7        p8        p9  \n",
       "0  0.098402  0.098386  0.036431  0.749596  0.421807  0.526951  \n",
       "1  0.098402  0.098386  0.036431  0.749596  0.421807  0.526951  \n",
       "2  0.098402  0.098386  0.036431  0.749596  0.421807  0.526951  \n",
       "3  0.098402  0.098386  0.036431  0.749596  0.421807  0.526951  \n",
       "4  0.098402  0.098386  0.036431  0.749596  0.421807  0.526951  \n",
       "5  0.098402  0.098386  0.036431  0.749596  0.421807  0.526951  \n",
       "6  0.098402  0.098386  0.036431  0.749596  0.421807  0.526951  \n",
       "7  0.098402  0.098386  0.036431  0.749596  0.421807  0.526951  \n",
       "8  0.098402  0.098386  0.036431  0.749596  0.421807  0.526951  \n",
       "9  0.098402  0.098386  0.036431  0.749596  0.421807  0.526951  "
      ]
     },
     "execution_count": 34,
     "metadata": {},
     "output_type": "execute_result"
    }
   ],
   "source": [
    "dummies = pd.get_dummies(range(num_arms))\n",
    "for i in range(num_predictors):\n",
    "    dummies[f'p{i}'] = context[i]\n",
    "\n",
    "dummies"
   ]
  },
  {
   "cell_type": "code",
   "execution_count": 3,
   "metadata": {},
   "outputs": [],
   "source": [
    "class ContextualBanditEnv(Seedable, gym.Env):\n",
    "\n",
    "    def __init__(self, num_arms, num_context, num_time_steps, **kwargs):\n",
    "        Seedable.__init__(self, **kwargs)  # implements seed and reset\n",
    "\n",
    "        self.num_arms = num_arms\n",
    "        self.num_context = num_context\n",
    "        self.num_predictors = num_arms + num_context\n",
    "        self.num_time_steps = num_time_steps\n",
    "\n",
    "        self._dummies = pd.get_dummies(range(self.num_arms))\n",
    "\n",
    "        self.action_space = gym.spaces.Discrete(self.num_arms)\n",
    "        self.observation_space = gym.spaces.Box(\n",
    "            low=0, high=np.inf, shape=(self.num_predictors,), dtype=np.float)\n",
    "        self.reward_range = (0, 1)\n",
    "\n",
    "        self._last_observation = None\n",
    "\n",
    "        # Set up context distribution\n",
    "        shared_variance = 0.5\n",
    "        self.context_dist = stats.truncnorm(0, 10, loc=0, scale=shared_variance)\n",
    "\n",
    "        # Set up arm effects.\n",
    "        self.arm_effects = np.ndarray((self.num_arms, self.num_context))\n",
    "\n",
    "        # All but one of the arms will have the same effects.\n",
    "        effect_dist = stats.norm(-1, 0.5)\n",
    "        shared_effects = effect_dist.rvs(size=self.num_context, random_state=self.rng)\n",
    "        self.arm_effects[:-1] = (np.tile(shared_effects, self.num_arms - 1)\n",
    "                                   .reshape(self.num_arms - 1, self.num_context))\n",
    "\n",
    "        # The last one will have just slightly better effects.\n",
    "        self.arm_effects[-1] = shared_effects + stats.truncnorm.rvs(\n",
    "            0.4, 0.7, loc=0.5, scale=0.1,\n",
    "            size=self.num_context, random_state=self.rng)\n",
    "\n",
    "    def _next_observation(self):\n",
    "        context = self.context_dist.rvs(size=self.num_context, random_state=self.rng)\n",
    "        self._last_context = pd.Series(context)\n",
    "\n",
    "        obs = self._dummies.copy()\n",
    "        for i in range(len(context)):\n",
    "            obs[f'{i}'] = context[i]\n",
    "\n",
    "        self._last_observation = obs\n",
    "        return self._last_observation\n",
    "\n",
    "    def reset(self):\n",
    "        Seedable.reset(self)\n",
    "        return self._next_observation()\n",
    "\n",
    "    def step(self, action):\n",
    "        rates = special.expit(self.arm_effects.dot(self._last_context))\n",
    "        rewards = self.rng.binomial(n=1, p=rates)\n",
    "        optimal_action = rates.argmax()\n",
    "        optimal_reward = rewards[optimal_action]\n",
    "        actual_reward = rewards[action]\n",
    "\n",
    "        info = dict(optimal_action=optimal_action,\n",
    "                    optimal_reward=optimal_reward)\n",
    "        next_observation = self._next_observation()\n",
    "    \n",
    "        done = False  # will be handled by wrapper\n",
    "        return next_observation, actual_reward, done, info"
   ]
  },
  {
   "cell_type": "code",
   "execution_count": 4,
   "metadata": {},
   "outputs": [],
   "source": [
    "env_name = 'CMABRealsOnebestN10P10T100-v0'\n",
    "gym.envs.registry.env_specs.pop(env_name, None)\n",
    "\n",
    "num_time_steps = 1000\n",
    "gym.envs.register(\n",
    "    env_name,\n",
    "    trials=100, max_episode_steps=num_time_steps,\n",
    "    entry_point=ContextualBanditEnv, kwargs=dict(\n",
    "        num_arms=10, num_context=10, num_time_steps=num_time_steps, seed=42))"
   ]
  },
  {
   "cell_type": "code",
   "execution_count": 5,
   "metadata": {},
   "outputs": [
    {
     "data": {
      "text/plain": [
       "<TimeLimit<ContextualBanditEnv<CMABRealsOnebestN10P10T100-v0>>>"
      ]
     },
     "execution_count": 5,
     "metadata": {},
     "output_type": "execute_result"
    }
   ],
   "source": [
    "cmab_env = gym.envs.make(env_name)\n",
    "cmab_env"
   ]
  },
  {
   "cell_type": "code",
   "execution_count": 6,
   "metadata": {},
   "outputs": [
    {
     "name": "stdout",
     "output_type": "stream",
     "text": [
      "Episode finished after 1000 timesteps\n"
     ]
    },
    {
     "data": {
      "text/plain": [
       "219.0"
      ]
     },
     "execution_count": 6,
     "metadata": {},
     "output_type": "execute_result"
    }
   ],
   "source": [
    "obs = cmab_env.reset()\n",
    "\n",
    "all_rewards = np.ndarray((num_time_steps,))\n",
    "optimal_rewards = np.ndarray((num_time_steps,))\n",
    "\n",
    "for t in range(num_time_steps):\n",
    "    random_action = cmab_env.action_space.sample()\n",
    "    obs, reward, done, info = cmab_env.step(random_action)\n",
    "    all_rewards[t] = reward\n",
    "    optimal_rewards[t] = info['optimal_reward']\n",
    "    if done:\n",
    "        print(f\"Episode finished after {t+1} timesteps\")\n",
    "        break\n",
    "\n",
    "regret = optimal_rewards - all_rewards\n",
    "np.sum(regret)"
   ]
  },
  {
   "cell_type": "code",
   "execution_count": 7,
   "metadata": {},
   "outputs": [
    {
     "data": {
      "image/png": "[encoded data removed]",
      "text/plain": [
       "<Figure size 432x288 with 1 Axes>"
      ]
     },
     "metadata": {
      "needs_background": "light"
     },
     "output_type": "display_data"
    }
   ],
   "source": [
    "plot_cum_regret(all_rewards, optimal_rewards);"
   ]
  },
  {
   "cell_type": "markdown",
   "metadata": {},
   "source": [
    "## Wrapper class to record metrics"
   ]
  },
  {
   "cell_type": "code",
   "execution_count": 136,
   "metadata": {},
   "outputs": [],
   "source": [
    "class MetricsRecorder(gym.Wrapper):\n",
    "    \"\"\"Record metrics from an agent interacting with the wrapped environment.\"\"\"\n",
    "\n",
    "    def __init__(self, env):\n",
    "        super().__init__(env)\n",
    "        self.metrics = None\n",
    "        self._current_step = 0\n",
    "        self._compute_start = None\n",
    "        self._last_observation = None\n",
    "\n",
    "    def step(self, action):\n",
    "        assert self._compute_start is not None, \"Cannot call env.step() before calling reset()\"\n",
    "        time_for_decision = time.time() - self._compute_start\n",
    "        observation, reward, done, info = self.env.step(action)\n",
    "\n",
    "        # Record outcomes for this step\n",
    "        t = self._current_step  # will be 0 on first call to step\n",
    "        self.metrics.design_matrix[t] = self._last_observation.iloc[action]\n",
    "        self.metrics.time_per_decision[t] = time_for_decision\n",
    "        self.metrics.actions[t] = action\n",
    "        self.metrics.optimal_actions[t] = info.get('optimal_action', np.nan)\n",
    "        self.metrics.rewards[t] = reward\n",
    "        self.metrics.optimal_rewards[t] = info.get('optimal_reward', np.nan)\n",
    "        \n",
    "        # Move to next step and restart timer\n",
    "        self._current_step += 1\n",
    "        if not done:\n",
    "            self._last_observation = observation\n",
    "            self._compute_start = time.time()  # reset compute timer\n",
    "        else:\n",
    "            self._compute_start = None\n",
    "\n",
    "        return observation, reward, done, info\n",
    "\n",
    "    def reset(self):\n",
    "        self._last_observation = super().reset()\n",
    "        self.metrics = ReplicationMetrics(\n",
    "            self.env.initial_seed, self.env.num_time_steps, self.env.num_predictors)\n",
    "\n",
    "        self._current_step = 0\n",
    "        self._compute_start = time.time()\n",
    "        return self._last_observation"
   ]
  },
  {
   "cell_type": "code",
   "execution_count": 137,
   "metadata": {},
   "outputs": [
    {
     "data": {
      "text/plain": [
       "<MetricsRecorder<TimeLimit<ContextualBanditEnv<CMABRealsOnebestN10P10T100-v0>>>>"
      ]
     },
     "execution_count": 137,
     "metadata": {},
     "output_type": "execute_result"
    }
   ],
   "source": [
    "cmab_env = gym.envs.make(env_name)\n",
    "cmab_env = MetricsRecorder(cmab_env)\n",
    "cmab_env"
   ]
  },
  {
   "cell_type": "code",
   "execution_count": 138,
   "metadata": {},
   "outputs": [
    {
     "name": "stdout",
     "output_type": "stream",
     "text": [
      "Episode finished after 1000 timesteps\n"
     ]
    }
   ],
   "source": [
    "obs = cmab_env.reset()\n",
    "\n",
    "while True:\n",
    "    random_action = cmab_env.action_space.sample()\n",
    "    obs, reward, done, info = cmab_env.step(random_action)\n",
    "    if done:\n",
    "        print(f\"Episode finished after {t+1} timesteps\")\n",
    "        break"
   ]
  },
  {
   "cell_type": "code",
   "execution_count": 139,
   "metadata": {},
   "outputs": [
    {
     "data": {
      "text/html": [
       "<div>\n",
       "<style scoped>\n",
       "    .dataframe tbody tr th:only-of-type {\n",
       "        vertical-align: middle;\n",
       "    }\n",
       "\n",
       "    .dataframe tbody tr th {\n",
       "        vertical-align: top;\n",
       "    }\n",
       "\n",
       "    .dataframe thead th {\n",
       "        text-align: right;\n",
       "    }\n",
       "</style>\n",
       "<table border=\"1\" class=\"dataframe\">\n",
       "  <thead>\n",
       "    <tr style=\"text-align: right;\">\n",
       "      <th></th>\n",
       "      <th>p0</th>\n",
       "      <th>p1</th>\n",
       "      <th>p2</th>\n",
       "      <th>p3</th>\n",
       "      <th>p4</th>\n",
       "      <th>p5</th>\n",
       "      <th>p6</th>\n",
       "      <th>p7</th>\n",
       "      <th>p8</th>\n",
       "      <th>p9</th>\n",
       "      <th>...</th>\n",
       "      <th>p15</th>\n",
       "      <th>p16</th>\n",
       "      <th>p17</th>\n",
       "      <th>p18</th>\n",
       "      <th>p19</th>\n",
       "      <th>_action_</th>\n",
       "      <th>_optimal_action_</th>\n",
       "      <th>_reward_</th>\n",
       "      <th>_optimal_reward_</th>\n",
       "      <th>_compute_time_</th>\n",
       "    </tr>\n",
       "    <tr>\n",
       "      <th>time_step</th>\n",
       "      <th></th>\n",
       "      <th></th>\n",
       "      <th></th>\n",
       "      <th></th>\n",
       "      <th></th>\n",
       "      <th></th>\n",
       "      <th></th>\n",
       "      <th></th>\n",
       "      <th></th>\n",
       "      <th></th>\n",
       "      <th></th>\n",
       "      <th></th>\n",
       "      <th></th>\n",
       "      <th></th>\n",
       "      <th></th>\n",
       "      <th></th>\n",
       "      <th></th>\n",
       "      <th></th>\n",
       "      <th></th>\n",
       "      <th></th>\n",
       "      <th></th>\n",
       "    </tr>\n",
       "  </thead>\n",
       "  <tbody>\n",
       "    <tr>\n",
       "      <th>0</th>\n",
       "      <td>0</td>\n",
       "      <td>0</td>\n",
       "      <td>0</td>\n",
       "      <td>0</td>\n",
       "      <td>0</td>\n",
       "      <td>0</td>\n",
       "      <td>1</td>\n",
       "      <td>0</td>\n",
       "      <td>0</td>\n",
       "      <td>0</td>\n",
       "      <td>...</td>\n",
       "      <td>0.0983863</td>\n",
       "      <td>0.0364307</td>\n",
       "      <td>0.749596</td>\n",
       "      <td>0.421807</td>\n",
       "      <td>0.526951</td>\n",
       "      <td>6</td>\n",
       "      <td>9</td>\n",
       "      <td>0.0</td>\n",
       "      <td>0.0</td>\n",
       "      <td>0.000117</td>\n",
       "    </tr>\n",
       "    <tr>\n",
       "      <th>1</th>\n",
       "      <td>0</td>\n",
       "      <td>0</td>\n",
       "      <td>0</td>\n",
       "      <td>0</td>\n",
       "      <td>0</td>\n",
       "      <td>0</td>\n",
       "      <td>0</td>\n",
       "      <td>0</td>\n",
       "      <td>1</td>\n",
       "      <td>0</td>\n",
       "      <td>...</td>\n",
       "      <td>0.620205</td>\n",
       "      <td>0.126462</td>\n",
       "      <td>0.34853</td>\n",
       "      <td>0.414075</td>\n",
       "      <td>0.0291249</td>\n",
       "      <td>8</td>\n",
       "      <td>9</td>\n",
       "      <td>0.0</td>\n",
       "      <td>0.0</td>\n",
       "      <td>0.000023</td>\n",
       "    </tr>\n",
       "    <tr>\n",
       "      <th>2</th>\n",
       "      <td>0</td>\n",
       "      <td>0</td>\n",
       "      <td>0</td>\n",
       "      <td>0</td>\n",
       "      <td>1</td>\n",
       "      <td>0</td>\n",
       "      <td>0</td>\n",
       "      <td>0</td>\n",
       "      <td>0</td>\n",
       "      <td>0</td>\n",
       "      <td>...</td>\n",
       "      <td>0.47958</td>\n",
       "      <td>0.200589</td>\n",
       "      <td>0.353206</td>\n",
       "      <td>0.374971</td>\n",
       "      <td>0.116897</td>\n",
       "      <td>4</td>\n",
       "      <td>9</td>\n",
       "      <td>0.0</td>\n",
       "      <td>0.0</td>\n",
       "      <td>0.000024</td>\n",
       "    </tr>\n",
       "    <tr>\n",
       "      <th>3</th>\n",
       "      <td>0</td>\n",
       "      <td>0</td>\n",
       "      <td>1</td>\n",
       "      <td>0</td>\n",
       "      <td>0</td>\n",
       "      <td>0</td>\n",
       "      <td>0</td>\n",
       "      <td>0</td>\n",
       "      <td>0</td>\n",
       "      <td>0</td>\n",
       "      <td>...</td>\n",
       "      <td>0.371647</td>\n",
       "      <td>0.0887754</td>\n",
       "      <td>0.643918</td>\n",
       "      <td>0.0467859</td>\n",
       "      <td>1.24034</td>\n",
       "      <td>2</td>\n",
       "      <td>9</td>\n",
       "      <td>0.0</td>\n",
       "      <td>0.0</td>\n",
       "      <td>0.000030</td>\n",
       "    </tr>\n",
       "    <tr>\n",
       "      <th>4</th>\n",
       "      <td>1</td>\n",
       "      <td>0</td>\n",
       "      <td>0</td>\n",
       "      <td>0</td>\n",
       "      <td>0</td>\n",
       "      <td>0</td>\n",
       "      <td>0</td>\n",
       "      <td>0</td>\n",
       "      <td>0</td>\n",
       "      <td>0</td>\n",
       "      <td>...</td>\n",
       "      <td>0.209773</td>\n",
       "      <td>0.551078</td>\n",
       "      <td>0.45536</td>\n",
       "      <td>0.792894</td>\n",
       "      <td>0.315695</td>\n",
       "      <td>0</td>\n",
       "      <td>9</td>\n",
       "      <td>0.0</td>\n",
       "      <td>0.0</td>\n",
       "      <td>0.000031</td>\n",
       "    </tr>\n",
       "  </tbody>\n",
       "</table>\n",
       "<p>5 rows × 25 columns</p>\n",
       "</div>"
      ],
      "text/plain": [
       "          p0 p1 p2 p3 p4 p5 p6 p7 p8 p9      ...              p15        p16  \\\n",
       "time_step                                    ...                               \n",
       "0          0  0  0  0  0  0  1  0  0  0      ...        0.0983863  0.0364307   \n",
       "1          0  0  0  0  0  0  0  0  1  0      ...         0.620205   0.126462   \n",
       "2          0  0  0  0  1  0  0  0  0  0      ...          0.47958   0.200589   \n",
       "3          0  0  1  0  0  0  0  0  0  0      ...         0.371647  0.0887754   \n",
       "4          1  0  0  0  0  0  0  0  0  0      ...         0.209773   0.551078   \n",
       "\n",
       "                p17        p18        p19 _action_ _optimal_action_ _reward_  \\\n",
       "time_step                                                                      \n",
       "0          0.749596   0.421807   0.526951        6                9      0.0   \n",
       "1           0.34853   0.414075  0.0291249        8                9      0.0   \n",
       "2          0.353206   0.374971   0.116897        4                9      0.0   \n",
       "3          0.643918  0.0467859    1.24034        2                9      0.0   \n",
       "4           0.45536   0.792894   0.315695        0                9      0.0   \n",
       "\n",
       "          _optimal_reward_ _compute_time_  \n",
       "time_step                                  \n",
       "0                      0.0       0.000117  \n",
       "1                      0.0       0.000023  \n",
       "2                      0.0       0.000024  \n",
       "3                      0.0       0.000030  \n",
       "4                      0.0       0.000031  \n",
       "\n",
       "[5 rows x 25 columns]"
      ]
     },
     "execution_count": 139,
     "metadata": {},
     "output_type": "execute_result"
    }
   ],
   "source": [
    "results = cmab_env.metrics.as_df()\n",
    "results.head()"
   ]
  },
  {
   "cell_type": "code",
   "execution_count": 140,
   "metadata": {},
   "outputs": [
    {
     "data": {
      "image/png": "[encoded data removed]",
      "text/plain": [
       "<Figure size 432x288 with 1 Axes>"
      ]
     },
     "metadata": {
      "needs_background": "light"
     },
     "output_type": "display_data"
    }
   ],
   "source": [
    "plot_cum_regret(results['_reward_'].values, results['_optimal_reward_'].values);"
   ]
  },
  {
   "cell_type": "code",
   "execution_count": 141,
   "metadata": {},
   "outputs": [
    {
     "data": {
      "text/plain": [
       "<cmabeval.models.LogisticRegression at 0x1a15b56748>"
      ]
     },
     "execution_count": 141,
     "metadata": {},
     "output_type": "execute_result"
    }
   ],
   "source": [
    "num_covariates = cmab_env.num_predictors\n",
    "model = models.LogisticRegression(\n",
    "    m0=np.zeros(num_covariates),\n",
    "    P0=np.identity(num_covariates, dtype=np.float),\n",
    "    num_samples=2)  # first sample discarded as burnin\n",
    "model"
   ]
  },
  {
   "cell_type": "code",
   "execution_count": 14,
   "metadata": {},
   "outputs": [
    {
     "name": "stdout",
     "output_type": "stream",
     "text": [
      "Step 1\n",
      "Step 51\n",
      "Step 101\n",
      "Step 151\n",
      "Step 201\n",
      "Step 251\n",
      "Step 301\n",
      "Step 351\n",
      "Step 401\n",
      "Step 451\n",
      "Step 501\n",
      "Step 551\n",
      "Step 601\n",
      "Step 651\n",
      "Step 701\n",
      "Step 751\n",
      "Step 801\n",
      "Step 851\n",
      "Step 901\n",
      "Step 951\n",
      "Episode finished after 1000 timesteps\n"
     ]
    }
   ],
   "source": [
    "SEED = 42\n",
    "model.seed(SEED)\n",
    "cmab_env.seed(SEED)\n",
    "\n",
    "obs = cmab_env.reset()\n",
    "\n",
    "all_actions = []\n",
    "for t in range(1000):\n",
    "    if t % 50 == 0:\n",
    "        print(f'Step {t+1}')\n",
    "\n",
    "    action = model.choose_arm(obs)\n",
    "    all_actions.append(action)\n",
    "    obs, reward, done, info = cmab_env.step(action)\n",
    "    if done:\n",
    "        print(f\"Episode finished after {t+1} timesteps\")\n",
    "        break\n",
    "    else:\n",
    "        model.fit(cmab_env.metrics.design_matrix[:t],\n",
    "                  cmab_env.metrics.rewards[:t])"
   ]
  },
  {
   "cell_type": "code",
   "execution_count": 15,
   "metadata": {},
   "outputs": [
    {
     "name": "stdout",
     "output_type": "stream",
     "text": [
      "Regret: 48.0\n"
     ]
    },
    {
     "data": {
      "image/png": "[encoded data removed]",
      "text/plain": [
       "<Figure size 432x288 with 1 Axes>"
      ]
     },
     "metadata": {
      "needs_background": "light"
     },
     "output_type": "display_data"
    }
   ],
   "source": [
    "results = cmab_env.metrics.as_df()\n",
    "regret = results['_optimal_reward_'].values - results['_reward_'].values\n",
    "print(f'Regret: {np.sum(regret)}')\n",
    "plot_cum_regret(results['_reward_'].values, results['_optimal_reward_'].values);"
   ]
  },
  {
   "cell_type": "code",
   "execution_count": 16,
   "metadata": {},
   "outputs": [
    {
     "data": {
      "text/html": [
       "<div>\n",
       "<style scoped>\n",
       "    .dataframe tbody tr th:only-of-type {\n",
       "        vertical-align: middle;\n",
       "    }\n",
       "\n",
       "    .dataframe tbody tr th {\n",
       "        vertical-align: top;\n",
       "    }\n",
       "\n",
       "    .dataframe thead th {\n",
       "        text-align: right;\n",
       "    }\n",
       "</style>\n",
       "<table border=\"1\" class=\"dataframe\">\n",
       "  <thead>\n",
       "    <tr style=\"text-align: right;\">\n",
       "      <th></th>\n",
       "      <th>_action_</th>\n",
       "      <th>_optimal_action_</th>\n",
       "      <th>_reward_</th>\n",
       "      <th>_optimal_reward_</th>\n",
       "      <th>_compute_time_</th>\n",
       "    </tr>\n",
       "    <tr>\n",
       "      <th>time_step</th>\n",
       "      <th></th>\n",
       "      <th></th>\n",
       "      <th></th>\n",
       "      <th></th>\n",
       "      <th></th>\n",
       "    </tr>\n",
       "  </thead>\n",
       "  <tbody>\n",
       "    <tr>\n",
       "      <th>0</th>\n",
       "      <td>3</td>\n",
       "      <td>9</td>\n",
       "      <td>0.0</td>\n",
       "      <td>0.0</td>\n",
       "      <td>0.331051</td>\n",
       "    </tr>\n",
       "    <tr>\n",
       "      <th>50</th>\n",
       "      <td>1</td>\n",
       "      <td>9</td>\n",
       "      <td>1.0</td>\n",
       "      <td>0.0</td>\n",
       "      <td>0.002141</td>\n",
       "    </tr>\n",
       "    <tr>\n",
       "      <th>100</th>\n",
       "      <td>5</td>\n",
       "      <td>9</td>\n",
       "      <td>0.0</td>\n",
       "      <td>1.0</td>\n",
       "      <td>0.002833</td>\n",
       "    </tr>\n",
       "    <tr>\n",
       "      <th>150</th>\n",
       "      <td>8</td>\n",
       "      <td>9</td>\n",
       "      <td>0.0</td>\n",
       "      <td>1.0</td>\n",
       "      <td>0.002737</td>\n",
       "    </tr>\n",
       "    <tr>\n",
       "      <th>200</th>\n",
       "      <td>9</td>\n",
       "      <td>9</td>\n",
       "      <td>0.0</td>\n",
       "      <td>0.0</td>\n",
       "      <td>0.002225</td>\n",
       "    </tr>\n",
       "    <tr>\n",
       "      <th>250</th>\n",
       "      <td>9</td>\n",
       "      <td>9</td>\n",
       "      <td>1.0</td>\n",
       "      <td>1.0</td>\n",
       "      <td>0.002515</td>\n",
       "    </tr>\n",
       "    <tr>\n",
       "      <th>300</th>\n",
       "      <td>9</td>\n",
       "      <td>9</td>\n",
       "      <td>0.0</td>\n",
       "      <td>0.0</td>\n",
       "      <td>0.002289</td>\n",
       "    </tr>\n",
       "    <tr>\n",
       "      <th>350</th>\n",
       "      <td>9</td>\n",
       "      <td>9</td>\n",
       "      <td>1.0</td>\n",
       "      <td>1.0</td>\n",
       "      <td>0.002704</td>\n",
       "    </tr>\n",
       "    <tr>\n",
       "      <th>400</th>\n",
       "      <td>9</td>\n",
       "      <td>9</td>\n",
       "      <td>1.0</td>\n",
       "      <td>1.0</td>\n",
       "      <td>0.002629</td>\n",
       "    </tr>\n",
       "    <tr>\n",
       "      <th>450</th>\n",
       "      <td>9</td>\n",
       "      <td>9</td>\n",
       "      <td>0.0</td>\n",
       "      <td>0.0</td>\n",
       "      <td>0.002539</td>\n",
       "    </tr>\n",
       "    <tr>\n",
       "      <th>500</th>\n",
       "      <td>9</td>\n",
       "      <td>9</td>\n",
       "      <td>0.0</td>\n",
       "      <td>0.0</td>\n",
       "      <td>0.002851</td>\n",
       "    </tr>\n",
       "    <tr>\n",
       "      <th>550</th>\n",
       "      <td>9</td>\n",
       "      <td>9</td>\n",
       "      <td>1.0</td>\n",
       "      <td>1.0</td>\n",
       "      <td>0.002554</td>\n",
       "    </tr>\n",
       "    <tr>\n",
       "      <th>600</th>\n",
       "      <td>9</td>\n",
       "      <td>9</td>\n",
       "      <td>0.0</td>\n",
       "      <td>0.0</td>\n",
       "      <td>0.003142</td>\n",
       "    </tr>\n",
       "    <tr>\n",
       "      <th>650</th>\n",
       "      <td>9</td>\n",
       "      <td>9</td>\n",
       "      <td>1.0</td>\n",
       "      <td>1.0</td>\n",
       "      <td>0.003013</td>\n",
       "    </tr>\n",
       "    <tr>\n",
       "      <th>700</th>\n",
       "      <td>9</td>\n",
       "      <td>9</td>\n",
       "      <td>0.0</td>\n",
       "      <td>0.0</td>\n",
       "      <td>0.003171</td>\n",
       "    </tr>\n",
       "    <tr>\n",
       "      <th>750</th>\n",
       "      <td>9</td>\n",
       "      <td>9</td>\n",
       "      <td>1.0</td>\n",
       "      <td>1.0</td>\n",
       "      <td>0.004041</td>\n",
       "    </tr>\n",
       "    <tr>\n",
       "      <th>800</th>\n",
       "      <td>4</td>\n",
       "      <td>9</td>\n",
       "      <td>0.0</td>\n",
       "      <td>1.0</td>\n",
       "      <td>0.003289</td>\n",
       "    </tr>\n",
       "    <tr>\n",
       "      <th>850</th>\n",
       "      <td>9</td>\n",
       "      <td>9</td>\n",
       "      <td>0.0</td>\n",
       "      <td>0.0</td>\n",
       "      <td>0.003885</td>\n",
       "    </tr>\n",
       "    <tr>\n",
       "      <th>900</th>\n",
       "      <td>9</td>\n",
       "      <td>9</td>\n",
       "      <td>0.0</td>\n",
       "      <td>0.0</td>\n",
       "      <td>0.003954</td>\n",
       "    </tr>\n",
       "    <tr>\n",
       "      <th>950</th>\n",
       "      <td>9</td>\n",
       "      <td>9</td>\n",
       "      <td>0.0</td>\n",
       "      <td>0.0</td>\n",
       "      <td>0.003690</td>\n",
       "    </tr>\n",
       "  </tbody>\n",
       "</table>\n",
       "</div>"
      ],
      "text/plain": [
       "           _action_  _optimal_action_  _reward_  _optimal_reward_  \\\n",
       "time_step                                                           \n",
       "0                 3                 9       0.0               0.0   \n",
       "50                1                 9       1.0               0.0   \n",
       "100               5                 9       0.0               1.0   \n",
       "150               8                 9       0.0               1.0   \n",
       "200               9                 9       0.0               0.0   \n",
       "250               9                 9       1.0               1.0   \n",
       "300               9                 9       0.0               0.0   \n",
       "350               9                 9       1.0               1.0   \n",
       "400               9                 9       1.0               1.0   \n",
       "450               9                 9       0.0               0.0   \n",
       "500               9                 9       0.0               0.0   \n",
       "550               9                 9       1.0               1.0   \n",
       "600               9                 9       0.0               0.0   \n",
       "650               9                 9       1.0               1.0   \n",
       "700               9                 9       0.0               0.0   \n",
       "750               9                 9       1.0               1.0   \n",
       "800               4                 9       0.0               1.0   \n",
       "850               9                 9       0.0               0.0   \n",
       "900               9                 9       0.0               0.0   \n",
       "950               9                 9       0.0               0.0   \n",
       "\n",
       "           _compute_time_  \n",
       "time_step                  \n",
       "0                0.331051  \n",
       "50               0.002141  \n",
       "100              0.002833  \n",
       "150              0.002737  \n",
       "200              0.002225  \n",
       "250              0.002515  \n",
       "300              0.002289  \n",
       "350              0.002704  \n",
       "400              0.002629  \n",
       "450              0.002539  \n",
       "500              0.002851  \n",
       "550              0.002554  \n",
       "600              0.003142  \n",
       "650              0.003013  \n",
       "700              0.003171  \n",
       "750              0.004041  \n",
       "800              0.003289  \n",
       "850              0.003885  \n",
       "900              0.003954  \n",
       "950              0.003690  "
      ]
     },
     "execution_count": 16,
     "metadata": {},
     "output_type": "execute_result"
    }
   ],
   "source": [
    "results[cmab_env.metrics.metadata_colnames].iloc[::50]"
   ]
  },
  {
   "cell_type": "code",
   "execution_count": 17,
   "metadata": {},
   "outputs": [
    {
     "data": {
      "text/plain": [
       "9    1000\n",
       "Name: _optimal_action_, dtype: int64"
      ]
     },
     "execution_count": 17,
     "metadata": {},
     "output_type": "execute_result"
    }
   ],
   "source": [
    "results._optimal_action_.astype(int).value_counts()"
   ]
  },
  {
   "cell_type": "code",
   "execution_count": 18,
   "metadata": {},
   "outputs": [
    {
     "data": {
      "text/plain": [
       "9    802\n",
       "5     31\n",
       "1     29\n",
       "6     22\n",
       "2     22\n",
       "8     21\n",
       "4     21\n",
       "7     20\n",
       "3     16\n",
       "0     16\n",
       "Name: _action_, dtype: int64"
      ]
     },
     "execution_count": 18,
     "metadata": {},
     "output_type": "execute_result"
    }
   ],
   "source": [
    "results._action_.astype(int).value_counts()"
   ]
  },
  {
   "cell_type": "code",
   "execution_count": 19,
   "metadata": {},
   "outputs": [
    {
     "data": {
      "image/png": "[encoded data removed]",
      "text/plain": [
       "<Figure size 1008x288 with 1 Axes>"
      ]
     },
     "metadata": {
      "needs_background": "light"
     },
     "output_type": "display_data"
    }
   ],
   "source": [
    "fig, ax = plt.subplots(figsize=(14, 4))\n",
    "jitter = 0#np.random.normal(0, 0.03, size=len(results))\n",
    "(results._action_ + jitter).plot(marker='o', markersize=3, linestyle='', alpha=0.6, ax=ax);"
   ]
  },
  {
   "cell_type": "code",
   "execution_count": 21,
   "metadata": {},
   "outputs": [
    {
     "data": {
      "image/png": "[encoded data removed]",
      "text/plain": [
       "<Figure size 432x288 with 1 Axes>"
      ]
     },
     "metadata": {
      "needs_background": "light"
     },
     "output_type": "display_data"
    }
   ],
   "source": [
    "results._compute_time_[1:].plot();"
   ]
  },
  {
   "cell_type": "markdown",
   "metadata": {},
   "source": [
    "### Storing replication metadata"
   ]
  },
  {
   "cell_type": "code",
   "execution_count": 30,
   "metadata": {},
   "outputs": [
    {
     "data": {
      "text/plain": [
       "'CMABRealsOnebestN10P10T100-v0'"
      ]
     },
     "execution_count": 30,
     "metadata": {},
     "output_type": "execute_result"
    }
   ],
   "source": [
    "# Simulation name\n",
    "cmab_env.env.spec.id"
   ]
  },
  {
   "cell_type": "code",
   "execution_count": 31,
   "metadata": {},
   "outputs": [
    {
     "data": {
      "text/plain": [
       "42"
      ]
     },
     "execution_count": 31,
     "metadata": {},
     "output_type": "execute_result"
    }
   ],
   "source": [
    "# Random seed\n",
    "cmab_env.unwrapped.initial_seed"
   ]
  },
  {
   "cell_type": "code",
   "execution_count": 118,
   "metadata": {},
   "outputs": [
    {
     "data": {
      "text/plain": [
       "'models.LogisticRegression'"
      ]
     },
     "execution_count": 118,
     "metadata": {},
     "output_type": "execute_result"
    }
   ],
   "source": [
    "# Name of model\n",
    "f'{model.__class__.__module__}.{model.__class__.__name__}'"
   ]
  },
  {
   "cell_type": "code",
   "execution_count": 33,
   "metadata": {},
   "outputs": [
    {
     "data": {
      "text/plain": [
       "-341466408474626320"
      ]
     },
     "execution_count": 33,
     "metadata": {},
     "output_type": "execute_result"
    }
   ],
   "source": [
    "# Hash of model source\n",
    "from versioning import hash_class\n",
    "hash_class(model.__class__)"
   ]
  },
  {
   "cell_type": "code",
   "execution_count": 59,
   "metadata": {},
   "outputs": [
    {
     "data": {
      "text/plain": [
       "FullArgSpec(args=['self', 'm0', 'P0'], varargs=None, varkw='kwargs', defaults=(None, None), kwonlyargs=[], kwonlydefaults=None, annotations={})"
      ]
     },
     "execution_count": 59,
     "metadata": {},
     "output_type": "execute_result"
    }
   ],
   "source": [
    "# Hyperparameter settings\n",
    "argspec = inspect.getfullargspec(model.__class__)\n",
    "argspec"
   ]
  },
  {
   "cell_type": "code",
   "execution_count": 60,
   "metadata": {},
   "outputs": [
    {
     "data": {
      "text/plain": [
       "['m0', 'P0']"
      ]
     },
     "execution_count": 60,
     "metadata": {},
     "output_type": "execute_result"
    }
   ],
   "source": [
    "argspec.args[1:]"
   ]
  },
  {
   "cell_type": "code",
   "execution_count": 54,
   "metadata": {},
   "outputs": [
    {
     "data": {
      "text/plain": [
       "[models.MCMCLogisticRegression]"
      ]
     },
     "execution_count": 54,
     "metadata": {},
     "output_type": "execute_result"
    }
   ],
   "source": [
    "def get_parents_with_hyperparams(klass):\n",
    "    cutoff_set = {models.PGBaseModel, models.BaseModel}\n",
    "    super_classes = klass.mro()\n",
    "\n",
    "    idx = None\n",
    "    for base_class in cutoff_set:\n",
    "        try:\n",
    "            idx = super_classes.index(base_class)\n",
    "            break\n",
    "        except ValueError:\n",
    "            pass\n",
    "\n",
    "    return super_classes[1:idx]\n",
    "\n",
    "\n",
    "get_parents_with_hyperparams(model.__class__)"
   ]
  },
  {
   "cell_type": "code",
   "execution_count": 57,
   "metadata": {},
   "outputs": [
    {
     "data": {
      "text/plain": [
       "{'P0', 'm0', 'num_burnin', 'num_samples'}"
      ]
     },
     "execution_count": 57,
     "metadata": {},
     "output_type": "execute_result"
    }
   ],
   "source": [
    "def get_hyperparam_names(klass):\n",
    "    parents = get_parents_with_hyperparams(klass)\n",
    "    all_classes = [klass] + parents\n",
    "    return set(itertools.chain.from_iterable(\n",
    "        inspect.getfullargspec(class_ref).args[1:]  # exclude self\n",
    "        for class_ref in all_classes))\n",
    "\n",
    "\n",
    "get_hyperparam_names(model.__class__)"
   ]
  },
  {
   "cell_type": "code",
   "execution_count": 62,
   "metadata": {},
   "outputs": [
    {
     "data": {
      "text/plain": [
       "{'num_samples': 2,\n",
       " 'num_burnin': 0,\n",
       " 'm0': array([0., 0., 0., 0., 0., 0., 0., 0., 0., 0., 0., 0., 0., 0., 0., 0., 0.,\n",
       "        0., 0., 0.]),\n",
       " 'P0': array([[1., 0., 0., 0., 0., 0., 0., 0., 0., 0., 0., 0., 0., 0., 0., 0.,\n",
       "         0., 0., 0., 0.],\n",
       "        [0., 1., 0., 0., 0., 0., 0., 0., 0., 0., 0., 0., 0., 0., 0., 0.,\n",
       "         0., 0., 0., 0.],\n",
       "        [0., 0., 1., 0., 0., 0., 0., 0., 0., 0., 0., 0., 0., 0., 0., 0.,\n",
       "         0., 0., 0., 0.],\n",
       "        [0., 0., 0., 1., 0., 0., 0., 0., 0., 0., 0., 0., 0., 0., 0., 0.,\n",
       "         0., 0., 0., 0.],\n",
       "        [0., 0., 0., 0., 1., 0., 0., 0., 0., 0., 0., 0., 0., 0., 0., 0.,\n",
       "         0., 0., 0., 0.],\n",
       "        [0., 0., 0., 0., 0., 1., 0., 0., 0., 0., 0., 0., 0., 0., 0., 0.,\n",
       "         0., 0., 0., 0.],\n",
       "        [0., 0., 0., 0., 0., 0., 1., 0., 0., 0., 0., 0., 0., 0., 0., 0.,\n",
       "         0., 0., 0., 0.],\n",
       "        [0., 0., 0., 0., 0., 0., 0., 1., 0., 0., 0., 0., 0., 0., 0., 0.,\n",
       "         0., 0., 0., 0.],\n",
       "        [0., 0., 0., 0., 0., 0., 0., 0., 1., 0., 0., 0., 0., 0., 0., 0.,\n",
       "         0., 0., 0., 0.],\n",
       "        [0., 0., 0., 0., 0., 0., 0., 0., 0., 1., 0., 0., 0., 0., 0., 0.,\n",
       "         0., 0., 0., 0.],\n",
       "        [0., 0., 0., 0., 0., 0., 0., 0., 0., 0., 1., 0., 0., 0., 0., 0.,\n",
       "         0., 0., 0., 0.],\n",
       "        [0., 0., 0., 0., 0., 0., 0., 0., 0., 0., 0., 1., 0., 0., 0., 0.,\n",
       "         0., 0., 0., 0.],\n",
       "        [0., 0., 0., 0., 0., 0., 0., 0., 0., 0., 0., 0., 1., 0., 0., 0.,\n",
       "         0., 0., 0., 0.],\n",
       "        [0., 0., 0., 0., 0., 0., 0., 0., 0., 0., 0., 0., 0., 1., 0., 0.,\n",
       "         0., 0., 0., 0.],\n",
       "        [0., 0., 0., 0., 0., 0., 0., 0., 0., 0., 0., 0., 0., 0., 1., 0.,\n",
       "         0., 0., 0., 0.],\n",
       "        [0., 0., 0., 0., 0., 0., 0., 0., 0., 0., 0., 0., 0., 0., 0., 1.,\n",
       "         0., 0., 0., 0.],\n",
       "        [0., 0., 0., 0., 0., 0., 0., 0., 0., 0., 0., 0., 0., 0., 0., 0.,\n",
       "         1., 0., 0., 0.],\n",
       "        [0., 0., 0., 0., 0., 0., 0., 0., 0., 0., 0., 0., 0., 0., 0., 0.,\n",
       "         0., 1., 0., 0.],\n",
       "        [0., 0., 0., 0., 0., 0., 0., 0., 0., 0., 0., 0., 0., 0., 0., 0.,\n",
       "         0., 0., 1., 0.],\n",
       "        [0., 0., 0., 0., 0., 0., 0., 0., 0., 0., 0., 0., 0., 0., 0., 0.,\n",
       "         0., 0., 0., 1.]])}"
      ]
     },
     "execution_count": 62,
     "metadata": {},
     "output_type": "execute_result"
    }
   ],
   "source": [
    "def get_hyperparams(model):\n",
    "    names = get_hyperparam_names(model.__class__)\n",
    "    return {name: getattr(model, name) for name in names}\n",
    "\n",
    "\n",
    "hyperparams = get_hyperparams(model)\n",
    "hyperparams"
   ]
  },
  {
   "cell_type": "markdown",
   "metadata": {},
   "source": [
    "#### Implement some special serialization logic for handling numpy arrays to JSON"
   ]
  },
  {
   "cell_type": "code",
   "execution_count": 63,
   "metadata": {},
   "outputs": [],
   "source": [
    "m0 = hyperparams['m0']\n",
    "P0 = hyperparams['P0']"
   ]
  },
  {
   "cell_type": "code",
   "execution_count": 132,
   "metadata": {},
   "outputs": [
    {
     "data": {
      "text/plain": [
       "(True, True)"
      ]
     },
     "execution_count": 132,
     "metadata": {},
     "output_type": "execute_result"
    }
   ],
   "source": [
    "def is_diagonal(matrix):\n",
    "    return np.count_nonzero(matrix - np.diag(np.diagonal(matrix))) == 0\n",
    "\n",
    "\n",
    "def is_identity(matrix):\n",
    "    return (is_diagonal(matrix) and\n",
    "            np.all(np.diag(matrix) == 1))\n",
    "\n",
    "\n",
    "is_diagonal(P0), is_identity(P0)"
   ]
  },
  {
   "cell_type": "code",
   "execution_count": 98,
   "metadata": {},
   "outputs": [
    {
     "data": {
      "text/plain": [
       "(True, False)"
      ]
     },
     "execution_count": 98,
     "metadata": {},
     "output_type": "execute_result"
    }
   ],
   "source": [
    "def is_zeros(array):\n",
    "    return np.all(array == 0)\n",
    "\n",
    "\n",
    "is_zeros(m0), is_zeros(P0)"
   ]
  },
  {
   "cell_type": "code",
   "execution_count": 113,
   "metadata": {},
   "outputs": [
    {
     "data": {
      "text/plain": [
       "'{\"num_samples\": 2, \"num_burnin\": 0, \"m0\": {\"dtype\": \"float64\", \"constructor\": \"zeros\", \"values\": null, \"shape\": [20]}, \"P0\": {\"dtype\": \"float64\", \"constructor\": \"identity\", \"values\": null, \"shape\": [20, 20]}}'"
      ]
     },
     "execution_count": 113,
     "metadata": {},
     "output_type": "execute_result"
    }
   ],
   "source": [
    "class NumpyEncoder(json.JSONEncoder):\n",
    "    def default(self, obj):\n",
    "        if isinstance(obj, np.ndarray):\n",
    "            # process several special cases: zeros, diagonal, identity\n",
    "            values = None\n",
    "            if is_zeros(obj):\n",
    "                constructor = 'zeros'\n",
    "            elif is_identity(obj):\n",
    "                constructor = 'identity'\n",
    "            elif is_diagonal(obj):\n",
    "                constructor = 'diag'\n",
    "                values = np.diagonal(obj).tolist()\n",
    "            else:\n",
    "                constructor = 'array'\n",
    "                values = obj.tolist()\n",
    "\n",
    "            return {\n",
    "                'dtype': f'{obj.dtype}',\n",
    "                'constructor': constructor,\n",
    "                'values': values,\n",
    "                'shape': obj.shape\n",
    "            }\n",
    "\n",
    "        return json.JSONEncoder.default(self, obj)\n",
    "    \n",
    "as_json = json.dumps(hyperparams, cls=NumpyEncoder)\n",
    "as_json"
   ]
  },
  {
   "cell_type": "code",
   "execution_count": 114,
   "metadata": {},
   "outputs": [
    {
     "data": {
      "text/plain": [
       "True"
      ]
     },
     "execution_count": 114,
     "metadata": {},
     "output_type": "execute_result"
    }
   ],
   "source": [
    "def decode_object(decoded_dict):\n",
    "    if 'dtype' in decoded_dict:\n",
    "        constructor_name = decoded_dict['constructor']\n",
    "        if constructor_name == 'array':\n",
    "            return np.array(decoded_dict['values'], dtype=decoded_dict['dtype'])\n",
    "        elif constructor_name == 'diag':\n",
    "            return np.diag(decoded_dict['values']).astype(decoded_dict['dtype'])\n",
    "        elif constructor_name == 'identity':\n",
    "            return np.identity(decoded_dict['shape'][0], dtype=decoded_dict['dtype'])\n",
    "        else:\n",
    "            constructor = getattr(np, constructor_name)\n",
    "            return constructor(decoded_dict['shape'], dtype=decoded_dict['dtype'])\n",
    "    \n",
    "    return decoded_dict\n",
    "\n",
    "\n",
    "as_json == json.dumps(json.loads(as_json, object_hook=decode_object), cls=NumpyEncoder)"
   ]
  },
  {
   "cell_type": "markdown",
   "metadata": {},
   "source": [
    "### Now, let's figure out how the experiment metrics will be stored"
   ]
  },
  {
   "cell_type": "code",
   "execution_count": null,
   "metadata": {},
   "outputs": [],
   "source": [
    "# index.json file will look like this:\n",
    "{\n",
    "    'metadata': {\n",
    "        'env_name': 'CMABRealsOnebestN10P10T100-v0',\n",
    "        'model_name': 'models.LogisticRegression',\n",
    "        'model_hash': -341466408474626320,\n",
    "        'hyperparams': hyperparams\n",
    "    },\n",
    "    'replications': [{\n",
    "        'metrics_path': '/path/to/metrics_0.csv',\n",
    "        'seed': 0,\n",
    "        'start_timestamp': 'yyyy-mm-ddThh:mm:ss.ffffff',  # assumed UTC\n",
    "        'end_timestamp': 'yyyy-mm-ddThh:mm:ss.ffffff'\n",
    "    }, {\n",
    "        'metrics_path': '/path/to/metrics_1.csv',\n",
    "        'seed': 1,\n",
    "        'start_timestamp': 'yyyy-mm-ddThh:mm:ss.ffffff',  # assumed UTC\n",
    "        'end_timestamp': 'yyyy-mm-ddThh:mm:ss.ffffff'\n",
    "    }]\n",
    "}"
   ]
  },
  {
   "cell_type": "code",
   "execution_count": null,
   "metadata": {},
   "outputs": [],
   "source": [
    "# Directory structure will then look like this:\n",
    "\"\"\"\n",
    "./index.json\n",
    "./replications/metrics_0.csv\n",
    "./replications/metrics_1.csv\n",
    "\"\"\""
   ]
  },
  {
   "cell_type": "code",
   "execution_count": 128,
   "metadata": {},
   "outputs": [
    {
     "data": {
      "text/plain": [
       "datetime.datetime(2019, 4, 16, 10, 33, 51, 429461)"
      ]
     },
     "execution_count": 128,
     "metadata": {},
     "output_type": "execute_result"
    }
   ],
   "source": [
    "import datetime\n",
    "dt = datetime.datetime.now()\n",
    "dt"
   ]
  },
  {
   "cell_type": "code",
   "execution_count": 129,
   "metadata": {},
   "outputs": [
    {
     "data": {
      "text/plain": [
       "'2019-04-16T10:33:51.429461'"
      ]
     },
     "execution_count": 129,
     "metadata": {},
     "output_type": "execute_result"
    }
   ],
   "source": [
    "dt.isoformat()"
   ]
  },
  {
   "cell_type": "code",
   "execution_count": 130,
   "metadata": {},
   "outputs": [
    {
     "data": {
      "text/plain": [
       "datetime.datetime(2019, 4, 16, 10, 33, 51, 429461)"
      ]
     },
     "execution_count": 130,
     "metadata": {},
     "output_type": "execute_result"
    }
   ],
   "source": [
    "datetime.datetime.strptime(dt.isoformat(), '%Y-%m-%dT%H:%M:%S.%f')"
   ]
  },
  {
   "cell_type": "code",
   "execution_count": null,
   "metadata": {},
   "outputs": [],
   "source": [
    "metadata = {\n",
    "    'env_name': 'CMABRealsOnebestN10P10T100-v0',\n",
    "    'model_name': 'models.LogisticRegression',\n",
    "    'model_hash': -341466408474626320,\n",
    "    'hyperparams': hyperparams\n",
    "}\n",
    "metrics = ExperimentMetrics(metadata)\n",
    "\n",
    "for i in range(10):\n",
    "    metrics.record_start(i)\n",
    "    model.seed(i)\n",
    "    env.seed(i)\n",
    "    repl_metrics = run_experiment(model, env)\n",
    "    metrics.record_end(i)\n",
    "    metrics.record_replication(repl_metrics)\n"
   ]
  }
 ],
 "metadata": {
  "kernelspec": {
   "display_name": "Python 3",
   "language": "python",
   "name": "python3"
  },
  "language_info": {
   "codemirror_mode": {
    "name": "ipython",
    "version": 3
   },
   "file_extension": ".py",
   "mimetype": "text/x-python",
   "name": "python",
   "nbconvert_exporter": "python",
   "pygments_lexer": "ipython3",
   "version": "3.6.8"
  }
 },
 "nbformat": 4,
 "nbformat_minor": 2
}

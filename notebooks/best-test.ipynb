{
 "cells": [
  {
   "cell_type": "code",
   "execution_count": null,
   "metadata": {},
   "outputs": [],
   "source": [
    "import sys\n",
    "import logging\n",
    "\n",
    "import pymc3 as pm\n",
    "import numpy as np\n",
    "import pandas as pd\n",
    "\n",
    "logging.basicConfig(level=logging.INFO, stream=sys.stdout,\n",
    "                    format='[%(asctime)s][%(levelname)s]: %(message)s')"
   ]
  },
  {
   "cell_type": "code",
   "execution_count": null,
   "metadata": {},
   "outputs": [],
   "source": [
    "rng = np.random.RandomState(42)\n",
    "num_samples = 100\n",
    "\n",
    "sample1 = rng.normal(0, 1, size=num_samples)\n",
    "sample2 = rng.normal(1, 1, size=num_samples)\n",
    "diff = sample1 - sample2"
   ]
  },
  {
   "cell_type": "code",
   "execution_count": 4,
   "metadata": {},
   "outputs": [
    {
     "name": "stderr",
     "output_type": "stream",
     "text": [
      "Only 100 samples in chain.\n",
      "Auto-assigning NUTS sampler...\n",
      "Initializing NUTS using jitter+adapt_diag...\n",
      "Multiprocess sampling (4 chains in 4 jobs)\n",
      "NUTS: [v_minus_one_log__, group_std_interval__, group_mean]\n",
      "100%|██████████| 600/600 [00:03<00:00, 159.20it/s]\n"
     ]
    }
   ],
   "source": [
    "sigma_low = diff.std() * 1 / 100\n",
    "sigma_high = diff.std() * 100\n",
    "\n",
    "with pm.Model():\n",
    "    group_mean = pm.Normal('group_mean', diff.mean(), diff.std() * 2)\n",
    "    group_std = pm.Uniform('group_std', lower=sigma_low, upper=sigma_high)\n",
    "    v = pm.Exponential('v_minus_one', 1 / 29.) + 1\n",
    "    pm.StudentT('result', nu=v, mu=group_mean, sd=group_std, observed=diff)\n",
    "    trace = pm.sample(num_samples)"
   ]
  },
  {
   "cell_type": "code",
   "execution_count": 11,
   "metadata": {},
   "outputs": [
    {
     "data": {
      "image/png": "[encoded data removed]",
      "text/plain": [
       "<Figure size 432x288 with 1 Axes>"
      ]
     },
     "metadata": {
      "needs_background": "light"
     },
     "output_type": "display_data"
    }
   ],
   "source": [
    "axes = pm.plot_posterior(\n",
    "    trace, varnames=['group_mean'], color='#87ceeb', text_size=14)"
   ]
  },
  {
   "cell_type": "code",
   "execution_count": 14,
   "metadata": {},
   "outputs": [],
   "source": [
    "class BESTPairedT:\n",
    "    \"\"\"Kruschke's BEST (Bayesian Estimation Superseded t-Test) model.\"\"\"\n",
    "    \n",
    "    def __init__(self, num_samples=1000):\n",
    "        self.num_samples = 1000\n",
    "\n",
    "        self.trace_ = None\n",
    "\n",
    "    def fit(self, diff):\n",
    "        sigma_low = diff.std() * 1 / 100\n",
    "        sigma_high = diff.std() * 100\n",
    "\n",
    "        with pm.Model():\n",
    "            group_mean = pm.Normal('group_mean', diff.mean(), diff.std() * 2)\n",
    "            group_std = pm.Uniform('group_std', lower=sigma_low, upper=sigma_high)\n",
    "            v = pm.Exponential('v_minus_one', 1 / 29.) + 1\n",
    "            pm.StudentT('result', nu=v, mu=group_mean, sd=group_std, observed=diff)\n",
    "            self.trace_ = pm.sample(self.num_samples)\n",
    "\n",
    "        return self\n",
    "\n",
    "    def plot(self, **kwargs):\n",
    "        kwargs.setdefault('color', '#87ceeb')\n",
    "        kwargs.setdefault('text_size', 14)\n",
    "        return pm.plot_posterior(\n",
    "            self.trace_, varnames=['group_mean'], **kwargs)"
   ]
  },
  {
   "cell_type": "code",
   "execution_count": 15,
   "metadata": {},
   "outputs": [
    {
     "name": "stderr",
     "output_type": "stream",
     "text": [
      "Auto-assigning NUTS sampler...\n",
      "Initializing NUTS using jitter+adapt_diag...\n",
      "Multiprocess sampling (4 chains in 4 jobs)\n",
      "NUTS: [v_minus_one_log__, group_std_interval__, group_mean]\n",
      "100%|██████████| 1500/1500 [00:05<00:00, 290.51it/s]\n",
      "The acceptance probability does not match the target. It is 0.8878666264284066, but should be close to 0.8. Try to increase the number of tuning steps.\n"
     ]
    },
    {
     "data": {
      "text/plain": [
       "<matplotlib.axes._subplots.AxesSubplot at 0x1c2a159518>"
      ]
     },
     "execution_count": 15,
     "metadata": {},
     "output_type": "execute_result"
    },
    {
     "data": {
      "image/png": "[encoded data removed]",
      "text/plain": [
       "<Figure size 432x288 with 1 Axes>"
      ]
     },
     "metadata": {
      "needs_background": "light"
     },
     "output_type": "display_data"
    }
   ],
   "source": [
    "model = BESTPairedT().fit(diff)\n",
    "model.plot()"
   ]
  },
  {
   "cell_type": "code",
   "execution_count": null,
   "metadata": {},
   "outputs": [],
   "source": []
  }
 ],
 "metadata": {
  "kernelspec": {
   "display_name": "Python 3",
   "language": "python",
   "name": "python3"
  },
  "language_info": {
   "codemirror_mode": {
    "name": "ipython",
    "version": 3
   },
   "file_extension": ".py",
   "mimetype": "text/x-python",
   "name": "python",
   "nbconvert_exporter": "python",
   "pygments_lexer": "ipython3",
   "version": "3.6.8"
  }
 },
 "nbformat": 4,
 "nbformat_minor": 2
}

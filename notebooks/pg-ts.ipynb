{
 "cells": [
  {
   "cell_type": "markdown",
   "metadata": {},
   "source": [
    "# Pólya-Gamma Logistic Regression + Thompson Sampling\n",
    "\n",
    "This notebook will walk through an implementation of Polya-Gamma augmented logistic regression + Thompson Sampling. Specifically, it will summarize and reimplement the method described in:\n",
    "\n",
    "> B. Dumitrascu, K. Feng, and B. E. Engelhardt, “PG-TS: Improved Thompson Sampling for Logistic Contextual Bandits,” arXiv:1805.07458 [cs, stat], May 2018."
   ]
  },
  {
   "cell_type": "markdown",
   "metadata": {},
   "source": [
    "## Notation\n",
    "\n",
    "Basical mathematical notation:\n",
    "\n",
    "-   $x \\in \\mathbb{R}^d$ denotes a $d$-dimensional column vector with scalar entries $x_j$, indexed by integers $j = \\{1, 2, \\ldots, d\\}$\n",
    "-   $\\mathbf{X}$ denotes a square matrix, while $X$ refers to a random variable (RV)\n",
    "-   We use $||.||$ for the 2-norm, while $||x||_A$ denotes $x^T\\mathbf{A}x$, for a matrix $\\mathbf{A}$\n",
    "-   Let $\\mathbb{1}_\\mathcal{B}(x)$ be the indicator function of a set $\\mathcal{B}$ defined as 1 if $x \\in \\mathcal{B}$ and 0 otherwise\n",
    "-   $MVN(\\mathbf{b}, \\mathbf{B})$ denotes the multivariate normal distribution with mean $\\mathbf{b}$ and covariance matrix $\\mathbf{B}$, and $\\mathbf{I}_d$ is the $d \\times d$ identity matrix\n",
    "\n",
    "Contextual bandit notation:\n",
    "\n",
    "-   $\\mathcal{A}$ is the set of arms and $|\\mathcal{A}| = K$ is the number of arms\n",
    "-   At each time step $t$, the learner observes context $\\mathbf{x}_{t,a} \\in \\mathbb{R}^d$\n",
    "-   The learner then chooses an arm $a_t$ and receives a reward $r_t \\in \\{0, 1\\}$\n",
    "-   The expectation of this reward is related to the context through a parameter $\\mathbf{\\theta^*} \\in \\mathbb{R}^d$ and a logistic link function $\\text{logit}^{-1}$, abbreviated as $\\mu$\n",
    "-   Let $\\mathcal{D}_t$ be the set of triplets $(x_{i, a_i}, a_i, r_i)$ for $i = 1, \\ldots, t$, representing the past $t$ observations fo the contexts, actions chosen, and their corresponding rewards\n",
    "-   The objective is to minimize cumulative regret given $\\mathcal{D}_{t-1}$ after fixed budget of $t$ steps\n",
    "-   Regret is the expected difference between optimal reward received by always playing optimal arm $a^*$ and actual reward received:\n",
    "\n",
    "$$r_t = \\sum_{i=1}^t \\left[\n",
    "\\mu(\\mathbf{x}_{i, a^*}^T \\mathbf{\\theta^*}) -\n",
    "\\mu(\\mathbf{x}_{i, a_i}^T \\mathbf{\\theta^*})\n",
    "\\right]$$\n",
    "\n",
    "The parameter $\\theta$ is re-estimated after each round $t$ using a generalized lienar model (GLM) estimator, as $\\theta_t$."
   ]
  },
  {
   "cell_type": "markdown",
   "metadata": {},
   "source": [
    "## Thompson Sampling for Contextual Logistic Bandits\n",
    "\n",
    "Specify prior $p(\\theta)$ and estimate posterior from observed triplets using Bayes' rule:\n",
    "\n",
    "$$p(\\theta | \\mathcal{D}_{t-1}) \\propto \\prod_{i=1}^{t-1} p(r_i | a_i, \\mathbf{x}_{ia, a_i}, \\theta) p(\\theta)$$\n",
    "\n",
    "The optimal arm is then chosen according to the explicit TS probabilities $p(a_t = a^* | \\theta_t, \\mathcal{D}_{t-1})$, computed via:\n",
    "\n",
    "$$\\int \\mathbb{1}_{\\mathcal{A}_t^\\text{max}}(\\theta_t)\n",
    "\\left(E[r_t | a, \\mathbf{x}_{t,a}, \\theta_t] \\right)\n",
    "p(\\theta_t | \\mathcal{D}_{t-1}) d\\theta_t,$$\n",
    "\n",
    "where $\\mathcal{A}_t^\\text{max}(\\theta_t)$ is the set of arms with maximum rewards at step $t$ if the true parameter were $\\theta_t$.\n",
    "\n",
    "In the case of logistic regression, the joint PMF over rewards $r_1, \\ldots, r_t$ observed upon taking actions $a_1, \\ldots, a_t$ is:\n",
    "\n",
    "$$\\prod_{i=1}^t p(r_i = 1 | a_i, \\mathbf{x}_{i, a_i}, \\theta_i) = \\prod_{i=1}^t \\text{Bernoulli}(\\mu(\\mathbf{x}_{i, a_i}^T \\theta_i))$$"
   ]
  },
  {
   "cell_type": "markdown",
   "metadata": {},
   "source": [
    "### Laplacian approximation\n",
    "\n",
    "Since the posterior derived from thsi joint distribution is intractable, Laplace-TS (Chapelle and Li, 2011) approximates the MV Gaussian with a diagonal covariance matrix. The mean of this is a MAP estimate. Laplace-TS performs well compared to UCB and other approximate techniques used by Russo et al. in 2017."
   ]
  },
  {
   "cell_type": "markdown",
   "metadata": {},
   "source": [
    "### Polya-Gamma (PG) Data Augmentation\n",
    "\n",
    "Reframe discrete rewards as functions of latent variables with Pólya-Gamma distributions over a continuous space. The PG latent variable construction relies on the theoretical properties of PG random variables to exploit the fact that **the logistic likelihood is a mixture of Gaussians with PG mixing distributions.**\n",
    "\n",
    "**So what is a PG-distributed RV?** _Let $X$ be a real-valued RV. $X$ follows a PG distribution with parameters $b > 0$ and $c \\in \\mathbb{R}, X \\sim PG(b, c)$ if_:\n",
    "\n",
    "$$X =\n",
    "\\frac{1}{2\\pi^2}\n",
    "\\sum_{k=1}^\\infty \\frac{G_k}{(k - 1/2)^2 + c^2/(4\\pi^2)},$$\n",
    "\n",
    "_where $G_k \\sim Ga(b,1)$ are independent Gamma variables_."
   ]
  },
  {
   "cell_type": "markdown",
   "metadata": {},
   "source": [
    "The identity central to the PG augmentation scheme is:\n",
    "\n",
    "$$\\frac{exp(\\psi)^a}{(1 + exp(\\psi))^b} =\n",
    "2^{-b} exp(\\kappa \\psi) \\int_0^\\infty exp(-\\omega \\psi^2 / 2) p(\\omega) d\\omega,$$\n",
    "\n",
    "where $\\psi \\in \\mathbb{R}, a \\in \\mathbb{R}, b > 0, \\kappa = a - b/2$, and $\\omega \\sim PG(b, 0)$. When $\\psi = \\mathbf{x}_t^T \\theta$, the previous identity allows us to write the logistic likelihood contribution of step $t$, $L_t(\\theta)$ as:\n",
    "\n",
    "\\begin{align}\n",
    "L_t(\\theta)\n",
    "    &= \\frac{exp(\\mathbf{x}_t^T \\theta)^{r_t}}{1 + exp(\\mathbf{x}_t^T \\theta)}  \\\\\n",
    "    &\\propto exp(\\kappa_t \\mathbf{x}_t^T \\theta) \\int_0^\\infty exp[-\\omega_t (\\mathbf{x}_t^T \\theta)^2 / 2] p(\\omega_t; 1, 0) d\\omega_t,\n",
    "\\end{align}\n",
    "\n",
    "where $\\kappa_t = r_t - 1/2$ and $p(\\omega_t; 1, 0)$ is the density of a PG-idstributed RV with parameters $(1, 0)$. These values result from appropriate substitution of $a=r_t$ and $b=1$ in the identity above.\n",
    "\n",
    "With this formulation of the likelihood, the conditional posterior of $\\theta$ given latent variables $\\mathbf{\\omega} = [\\omega_1, \\ldots, \\omega_t]$ and past rewards $\\mathbf{r} = [r_1, \\ldots, r_t]$ is a Gaussian:\n",
    "\n",
    "\\begin{align}\n",
    "p(\\theta | \\mathbf{\\omega}, \\mathbf{r})\n",
    "    &= p(\\theta) \\prod_{i=1}^t L_i(\\theta | \\omega_i)  \\\\\n",
    "    &\\propto p(\\theta) \\prod_{i=1}^t exp\\left\\{\\kappa_i \\mathbf{x}_i^T \\theta - \\omega_i (\\mathbf{x}_i^T \\theta)^2 / 2 \\right\\}  \\\\\n",
    "    &\\propto p(\\theta) \\prod_{i=1}^t exp\\left\\{ \\frac{\\omega_i}{2} (\\mathbf{x}_i^T \\theta - \\kappa_i / \\omega_i)^2 \\right\\}  \\\\\n",
    "    &\\propto p(\\theta) \\ exp \\left\\{ -\\frac{1}{2} (z - \\mathbf{X}\\theta)^T \\mathbf{\\Omega} (z - \\mathbf{X}\\theta) \\right\\},\n",
    "\\end{align}\n",
    "\n",
    "where $z = (\\kappa_1 / \\omega_1, \\ldots, \\kappa_t / \\omega_t)$, and $\\mathbf{\\Omega} = diag(\\omega_1, \\ldots, \\omega_t)$. This is a conditionally Gaussian likelihood in $\\theta$, with working responses $z$, design matrix $\\mathbf{X}$, and diagonal covariance matrix $\\mathbf{\\Omega}^{-1}$."
   ]
  },
  {
   "cell_type": "markdown",
   "metadata": {},
   "source": [
    "With a multivariate Gaussian prior for $\\theta \\sim MVN(\\mathbf{b}, \\mathbf{B})$:\n",
    "\n",
    "$$p(\\theta) \\propto exp\\left\\{ -\\frac{1}{2} (\\theta - \\mathbf{b})^T \\mathbf{B}^{-1} (\\theta - \\mathbf{b}) \\right\\},$$\n",
    "\n",
    "this identity leads to an efficient Gibbs sampler. The main parameters are drawn from a Gaussian distribution, which is parameterized by latent variables drawn from the PG distribution. The two steps are:\n",
    "\n",
    "\\begin{align}\n",
    "(\\omega_i | \\theta) &\\sim PG(1, \\mathbf{x}_i^T \\theta)  \\\\\n",
    "(\\theta | \\mathbf{r}, \\mathbf{\\omega}) &\\sim N(\\mathbf{m}_\\omega, \\mathbf{V}_\\omega),\n",
    "\\end{align}\n",
    "\n",
    "with\n",
    "\n",
    "\\begin{align}\n",
    "\\mathbf{V}_\\omega &= (\\mathbf{X}^T \\mathbf{\\Omega} \\mathbf{X} + \\mathbf{B}^{-1})^{-1}  \\\\\n",
    "\\mathbf{m}_\\omega &= \\mathbf{V}_\\omega (\\mathbf{X}^T \\mathbf{\\kappa} + \\mathbf{B}^{-1}\\mathbf{b})  \\\\\n",
    "\\mathbf{\\kappa} &= [r_1 - 1/2, \\ldots, r_t - 1/2]\n",
    "\\end{align}"
   ]
  },
  {
   "cell_type": "markdown",
   "metadata": {},
   "source": [
    "![PG-TS-Algorithm](images/pg-ts-algorithm-snapshot.png)"
   ]
  },
  {
   "cell_type": "markdown",
   "metadata": {},
   "source": [
    "Notes on the algorithm:\n",
    "\n",
    "1.  $\\mathbf{b}$ = prior means for coefficients\n",
    "2.  $\\mathbf{B}$ = prior covariance for coefficients\n",
    "3.  $M$ = number of burn-in iterations. Set to 1 for \"streaming\" setting. Authors found $M = 100$ gave good mixing\n",
    "4.  Initial draw $\\theta_0$ is from the prior $MVN(\\mathbf{b}, \\mathbf{B})$"
   ]
  },
  {
   "cell_type": "markdown",
   "metadata": {},
   "source": [
    "## Experiments from the paper\n",
    "\n",
    "1.  Gaussian simulations. 100 arms and 10 features per context across 1,000 trials (time steps).\n",
    "    -   Simulation process:\n",
    "        -   Contexts generated via: $\\mathbf{x}_{t,a} \\sim MVN(-\\mathbf{3}, \\mathbf{I}_{10})$ for all arms $a$.\n",
    "        -   True parameters $\\theta^* \\sim MVN(\\mathbf{0}, \\mathbf{I}_{10})$.\n",
    "        -   **Set the hyperparameters to be $\\mathbf{b} = 0$ and $\\mathbf{B} = \\mathbf{I}_{10}$.**\n",
    "    -   Results averaged over 100 runs. Also looked at variability across runs.\n",
    "    -   Found PG-TS performed better than Laplace-TS with less variability. Also found $M = 1$ is still better.\n",
    "2.  Mixture of Gaussians simulations to examine prior misspecification. 100 arms, 10 features, 5,000 trials (time steps).\n",
    "    -   Simulation process:\n",
    "        -   Contexts generated via: $\\mathbf{x}_{t,a} \\sim MVN(\\mathbf{0}, \\mathbf{I}_{10})$\n",
    "        -   True parameter $\\theta^*$ sampled from 4-component GMM, specified as follows.\n",
    "            -   variances $\\sigma^2_{j=1:4} \\sim \\text{Inverse-Gamma}(3,1)$\n",
    "            -   means $\\mu_{j=1:4} \\sim N(-3, \\sigma_j^2)$\n",
    "            -   mixture weights $\\phi \\sim \\text{Dirichlet}(1, 3, 5, 7)$\n",
    "            -   Then $\\theta^*(i) \\sim \\sum_{j=1}^4 \\phi_j N(\\mu_j, \\sigma_j^2),$ for $i = 1, \\ldots, 10$.\n",
    "    -   Found that PG-TS dealt with this misspecification better than Laplace-TS\n",
    "3.  Forest Cover type data from UCI ML repo (Bay et al., 2000). Kind of an odd experiment, so not discussing it here.\n",
    "4.  Yahoo! News article recommendation.\n",
    "    -   Ran replay on 200K of the clickstream events from the dataset of Li et al., 2010.\n",
    "        -   Did not discuss running it more than once and mention that $\\le 24,000$ events were valid for each of the evaluated algorithms.\n",
    "        -   This may indicate the authors failed to repeat the replay procedure, as should be done.\n",
    "    -   Full dataset contains 45.8M user visits from first 10 days in May 2009. For each user visit, one article of $K \\approx 20$ is shown.\n",
    "    -   Each article is associated with a feature vector $\\mathbf{x} \\in \\mathbb{R}^6$, including constant intercept feature, \"preprocessed using a conjoint analysis with a bilinear model (Chu et al., 2009)...\"\n",
    "    -   Articles represent the pool of arms, binary payoff is CTR, goal is to maximize total CTR.\n",
    "    -   Also include experiments with models updating in batches, introducing time delay (uses actual minutes of delay).\n",
    "    -   Found that PG-TS performed best; has more performance advantage with less delay"
   ]
  },
  {
   "cell_type": "markdown",
   "metadata": {},
   "source": [
    "# Game Plan from here\n",
    "\n",
    "1.  Implement PG-TS algorithm and validate on the same simulated procedure described in Experiment 1\n",
    "2.  Implement Laplace-TS algorithm and validate on Experiment 1\n",
    "3.  Extend PG-TS to use IW on $\\mathbf{B}$\n",
    "4.  Relax (3) s.t. we have $\\mathbf{B} = diag(\\sigma^2_1, \\ldots, \\sigma^2_d)$ and $\\sigma^2_j \\sim IG(\\alpha_j, \\beta_j), j = 1, \\ldots, d$\n",
    "\n",
    "Potential extensions:\n",
    "\n",
    "-   To improve expressiveness / reduce amount of tuning of hyperparameters:\n",
    "    1.  Add an Inverse-Wishart (IW) prior on $\\mathbf{B}$, since it's unclear how to properly set the prior covariance and that can have a significant impact\n",
    "    2.  Constrain the covariance to be diagonal and use a separate Inverse-Gamma (IG) prior per variance entry $\\sigma^2_j, j = 1, \\ldots, d$ instead of the IW.\n",
    "    3.  Constrain this further s.t. the covariance is $\\mathbf{I}_d \\times \\sigma^2$, i.e. each $\\theta$ is distributed according to the same variance, and $\\sigma^2 \\sim IG(\\alpha, \\beta)$.\n",
    "    4.  Add a Gamma prior on the scale term(s) of the IG distributions, since we may not know what good settings for those are.\n",
    "-   To handle non-stationarity:\n",
    "    1.  Add a drift component to the coefficients using the formulation from Sarkka (special case of Kalman Filter).\n",
    "    2.  Discount old data using some discount factor $\\gamma \\in (0, 1]$\n",
    "    3.  Use a sliding window method: only fit the model on data in the last $W$ time steps\n",
    "    4.  (Piecewise stationarity) Incorporate some sort of changepoint detection technique (perhaps the model-based Mahalonobis distance technique)"
   ]
  },
  {
   "cell_type": "markdown",
   "metadata": {},
   "source": [
    "## Implement PG-TS algorithm and validate on the same simulated procedure described in Experiment 1"
   ]
  },
  {
   "cell_type": "code",
   "execution_count": 1,
   "metadata": {},
   "outputs": [],
   "source": [
    "import sys\n",
    "import pickle\n",
    "import logging\n",
    "from concurrent import futures\n",
    "\n",
    "import numpy as np\n",
    "import pandas as pd\n",
    "from scipy import stats\n",
    "from scipy import special as sps\n",
    "import matplotlib.pyplot as plt\n",
    "from pypolyagamma import PyPolyaGamma\n",
    "\n",
    "logging.basicConfig(\n",
    "    level=logging.INFO, stream=sys.stdout,\n",
    "    format=\"[%(asctime)s][%(levelname)s]: %(message)s\")\n",
    "logger = logging.getLogger()\n",
    "%matplotlib inline"
   ]
  },
  {
   "cell_type": "markdown",
   "metadata": {},
   "source": [
    "### Start by simulating data"
   ]
  },
  {
   "cell_type": "code",
   "execution_count": 2,
   "metadata": {},
   "outputs": [
    {
     "name": "stdout",
     "output_type": "stream",
     "text": [
      "True effects: [ 0.4967 -0.1383  0.6477]\n",
      "Context matrix size: (5, 3)\n",
      "Samples per arm: [ 7 14  4 17  8]\n",
      "Design matrix size: (50, 3)\n"
     ]
    }
   ],
   "source": [
    "# Simualate data\n",
    "def simulate_gaussian_data(num_arms=5, num_predictors=3, num_time_steps=50,\n",
    "                           prior_means=None, prior_cov=None, *, seed=42):\n",
    "    rng = np.random.RandomState(seed)\n",
    "\n",
    "    # Generate true effects\n",
    "    if prior_means is None:\n",
    "        prior_means = np.zeros(num_predictors, dtype=np.float)\n",
    "\n",
    "    if prior_cov is None:\n",
    "        prior_cov = np.identity(num_predictors, dtype=np.float)\n",
    "\n",
    "    true_effects = rng.multivariate_normal(prior_means, prior_cov)\n",
    "    print(f'True effects: {np.round(true_effects, 4)}')\n",
    "\n",
    "    # Generate design matrix\n",
    "    arm_contexts = rng.multivariate_normal(\n",
    "        np.ones(num_predictors, dtype=np.float) * -3,\n",
    "        np.identity(num_predictors, dtype=np.float),\n",
    "        size=num_arms)\n",
    "    print(f'Context matrix size: {arm_contexts.shape}')\n",
    "\n",
    "    # Generate multiple points for each arm, using round-robin routing.\n",
    "    arm_per_time_step = rng.choice(num_arms, size=num_time_steps)\n",
    "    print(f'Samples per arm: {np.bincount(arm_per_time_step)}')\n",
    "\n",
    "    design_matrix = arm_contexts[arm_per_time_step]\n",
    "    print(f'Design matrix size: {design_matrix.shape}')\n",
    "\n",
    "    logits = design_matrix.dot(true_effects)\n",
    "    rates = sps.expit(logits)\n",
    "    ys = rng.binomial(n=1, p=rates)\n",
    "\n",
    "    return true_effects, rates, design_matrix, ys\n",
    "\n",
    "\n",
    "true_effects, rates, design_matrix, ys = simulate_gaussian_data()"
   ]
  },
  {
   "cell_type": "markdown",
   "metadata": {},
   "source": [
    "### Next implement PG-TS"
   ]
  },
  {
   "cell_type": "code",
   "execution_count": 3,
   "metadata": {},
   "outputs": [
    {
     "data": {
      "text/plain": [
       "array([0.1596743 , 0.19215274, 0.1063296 , 0.27367247, 0.06560533,\n",
       "       0.07586653, 0.07163043, 0.48742697, 0.02822869, 0.07179553,\n",
       "       0.27181091, 0.1635008 , 0.06916429, 0.11194476, 0.15172441,\n",
       "       0.17550561, 0.23778709, 0.02816743, 0.09748887, 0.29285089,\n",
       "       0.23887754, 0.31857353, 0.2625747 , 0.24508967, 0.57150317,\n",
       "       0.03817422, 0.15944416, 0.27623028, 0.14832688, 0.2003983 ,\n",
       "       0.01697209, 0.31636999, 0.11772438, 0.062571  , 0.03449791,\n",
       "       0.08137764, 0.03425237, 0.07642094, 0.18203002, 0.17351637,\n",
       "       0.05701904, 0.35682142, 0.18805591, 0.09362211, 0.11442617,\n",
       "       0.17135459, 0.03964136, 0.04697371, 0.03756138, 0.04917412])"
      ]
     },
     "execution_count": 3,
     "metadata": {},
     "output_type": "execute_result"
    }
   ],
   "source": [
    "def draw_omegas(design_matrix, theta, pg_rng):\n",
    "    num_rows = design_matrix.shape[0]\n",
    "    omegas = np.ndarray(num_rows)\n",
    "    logits = design_matrix.dot(theta)\n",
    "    for i, logit_i in enumerate(logits):\n",
    "        omegas[i] = pg_rng.pgdraw(1, logit_i)\n",
    "\n",
    "    return omegas\n",
    "\n",
    "\n",
    "rng = np.random.RandomState(42)\n",
    "pg_rng = PyPolyaGamma(seed=rng.randint(0, 2**32))\n",
    "omegas = draw_omegas(design_matrix, true_effects, pg_rng)\n",
    "omegas"
   ]
  },
  {
   "cell_type": "markdown",
   "metadata": {},
   "source": [
    "Just out of curiousity, what is the fastest way to compute X.T.dot(Omega)?"
   ]
  },
  {
   "cell_type": "code",
   "execution_count": 4,
   "metadata": {},
   "outputs": [
    {
     "data": {
      "text/plain": [
       "True"
      ]
     },
     "execution_count": 4,
     "metadata": {},
     "output_type": "execute_result"
    }
   ],
   "source": [
    "Omega = np.diag(omegas)\n",
    "np.array_equal(design_matrix.T.dot(Omega), design_matrix.T * omegas)"
   ]
  },
  {
   "cell_type": "code",
   "execution_count": 5,
   "metadata": {},
   "outputs": [],
   "source": [
    "# What is the fastest way to compute X.T.dot(Omega)?\n",
    "from scipy import sparse"
   ]
  },
  {
   "cell_type": "code",
   "execution_count": 6,
   "metadata": {},
   "outputs": [
    {
     "name": "stdout",
     "output_type": "stream",
     "text": [
      "6.2 µs ± 258 ns per loop (mean ± std. dev. of 7 runs, 100000 loops each)\n"
     ]
    }
   ],
   "source": [
    "%%timeit\n",
    "design_matrix.T.dot(np.diag(omegas))"
   ]
  },
  {
   "cell_type": "code",
   "execution_count": 7,
   "metadata": {},
   "outputs": [
    {
     "name": "stdout",
     "output_type": "stream",
     "text": [
      "4.02 ms ± 277 µs per loop (mean ± std. dev. of 7 runs, 100 loops each)\n"
     ]
    }
   ],
   "source": [
    "%%timeit\n",
    "design_matrix.T.dot(sparse.diags(omegas))"
   ]
  },
  {
   "cell_type": "code",
   "execution_count": 8,
   "metadata": {},
   "outputs": [
    {
     "name": "stdout",
     "output_type": "stream",
     "text": [
      "2.08 µs ± 121 ns per loop (mean ± std. dev. of 7 runs, 1000000 loops each)\n"
     ]
    }
   ],
   "source": [
    "%%timeit\n",
    "design_matrix.T * omegas"
   ]
  },
  {
   "cell_type": "markdown",
   "metadata": {},
   "source": [
    "And now on to the actual PG-TS Gibbs sampler implementation."
   ]
  },
  {
   "cell_type": "code",
   "execution_count": 9,
   "metadata": {},
   "outputs": [],
   "source": [
    "# Implement PG-TS Gibbs sampler\n",
    "class NotFitted(Exception):\n",
    "    pass\n",
    "\n",
    "\n",
    "class Seedable:\n",
    "    \n",
    "    def __init__(self, seed=42):\n",
    "        self._initial_seed = seed\n",
    "        self.rng = np.random.RandomState(self._initial_seed)\n",
    "\n",
    "    def seed(self, seed):\n",
    "        self.rng.seed(seed)\n",
    "        return self\n",
    "\n",
    "    def reset(self):\n",
    "        self.seed(self._initial_seed)\n",
    "        return self\n",
    "\n",
    "\n",
    "class BaseModel(Seedable):\n",
    "    \"\"\"Provides some useful helper methods and properties.\"\"\"\n",
    "\n",
    "    @property\n",
    "    def param_names(self):\n",
    "        return [name for name in self.__dict__ if name.endswith('_')]\n",
    "\n",
    "    def iter_params(self):\n",
    "        for name, value in self.__dict__.items():\n",
    "            if name.endswith('_'):\n",
    "                yield name, value\n",
    "\n",
    "    def raise_if_not_fitted(self):\n",
    "        empty_params = []\n",
    "        for name, value in self.iter_params():\n",
    "            if value is None:\n",
    "                empty_params.append(name)\n",
    "\n",
    "        if empty_params:\n",
    "            raise NotFitted(f\"some parameters are None: {empty_params}\")\n",
    "\n",
    "\n",
    "class LogisticRegression(BaseModel):\n",
    "    \"\"\"Bayesian logistic regression model, fitted with PG-augmented Gibbs.\"\"\"\n",
    "    \n",
    "    def __init__(self, m0=None, P0=None, num_samples=100, num_burnin=0, **kwargs):\n",
    "        \"\"\"\n",
    "        Args:\n",
    "            m0 (np.ndarray): prior mean\n",
    "            P0 (np.ndarray): prior covariance matrix\n",
    "        \"\"\"\n",
    "        super().__init__(**kwargs)\n",
    "\n",
    "        # Hyperparameters\n",
    "        self.m0 = m0\n",
    "        self.P0 = P0\n",
    "\n",
    "        # Set other properties that control fitting\n",
    "        self.num_samples = num_samples\n",
    "        self.num_burnin = num_burnin\n",
    "        self.pg_rng = PyPolyaGamma(seed=self.rng.randint(0, 2**32))\n",
    "\n",
    "        # Set up empty parameters\n",
    "        self.beta_hat_ = None\n",
    "\n",
    "    def seed(self, seed):\n",
    "        super().seed(seed)\n",
    "        self.pg_rng = PyPolyaGamma(seed=self.rng.randint(0, 2**32))\n",
    "        return self\n",
    "\n",
    "    def reset(self):\n",
    "        super().reset()\n",
    "        self.beta_hat_ = None\n",
    "        return self\n",
    "\n",
    "    # Use custom pickling to handle non-serializable PG RNG\n",
    "    # WARNING: pickle + unpickle will reset seed\n",
    "    def __getstate__(self):\n",
    "        state = self.__dict__.copy()\n",
    "        del state['pg_rng']\n",
    "        return state\n",
    "\n",
    "    def __setstate__(self, state):\n",
    "        self.__dict__.update(state)\n",
    "        self.reset()\n",
    "\n",
    "    def sample_from_prior(self):\n",
    "        return self.rng.multivariate_normal(self.m0, self.P0)\n",
    "\n",
    "    def fit(self, X, y):\n",
    "        \"\"\"Fit the model using Gibbs sampler.\n",
    "\n",
    "        Args:\n",
    "            X (np.ndarray): design matrix\n",
    "            y (np.ndarray): responses (binary rewards)\n",
    "\n",
    "        Returns:\n",
    "            self: reference to fitted model object (this instance).\n",
    "        \"\"\"\n",
    "        # Precompute some values that will be re-used in loops\n",
    "        P0_inv = np.linalg.inv(self.P0)\n",
    "        P0_inv_m0 = P0_inv.dot(self.m0)\n",
    "        kappas = (y - 0.5).T\n",
    "        num_predictors = X.shape[1]\n",
    "\n",
    "        # Init memory for parameter traces\n",
    "        beta_hat = np.ndarray((self.num_samples + 1, num_predictors))\n",
    "\n",
    "        # Init trace from prior\n",
    "        beta_hat[0] = self.sample_from_prior()\n",
    "\n",
    "        for i in range(1, self.num_samples + 1):\n",
    "            omegas = draw_omegas(X, beta_hat[i - 1], self.pg_rng)\n",
    "\n",
    "            # TODO: speed this up by computing inverse via Cholesky decomposition\n",
    "            V_omega = np.linalg.inv((X.T * omegas).dot(X) + P0_inv)\n",
    "            m_omega = V_omega.dot(X.T.dot(kappas) + P0_inv_m0)\n",
    "\n",
    "            beta_hat[i] = rng.multivariate_normal(m_omega, V_omega)\n",
    "\n",
    "        # Set fitted parameters on instance\n",
    "        self.beta_hat_ = beta_hat[1:]  # discard initial sample from prior\n",
    "        return self\n",
    "\n",
    "    def transform(self, X, num_burnin=None):\n",
    "        self.raise_if_not_fitted()\n",
    "\n",
    "        # Optionally override default burnin.\n",
    "        num_burnin = self.num_burnin if num_burnin is None else num_burnin\n",
    "        beta_trace = self.beta_hat_[num_burnin:]\n",
    "\n",
    "        # Compute logits and then transform to rates\n",
    "        logits = X.dot(beta_trace.T)\n",
    "        return sps.expit(logits)\n",
    "\n",
    "    def choose_arm(self, context):\n",
    "        if self.beta_hat_ is None:\n",
    "            beta_hat = self.rng.multivariate_normal(self.m0, self.P0)\n",
    "        else:\n",
    "            beta_hat = self.beta_hat_[-1]\n",
    "\n",
    "        # Compute logits and then transform to rates\n",
    "        logits = context.dot(beta_hat)\n",
    "        rates = sps.expit(logits)\n",
    "        \n",
    "        # Choose best arm for this \"plausible model.\"\n",
    "        return np.argmax(rates)"
   ]
  },
  {
   "cell_type": "markdown",
   "metadata": {},
   "source": [
    "### Validate the model on synthetic data"
   ]
  },
  {
   "cell_type": "code",
   "execution_count": 10,
   "metadata": {},
   "outputs": [
    {
     "data": {
      "image/png": "[encoded data removed]",
      "text/plain": [
       "<Figure size 432x288 with 1 Axes>"
      ]
     },
     "metadata": {
      "needs_background": "light"
     },
     "output_type": "display_data"
    }
   ],
   "source": [
    "num_predictors = design_matrix.shape[1]\n",
    "model = LogisticRegression(\n",
    "    m0=np.zeros(num_predictors),\n",
    "    P0=np.identity(num_predictors, dtype=np.float),\n",
    "    num_samples=100)\n",
    "model.fit(design_matrix, ys)\n",
    "\n",
    "beta_trace = model.beta_hat_\n",
    "pd.DataFrame(beta_trace).plot();"
   ]
  },
  {
   "cell_type": "code",
   "execution_count": 11,
   "metadata": {},
   "outputs": [
    {
     "data": {
      "image/png": "[encoded data removed]",
      "text/plain": [
       "<Figure size 720x288 with 1 Axes>"
      ]
     },
     "metadata": {
      "needs_background": "light"
     },
     "output_type": "display_data"
    }
   ],
   "source": [
    "# Posterior rates\n",
    "rates_trace = model.transform(design_matrix, num_burnin=50)\n",
    "expected_rates = np.mean(rates_trace, axis=-1)\n",
    "credible_bands = [(5.0, 95.0), (10.0, 90.0), (25.0, 75.0)]\n",
    "fig, ax = plt.subplots(figsize=(10, 4))\n",
    "\n",
    "ax.plot(rates, 's', color='red', alpha=0.8)\n",
    "ax.plot(expected_rates, 's', color='blue', alpha=0.7)\n",
    "\n",
    "xpoints = np.arange(len(rates))\n",
    "for i, q in enumerate(credible_bands, start=1):\n",
    "    lo, hi = np.percentile(rates_trace, q=q, axis=-1)\n",
    "    plt.vlines(xpoints, lo, hi, color='blue', alpha=i * 0.2);"
   ]
  },
  {
   "cell_type": "markdown",
   "metadata": {},
   "source": [
    "Next we'll combine the two plots above into a modular `ModelValidator` class that can be re-used elsewhere and doesn't have us working with so much global state."
   ]
  },
  {
   "cell_type": "code",
   "execution_count": 12,
   "metadata": {},
   "outputs": [],
   "source": [
    "class ModelValidator:\n",
    "    \"\"\"Fit Bayesian regression models and validate their outputs.\"\"\"\n",
    "    \n",
    "    def __init__(self, model, credible_bands=(90, 80, 50)):\n",
    "        self.model = model\n",
    "        self.credible_bands = credible_bands\n",
    "\n",
    "    def validate(self, X, y, rates):\n",
    "        self.model.fit(X, y)\n",
    "        self.traceplot()\n",
    "        self.recapture_plot(X, rates)\n",
    "\n",
    "    def traceplot(self, fontsize=14):\n",
    "        num_params = len(self.model.param_names)\n",
    "        fig, axes = plt.subplots(nrows=num_params, figsize=(10, num_params * 3.5),\n",
    "                                 squeeze=False)\n",
    "\n",
    "        for ax, (param_name, value) in zip(axes.flat, self.model.iter_params()):\n",
    "            # TODO: only supports 1D parameters\n",
    "            num_samples, cardinality = value.shape\n",
    "            individual_names = [f'{param_name}{i}' for i in range(cardinality)]\n",
    "            param_df = pd.DataFrame(\n",
    "                value, columns=pd.Index(individual_names, 'Parameters'),\n",
    "                index=pd.Index(np.arange(num_samples), name='Posterior Samples'))\n",
    "            param_df.plot(ax=ax)\n",
    "\n",
    "            # Pretty it up\n",
    "            ax.set_title(param_name[:-1], fontsize=fontsize + 2)\n",
    "            ax.set_ylabel(f'Support({param_name[:-1]})', fontsize=fontsize)\n",
    "            ax.set_xlabel(ax.get_xlabel(), fontsize=fontsize)\n",
    "\n",
    "        return axes\n",
    "\n",
    "    def recapture_plot(self, X, rates, fontsize=14):\n",
    "        rates_trace = self.model.transform(X)\n",
    "        expected_rates = np.mean(rates_trace, axis=-1)\n",
    "\n",
    "        fig, ax = plt.subplots(figsize=(10, 4))\n",
    "        ax.set_title('Rate Recapture', fontsize=fontsize + 2)\n",
    "        ci_labels = ','.join(f'{width}%' for width in self.credible_bands)\n",
    "        ax.set_xlabel(f'Data (red) and Expected Value with {ci_labels} CIs (blue)',\n",
    "                      fontsize=fontsize)\n",
    "        ax.set_ylabel('Rate', fontsize=fontsize)\n",
    "\n",
    "        # Plot actual rates along with expected value (estimate)\n",
    "        ax.plot(rates, 's', color='red', alpha=0.8, label='actual')\n",
    "        ax.plot(expected_rates, 's', color='blue', alpha=0.7, label='expected')\n",
    "        ax.legend()\n",
    "\n",
    "        # Plot vertical lines representing credible intervals of various widths.\n",
    "        # First sort widths in descending order; we'll use this ordering to plot\n",
    "        # with increasingly bold lines to show increasing credibility.\n",
    "        widths = list(sorted(self.credible_bands, reverse=True))\n",
    "        credible_bands = [(50 - width / 2, 50 + width / 2)\n",
    "                          for width in widths]\n",
    "\n",
    "        xpoints = np.arange(len(rates))\n",
    "        for i, q in enumerate(credible_bands, start=1):\n",
    "            lo, hi = np.percentile(rates_trace, q=q, axis=-1)\n",
    "            plt.vlines(xpoints, lo, hi, color='blue', alpha=i * 0.2)\n",
    "\n",
    "        return ax"
   ]
  },
  {
   "cell_type": "code",
   "execution_count": 13,
   "metadata": {},
   "outputs": [
    {
     "data": {
      "image/png": "[encoded data removed]",
      "text/plain": [
       "<Figure size 720x252 with 1 Axes>"
      ]
     },
     "metadata": {
      "needs_background": "light"
     },
     "output_type": "display_data"
    },
    {
     "data": {
      "image/png": "[encoded data removed]",
      "text/plain": [
       "<Figure size 720x288 with 1 Axes>"
      ]
     },
     "metadata": {
      "needs_background": "light"
     },
     "output_type": "display_data"
    }
   ],
   "source": [
    "ModelValidator(model).validate(design_matrix, ys, rates)"
   ]
  },
  {
   "cell_type": "markdown",
   "metadata": {},
   "source": [
    "## Implement Laplace-TS algorithm and validate on Experiment 1"
   ]
  },
  {
   "cell_type": "markdown",
   "metadata": {},
   "source": [
    "![Laplace-TS](images/laplace-ts-algorithm-snapshot.png)"
   ]
  },
  {
   "cell_type": "code",
   "execution_count": 14,
   "metadata": {},
   "outputs": [],
   "source": [
    "# We'll use scipy's optimize routine for the MAP estimate.\n",
    "# This is for computing the minimizer in the algorithm above.\n",
    "from scipy import optimize"
   ]
  },
  {
   "cell_type": "code",
   "execution_count": 15,
   "metadata": {},
   "outputs": [
    {
     "name": "stdout",
     "output_type": "stream",
     "text": [
      "      fun: 8.219890974034902\n",
      " hess_inv: array([[ 0.52673893, -0.29605333, -0.02779701],\n",
      "       [-0.29605333,  0.46011481, -0.24317932],\n",
      "       [-0.02779701, -0.24317932,  0.26886238]])\n",
      "      jac: array([3.57627869e-07, 4.76837158e-07, 0.00000000e+00])\n",
      "  message: 'Optimization terminated successfully.'\n",
      "     nfev: 70\n",
      "      nit: 11\n",
      "     njev: 14\n",
      "   status: 0\n",
      "  success: True\n",
      "        x: array([0.3677203 , 0.04376783, 0.60563244])\n"
     ]
    },
    {
     "data": {
      "text/plain": [
       "[(0.4967141530112327, 0.3677203030619188),\n",
       " (-0.13826430117118466, 0.043767825020059076),\n",
       " (0.6476885381006925, 0.6056324386221341)]"
      ]
     },
     "execution_count": 15,
     "metadata": {},
     "output_type": "execute_result"
    }
   ],
   "source": [
    "m0 = np.zeros(num_predictors)\n",
    "q0 = np.ones(num_predictors)\n",
    "\n",
    "# This is the form from the original paper, which\n",
    "# didn't work for me.\n",
    "def reg_laplace_log_likelihood(w, X, y, m, q):\n",
    "    logits = X.dot(w)\n",
    "    return (0.5 * q.dot((w - m) ** 2) + \n",
    "            np.sum(np.log1p(np.exp(-y * logits))))\n",
    "\n",
    "# This is the form from Bishop's PRML (p. 218)\n",
    "def posterior_neg_log_likelihood(w, X, t, m, q):\n",
    "    logits = X.dot(w)\n",
    "    y = sps.expit(logits)\n",
    "    # diff = w - m\n",
    "    # P0 = np.diag(1 / q)\n",
    "    # diff.dot(P0).dot(diff) - \n",
    "    return (0.5 * q.dot((w - m) ** 2) -\n",
    "            np.sum(t * np.log(y) + (1 - t) * np.log1p(-y)))\n",
    "\n",
    "optimization_result = optimize.minimize(\n",
    "    posterior_neg_log_likelihood,\n",
    "    x0=np.random.normal(0, 0.001, size=num_predictors),\n",
    "    args=(design_matrix, ys, m0, q0))\n",
    "print(optimization_result)\n",
    "\n",
    "w_hat = optimization_result.x\n",
    "list(zip(true_effects, w_hat))"
   ]
  },
  {
   "cell_type": "code",
   "execution_count": 16,
   "metadata": {},
   "outputs": [
    {
     "data": {
      "text/plain": [
       "(array([0.3677203 , 0.04376783, 0.60563244]),\n",
       " array([10.76512517, 23.35864253, 25.67900694]))"
      ]
     },
     "execution_count": 16,
     "metadata": {},
     "output_type": "execute_result"
    }
   ],
   "source": [
    "m = w_hat\n",
    "p = sps.expit(design_matrix.dot(m))[:, None]\n",
    "q = q0 + np.sum(design_matrix ** 2 * p * (1 - p), axis=0)\n",
    "m, q"
   ]
  },
  {
   "cell_type": "code",
   "execution_count": 17,
   "metadata": {},
   "outputs": [
    {
     "data": {
      "text/plain": [
       "[(-0.22964301278798477, 0.9650836189118224),\n",
       " (-0.3617633917744185, 0.4492990418145367),\n",
       " (0.2188569186135112, 0.992407958630757)]"
      ]
     },
     "execution_count": 17,
     "metadata": {},
     "output_type": "execute_result"
    }
   ],
   "source": [
    "dists = [stats.norm(m[i], np.sqrt(1 / q[i]))\n",
    "         for i in range(num_predictors)]\n",
    "[dist.interval(.95) for dist in dists]"
   ]
  },
  {
   "cell_type": "code",
   "execution_count": 18,
   "metadata": {},
   "outputs": [
    {
     "data": {
      "text/plain": [
       "array([0.35750809, 0.04529715, 0.57357258])"
      ]
     },
     "execution_count": 18,
     "metadata": {},
     "output_type": "execute_result"
    }
   ],
   "source": [
    "dist = stats.multivariate_normal(m, np.diag(1 / q))\n",
    "dist.rvs(100).mean(axis=0)"
   ]
  },
  {
   "cell_type": "markdown",
   "metadata": {},
   "source": [
    "Now let's convert this code into a class that fits our interface."
   ]
  },
  {
   "cell_type": "code",
   "execution_count": 19,
   "metadata": {},
   "outputs": [],
   "source": [
    "class LaplaceLogisticRegression(BaseModel):\n",
    "    \"\"\"Bayesian logistic regression model, fitted with Laplace approximation.\"\"\"\n",
    "    \n",
    "    def __init__(self, m0=None, q0=None, num_samples=100, **kwargs):\n",
    "        \"\"\"\n",
    "        Args:\n",
    "            m0 (np.ndarray): prior mean\n",
    "            q0 (np.ndarray): prior precision matrix diagonal\n",
    "        \"\"\"\n",
    "        super().__init__(**kwargs)\n",
    "\n",
    "        # Hyperparameters\n",
    "        self.m0 = m0\n",
    "        self.q0 = q0\n",
    "\n",
    "        # Set other properties that control fitting\n",
    "        self.num_samples = num_samples\n",
    "\n",
    "        # Set up empty parameters\n",
    "        self.beta_dist = stats.multivariate_normal(self.m0, np.diag(1 / self.q0))\n",
    "        self.beta_hat_ = None\n",
    "\n",
    "    def reset(self):\n",
    "        super().reset()\n",
    "        self.beta_dist = stats.multivariate_normal(self.m0, np.diag(1 / self.q0))\n",
    "        self.beta_hat_ = None\n",
    "        return self\n",
    "\n",
    "    def fit(self, X, y):\n",
    "        \"\"\"Fit the model using Laplacian approximation.\n",
    "\n",
    "        Args:\n",
    "            X (np.ndarray): design matrix\n",
    "            y (np.ndarray): responses (binary rewards)\n",
    "\n",
    "        Returns:\n",
    "            self: reference to fitted model object (this instance).\n",
    "        \"\"\"\n",
    "        # First we need to find the mode of the posterior distribution.\n",
    "        num_predictors = X.shape[1]\n",
    "        optimization_result = optimize.minimize(\n",
    "            posterior_neg_log_likelihood,\n",
    "            x0=np.random.normal(0, 0.001, size=num_predictors),\n",
    "            args=(X, y, self.m0, self.q0))\n",
    "        mean_map_estimate = optimization_result.x\n",
    "        \n",
    "        # Next we \"fit\" a Gaussian centered at this posterior mode.\n",
    "        # The computations below compute the covariance matrix by\n",
    "        # taking the inverse of the matrix of second derivatives of\n",
    "        # the negative log likelihood (see Bishop 4.5 for more details).\n",
    "        m = mean_map_estimate  # retain notation from Chapelle paper\n",
    "        p = sps.expit(X.dot(m))[:, None]\n",
    "        q = self.q0 + np.sum(X ** 2 * p * (1 - p), axis=0)\n",
    "        cov = np.diag(1 / q)  # q is precision\n",
    "\n",
    "        # Set fitted parameters on instance\n",
    "        self.beta_dist = stats.multivariate_normal(m, cov)\n",
    "        self.beta_hat_ = self.beta_dist.rvs(self.num_samples, random_state=self.rng)\n",
    "        return self\n",
    "\n",
    "    def transform(self, X):\n",
    "        self.raise_if_not_fitted()\n",
    "\n",
    "        # Compute logits and then transform to rates\n",
    "        logits = X.dot(self.beta_hat_.T)\n",
    "        return sps.expit(logits)\n",
    "\n",
    "    def choose_arm(self, context):\n",
    "        beta_sample = self.beta_dist.rvs(random_state=self.rng)\n",
    "        logits = context.dot(beta_sample)\n",
    "        rates = sps.expit(logits)\n",
    "        return np.argmax(rates)"
   ]
  },
  {
   "cell_type": "code",
   "execution_count": 20,
   "metadata": {},
   "outputs": [
    {
     "data": {
      "text/plain": [
       "<__main__.LaplaceLogisticRegression at 0x1a2a259748>"
      ]
     },
     "execution_count": 20,
     "metadata": {},
     "output_type": "execute_result"
    }
   ],
   "source": [
    "model = LaplaceLogisticRegression(\n",
    "    m0=np.zeros(num_predictors), q0=np.ones(num_predictors))\n",
    "model.fit(design_matrix, ys)"
   ]
  },
  {
   "cell_type": "code",
   "execution_count": 21,
   "metadata": {},
   "outputs": [
    {
     "data": {
      "image/png": "[encoded data removed]",
      "text/plain": [
       "<Figure size 720x252 with 1 Axes>"
      ]
     },
     "metadata": {
      "needs_background": "light"
     },
     "output_type": "display_data"
    },
    {
     "data": {
      "image/png": "[encoded data removed]",
      "text/plain": [
       "<Figure size 720x288 with 1 Axes>"
      ]
     },
     "metadata": {
      "needs_background": "light"
     },
     "output_type": "display_data"
    }
   ],
   "source": [
    "ModelValidator(model).validate(design_matrix, ys, rates)"
   ]
  },
  {
   "cell_type": "markdown",
   "metadata": {},
   "source": [
    "### Replicate Experiment 1 from Paper"
   ]
  },
  {
   "cell_type": "code",
   "execution_count": 22,
   "metadata": {},
   "outputs": [],
   "source": [
    "class GaussianSimulationFactory(Seedable):\n",
    "    \"\"\"Simulate data according to contextual Gaussian distributions.\n",
    "\n",
    "    A factory creates individual environments.\n",
    "    This particular factory creates `GaussianSimulationEnvironment`s.\n",
    "    \"\"\"\n",
    "\n",
    "    def __init__(self, num_arms=100, num_predictors=10, num_time_steps=1000,\n",
    "                 prior_effect_means=None, prior_effect_cov=None, **kwargs):\n",
    "        super().__init__(**kwargs)\n",
    "\n",
    "        self.num_arms = num_arms\n",
    "        self.num_predictors = num_predictors\n",
    "        self.num_time_steps = num_time_steps\n",
    "\n",
    "        # Set prior parameters for effects\n",
    "        self.prior_effect_means = prior_effect_means\n",
    "        if self.prior_effect_means is None:\n",
    "            self.prior_effect_means = np.zeros(\n",
    "                self.num_predictors, dtype=np.float)\n",
    "\n",
    "        self.prior_effect_cov = prior_effect_cov\n",
    "        if self.prior_effect_cov is None:\n",
    "            self.prior_effect_cov = np.identity(\n",
    "                self.num_predictors, dtype=np.float)\n",
    "\n",
    "    def __call__(self):\n",
    "        # Generate true effects\n",
    "        true_effects = self.rng.multivariate_normal(\n",
    "            self.prior_effect_means, self.prior_effect_cov)\n",
    "        logger.info(f'True effects: {np.round(true_effects, 4)}')\n",
    "\n",
    "        # Generate design matrix\n",
    "        arm_contexts = self.rng.multivariate_normal(\n",
    "            np.ones(self.num_predictors, dtype=np.float) * -3,\n",
    "            np.identity(self.num_predictors, dtype=np.float),\n",
    "            size=self.num_arms)\n",
    "        logger.info(f'Context matrix size: {arm_contexts.shape}')\n",
    "\n",
    "        return GaussianSimulationEnvironment(\n",
    "            true_effects, arm_contexts, seed=self.rng.randint(0, 2**32))\n",
    "\n",
    "\n",
    "class GaussianSimulationEnvironment(Seedable):\n",
    "    \"\"\"An environment with Gaussian-distributed rewards related to\n",
    "    contextual covariates linearly through a logistic link function.\n",
    "\n",
    "    To replicate an experiment with the same environment but different\n",
    "    random seeds, simply change the random seed after the first experiment\n",
    "    is complete. If running in parallel, create multiple of these objects\n",
    "    with different random seeds but the same parameters otherwise.\n",
    "    \"\"\"\n",
    "\n",
    "    def __init__(self, true_effects, arm_contexts, **kwargs):\n",
    "        super().__init__(**kwargs)\n",
    "\n",
    "        self.true_effects = true_effects\n",
    "        self.arm_contexts = arm_contexts\n",
    "        self.arm_rates = self._recompute_arm_rates()\n",
    "        self.optimal_arm = np.argmax(self.arm_rates)\n",
    "        self.optimal_rate = self.arm_rates[self.optimal_arm]\n",
    "\n",
    "    def _recompute_arm_rates(self):\n",
    "        logits = self.arm_contexts.dot(self.true_effects)\n",
    "        return sps.expit(logits)\n",
    "\n",
    "    @property\n",
    "    def num_arms(self):\n",
    "        return self.arm_contexts.shape[0]\n",
    "\n",
    "    @property\n",
    "    def num_predictors(self):\n",
    "        return self.arm_contexts.shape[1]\n",
    "\n",
    "    def __str__(self):\n",
    "        return (f'{self.__class__.__name__}'\n",
    "                f', num_predictors={self.num_predictors}'\n",
    "                f', num_arms={self.num_arms}'\n",
    "                f', max_arm_rate={np.round(np.max(self.arm_rates), 5)}'\n",
    "                f', mean_arm_rate={np.round(np.mean(self.arm_rates), 5)}')\n",
    "\n",
    "    def __repr__(self):\n",
    "        return self.__str__()\n",
    "\n",
    "    def choose_arm(self, i):\n",
    "        self._validate_arm_index(i)\n",
    "\n",
    "        # Generate data for optimal arm.\n",
    "        y_optimal = self.rng.binomial(n=1, p=self.optimal_rate)\n",
    "\n",
    "        # Generate data for selected arm.\n",
    "        context = self.arm_contexts[i]\n",
    "        if i == self.optimal_arm:\n",
    "            y = y_optimal\n",
    "        else:\n",
    "            y = self.rng.binomial(n=1, p=self.arm_rates[i])\n",
    "\n",
    "        return context, y, y_optimal\n",
    "\n",
    "    def _validate_arm_index(self, i):\n",
    "        if i < 0 or i >= self.num_arms:\n",
    "            raise ValueError(\n",
    "                f'arm a must satisfy: 0 < a < {self.num_arms}; got {i}')\n",
    "\n",
    "\n",
    "class Experiment(Seedable):\n",
    "    \"\"\"Run one or more replicates of agent-environment interaction\n",
    "    and record the resulting metrics.\n",
    "    \"\"\"\n",
    "\n",
    "    def __init__(self, environment_factory, model,\n",
    "                 num_time_steps=1000, logging_frequency=100,\n",
    "                 max_workers=7, **kwargs):\n",
    "        super().__init__(**kwargs)\n",
    "\n",
    "        self.environment = environment_factory()\n",
    "        self.model = model\n",
    "        self.num_time_steps = num_time_steps\n",
    "        self.logging_frequency = logging_frequency\n",
    "        self.max_workers = max_workers\n",
    "\n",
    "    def run(self, num_replications=1):\n",
    "        rep_nums = np.arange(num_replications)\n",
    "        with futures.ProcessPoolExecutor(max_workers=self.max_workers) as pool:\n",
    "            all_rewards = pool.map(self.run_once, rep_nums)\n",
    "\n",
    "        rewards, optimal_rewards = list(zip(*all_rewards))\n",
    "        return np.array(rewards), np.array(optimal_rewards)\n",
    "\n",
    "    def run_once(self, seed):\n",
    "        design_matrix = np.ndarray(\n",
    "            (self.num_time_steps, self.environment.num_predictors))\n",
    "        rewards = np.ndarray(self.num_time_steps)\n",
    "        optimal_rewards = np.ndarray(self.num_time_steps)\n",
    "        arm_selected = np.ndarray(self.num_time_steps, dtype=np.uint)\n",
    "\n",
    "        self.model.seed(seed).reset()\n",
    "        self.environment.seed(seed)\n",
    "\n",
    "        logger.info(f'Experiment_{seed} beginning...')\n",
    "        for t in range(self.num_time_steps):\n",
    "            if (t + 1) % self.logging_frequency == 0:\n",
    "                logger.info(f'Experiment_{seed} at t={t + 1}')\n",
    "\n",
    "            arm_selected[t] = self.model.choose_arm(self.environment.arm_contexts)\n",
    "            design_matrix[t], rewards[t], optimal_rewards[t] = \\\n",
    "                self.environment.choose_arm(arm_selected[t])\n",
    "            self.model.fit(design_matrix[:t], rewards[:t])\n",
    "\n",
    "        logger.info(f'Experiment_{seed} complete.')\n",
    "        return rewards, optimal_rewards"
   ]
  },
  {
   "cell_type": "code",
   "execution_count": 23,
   "metadata": {},
   "outputs": [
    {
     "name": "stdout",
     "output_type": "stream",
     "text": [
      "[2019-02-24 17:24:30,013][INFO]: True effects: [ 0.3705  0.5342  2.9009 -0.4323  0.275   1.428   0.4041 -0.0516 -2.7478\n",
      " -0.181 ]\n",
      "[2019-02-24 17:24:30,014][INFO]: Context matrix size: (100, 10)\n"
     ]
    },
    {
     "data": {
      "text/plain": [
       "GaussianSimulationEnvironment, num_predictors=10, num_arms=100, max_arm_rate=0.99213, mean_arm_rate=0.07991"
      ]
     },
     "execution_count": 23,
     "metadata": {},
     "output_type": "execute_result"
    },
    {
     "data": {
      "image/png": "[encoded data removed]",
      "text/plain": [
       "<Figure size 432x288 with 1 Axes>"
      ]
     },
     "metadata": {
      "needs_background": "light"
     },
     "output_type": "display_data"
    }
   ],
   "source": [
    "factory = GaussianSimulationFactory(seed=2135)\n",
    "environment = factory()\n",
    "plt.bar(np.arange(environment.num_arms), environment.arm_rates)\n",
    "environment"
   ]
  },
  {
   "cell_type": "code",
   "execution_count": null,
   "metadata": {},
   "outputs": [],
   "source": [
    "factory.reset()\n",
    "model = LogisticRegression(\n",
    "    m0=np.zeros(factory.num_predictors),\n",
    "    P0=np.identity(factory.num_predictors, dtype=np.float),\n",
    "    num_samples=100)\n",
    "experiment = Experiment(factory, model, logging_frequency=500)\n",
    "pg_ts_rewards, pg_ts_optimal_rewards = experiment.run(num_replications=100)"
   ]
  },
  {
   "cell_type": "code",
   "execution_count": 29,
   "metadata": {},
   "outputs": [],
   "source": [
    "# Save results from PG-TS experiments.\n",
    "with open('pg_ts_rewards.pkl', 'wb') as f:\n",
    "    pickle.dump(pg_ts_rewards, f)\n",
    "\n",
    "with open('pg_ts_optimal_rewards.pkl', 'wb') as f:\n",
    "    pickle.dump(pg_ts_optimal_rewards, f)"
   ]
  },
  {
   "cell_type": "code",
   "execution_count": 30,
   "metadata": {},
   "outputs": [],
   "source": [
    "# Uncomment to load results from PG-TS experiments.\n",
    "# with open('pg_ts_rewards.pkl', 'rb') as f:\n",
    "#     pg_ts_rewards = pickle.load(f)\n",
    "\n",
    "# with open('pg_ts_optimal_rewards.pkl', 'rb') as f:\n",
    "#     pg_ts_optimal_rewards = pickle.load(f)"
   ]
  },
  {
   "cell_type": "code",
   "execution_count": 31,
   "metadata": {},
   "outputs": [],
   "source": [
    "def plot_cum_regret(rewards, optimal_rewards, figsize=None, **kwargs):\n",
    "    fig, ax = plt.subplots(figsize=figsize)\n",
    "\n",
    "    regret = optimal_rewards - rewards\n",
    "    cum_regret = np.cumsum(regret, axis=-1)\n",
    "    pd.DataFrame(cum_regret.T).plot(\n",
    "        ax=ax,\n",
    "        color=kwargs.get('color', 'red'),\n",
    "        alpha=kwargs.get('alpha', 0.5))\n",
    "\n",
    "    fontsize = kwargs.pop('fontsize', 14)\n",
    "    ax.set_ylabel('Cumulative Regret', fontsize=fontsize)\n",
    "    ax.set_xlabel('Trial Number', fontsize=fontsize)\n",
    "    ax.get_legend().remove()\n",
    "\n",
    "    return ax"
   ]
  },
  {
   "cell_type": "code",
   "execution_count": 32,
   "metadata": {},
   "outputs": [
    {
     "data": {
      "image/png": "[encoded data removed]",
      "text/plain": [
       "<Figure size 432x288 with 1 Axes>"
      ]
     },
     "metadata": {
      "needs_background": "light"
     },
     "output_type": "display_data"
    }
   ],
   "source": [
    "plot_cum_regret(pg_ts_rewards, pg_ts_optimal_rewards);"
   ]
  },
  {
   "cell_type": "code",
   "execution_count": 33,
   "metadata": {},
   "outputs": [
    {
     "name": "stdout",
     "output_type": "stream",
     "text": [
      "[2019-02-24 18:20:11,191][INFO]: True effects: [ 0.3705  0.5342  2.9009 -0.4323  0.275   1.428   0.4041 -0.0516 -2.7478\n",
      " -0.181 ]\n",
      "[2019-02-24 18:20:11,194][INFO]: Context matrix size: (100, 10)\n",
      "[2019-02-24 18:20:11,238][INFO]: Experiment_0 beginning...\n",
      "[2019-02-24 18:20:11,242][INFO]: Experiment_1 beginning...\n",
      "[2019-02-24 18:20:11,245][INFO]: Experiment_2 beginning...\n",
      "[2019-02-24 18:20:11,247][INFO]: Experiment_3 beginning...\n",
      "[2019-02-24 18:20:11,248][INFO]: Experiment_4 beginning...\n",
      "[2019-02-24 18:20:11,250][INFO]: Experiment_5 beginning...\n",
      "[2019-02-24 18:20:11,252][INFO]: Experiment_6 beginning...\n",
      "[2019-02-24 18:20:20,801][INFO]: Experiment_5 at t=500\n",
      "[2019-02-24 18:20:20,947][INFO]: Experiment_2 at t=500\n",
      "[2019-02-24 18:20:21,001][INFO]: Experiment_0 at t=500\n",
      "[2019-02-24 18:20:21,092][INFO]: Experiment_3 at t=500\n",
      "[2019-02-24 18:20:21,361][INFO]: Experiment_1 at t=500\n",
      "[2019-02-24 18:20:21,369][INFO]: Experiment_6 at t=500\n",
      "[2019-02-24 18:20:21,510][INFO]: Experiment_4 at t=500\n"
     ]
    },
    {
     "name": "stderr",
     "output_type": "stream",
     "text": [
      "/Users/vru959/anaconda2/envs/py3k/lib/python3.6/site-packages/ipykernel_launcher.py:19: RuntimeWarning: divide by zero encountered in log1p\n",
      "/Users/vru959/anaconda2/envs/py3k/lib/python3.6/site-packages/ipykernel_launcher.py:19: RuntimeWarning: invalid value encountered in multiply\n",
      "/Users/vru959/anaconda2/envs/py3k/lib/python3.6/site-packages/ipykernel_launcher.py:19: RuntimeWarning: divide by zero encountered in log\n",
      "/Users/vru959/anaconda2/envs/py3k/lib/python3.6/site-packages/ipykernel_launcher.py:19: RuntimeWarning: divide by zero encountered in log1p\n",
      "/Users/vru959/anaconda2/envs/py3k/lib/python3.6/site-packages/ipykernel_launcher.py:19: RuntimeWarning: invalid value encountered in multiply\n",
      "/Users/vru959/anaconda2/envs/py3k/lib/python3.6/site-packages/ipykernel_launcher.py:19: RuntimeWarning: divide by zero encountered in log\n",
      "/Users/vru959/anaconda2/envs/py3k/lib/python3.6/site-packages/ipykernel_launcher.py:19: RuntimeWarning: divide by zero encountered in log\n",
      "/Users/vru959/anaconda2/envs/py3k/lib/python3.6/site-packages/ipykernel_launcher.py:19: RuntimeWarning: invalid value encountered in multiply\n",
      "/Users/vru959/anaconda2/envs/py3k/lib/python3.6/site-packages/ipykernel_launcher.py:19: RuntimeWarning: divide by zero encountered in log1p\n"
     ]
    },
    {
     "name": "stdout",
     "output_type": "stream",
     "text": [
      "[2019-02-24 18:20:38,403][INFO]: Experiment_2 at t=1000\n",
      "[2019-02-24 18:20:38,419][INFO]: Experiment_5 at t=1000\n",
      "[2019-02-24 18:20:38,476][INFO]: Experiment_2 complete.\n",
      "[2019-02-24 18:20:38,481][INFO]: Experiment_7 beginning...\n",
      "[2019-02-24 18:20:38,505][INFO]: Experiment_5 complete.\n",
      "[2019-02-24 18:20:38,511][INFO]: Experiment_8 beginning...\n",
      "[2019-02-24 18:20:40,042][INFO]: Experiment_3 at t=1000\n",
      "[2019-02-24 18:20:40,120][INFO]: Experiment_3 complete.\n",
      "[2019-02-24 18:20:40,125][INFO]: Experiment_9 beginning...\n",
      "[2019-02-24 18:20:40,279][INFO]: Experiment_1 at t=1000\n",
      "[2019-02-24 18:20:40,375][INFO]: Experiment_1 complete.\n",
      "[2019-02-24 18:20:40,383][INFO]: Experiment_10 beginning...\n",
      "[2019-02-24 18:20:40,546][INFO]: Experiment_6 at t=1000\n",
      "[2019-02-24 18:20:40,602][INFO]: Experiment_6 complete.\n",
      "[2019-02-24 18:20:40,607][INFO]: Experiment_11 beginning...\n"
     ]
    },
    {
     "name": "stderr",
     "output_type": "stream",
     "text": [
      "/Users/vru959/anaconda2/envs/py3k/lib/python3.6/site-packages/ipykernel_launcher.py:19: RuntimeWarning: divide by zero encountered in log1p\n",
      "/Users/vru959/anaconda2/envs/py3k/lib/python3.6/site-packages/ipykernel_launcher.py:19: RuntimeWarning: invalid value encountered in multiply\n",
      "/Users/vru959/anaconda2/envs/py3k/lib/python3.6/site-packages/ipykernel_launcher.py:19: RuntimeWarning: divide by zero encountered in log\n",
      "/Users/vru959/anaconda2/envs/py3k/lib/python3.6/site-packages/ipykernel_launcher.py:19: RuntimeWarning: divide by zero encountered in log\n",
      "/Users/vru959/anaconda2/envs/py3k/lib/python3.6/site-packages/ipykernel_launcher.py:19: RuntimeWarning: invalid value encountered in multiply\n",
      "/Users/vru959/anaconda2/envs/py3k/lib/python3.6/site-packages/ipykernel_launcher.py:19: RuntimeWarning: divide by zero encountered in log1p\n"
     ]
    },
    {
     "name": "stdout",
     "output_type": "stream",
     "text": [
      "[2019-02-24 18:20:41,205][INFO]: Experiment_0 at t=1000\n",
      "[2019-02-24 18:20:41,245][INFO]: Experiment_4 at t=1000\n",
      "[2019-02-24 18:20:41,298][INFO]: Experiment_0 complete.\n",
      "[2019-02-24 18:20:41,303][INFO]: Experiment_12 beginning...\n",
      "[2019-02-24 18:20:41,355][INFO]: Experiment_4 complete.\n",
      "[2019-02-24 18:20:41,360][INFO]: Experiment_13 beginning...\n"
     ]
    },
    {
     "name": "stderr",
     "output_type": "stream",
     "text": [
      "/Users/vru959/anaconda2/envs/py3k/lib/python3.6/site-packages/ipykernel_launcher.py:19: RuntimeWarning: divide by zero encountered in log1p\n",
      "/Users/vru959/anaconda2/envs/py3k/lib/python3.6/site-packages/ipykernel_launcher.py:19: RuntimeWarning: invalid value encountered in multiply\n",
      "/Users/vru959/anaconda2/envs/py3k/lib/python3.6/site-packages/ipykernel_launcher.py:19: RuntimeWarning: divide by zero encountered in log\n",
      "/Users/vru959/anaconda2/envs/py3k/lib/python3.6/site-packages/ipykernel_launcher.py:19: RuntimeWarning: divide by zero encountered in log\n",
      "/Users/vru959/anaconda2/envs/py3k/lib/python3.6/site-packages/ipykernel_launcher.py:19: RuntimeWarning: invalid value encountered in multiply\n",
      "/Users/vru959/anaconda2/envs/py3k/lib/python3.6/site-packages/ipykernel_launcher.py:19: RuntimeWarning: divide by zero encountered in log1p\n",
      "/Users/vru959/anaconda2/envs/py3k/lib/python3.6/site-packages/ipykernel_launcher.py:19: RuntimeWarning: divide by zero encountered in log1p\n",
      "/Users/vru959/anaconda2/envs/py3k/lib/python3.6/site-packages/ipykernel_launcher.py:19: RuntimeWarning: invalid value encountered in multiply\n",
      "/Users/vru959/anaconda2/envs/py3k/lib/python3.6/site-packages/ipykernel_launcher.py:19: RuntimeWarning: divide by zero encountered in log\n",
      "/Users/vru959/anaconda2/envs/py3k/lib/python3.6/site-packages/ipykernel_launcher.py:19: RuntimeWarning: divide by zero encountered in log\n",
      "/Users/vru959/anaconda2/envs/py3k/lib/python3.6/site-packages/ipykernel_launcher.py:19: RuntimeWarning: invalid value encountered in multiply\n",
      "/Users/vru959/anaconda2/envs/py3k/lib/python3.6/site-packages/ipykernel_launcher.py:19: RuntimeWarning: divide by zero encountered in log1p\n",
      "/Users/vru959/anaconda2/envs/py3k/lib/python3.6/site-packages/ipykernel_launcher.py:19: RuntimeWarning: divide by zero encountered in log1p\n",
      "/Users/vru959/anaconda2/envs/py3k/lib/python3.6/site-packages/ipykernel_launcher.py:19: RuntimeWarning: invalid value encountered in multiply\n",
      "/Users/vru959/anaconda2/envs/py3k/lib/python3.6/site-packages/ipykernel_launcher.py:19: RuntimeWarning: divide by zero encountered in log\n",
      "/Users/vru959/anaconda2/envs/py3k/lib/python3.6/site-packages/ipykernel_launcher.py:19: RuntimeWarning: divide by zero encountered in log\n",
      "/Users/vru959/anaconda2/envs/py3k/lib/python3.6/site-packages/ipykernel_launcher.py:19: RuntimeWarning: invalid value encountered in multiply\n",
      "/Users/vru959/anaconda2/envs/py3k/lib/python3.6/site-packages/ipykernel_launcher.py:19: RuntimeWarning: divide by zero encountered in log1p\n",
      "/Users/vru959/anaconda2/envs/py3k/lib/python3.6/site-packages/ipykernel_launcher.py:19: RuntimeWarning: divide by zero encountered in log1p\n",
      "/Users/vru959/anaconda2/envs/py3k/lib/python3.6/site-packages/ipykernel_launcher.py:19: RuntimeWarning: invalid value encountered in multiply\n",
      "/Users/vru959/anaconda2/envs/py3k/lib/python3.6/site-packages/ipykernel_launcher.py:19: RuntimeWarning: divide by zero encountered in log\n",
      "/Users/vru959/anaconda2/envs/py3k/lib/python3.6/site-packages/ipykernel_launcher.py:19: RuntimeWarning: divide by zero encountered in log\n",
      "/Users/vru959/anaconda2/envs/py3k/lib/python3.6/site-packages/ipykernel_launcher.py:19: RuntimeWarning: invalid value encountered in multiply\n",
      "/Users/vru959/anaconda2/envs/py3k/lib/python3.6/site-packages/ipykernel_launcher.py:19: RuntimeWarning: divide by zero encountered in log1p\n",
      "/Users/vru959/anaconda2/envs/py3k/lib/python3.6/site-packages/ipykernel_launcher.py:19: RuntimeWarning: divide by zero encountered in log1p\n",
      "/Users/vru959/anaconda2/envs/py3k/lib/python3.6/site-packages/ipykernel_launcher.py:19: RuntimeWarning: invalid value encountered in multiply\n",
      "/Users/vru959/anaconda2/envs/py3k/lib/python3.6/site-packages/ipykernel_launcher.py:19: RuntimeWarning: divide by zero encountered in log\n",
      "/Users/vru959/anaconda2/envs/py3k/lib/python3.6/site-packages/ipykernel_launcher.py:19: RuntimeWarning: divide by zero encountered in log\n",
      "/Users/vru959/anaconda2/envs/py3k/lib/python3.6/site-packages/ipykernel_launcher.py:19: RuntimeWarning: invalid value encountered in multiply\n",
      "/Users/vru959/anaconda2/envs/py3k/lib/python3.6/site-packages/ipykernel_launcher.py:19: RuntimeWarning: divide by zero encountered in log1p\n",
      "/Users/vru959/anaconda2/envs/py3k/lib/python3.6/site-packages/ipykernel_launcher.py:19: RuntimeWarning: divide by zero encountered in log1p\n",
      "/Users/vru959/anaconda2/envs/py3k/lib/python3.6/site-packages/ipykernel_launcher.py:19: RuntimeWarning: invalid value encountered in multiply\n",
      "/Users/vru959/anaconda2/envs/py3k/lib/python3.6/site-packages/ipykernel_launcher.py:19: RuntimeWarning: divide by zero encountered in log\n",
      "/Users/vru959/anaconda2/envs/py3k/lib/python3.6/site-packages/ipykernel_launcher.py:19: RuntimeWarning: divide by zero encountered in log\n",
      "/Users/vru959/anaconda2/envs/py3k/lib/python3.6/site-packages/ipykernel_launcher.py:19: RuntimeWarning: invalid value encountered in multiply\n",
      "/Users/vru959/anaconda2/envs/py3k/lib/python3.6/site-packages/ipykernel_launcher.py:19: RuntimeWarning: divide by zero encountered in log1p\n",
      "/Users/vru959/anaconda2/envs/py3k/lib/python3.6/site-packages/ipykernel_launcher.py:19: RuntimeWarning: divide by zero encountered in log1p\n",
      "/Users/vru959/anaconda2/envs/py3k/lib/python3.6/site-packages/ipykernel_launcher.py:19: RuntimeWarning: invalid value encountered in multiply\n",
      "/Users/vru959/anaconda2/envs/py3k/lib/python3.6/site-packages/ipykernel_launcher.py:19: RuntimeWarning: divide by zero encountered in log\n",
      "/Users/vru959/anaconda2/envs/py3k/lib/python3.6/site-packages/ipykernel_launcher.py:19: RuntimeWarning: divide by zero encountered in log\n",
      "/Users/vru959/anaconda2/envs/py3k/lib/python3.6/site-packages/ipykernel_launcher.py:19: RuntimeWarning: invalid value encountered in multiply\n",
      "/Users/vru959/anaconda2/envs/py3k/lib/python3.6/site-packages/ipykernel_launcher.py:19: RuntimeWarning: divide by zero encountered in log1p\n",
      "/Users/vru959/anaconda2/envs/py3k/lib/python3.6/site-packages/ipykernel_launcher.py:19: RuntimeWarning: divide by zero encountered in log1p\n",
      "/Users/vru959/anaconda2/envs/py3k/lib/python3.6/site-packages/ipykernel_launcher.py:19: RuntimeWarning: invalid value encountered in multiply\n",
      "/Users/vru959/anaconda2/envs/py3k/lib/python3.6/site-packages/ipykernel_launcher.py:19: RuntimeWarning: divide by zero encountered in log\n",
      "/Users/vru959/anaconda2/envs/py3k/lib/python3.6/site-packages/ipykernel_launcher.py:19: RuntimeWarning: divide by zero encountered in log\n",
      "/Users/vru959/anaconda2/envs/py3k/lib/python3.6/site-packages/ipykernel_launcher.py:19: RuntimeWarning: invalid value encountered in multiply\n",
      "/Users/vru959/anaconda2/envs/py3k/lib/python3.6/site-packages/ipykernel_launcher.py:19: RuntimeWarning: divide by zero encountered in log1p\n"
     ]
    },
    {
     "name": "stdout",
     "output_type": "stream",
     "text": [
      "[2019-02-24 18:20:48,543][INFO]: Experiment_8 at t=500\n"
     ]
    },
    {
     "name": "stderr",
     "output_type": "stream",
     "text": [
      "/Users/vru959/anaconda2/envs/py3k/lib/python3.6/site-packages/ipykernel_launcher.py:19: RuntimeWarning: divide by zero encountered in log1p\n",
      "/Users/vru959/anaconda2/envs/py3k/lib/python3.6/site-packages/ipykernel_launcher.py:19: RuntimeWarning: invalid value encountered in multiply\n",
      "/Users/vru959/anaconda2/envs/py3k/lib/python3.6/site-packages/ipykernel_launcher.py:19: RuntimeWarning: divide by zero encountered in log\n",
      "/Users/vru959/anaconda2/envs/py3k/lib/python3.6/site-packages/ipykernel_launcher.py:19: RuntimeWarning: divide by zero encountered in log\n",
      "/Users/vru959/anaconda2/envs/py3k/lib/python3.6/site-packages/ipykernel_launcher.py:19: RuntimeWarning: invalid value encountered in multiply\n",
      "/Users/vru959/anaconda2/envs/py3k/lib/python3.6/site-packages/ipykernel_launcher.py:19: RuntimeWarning: divide by zero encountered in log1p\n"
     ]
    },
    {
     "name": "stdout",
     "output_type": "stream",
     "text": [
      "[2019-02-24 18:20:48,928][INFO]: Experiment_7 at t=500\n"
     ]
    },
    {
     "name": "stderr",
     "output_type": "stream",
     "text": [
      "/Users/vru959/anaconda2/envs/py3k/lib/python3.6/site-packages/ipykernel_launcher.py:19: RuntimeWarning: divide by zero encountered in log1p\n",
      "/Users/vru959/anaconda2/envs/py3k/lib/python3.6/site-packages/ipykernel_launcher.py:19: RuntimeWarning: invalid value encountered in multiply\n",
      "/Users/vru959/anaconda2/envs/py3k/lib/python3.6/site-packages/ipykernel_launcher.py:19: RuntimeWarning: divide by zero encountered in log\n",
      "/Users/vru959/anaconda2/envs/py3k/lib/python3.6/site-packages/ipykernel_launcher.py:19: RuntimeWarning: divide by zero encountered in log\n",
      "/Users/vru959/anaconda2/envs/py3k/lib/python3.6/site-packages/ipykernel_launcher.py:19: RuntimeWarning: invalid value encountered in multiply\n",
      "/Users/vru959/anaconda2/envs/py3k/lib/python3.6/site-packages/ipykernel_launcher.py:19: RuntimeWarning: divide by zero encountered in log1p\n",
      "/Users/vru959/anaconda2/envs/py3k/lib/python3.6/site-packages/ipykernel_launcher.py:19: RuntimeWarning: divide by zero encountered in log1p\n",
      "/Users/vru959/anaconda2/envs/py3k/lib/python3.6/site-packages/ipykernel_launcher.py:19: RuntimeWarning: invalid value encountered in multiply\n",
      "/Users/vru959/anaconda2/envs/py3k/lib/python3.6/site-packages/ipykernel_launcher.py:19: RuntimeWarning: divide by zero encountered in log\n",
      "/Users/vru959/anaconda2/envs/py3k/lib/python3.6/site-packages/ipykernel_launcher.py:19: RuntimeWarning: divide by zero encountered in log\n",
      "/Users/vru959/anaconda2/envs/py3k/lib/python3.6/site-packages/ipykernel_launcher.py:19: RuntimeWarning: invalid value encountered in multiply\n",
      "/Users/vru959/anaconda2/envs/py3k/lib/python3.6/site-packages/ipykernel_launcher.py:19: RuntimeWarning: divide by zero encountered in log1p\n",
      "/Users/vru959/anaconda2/envs/py3k/lib/python3.6/site-packages/ipykernel_launcher.py:19: RuntimeWarning: divide by zero encountered in log1p\n",
      "/Users/vru959/anaconda2/envs/py3k/lib/python3.6/site-packages/ipykernel_launcher.py:19: RuntimeWarning: invalid value encountered in multiply\n",
      "/Users/vru959/anaconda2/envs/py3k/lib/python3.6/site-packages/ipykernel_launcher.py:19: RuntimeWarning: divide by zero encountered in log\n",
      "/Users/vru959/anaconda2/envs/py3k/lib/python3.6/site-packages/ipykernel_launcher.py:19: RuntimeWarning: divide by zero encountered in log\n",
      "/Users/vru959/anaconda2/envs/py3k/lib/python3.6/site-packages/ipykernel_launcher.py:19: RuntimeWarning: invalid value encountered in multiply\n",
      "/Users/vru959/anaconda2/envs/py3k/lib/python3.6/site-packages/ipykernel_launcher.py:19: RuntimeWarning: divide by zero encountered in log1p\n",
      "/Users/vru959/anaconda2/envs/py3k/lib/python3.6/site-packages/ipykernel_launcher.py:19: RuntimeWarning: divide by zero encountered in log1p\n",
      "/Users/vru959/anaconda2/envs/py3k/lib/python3.6/site-packages/ipykernel_launcher.py:19: RuntimeWarning: invalid value encountered in multiply\n",
      "/Users/vru959/anaconda2/envs/py3k/lib/python3.6/site-packages/ipykernel_launcher.py:19: RuntimeWarning: divide by zero encountered in log\n",
      "/Users/vru959/anaconda2/envs/py3k/lib/python3.6/site-packages/ipykernel_launcher.py:19: RuntimeWarning: divide by zero encountered in log\n",
      "/Users/vru959/anaconda2/envs/py3k/lib/python3.6/site-packages/ipykernel_launcher.py:19: RuntimeWarning: invalid value encountered in multiply\n",
      "/Users/vru959/anaconda2/envs/py3k/lib/python3.6/site-packages/ipykernel_launcher.py:19: RuntimeWarning: divide by zero encountered in log1p\n"
     ]
    },
    {
     "name": "stdout",
     "output_type": "stream",
     "text": [
      "[2019-02-24 18:20:50,492][INFO]: Experiment_9 at t=500\n"
     ]
    },
    {
     "name": "stderr",
     "output_type": "stream",
     "text": [
      "/Users/vru959/anaconda2/envs/py3k/lib/python3.6/site-packages/ipykernel_launcher.py:19: RuntimeWarning: divide by zero encountered in log1p\n",
      "/Users/vru959/anaconda2/envs/py3k/lib/python3.6/site-packages/ipykernel_launcher.py:19: RuntimeWarning: invalid value encountered in multiply\n",
      "/Users/vru959/anaconda2/envs/py3k/lib/python3.6/site-packages/ipykernel_launcher.py:19: RuntimeWarning: divide by zero encountered in log\n",
      "/Users/vru959/anaconda2/envs/py3k/lib/python3.6/site-packages/ipykernel_launcher.py:19: RuntimeWarning: divide by zero encountered in log\n",
      "/Users/vru959/anaconda2/envs/py3k/lib/python3.6/site-packages/ipykernel_launcher.py:19: RuntimeWarning: invalid value encountered in multiply\n",
      "/Users/vru959/anaconda2/envs/py3k/lib/python3.6/site-packages/ipykernel_launcher.py:19: RuntimeWarning: divide by zero encountered in log1p\n"
     ]
    },
    {
     "name": "stdout",
     "output_type": "stream",
     "text": [
      "[2019-02-24 18:20:51,009][INFO]: Experiment_10 at t=500\n"
     ]
    },
    {
     "name": "stderr",
     "output_type": "stream",
     "text": [
      "/Users/vru959/anaconda2/envs/py3k/lib/python3.6/site-packages/ipykernel_launcher.py:19: RuntimeWarning: divide by zero encountered in log1p\n",
      "/Users/vru959/anaconda2/envs/py3k/lib/python3.6/site-packages/ipykernel_launcher.py:19: RuntimeWarning: invalid value encountered in multiply\n",
      "/Users/vru959/anaconda2/envs/py3k/lib/python3.6/site-packages/ipykernel_launcher.py:19: RuntimeWarning: divide by zero encountered in log\n",
      "/Users/vru959/anaconda2/envs/py3k/lib/python3.6/site-packages/ipykernel_launcher.py:19: RuntimeWarning: divide by zero encountered in log\n",
      "/Users/vru959/anaconda2/envs/py3k/lib/python3.6/site-packages/ipykernel_launcher.py:19: RuntimeWarning: invalid value encountered in multiply\n",
      "/Users/vru959/anaconda2/envs/py3k/lib/python3.6/site-packages/ipykernel_launcher.py:19: RuntimeWarning: divide by zero encountered in log1p\n"
     ]
    },
    {
     "name": "stdout",
     "output_type": "stream",
     "text": [
      "[2019-02-24 18:20:51,265][INFO]: Experiment_11 at t=500\n"
     ]
    },
    {
     "name": "stderr",
     "output_type": "stream",
     "text": [
      "/Users/vru959/anaconda2/envs/py3k/lib/python3.6/site-packages/ipykernel_launcher.py:19: RuntimeWarning: divide by zero encountered in log1p\n",
      "/Users/vru959/anaconda2/envs/py3k/lib/python3.6/site-packages/ipykernel_launcher.py:19: RuntimeWarning: invalid value encountered in multiply\n",
      "/Users/vru959/anaconda2/envs/py3k/lib/python3.6/site-packages/ipykernel_launcher.py:19: RuntimeWarning: divide by zero encountered in log\n",
      "/Users/vru959/anaconda2/envs/py3k/lib/python3.6/site-packages/ipykernel_launcher.py:19: RuntimeWarning: divide by zero encountered in log\n",
      "/Users/vru959/anaconda2/envs/py3k/lib/python3.6/site-packages/ipykernel_launcher.py:19: RuntimeWarning: invalid value encountered in multiply\n",
      "/Users/vru959/anaconda2/envs/py3k/lib/python3.6/site-packages/ipykernel_launcher.py:19: RuntimeWarning: divide by zero encountered in log1p\n"
     ]
    },
    {
     "name": "stdout",
     "output_type": "stream",
     "text": [
      "[2019-02-24 18:20:52,225][INFO]: Experiment_13 at t=500\n"
     ]
    },
    {
     "name": "stderr",
     "output_type": "stream",
     "text": [
      "/Users/vru959/anaconda2/envs/py3k/lib/python3.6/site-packages/ipykernel_launcher.py:19: RuntimeWarning: divide by zero encountered in log1p\n",
      "/Users/vru959/anaconda2/envs/py3k/lib/python3.6/site-packages/ipykernel_launcher.py:19: RuntimeWarning: invalid value encountered in multiply\n",
      "/Users/vru959/anaconda2/envs/py3k/lib/python3.6/site-packages/ipykernel_launcher.py:19: RuntimeWarning: divide by zero encountered in log\n",
      "/Users/vru959/anaconda2/envs/py3k/lib/python3.6/site-packages/ipykernel_launcher.py:19: RuntimeWarning: divide by zero encountered in log\n",
      "/Users/vru959/anaconda2/envs/py3k/lib/python3.6/site-packages/ipykernel_launcher.py:19: RuntimeWarning: invalid value encountered in multiply\n",
      "/Users/vru959/anaconda2/envs/py3k/lib/python3.6/site-packages/ipykernel_launcher.py:19: RuntimeWarning: divide by zero encountered in log1p\n",
      "/Users/vru959/anaconda2/envs/py3k/lib/python3.6/site-packages/ipykernel_launcher.py:19: RuntimeWarning: divide by zero encountered in log1p\n",
      "/Users/vru959/anaconda2/envs/py3k/lib/python3.6/site-packages/ipykernel_launcher.py:19: RuntimeWarning: invalid value encountered in multiply\n",
      "/Users/vru959/anaconda2/envs/py3k/lib/python3.6/site-packages/ipykernel_launcher.py:19: RuntimeWarning: divide by zero encountered in log\n",
      "/Users/vru959/anaconda2/envs/py3k/lib/python3.6/site-packages/ipykernel_launcher.py:19: RuntimeWarning: divide by zero encountered in log\n",
      "/Users/vru959/anaconda2/envs/py3k/lib/python3.6/site-packages/ipykernel_launcher.py:19: RuntimeWarning: invalid value encountered in multiply\n",
      "/Users/vru959/anaconda2/envs/py3k/lib/python3.6/site-packages/ipykernel_launcher.py:19: RuntimeWarning: divide by zero encountered in log1p\n",
      "/Users/vru959/anaconda2/envs/py3k/lib/python3.6/site-packages/ipykernel_launcher.py:19: RuntimeWarning: divide by zero encountered in log1p\n",
      "/Users/vru959/anaconda2/envs/py3k/lib/python3.6/site-packages/ipykernel_launcher.py:19: RuntimeWarning: invalid value encountered in multiply\n",
      "/Users/vru959/anaconda2/envs/py3k/lib/python3.6/site-packages/ipykernel_launcher.py:19: RuntimeWarning: divide by zero encountered in log\n",
      "/Users/vru959/anaconda2/envs/py3k/lib/python3.6/site-packages/ipykernel_launcher.py:19: RuntimeWarning: divide by zero encountered in log\n",
      "/Users/vru959/anaconda2/envs/py3k/lib/python3.6/site-packages/ipykernel_launcher.py:19: RuntimeWarning: invalid value encountered in multiply\n",
      "/Users/vru959/anaconda2/envs/py3k/lib/python3.6/site-packages/ipykernel_launcher.py:19: RuntimeWarning: divide by zero encountered in log1p\n",
      "/Users/vru959/anaconda2/envs/py3k/lib/python3.6/site-packages/ipykernel_launcher.py:19: RuntimeWarning: divide by zero encountered in log1p\n",
      "/Users/vru959/anaconda2/envs/py3k/lib/python3.6/site-packages/ipykernel_launcher.py:19: RuntimeWarning: invalid value encountered in multiply\n",
      "/Users/vru959/anaconda2/envs/py3k/lib/python3.6/site-packages/ipykernel_launcher.py:19: RuntimeWarning: divide by zero encountered in log\n",
      "/Users/vru959/anaconda2/envs/py3k/lib/python3.6/site-packages/ipykernel_launcher.py:19: RuntimeWarning: divide by zero encountered in log\n",
      "/Users/vru959/anaconda2/envs/py3k/lib/python3.6/site-packages/ipykernel_launcher.py:19: RuntimeWarning: invalid value encountered in multiply\n",
      "/Users/vru959/anaconda2/envs/py3k/lib/python3.6/site-packages/ipykernel_launcher.py:19: RuntimeWarning: divide by zero encountered in log1p\n"
     ]
    },
    {
     "name": "stdout",
     "output_type": "stream",
     "text": [
      "[2019-02-24 18:20:53,258][INFO]: Experiment_12 at t=500\n"
     ]
    },
    {
     "name": "stderr",
     "output_type": "stream",
     "text": [
      "/Users/vru959/anaconda2/envs/py3k/lib/python3.6/site-packages/ipykernel_launcher.py:19: RuntimeWarning: divide by zero encountered in log1p\n",
      "/Users/vru959/anaconda2/envs/py3k/lib/python3.6/site-packages/ipykernel_launcher.py:19: RuntimeWarning: invalid value encountered in multiply\n",
      "/Users/vru959/anaconda2/envs/py3k/lib/python3.6/site-packages/ipykernel_launcher.py:19: RuntimeWarning: divide by zero encountered in log\n",
      "/Users/vru959/anaconda2/envs/py3k/lib/python3.6/site-packages/ipykernel_launcher.py:19: RuntimeWarning: divide by zero encountered in log\n",
      "/Users/vru959/anaconda2/envs/py3k/lib/python3.6/site-packages/ipykernel_launcher.py:19: RuntimeWarning: invalid value encountered in multiply\n",
      "/Users/vru959/anaconda2/envs/py3k/lib/python3.6/site-packages/ipykernel_launcher.py:19: RuntimeWarning: divide by zero encountered in log1p\n",
      "/Users/vru959/anaconda2/envs/py3k/lib/python3.6/site-packages/ipykernel_launcher.py:19: RuntimeWarning: divide by zero encountered in log1p\n",
      "/Users/vru959/anaconda2/envs/py3k/lib/python3.6/site-packages/ipykernel_launcher.py:19: RuntimeWarning: invalid value encountered in multiply\n",
      "/Users/vru959/anaconda2/envs/py3k/lib/python3.6/site-packages/ipykernel_launcher.py:19: RuntimeWarning: divide by zero encountered in log\n",
      "/Users/vru959/anaconda2/envs/py3k/lib/python3.6/site-packages/ipykernel_launcher.py:19: RuntimeWarning: divide by zero encountered in log\n",
      "/Users/vru959/anaconda2/envs/py3k/lib/python3.6/site-packages/ipykernel_launcher.py:19: RuntimeWarning: invalid value encountered in multiply\n",
      "/Users/vru959/anaconda2/envs/py3k/lib/python3.6/site-packages/ipykernel_launcher.py:19: RuntimeWarning: divide by zero encountered in log1p\n",
      "/Users/vru959/anaconda2/envs/py3k/lib/python3.6/site-packages/ipykernel_launcher.py:19: RuntimeWarning: divide by zero encountered in log1p\n",
      "/Users/vru959/anaconda2/envs/py3k/lib/python3.6/site-packages/ipykernel_launcher.py:19: RuntimeWarning: invalid value encountered in multiply\n",
      "/Users/vru959/anaconda2/envs/py3k/lib/python3.6/site-packages/ipykernel_launcher.py:19: RuntimeWarning: divide by zero encountered in log\n",
      "/Users/vru959/anaconda2/envs/py3k/lib/python3.6/site-packages/ipykernel_launcher.py:19: RuntimeWarning: divide by zero encountered in log\n",
      "/Users/vru959/anaconda2/envs/py3k/lib/python3.6/site-packages/ipykernel_launcher.py:19: RuntimeWarning: invalid value encountered in multiply\n",
      "/Users/vru959/anaconda2/envs/py3k/lib/python3.6/site-packages/ipykernel_launcher.py:19: RuntimeWarning: divide by zero encountered in log1p\n",
      "/Users/vru959/anaconda2/envs/py3k/lib/python3.6/site-packages/ipykernel_launcher.py:19: RuntimeWarning: divide by zero encountered in log1p\n",
      "/Users/vru959/anaconda2/envs/py3k/lib/python3.6/site-packages/ipykernel_launcher.py:19: RuntimeWarning: invalid value encountered in multiply\n",
      "/Users/vru959/anaconda2/envs/py3k/lib/python3.6/site-packages/ipykernel_launcher.py:19: RuntimeWarning: divide by zero encountered in log\n",
      "/Users/vru959/anaconda2/envs/py3k/lib/python3.6/site-packages/ipykernel_launcher.py:19: RuntimeWarning: divide by zero encountered in log1p\n",
      "/Users/vru959/anaconda2/envs/py3k/lib/python3.6/site-packages/ipykernel_launcher.py:19: RuntimeWarning: invalid value encountered in multiply\n",
      "/Users/vru959/anaconda2/envs/py3k/lib/python3.6/site-packages/ipykernel_launcher.py:19: RuntimeWarning: divide by zero encountered in log\n",
      "/Users/vru959/anaconda2/envs/py3k/lib/python3.6/site-packages/ipykernel_launcher.py:19: RuntimeWarning: divide by zero encountered in log\n",
      "/Users/vru959/anaconda2/envs/py3k/lib/python3.6/site-packages/ipykernel_launcher.py:19: RuntimeWarning: invalid value encountered in multiply\n",
      "/Users/vru959/anaconda2/envs/py3k/lib/python3.6/site-packages/ipykernel_launcher.py:19: RuntimeWarning: divide by zero encountered in log1p\n",
      "/Users/vru959/anaconda2/envs/py3k/lib/python3.6/site-packages/ipykernel_launcher.py:19: RuntimeWarning: divide by zero encountered in log1p\n",
      "/Users/vru959/anaconda2/envs/py3k/lib/python3.6/site-packages/ipykernel_launcher.py:19: RuntimeWarning: invalid value encountered in multiply\n",
      "/Users/vru959/anaconda2/envs/py3k/lib/python3.6/site-packages/ipykernel_launcher.py:19: RuntimeWarning: divide by zero encountered in log\n",
      "/Users/vru959/anaconda2/envs/py3k/lib/python3.6/site-packages/ipykernel_launcher.py:19: RuntimeWarning: divide by zero encountered in log\n",
      "/Users/vru959/anaconda2/envs/py3k/lib/python3.6/site-packages/ipykernel_launcher.py:19: RuntimeWarning: invalid value encountered in multiply\n",
      "/Users/vru959/anaconda2/envs/py3k/lib/python3.6/site-packages/ipykernel_launcher.py:19: RuntimeWarning: divide by zero encountered in log1p\n",
      "/Users/vru959/anaconda2/envs/py3k/lib/python3.6/site-packages/ipykernel_launcher.py:19: RuntimeWarning: divide by zero encountered in log1p\n",
      "/Users/vru959/anaconda2/envs/py3k/lib/python3.6/site-packages/ipykernel_launcher.py:19: RuntimeWarning: invalid value encountered in multiply\n",
      "/Users/vru959/anaconda2/envs/py3k/lib/python3.6/site-packages/ipykernel_launcher.py:19: RuntimeWarning: divide by zero encountered in log\n",
      "/Users/vru959/anaconda2/envs/py3k/lib/python3.6/site-packages/ipykernel_launcher.py:19: RuntimeWarning: divide by zero encountered in log\n",
      "/Users/vru959/anaconda2/envs/py3k/lib/python3.6/site-packages/ipykernel_launcher.py:19: RuntimeWarning: invalid value encountered in multiply\n",
      "/Users/vru959/anaconda2/envs/py3k/lib/python3.6/site-packages/ipykernel_launcher.py:19: RuntimeWarning: divide by zero encountered in log1p\n",
      "/Users/vru959/anaconda2/envs/py3k/lib/python3.6/site-packages/ipykernel_launcher.py:19: RuntimeWarning: divide by zero encountered in log1p\n",
      "/Users/vru959/anaconda2/envs/py3k/lib/python3.6/site-packages/ipykernel_launcher.py:19: RuntimeWarning: invalid value encountered in multiply\n",
      "/Users/vru959/anaconda2/envs/py3k/lib/python3.6/site-packages/ipykernel_launcher.py:19: RuntimeWarning: divide by zero encountered in log\n",
      "/Users/vru959/anaconda2/envs/py3k/lib/python3.6/site-packages/ipykernel_launcher.py:19: RuntimeWarning: divide by zero encountered in log\n",
      "/Users/vru959/anaconda2/envs/py3k/lib/python3.6/site-packages/ipykernel_launcher.py:19: RuntimeWarning: invalid value encountered in multiply\n",
      "/Users/vru959/anaconda2/envs/py3k/lib/python3.6/site-packages/ipykernel_launcher.py:19: RuntimeWarning: divide by zero encountered in log1p\n",
      "/Users/vru959/anaconda2/envs/py3k/lib/python3.6/site-packages/ipykernel_launcher.py:19: RuntimeWarning: divide by zero encountered in log1p\n",
      "/Users/vru959/anaconda2/envs/py3k/lib/python3.6/site-packages/ipykernel_launcher.py:19: RuntimeWarning: invalid value encountered in multiply\n",
      "/Users/vru959/anaconda2/envs/py3k/lib/python3.6/site-packages/ipykernel_launcher.py:19: RuntimeWarning: divide by zero encountered in log\n",
      "/Users/vru959/anaconda2/envs/py3k/lib/python3.6/site-packages/ipykernel_launcher.py:19: RuntimeWarning: divide by zero encountered in log1p\n",
      "/Users/vru959/anaconda2/envs/py3k/lib/python3.6/site-packages/ipykernel_launcher.py:19: RuntimeWarning: invalid value encountered in multiply\n",
      "/Users/vru959/anaconda2/envs/py3k/lib/python3.6/site-packages/ipykernel_launcher.py:19: RuntimeWarning: divide by zero encountered in log\n",
      "/Users/vru959/anaconda2/envs/py3k/lib/python3.6/site-packages/ipykernel_launcher.py:19: RuntimeWarning: invalid value encountered in multiply\n",
      "/Users/vru959/anaconda2/envs/py3k/lib/python3.6/site-packages/ipykernel_launcher.py:19: RuntimeWarning: divide by zero encountered in log1p\n",
      "/Users/vru959/anaconda2/envs/py3k/lib/python3.6/site-packages/ipykernel_launcher.py:19: RuntimeWarning: divide by zero encountered in log\n",
      "/Users/vru959/anaconda2/envs/py3k/lib/python3.6/site-packages/ipykernel_launcher.py:19: RuntimeWarning: divide by zero encountered in log\n",
      "/Users/vru959/anaconda2/envs/py3k/lib/python3.6/site-packages/ipykernel_launcher.py:19: RuntimeWarning: invalid value encountered in multiply\n",
      "/Users/vru959/anaconda2/envs/py3k/lib/python3.6/site-packages/ipykernel_launcher.py:19: RuntimeWarning: divide by zero encountered in log1p\n",
      "/Users/vru959/anaconda2/envs/py3k/lib/python3.6/site-packages/ipykernel_launcher.py:19: RuntimeWarning: divide by zero encountered in log1p\n",
      "/Users/vru959/anaconda2/envs/py3k/lib/python3.6/site-packages/ipykernel_launcher.py:19: RuntimeWarning: invalid value encountered in multiply\n",
      "/Users/vru959/anaconda2/envs/py3k/lib/python3.6/site-packages/ipykernel_launcher.py:19: RuntimeWarning: divide by zero encountered in log\n",
      "/Users/vru959/anaconda2/envs/py3k/lib/python3.6/site-packages/ipykernel_launcher.py:19: RuntimeWarning: divide by zero encountered in log\n",
      "/Users/vru959/anaconda2/envs/py3k/lib/python3.6/site-packages/ipykernel_launcher.py:19: RuntimeWarning: invalid value encountered in multiply\n",
      "/Users/vru959/anaconda2/envs/py3k/lib/python3.6/site-packages/ipykernel_launcher.py:19: RuntimeWarning: divide by zero encountered in log1p\n",
      "/Users/vru959/anaconda2/envs/py3k/lib/python3.6/site-packages/ipykernel_launcher.py:19: RuntimeWarning: divide by zero encountered in log1p\n",
      "/Users/vru959/anaconda2/envs/py3k/lib/python3.6/site-packages/ipykernel_launcher.py:19: RuntimeWarning: invalid value encountered in multiply\n",
      "/Users/vru959/anaconda2/envs/py3k/lib/python3.6/site-packages/ipykernel_launcher.py:19: RuntimeWarning: divide by zero encountered in log\n",
      "/Users/vru959/anaconda2/envs/py3k/lib/python3.6/site-packages/ipykernel_launcher.py:19: RuntimeWarning: divide by zero encountered in log\n",
      "/Users/vru959/anaconda2/envs/py3k/lib/python3.6/site-packages/ipykernel_launcher.py:19: RuntimeWarning: invalid value encountered in multiply\n",
      "/Users/vru959/anaconda2/envs/py3k/lib/python3.6/site-packages/ipykernel_launcher.py:19: RuntimeWarning: divide by zero encountered in log1p\n",
      "/Users/vru959/anaconda2/envs/py3k/lib/python3.6/site-packages/ipykernel_launcher.py:19: RuntimeWarning: divide by zero encountered in log1p\n",
      "/Users/vru959/anaconda2/envs/py3k/lib/python3.6/site-packages/ipykernel_launcher.py:19: RuntimeWarning: invalid value encountered in multiply\n",
      "/Users/vru959/anaconda2/envs/py3k/lib/python3.6/site-packages/ipykernel_launcher.py:19: RuntimeWarning: divide by zero encountered in log\n",
      "/Users/vru959/anaconda2/envs/py3k/lib/python3.6/site-packages/ipykernel_launcher.py:19: RuntimeWarning: divide by zero encountered in log\n",
      "/Users/vru959/anaconda2/envs/py3k/lib/python3.6/site-packages/ipykernel_launcher.py:19: RuntimeWarning: invalid value encountered in multiply\n",
      "/Users/vru959/anaconda2/envs/py3k/lib/python3.6/site-packages/ipykernel_launcher.py:19: RuntimeWarning: divide by zero encountered in log1p\n",
      "/Users/vru959/anaconda2/envs/py3k/lib/python3.6/site-packages/ipykernel_launcher.py:19: RuntimeWarning: divide by zero encountered in log1p\n",
      "/Users/vru959/anaconda2/envs/py3k/lib/python3.6/site-packages/ipykernel_launcher.py:19: RuntimeWarning: invalid value encountered in multiply\n",
      "/Users/vru959/anaconda2/envs/py3k/lib/python3.6/site-packages/ipykernel_launcher.py:19: RuntimeWarning: divide by zero encountered in log\n",
      "/Users/vru959/anaconda2/envs/py3k/lib/python3.6/site-packages/ipykernel_launcher.py:19: RuntimeWarning: divide by zero encountered in log\n",
      "/Users/vru959/anaconda2/envs/py3k/lib/python3.6/site-packages/ipykernel_launcher.py:19: RuntimeWarning: invalid value encountered in multiply\n",
      "/Users/vru959/anaconda2/envs/py3k/lib/python3.6/site-packages/ipykernel_launcher.py:19: RuntimeWarning: divide by zero encountered in log1p\n",
      "/Users/vru959/anaconda2/envs/py3k/lib/python3.6/site-packages/ipykernel_launcher.py:19: RuntimeWarning: divide by zero encountered in log1p\n",
      "/Users/vru959/anaconda2/envs/py3k/lib/python3.6/site-packages/ipykernel_launcher.py:19: RuntimeWarning: invalid value encountered in multiply\n",
      "/Users/vru959/anaconda2/envs/py3k/lib/python3.6/site-packages/ipykernel_launcher.py:19: RuntimeWarning: divide by zero encountered in log\n",
      "/Users/vru959/anaconda2/envs/py3k/lib/python3.6/site-packages/ipykernel_launcher.py:19: RuntimeWarning: divide by zero encountered in log\n",
      "/Users/vru959/anaconda2/envs/py3k/lib/python3.6/site-packages/ipykernel_launcher.py:19: RuntimeWarning: invalid value encountered in multiply\n",
      "/Users/vru959/anaconda2/envs/py3k/lib/python3.6/site-packages/ipykernel_launcher.py:19: RuntimeWarning: divide by zero encountered in log1p\n",
      "/Users/vru959/anaconda2/envs/py3k/lib/python3.6/site-packages/ipykernel_launcher.py:19: RuntimeWarning: divide by zero encountered in log1p\n",
      "/Users/vru959/anaconda2/envs/py3k/lib/python3.6/site-packages/ipykernel_launcher.py:19: RuntimeWarning: invalid value encountered in multiply\n",
      "/Users/vru959/anaconda2/envs/py3k/lib/python3.6/site-packages/ipykernel_launcher.py:19: RuntimeWarning: divide by zero encountered in log\n",
      "/Users/vru959/anaconda2/envs/py3k/lib/python3.6/site-packages/ipykernel_launcher.py:19: RuntimeWarning: divide by zero encountered in log\n",
      "/Users/vru959/anaconda2/envs/py3k/lib/python3.6/site-packages/ipykernel_launcher.py:19: RuntimeWarning: invalid value encountered in multiply\n",
      "/Users/vru959/anaconda2/envs/py3k/lib/python3.6/site-packages/ipykernel_launcher.py:19: RuntimeWarning: divide by zero encountered in log1p\n",
      "/Users/vru959/anaconda2/envs/py3k/lib/python3.6/site-packages/ipykernel_launcher.py:19: RuntimeWarning: divide by zero encountered in log1p\n",
      "/Users/vru959/anaconda2/envs/py3k/lib/python3.6/site-packages/ipykernel_launcher.py:19: RuntimeWarning: invalid value encountered in multiply\n",
      "/Users/vru959/anaconda2/envs/py3k/lib/python3.6/site-packages/ipykernel_launcher.py:19: RuntimeWarning: divide by zero encountered in log\n",
      "/Users/vru959/anaconda2/envs/py3k/lib/python3.6/site-packages/ipykernel_launcher.py:19: RuntimeWarning: divide by zero encountered in log\n",
      "/Users/vru959/anaconda2/envs/py3k/lib/python3.6/site-packages/ipykernel_launcher.py:19: RuntimeWarning: invalid value encountered in multiply\n",
      "/Users/vru959/anaconda2/envs/py3k/lib/python3.6/site-packages/ipykernel_launcher.py:19: RuntimeWarning: divide by zero encountered in log1p\n",
      "/Users/vru959/anaconda2/envs/py3k/lib/python3.6/site-packages/ipykernel_launcher.py:19: RuntimeWarning: divide by zero encountered in log1p\n",
      "/Users/vru959/anaconda2/envs/py3k/lib/python3.6/site-packages/ipykernel_launcher.py:19: RuntimeWarning: invalid value encountered in multiply\n",
      "/Users/vru959/anaconda2/envs/py3k/lib/python3.6/site-packages/ipykernel_launcher.py:19: RuntimeWarning: divide by zero encountered in log\n",
      "/Users/vru959/anaconda2/envs/py3k/lib/python3.6/site-packages/ipykernel_launcher.py:19: RuntimeWarning: divide by zero encountered in log\n",
      "/Users/vru959/anaconda2/envs/py3k/lib/python3.6/site-packages/ipykernel_launcher.py:19: RuntimeWarning: invalid value encountered in multiply\n",
      "/Users/vru959/anaconda2/envs/py3k/lib/python3.6/site-packages/ipykernel_launcher.py:19: RuntimeWarning: divide by zero encountered in log1p\n",
      "/Users/vru959/anaconda2/envs/py3k/lib/python3.6/site-packages/ipykernel_launcher.py:19: RuntimeWarning: divide by zero encountered in log1p\n",
      "/Users/vru959/anaconda2/envs/py3k/lib/python3.6/site-packages/ipykernel_launcher.py:19: RuntimeWarning: invalid value encountered in multiply\n",
      "/Users/vru959/anaconda2/envs/py3k/lib/python3.6/site-packages/ipykernel_launcher.py:19: RuntimeWarning: divide by zero encountered in log\n",
      "/Users/vru959/anaconda2/envs/py3k/lib/python3.6/site-packages/ipykernel_launcher.py:19: RuntimeWarning: divide by zero encountered in log\n",
      "/Users/vru959/anaconda2/envs/py3k/lib/python3.6/site-packages/ipykernel_launcher.py:19: RuntimeWarning: invalid value encountered in multiply\n",
      "/Users/vru959/anaconda2/envs/py3k/lib/python3.6/site-packages/ipykernel_launcher.py:19: RuntimeWarning: divide by zero encountered in log1p\n",
      "/Users/vru959/anaconda2/envs/py3k/lib/python3.6/site-packages/ipykernel_launcher.py:19: RuntimeWarning: divide by zero encountered in log1p\n",
      "/Users/vru959/anaconda2/envs/py3k/lib/python3.6/site-packages/ipykernel_launcher.py:19: RuntimeWarning: invalid value encountered in multiply\n",
      "/Users/vru959/anaconda2/envs/py3k/lib/python3.6/site-packages/ipykernel_launcher.py:19: RuntimeWarning: divide by zero encountered in log\n",
      "/Users/vru959/anaconda2/envs/py3k/lib/python3.6/site-packages/ipykernel_launcher.py:19: RuntimeWarning: divide by zero encountered in log\n",
      "/Users/vru959/anaconda2/envs/py3k/lib/python3.6/site-packages/ipykernel_launcher.py:19: RuntimeWarning: invalid value encountered in multiply\n",
      "/Users/vru959/anaconda2/envs/py3k/lib/python3.6/site-packages/ipykernel_launcher.py:19: RuntimeWarning: divide by zero encountered in log1p\n",
      "/Users/vru959/anaconda2/envs/py3k/lib/python3.6/site-packages/ipykernel_launcher.py:19: RuntimeWarning: divide by zero encountered in log1p\n",
      "/Users/vru959/anaconda2/envs/py3k/lib/python3.6/site-packages/ipykernel_launcher.py:19: RuntimeWarning: invalid value encountered in multiply\n",
      "/Users/vru959/anaconda2/envs/py3k/lib/python3.6/site-packages/ipykernel_launcher.py:19: RuntimeWarning: divide by zero encountered in log\n",
      "/Users/vru959/anaconda2/envs/py3k/lib/python3.6/site-packages/ipykernel_launcher.py:19: RuntimeWarning: divide by zero encountered in log\n",
      "/Users/vru959/anaconda2/envs/py3k/lib/python3.6/site-packages/ipykernel_launcher.py:19: RuntimeWarning: invalid value encountered in multiply\n",
      "/Users/vru959/anaconda2/envs/py3k/lib/python3.6/site-packages/ipykernel_launcher.py:19: RuntimeWarning: divide by zero encountered in log1p\n",
      "/Users/vru959/anaconda2/envs/py3k/lib/python3.6/site-packages/ipykernel_launcher.py:19: RuntimeWarning: divide by zero encountered in log1p\n",
      "/Users/vru959/anaconda2/envs/py3k/lib/python3.6/site-packages/ipykernel_launcher.py:19: RuntimeWarning: invalid value encountered in multiply\n",
      "/Users/vru959/anaconda2/envs/py3k/lib/python3.6/site-packages/ipykernel_launcher.py:19: RuntimeWarning: divide by zero encountered in log\n",
      "/Users/vru959/anaconda2/envs/py3k/lib/python3.6/site-packages/ipykernel_launcher.py:19: RuntimeWarning: divide by zero encountered in log\n",
      "/Users/vru959/anaconda2/envs/py3k/lib/python3.6/site-packages/ipykernel_launcher.py:19: RuntimeWarning: invalid value encountered in multiply\n",
      "/Users/vru959/anaconda2/envs/py3k/lib/python3.6/site-packages/ipykernel_launcher.py:19: RuntimeWarning: divide by zero encountered in log1p\n",
      "/Users/vru959/anaconda2/envs/py3k/lib/python3.6/site-packages/ipykernel_launcher.py:19: RuntimeWarning: divide by zero encountered in log1p\n",
      "/Users/vru959/anaconda2/envs/py3k/lib/python3.6/site-packages/ipykernel_launcher.py:19: RuntimeWarning: invalid value encountered in multiply\n",
      "/Users/vru959/anaconda2/envs/py3k/lib/python3.6/site-packages/ipykernel_launcher.py:19: RuntimeWarning: divide by zero encountered in log\n",
      "/Users/vru959/anaconda2/envs/py3k/lib/python3.6/site-packages/ipykernel_launcher.py:19: RuntimeWarning: divide by zero encountered in log\n",
      "/Users/vru959/anaconda2/envs/py3k/lib/python3.6/site-packages/ipykernel_launcher.py:19: RuntimeWarning: invalid value encountered in multiply\n",
      "/Users/vru959/anaconda2/envs/py3k/lib/python3.6/site-packages/ipykernel_launcher.py:19: RuntimeWarning: divide by zero encountered in log1p\n",
      "/Users/vru959/anaconda2/envs/py3k/lib/python3.6/site-packages/ipykernel_launcher.py:19: RuntimeWarning: divide by zero encountered in log1p\n",
      "/Users/vru959/anaconda2/envs/py3k/lib/python3.6/site-packages/ipykernel_launcher.py:19: RuntimeWarning: invalid value encountered in multiply\n",
      "/Users/vru959/anaconda2/envs/py3k/lib/python3.6/site-packages/ipykernel_launcher.py:19: RuntimeWarning: divide by zero encountered in log\n",
      "/Users/vru959/anaconda2/envs/py3k/lib/python3.6/site-packages/ipykernel_launcher.py:19: RuntimeWarning: divide by zero encountered in log\n",
      "/Users/vru959/anaconda2/envs/py3k/lib/python3.6/site-packages/ipykernel_launcher.py:19: RuntimeWarning: invalid value encountered in multiply\n",
      "/Users/vru959/anaconda2/envs/py3k/lib/python3.6/site-packages/ipykernel_launcher.py:19: RuntimeWarning: divide by zero encountered in log1p\n",
      "/Users/vru959/anaconda2/envs/py3k/lib/python3.6/site-packages/ipykernel_launcher.py:19: RuntimeWarning: divide by zero encountered in log1p\n",
      "/Users/vru959/anaconda2/envs/py3k/lib/python3.6/site-packages/ipykernel_launcher.py:19: RuntimeWarning: invalid value encountered in multiply\n",
      "/Users/vru959/anaconda2/envs/py3k/lib/python3.6/site-packages/ipykernel_launcher.py:19: RuntimeWarning: divide by zero encountered in log1p\n",
      "/Users/vru959/anaconda2/envs/py3k/lib/python3.6/site-packages/ipykernel_launcher.py:19: RuntimeWarning: divide by zero encountered in log\n",
      "/Users/vru959/anaconda2/envs/py3k/lib/python3.6/site-packages/ipykernel_launcher.py:19: RuntimeWarning: invalid value encountered in multiply\n",
      "/Users/vru959/anaconda2/envs/py3k/lib/python3.6/site-packages/ipykernel_launcher.py:19: RuntimeWarning: divide by zero encountered in log\n",
      "/Users/vru959/anaconda2/envs/py3k/lib/python3.6/site-packages/ipykernel_launcher.py:19: RuntimeWarning: invalid value encountered in multiply\n",
      "/Users/vru959/anaconda2/envs/py3k/lib/python3.6/site-packages/ipykernel_launcher.py:19: RuntimeWarning: divide by zero encountered in log\n",
      "/Users/vru959/anaconda2/envs/py3k/lib/python3.6/site-packages/ipykernel_launcher.py:19: RuntimeWarning: divide by zero encountered in log1p\n",
      "/Users/vru959/anaconda2/envs/py3k/lib/python3.6/site-packages/ipykernel_launcher.py:19: RuntimeWarning: divide by zero encountered in log\n",
      "/Users/vru959/anaconda2/envs/py3k/lib/python3.6/site-packages/ipykernel_launcher.py:19: RuntimeWarning: invalid value encountered in multiply\n",
      "/Users/vru959/anaconda2/envs/py3k/lib/python3.6/site-packages/ipykernel_launcher.py:19: RuntimeWarning: divide by zero encountered in log1p\n",
      "/Users/vru959/anaconda2/envs/py3k/lib/python3.6/site-packages/ipykernel_launcher.py:19: RuntimeWarning: divide by zero encountered in log1p\n",
      "/Users/vru959/anaconda2/envs/py3k/lib/python3.6/site-packages/ipykernel_launcher.py:19: RuntimeWarning: invalid value encountered in multiply\n",
      "/Users/vru959/anaconda2/envs/py3k/lib/python3.6/site-packages/ipykernel_launcher.py:19: RuntimeWarning: divide by zero encountered in log\n",
      "/Users/vru959/anaconda2/envs/py3k/lib/python3.6/site-packages/ipykernel_launcher.py:19: RuntimeWarning: divide by zero encountered in log\n",
      "/Users/vru959/anaconda2/envs/py3k/lib/python3.6/site-packages/ipykernel_launcher.py:19: RuntimeWarning: invalid value encountered in multiply\n",
      "/Users/vru959/anaconda2/envs/py3k/lib/python3.6/site-packages/ipykernel_launcher.py:19: RuntimeWarning: divide by zero encountered in log1p\n",
      "/Users/vru959/anaconda2/envs/py3k/lib/python3.6/site-packages/ipykernel_launcher.py:19: RuntimeWarning: divide by zero encountered in log1p\n",
      "/Users/vru959/anaconda2/envs/py3k/lib/python3.6/site-packages/ipykernel_launcher.py:19: RuntimeWarning: invalid value encountered in multiply\n",
      "/Users/vru959/anaconda2/envs/py3k/lib/python3.6/site-packages/ipykernel_launcher.py:19: RuntimeWarning: divide by zero encountered in log\n",
      "/Users/vru959/anaconda2/envs/py3k/lib/python3.6/site-packages/ipykernel_launcher.py:19: RuntimeWarning: divide by zero encountered in log\n",
      "/Users/vru959/anaconda2/envs/py3k/lib/python3.6/site-packages/ipykernel_launcher.py:19: RuntimeWarning: invalid value encountered in multiply\n",
      "/Users/vru959/anaconda2/envs/py3k/lib/python3.6/site-packages/ipykernel_launcher.py:19: RuntimeWarning: divide by zero encountered in log1p\n",
      "/Users/vru959/anaconda2/envs/py3k/lib/python3.6/site-packages/ipykernel_launcher.py:19: RuntimeWarning: divide by zero encountered in log1p\n",
      "/Users/vru959/anaconda2/envs/py3k/lib/python3.6/site-packages/ipykernel_launcher.py:19: RuntimeWarning: invalid value encountered in multiply\n",
      "/Users/vru959/anaconda2/envs/py3k/lib/python3.6/site-packages/ipykernel_launcher.py:19: RuntimeWarning: divide by zero encountered in log\n",
      "/Users/vru959/anaconda2/envs/py3k/lib/python3.6/site-packages/ipykernel_launcher.py:19: RuntimeWarning: divide by zero encountered in log\n",
      "/Users/vru959/anaconda2/envs/py3k/lib/python3.6/site-packages/ipykernel_launcher.py:19: RuntimeWarning: invalid value encountered in multiply\n",
      "/Users/vru959/anaconda2/envs/py3k/lib/python3.6/site-packages/ipykernel_launcher.py:19: RuntimeWarning: divide by zero encountered in log1p\n",
      "/Users/vru959/anaconda2/envs/py3k/lib/python3.6/site-packages/ipykernel_launcher.py:19: RuntimeWarning: divide by zero encountered in log1p\n",
      "/Users/vru959/anaconda2/envs/py3k/lib/python3.6/site-packages/ipykernel_launcher.py:19: RuntimeWarning: invalid value encountered in multiply\n",
      "/Users/vru959/anaconda2/envs/py3k/lib/python3.6/site-packages/ipykernel_launcher.py:19: RuntimeWarning: divide by zero encountered in log\n",
      "/Users/vru959/anaconda2/envs/py3k/lib/python3.6/site-packages/ipykernel_launcher.py:19: RuntimeWarning: divide by zero encountered in log\n",
      "/Users/vru959/anaconda2/envs/py3k/lib/python3.6/site-packages/ipykernel_launcher.py:19: RuntimeWarning: invalid value encountered in multiply\n",
      "/Users/vru959/anaconda2/envs/py3k/lib/python3.6/site-packages/ipykernel_launcher.py:19: RuntimeWarning: divide by zero encountered in log1p\n"
     ]
    },
    {
     "name": "stdout",
     "output_type": "stream",
     "text": [
      "[2019-02-24 18:21:08,972][INFO]: Experiment_8 at t=1000\n",
      "[2019-02-24 18:21:09,057][INFO]: Experiment_8 complete.\n",
      "[2019-02-24 18:21:09,061][INFO]: Experiment_14 beginning...\n",
      "[2019-02-24 18:21:09,110][INFO]: Experiment_7 at t=1000\n",
      "[2019-02-24 18:21:09,192][INFO]: Experiment_7 complete.\n",
      "[2019-02-24 18:21:09,197][INFO]: Experiment_15 beginning...\n",
      "[2019-02-24 18:21:09,928][INFO]: Experiment_9 at t=1000\n",
      "[2019-02-24 18:21:10,003][INFO]: Experiment_9 complete.\n",
      "[2019-02-24 18:21:10,008][INFO]: Experiment_16 beginning...\n",
      "[2019-02-24 18:21:11,604][INFO]: Experiment_10 at t=1000\n",
      "[2019-02-24 18:21:11,694][INFO]: Experiment_10 complete.\n",
      "[2019-02-24 18:21:11,700][INFO]: Experiment_17 beginning...\n"
     ]
    },
    {
     "name": "stderr",
     "output_type": "stream",
     "text": [
      "/Users/vru959/anaconda2/envs/py3k/lib/python3.6/site-packages/ipykernel_launcher.py:19: RuntimeWarning: divide by zero encountered in log1p\n",
      "/Users/vru959/anaconda2/envs/py3k/lib/python3.6/site-packages/ipykernel_launcher.py:19: RuntimeWarning: invalid value encountered in multiply\n",
      "/Users/vru959/anaconda2/envs/py3k/lib/python3.6/site-packages/ipykernel_launcher.py:19: RuntimeWarning: divide by zero encountered in log\n",
      "/Users/vru959/anaconda2/envs/py3k/lib/python3.6/site-packages/ipykernel_launcher.py:19: RuntimeWarning: divide by zero encountered in log1p\n",
      "/Users/vru959/anaconda2/envs/py3k/lib/python3.6/site-packages/ipykernel_launcher.py:19: RuntimeWarning: invalid value encountered in multiply\n",
      "/Users/vru959/anaconda2/envs/py3k/lib/python3.6/site-packages/ipykernel_launcher.py:19: RuntimeWarning: divide by zero encountered in log\n",
      "/Users/vru959/anaconda2/envs/py3k/lib/python3.6/site-packages/ipykernel_launcher.py:19: RuntimeWarning: divide by zero encountered in log\n",
      "/Users/vru959/anaconda2/envs/py3k/lib/python3.6/site-packages/ipykernel_launcher.py:19: RuntimeWarning: invalid value encountered in multiply\n",
      "/Users/vru959/anaconda2/envs/py3k/lib/python3.6/site-packages/ipykernel_launcher.py:19: RuntimeWarning: divide by zero encountered in log1p\n",
      "/Users/vru959/anaconda2/envs/py3k/lib/python3.6/site-packages/ipykernel_launcher.py:19: RuntimeWarning: divide by zero encountered in log1p\n",
      "/Users/vru959/anaconda2/envs/py3k/lib/python3.6/site-packages/ipykernel_launcher.py:19: RuntimeWarning: invalid value encountered in multiply\n",
      "/Users/vru959/anaconda2/envs/py3k/lib/python3.6/site-packages/ipykernel_launcher.py:19: RuntimeWarning: divide by zero encountered in log\n",
      "/Users/vru959/anaconda2/envs/py3k/lib/python3.6/site-packages/ipykernel_launcher.py:19: RuntimeWarning: divide by zero encountered in log\n",
      "/Users/vru959/anaconda2/envs/py3k/lib/python3.6/site-packages/ipykernel_launcher.py:19: RuntimeWarning: invalid value encountered in multiply\n",
      "/Users/vru959/anaconda2/envs/py3k/lib/python3.6/site-packages/ipykernel_launcher.py:19: RuntimeWarning: divide by zero encountered in log1p\n",
      "/Users/vru959/anaconda2/envs/py3k/lib/python3.6/site-packages/ipykernel_launcher.py:19: RuntimeWarning: divide by zero encountered in log1p\n",
      "/Users/vru959/anaconda2/envs/py3k/lib/python3.6/site-packages/ipykernel_launcher.py:19: RuntimeWarning: invalid value encountered in multiply\n",
      "/Users/vru959/anaconda2/envs/py3k/lib/python3.6/site-packages/ipykernel_launcher.py:19: RuntimeWarning: divide by zero encountered in log\n",
      "/Users/vru959/anaconda2/envs/py3k/lib/python3.6/site-packages/ipykernel_launcher.py:19: RuntimeWarning: divide by zero encountered in log\n",
      "/Users/vru959/anaconda2/envs/py3k/lib/python3.6/site-packages/ipykernel_launcher.py:19: RuntimeWarning: invalid value encountered in multiply\n",
      "/Users/vru959/anaconda2/envs/py3k/lib/python3.6/site-packages/ipykernel_launcher.py:19: RuntimeWarning: divide by zero encountered in log1p\n",
      "/Users/vru959/anaconda2/envs/py3k/lib/python3.6/site-packages/ipykernel_launcher.py:19: RuntimeWarning: divide by zero encountered in log1p\n",
      "/Users/vru959/anaconda2/envs/py3k/lib/python3.6/site-packages/ipykernel_launcher.py:19: RuntimeWarning: invalid value encountered in multiply\n",
      "/Users/vru959/anaconda2/envs/py3k/lib/python3.6/site-packages/ipykernel_launcher.py:19: RuntimeWarning: divide by zero encountered in log\n",
      "/Users/vru959/anaconda2/envs/py3k/lib/python3.6/site-packages/ipykernel_launcher.py:19: RuntimeWarning: divide by zero encountered in log\n",
      "/Users/vru959/anaconda2/envs/py3k/lib/python3.6/site-packages/ipykernel_launcher.py:19: RuntimeWarning: invalid value encountered in multiply\n",
      "/Users/vru959/anaconda2/envs/py3k/lib/python3.6/site-packages/ipykernel_launcher.py:19: RuntimeWarning: divide by zero encountered in log1p\n",
      "/Users/vru959/anaconda2/envs/py3k/lib/python3.6/site-packages/ipykernel_launcher.py:19: RuntimeWarning: divide by zero encountered in log1p\n",
      "/Users/vru959/anaconda2/envs/py3k/lib/python3.6/site-packages/ipykernel_launcher.py:19: RuntimeWarning: invalid value encountered in multiply\n",
      "/Users/vru959/anaconda2/envs/py3k/lib/python3.6/site-packages/ipykernel_launcher.py:19: RuntimeWarning: divide by zero encountered in log\n",
      "/Users/vru959/anaconda2/envs/py3k/lib/python3.6/site-packages/ipykernel_launcher.py:19: RuntimeWarning: divide by zero encountered in log\n",
      "/Users/vru959/anaconda2/envs/py3k/lib/python3.6/site-packages/ipykernel_launcher.py:19: RuntimeWarning: invalid value encountered in multiply\n",
      "/Users/vru959/anaconda2/envs/py3k/lib/python3.6/site-packages/ipykernel_launcher.py:19: RuntimeWarning: divide by zero encountered in log1p\n",
      "/Users/vru959/anaconda2/envs/py3k/lib/python3.6/site-packages/ipykernel_launcher.py:19: RuntimeWarning: divide by zero encountered in log1p\n",
      "/Users/vru959/anaconda2/envs/py3k/lib/python3.6/site-packages/ipykernel_launcher.py:19: RuntimeWarning: invalid value encountered in multiply\n",
      "/Users/vru959/anaconda2/envs/py3k/lib/python3.6/site-packages/ipykernel_launcher.py:19: RuntimeWarning: divide by zero encountered in log\n",
      "/Users/vru959/anaconda2/envs/py3k/lib/python3.6/site-packages/ipykernel_launcher.py:19: RuntimeWarning: divide by zero encountered in log\n",
      "/Users/vru959/anaconda2/envs/py3k/lib/python3.6/site-packages/ipykernel_launcher.py:19: RuntimeWarning: invalid value encountered in multiply\n",
      "/Users/vru959/anaconda2/envs/py3k/lib/python3.6/site-packages/ipykernel_launcher.py:19: RuntimeWarning: divide by zero encountered in log1p\n",
      "/Users/vru959/anaconda2/envs/py3k/lib/python3.6/site-packages/ipykernel_launcher.py:19: RuntimeWarning: divide by zero encountered in log1p\n",
      "/Users/vru959/anaconda2/envs/py3k/lib/python3.6/site-packages/ipykernel_launcher.py:19: RuntimeWarning: invalid value encountered in multiply\n",
      "/Users/vru959/anaconda2/envs/py3k/lib/python3.6/site-packages/ipykernel_launcher.py:19: RuntimeWarning: divide by zero encountered in log\n",
      "/Users/vru959/anaconda2/envs/py3k/lib/python3.6/site-packages/ipykernel_launcher.py:19: RuntimeWarning: divide by zero encountered in log\n",
      "/Users/vru959/anaconda2/envs/py3k/lib/python3.6/site-packages/ipykernel_launcher.py:19: RuntimeWarning: invalid value encountered in multiply\n",
      "/Users/vru959/anaconda2/envs/py3k/lib/python3.6/site-packages/ipykernel_launcher.py:19: RuntimeWarning: divide by zero encountered in log1p\n",
      "/Users/vru959/anaconda2/envs/py3k/lib/python3.6/site-packages/ipykernel_launcher.py:19: RuntimeWarning: divide by zero encountered in log1p\n",
      "/Users/vru959/anaconda2/envs/py3k/lib/python3.6/site-packages/ipykernel_launcher.py:19: RuntimeWarning: invalid value encountered in multiply\n",
      "/Users/vru959/anaconda2/envs/py3k/lib/python3.6/site-packages/ipykernel_launcher.py:19: RuntimeWarning: divide by zero encountered in log\n",
      "/Users/vru959/anaconda2/envs/py3k/lib/python3.6/site-packages/ipykernel_launcher.py:19: RuntimeWarning: divide by zero encountered in log\n",
      "/Users/vru959/anaconda2/envs/py3k/lib/python3.6/site-packages/ipykernel_launcher.py:19: RuntimeWarning: invalid value encountered in multiply\n",
      "/Users/vru959/anaconda2/envs/py3k/lib/python3.6/site-packages/ipykernel_launcher.py:19: RuntimeWarning: divide by zero encountered in log1p\n",
      "/Users/vru959/anaconda2/envs/py3k/lib/python3.6/site-packages/ipykernel_launcher.py:19: RuntimeWarning: divide by zero encountered in log1p\n",
      "/Users/vru959/anaconda2/envs/py3k/lib/python3.6/site-packages/ipykernel_launcher.py:19: RuntimeWarning: invalid value encountered in multiply\n",
      "/Users/vru959/anaconda2/envs/py3k/lib/python3.6/site-packages/ipykernel_launcher.py:19: RuntimeWarning: divide by zero encountered in log\n",
      "/Users/vru959/anaconda2/envs/py3k/lib/python3.6/site-packages/ipykernel_launcher.py:19: RuntimeWarning: divide by zero encountered in log\n",
      "/Users/vru959/anaconda2/envs/py3k/lib/python3.6/site-packages/ipykernel_launcher.py:19: RuntimeWarning: invalid value encountered in multiply\n",
      "/Users/vru959/anaconda2/envs/py3k/lib/python3.6/site-packages/ipykernel_launcher.py:19: RuntimeWarning: divide by zero encountered in log1p\n"
     ]
    },
    {
     "name": "stdout",
     "output_type": "stream",
     "text": [
      "[2019-02-24 18:21:15,384][INFO]: Experiment_11 at t=1000\n",
      "[2019-02-24 18:21:15,466][INFO]: Experiment_11 complete.\n",
      "[2019-02-24 18:21:15,470][INFO]: Experiment_18 beginning...\n",
      "[2019-02-24 18:21:15,686][INFO]: Experiment_13 at t=1000\n",
      "[2019-02-24 18:21:15,769][INFO]: Experiment_13 complete.\n",
      "[2019-02-24 18:21:15,774][INFO]: Experiment_19 beginning...\n"
     ]
    },
    {
     "name": "stderr",
     "output_type": "stream",
     "text": [
      "/Users/vru959/anaconda2/envs/py3k/lib/python3.6/site-packages/ipykernel_launcher.py:19: RuntimeWarning: divide by zero encountered in log1p\n",
      "/Users/vru959/anaconda2/envs/py3k/lib/python3.6/site-packages/ipykernel_launcher.py:19: RuntimeWarning: invalid value encountered in multiply\n",
      "/Users/vru959/anaconda2/envs/py3k/lib/python3.6/site-packages/ipykernel_launcher.py:19: RuntimeWarning: divide by zero encountered in log\n",
      "/Users/vru959/anaconda2/envs/py3k/lib/python3.6/site-packages/ipykernel_launcher.py:19: RuntimeWarning: divide by zero encountered in log\n",
      "/Users/vru959/anaconda2/envs/py3k/lib/python3.6/site-packages/ipykernel_launcher.py:19: RuntimeWarning: invalid value encountered in multiply\n",
      "/Users/vru959/anaconda2/envs/py3k/lib/python3.6/site-packages/ipykernel_launcher.py:19: RuntimeWarning: divide by zero encountered in log1p\n",
      "/Users/vru959/anaconda2/envs/py3k/lib/python3.6/site-packages/ipykernel_launcher.py:19: RuntimeWarning: divide by zero encountered in log1p\n",
      "/Users/vru959/anaconda2/envs/py3k/lib/python3.6/site-packages/ipykernel_launcher.py:19: RuntimeWarning: invalid value encountered in multiply\n",
      "/Users/vru959/anaconda2/envs/py3k/lib/python3.6/site-packages/ipykernel_launcher.py:19: RuntimeWarning: divide by zero encountered in log\n",
      "/Users/vru959/anaconda2/envs/py3k/lib/python3.6/site-packages/ipykernel_launcher.py:19: RuntimeWarning: divide by zero encountered in log\n",
      "/Users/vru959/anaconda2/envs/py3k/lib/python3.6/site-packages/ipykernel_launcher.py:19: RuntimeWarning: invalid value encountered in multiply\n",
      "/Users/vru959/anaconda2/envs/py3k/lib/python3.6/site-packages/ipykernel_launcher.py:19: RuntimeWarning: divide by zero encountered in log1p\n",
      "/Users/vru959/anaconda2/envs/py3k/lib/python3.6/site-packages/ipykernel_launcher.py:19: RuntimeWarning: divide by zero encountered in log1p\n",
      "/Users/vru959/anaconda2/envs/py3k/lib/python3.6/site-packages/ipykernel_launcher.py:19: RuntimeWarning: invalid value encountered in multiply\n",
      "/Users/vru959/anaconda2/envs/py3k/lib/python3.6/site-packages/ipykernel_launcher.py:19: RuntimeWarning: divide by zero encountered in log\n",
      "/Users/vru959/anaconda2/envs/py3k/lib/python3.6/site-packages/ipykernel_launcher.py:19: RuntimeWarning: divide by zero encountered in log\n",
      "/Users/vru959/anaconda2/envs/py3k/lib/python3.6/site-packages/ipykernel_launcher.py:19: RuntimeWarning: invalid value encountered in multiply\n",
      "/Users/vru959/anaconda2/envs/py3k/lib/python3.6/site-packages/ipykernel_launcher.py:19: RuntimeWarning: divide by zero encountered in log1p\n",
      "/Users/vru959/anaconda2/envs/py3k/lib/python3.6/site-packages/ipykernel_launcher.py:19: RuntimeWarning: divide by zero encountered in log1p\n",
      "/Users/vru959/anaconda2/envs/py3k/lib/python3.6/site-packages/ipykernel_launcher.py:19: RuntimeWarning: invalid value encountered in multiply\n",
      "/Users/vru959/anaconda2/envs/py3k/lib/python3.6/site-packages/ipykernel_launcher.py:19: RuntimeWarning: divide by zero encountered in log\n",
      "/Users/vru959/anaconda2/envs/py3k/lib/python3.6/site-packages/ipykernel_launcher.py:19: RuntimeWarning: divide by zero encountered in log\n",
      "/Users/vru959/anaconda2/envs/py3k/lib/python3.6/site-packages/ipykernel_launcher.py:19: RuntimeWarning: invalid value encountered in multiply\n",
      "/Users/vru959/anaconda2/envs/py3k/lib/python3.6/site-packages/ipykernel_launcher.py:19: RuntimeWarning: divide by zero encountered in log1p\n",
      "/Users/vru959/anaconda2/envs/py3k/lib/python3.6/site-packages/ipykernel_launcher.py:19: RuntimeWarning: divide by zero encountered in log1p\n",
      "/Users/vru959/anaconda2/envs/py3k/lib/python3.6/site-packages/ipykernel_launcher.py:19: RuntimeWarning: invalid value encountered in multiply\n",
      "/Users/vru959/anaconda2/envs/py3k/lib/python3.6/site-packages/ipykernel_launcher.py:19: RuntimeWarning: divide by zero encountered in log\n",
      "/Users/vru959/anaconda2/envs/py3k/lib/python3.6/site-packages/ipykernel_launcher.py:19: RuntimeWarning: divide by zero encountered in log\n",
      "/Users/vru959/anaconda2/envs/py3k/lib/python3.6/site-packages/ipykernel_launcher.py:19: RuntimeWarning: invalid value encountered in multiply\n",
      "/Users/vru959/anaconda2/envs/py3k/lib/python3.6/site-packages/ipykernel_launcher.py:19: RuntimeWarning: divide by zero encountered in log1p\n",
      "/Users/vru959/anaconda2/envs/py3k/lib/python3.6/site-packages/ipykernel_launcher.py:19: RuntimeWarning: divide by zero encountered in log1p\n",
      "/Users/vru959/anaconda2/envs/py3k/lib/python3.6/site-packages/ipykernel_launcher.py:19: RuntimeWarning: invalid value encountered in multiply\n",
      "/Users/vru959/anaconda2/envs/py3k/lib/python3.6/site-packages/ipykernel_launcher.py:19: RuntimeWarning: divide by zero encountered in log\n",
      "/Users/vru959/anaconda2/envs/py3k/lib/python3.6/site-packages/ipykernel_launcher.py:19: RuntimeWarning: divide by zero encountered in log\n",
      "/Users/vru959/anaconda2/envs/py3k/lib/python3.6/site-packages/ipykernel_launcher.py:19: RuntimeWarning: invalid value encountered in multiply\n",
      "/Users/vru959/anaconda2/envs/py3k/lib/python3.6/site-packages/ipykernel_launcher.py:19: RuntimeWarning: divide by zero encountered in log1p\n",
      "/Users/vru959/anaconda2/envs/py3k/lib/python3.6/site-packages/ipykernel_launcher.py:19: RuntimeWarning: divide by zero encountered in log1p\n",
      "/Users/vru959/anaconda2/envs/py3k/lib/python3.6/site-packages/ipykernel_launcher.py:19: RuntimeWarning: invalid value encountered in multiply\n",
      "/Users/vru959/anaconda2/envs/py3k/lib/python3.6/site-packages/ipykernel_launcher.py:19: RuntimeWarning: divide by zero encountered in log\n",
      "/Users/vru959/anaconda2/envs/py3k/lib/python3.6/site-packages/ipykernel_launcher.py:19: RuntimeWarning: divide by zero encountered in log\n",
      "/Users/vru959/anaconda2/envs/py3k/lib/python3.6/site-packages/ipykernel_launcher.py:19: RuntimeWarning: invalid value encountered in multiply\n",
      "/Users/vru959/anaconda2/envs/py3k/lib/python3.6/site-packages/ipykernel_launcher.py:19: RuntimeWarning: divide by zero encountered in log1p\n"
     ]
    },
    {
     "name": "stdout",
     "output_type": "stream",
     "text": [
      "[2019-02-24 18:21:17,610][INFO]: Experiment_12 at t=1000\n",
      "[2019-02-24 18:21:17,694][INFO]: Experiment_12 complete.\n",
      "[2019-02-24 18:21:17,698][INFO]: Experiment_20 beginning...\n"
     ]
    },
    {
     "name": "stderr",
     "output_type": "stream",
     "text": [
      "/Users/vru959/anaconda2/envs/py3k/lib/python3.6/site-packages/ipykernel_launcher.py:19: RuntimeWarning: divide by zero encountered in log1p\n",
      "/Users/vru959/anaconda2/envs/py3k/lib/python3.6/site-packages/ipykernel_launcher.py:19: RuntimeWarning: invalid value encountered in multiply\n",
      "/Users/vru959/anaconda2/envs/py3k/lib/python3.6/site-packages/ipykernel_launcher.py:19: RuntimeWarning: divide by zero encountered in log\n",
      "/Users/vru959/anaconda2/envs/py3k/lib/python3.6/site-packages/ipykernel_launcher.py:19: RuntimeWarning: divide by zero encountered in log\n",
      "/Users/vru959/anaconda2/envs/py3k/lib/python3.6/site-packages/ipykernel_launcher.py:19: RuntimeWarning: invalid value encountered in multiply\n",
      "/Users/vru959/anaconda2/envs/py3k/lib/python3.6/site-packages/ipykernel_launcher.py:19: RuntimeWarning: divide by zero encountered in log1p\n",
      "/Users/vru959/anaconda2/envs/py3k/lib/python3.6/site-packages/ipykernel_launcher.py:19: RuntimeWarning: divide by zero encountered in log1p\n",
      "/Users/vru959/anaconda2/envs/py3k/lib/python3.6/site-packages/ipykernel_launcher.py:19: RuntimeWarning: invalid value encountered in multiply\n",
      "/Users/vru959/anaconda2/envs/py3k/lib/python3.6/site-packages/ipykernel_launcher.py:19: RuntimeWarning: divide by zero encountered in log\n",
      "/Users/vru959/anaconda2/envs/py3k/lib/python3.6/site-packages/ipykernel_launcher.py:19: RuntimeWarning: divide by zero encountered in log\n",
      "/Users/vru959/anaconda2/envs/py3k/lib/python3.6/site-packages/ipykernel_launcher.py:19: RuntimeWarning: invalid value encountered in multiply\n",
      "/Users/vru959/anaconda2/envs/py3k/lib/python3.6/site-packages/ipykernel_launcher.py:19: RuntimeWarning: divide by zero encountered in log1p\n",
      "/Users/vru959/anaconda2/envs/py3k/lib/python3.6/site-packages/ipykernel_launcher.py:19: RuntimeWarning: divide by zero encountered in log1p\n",
      "/Users/vru959/anaconda2/envs/py3k/lib/python3.6/site-packages/ipykernel_launcher.py:19: RuntimeWarning: invalid value encountered in multiply\n",
      "/Users/vru959/anaconda2/envs/py3k/lib/python3.6/site-packages/ipykernel_launcher.py:19: RuntimeWarning: divide by zero encountered in log\n",
      "/Users/vru959/anaconda2/envs/py3k/lib/python3.6/site-packages/ipykernel_launcher.py:19: RuntimeWarning: divide by zero encountered in log\n",
      "/Users/vru959/anaconda2/envs/py3k/lib/python3.6/site-packages/ipykernel_launcher.py:19: RuntimeWarning: invalid value encountered in multiply\n",
      "/Users/vru959/anaconda2/envs/py3k/lib/python3.6/site-packages/ipykernel_launcher.py:19: RuntimeWarning: divide by zero encountered in log1p\n",
      "/Users/vru959/anaconda2/envs/py3k/lib/python3.6/site-packages/ipykernel_launcher.py:19: RuntimeWarning: divide by zero encountered in log1p\n",
      "/Users/vru959/anaconda2/envs/py3k/lib/python3.6/site-packages/ipykernel_launcher.py:19: RuntimeWarning: invalid value encountered in multiply\n",
      "/Users/vru959/anaconda2/envs/py3k/lib/python3.6/site-packages/ipykernel_launcher.py:19: RuntimeWarning: divide by zero encountered in log\n",
      "/Users/vru959/anaconda2/envs/py3k/lib/python3.6/site-packages/ipykernel_launcher.py:19: RuntimeWarning: divide by zero encountered in log\n",
      "/Users/vru959/anaconda2/envs/py3k/lib/python3.6/site-packages/ipykernel_launcher.py:19: RuntimeWarning: invalid value encountered in multiply\n",
      "/Users/vru959/anaconda2/envs/py3k/lib/python3.6/site-packages/ipykernel_launcher.py:19: RuntimeWarning: divide by zero encountered in log1p\n",
      "/Users/vru959/anaconda2/envs/py3k/lib/python3.6/site-packages/ipykernel_launcher.py:19: RuntimeWarning: divide by zero encountered in log1p\n",
      "/Users/vru959/anaconda2/envs/py3k/lib/python3.6/site-packages/ipykernel_launcher.py:19: RuntimeWarning: invalid value encountered in multiply\n",
      "/Users/vru959/anaconda2/envs/py3k/lib/python3.6/site-packages/ipykernel_launcher.py:19: RuntimeWarning: divide by zero encountered in log\n",
      "/Users/vru959/anaconda2/envs/py3k/lib/python3.6/site-packages/ipykernel_launcher.py:19: RuntimeWarning: divide by zero encountered in log\n",
      "/Users/vru959/anaconda2/envs/py3k/lib/python3.6/site-packages/ipykernel_launcher.py:19: RuntimeWarning: invalid value encountered in multiply\n",
      "/Users/vru959/anaconda2/envs/py3k/lib/python3.6/site-packages/ipykernel_launcher.py:19: RuntimeWarning: divide by zero encountered in log1p\n"
     ]
    },
    {
     "name": "stdout",
     "output_type": "stream",
     "text": [
      "[2019-02-24 18:21:19,774][INFO]: Experiment_14 at t=500\n"
     ]
    },
    {
     "name": "stderr",
     "output_type": "stream",
     "text": [
      "/Users/vru959/anaconda2/envs/py3k/lib/python3.6/site-packages/ipykernel_launcher.py:19: RuntimeWarning: divide by zero encountered in log1p\n",
      "/Users/vru959/anaconda2/envs/py3k/lib/python3.6/site-packages/ipykernel_launcher.py:19: RuntimeWarning: invalid value encountered in multiply\n",
      "/Users/vru959/anaconda2/envs/py3k/lib/python3.6/site-packages/ipykernel_launcher.py:19: RuntimeWarning: divide by zero encountered in log\n",
      "/Users/vru959/anaconda2/envs/py3k/lib/python3.6/site-packages/ipykernel_launcher.py:19: RuntimeWarning: divide by zero encountered in log\n",
      "/Users/vru959/anaconda2/envs/py3k/lib/python3.6/site-packages/ipykernel_launcher.py:19: RuntimeWarning: invalid value encountered in multiply\n",
      "/Users/vru959/anaconda2/envs/py3k/lib/python3.6/site-packages/ipykernel_launcher.py:19: RuntimeWarning: divide by zero encountered in log1p\n",
      "/Users/vru959/anaconda2/envs/py3k/lib/python3.6/site-packages/ipykernel_launcher.py:19: RuntimeWarning: divide by zero encountered in log1p\n",
      "/Users/vru959/anaconda2/envs/py3k/lib/python3.6/site-packages/ipykernel_launcher.py:19: RuntimeWarning: invalid value encountered in multiply\n",
      "/Users/vru959/anaconda2/envs/py3k/lib/python3.6/site-packages/ipykernel_launcher.py:19: RuntimeWarning: divide by zero encountered in log\n",
      "/Users/vru959/anaconda2/envs/py3k/lib/python3.6/site-packages/ipykernel_launcher.py:19: RuntimeWarning: divide by zero encountered in log\n",
      "/Users/vru959/anaconda2/envs/py3k/lib/python3.6/site-packages/ipykernel_launcher.py:19: RuntimeWarning: invalid value encountered in multiply\n",
      "/Users/vru959/anaconda2/envs/py3k/lib/python3.6/site-packages/ipykernel_launcher.py:19: RuntimeWarning: divide by zero encountered in log1p\n",
      "/Users/vru959/anaconda2/envs/py3k/lib/python3.6/site-packages/ipykernel_launcher.py:19: RuntimeWarning: divide by zero encountered in log1p\n",
      "/Users/vru959/anaconda2/envs/py3k/lib/python3.6/site-packages/ipykernel_launcher.py:19: RuntimeWarning: invalid value encountered in multiply\n",
      "/Users/vru959/anaconda2/envs/py3k/lib/python3.6/site-packages/ipykernel_launcher.py:19: RuntimeWarning: divide by zero encountered in log\n",
      "/Users/vru959/anaconda2/envs/py3k/lib/python3.6/site-packages/ipykernel_launcher.py:19: RuntimeWarning: divide by zero encountered in log\n",
      "/Users/vru959/anaconda2/envs/py3k/lib/python3.6/site-packages/ipykernel_launcher.py:19: RuntimeWarning: invalid value encountered in multiply\n",
      "/Users/vru959/anaconda2/envs/py3k/lib/python3.6/site-packages/ipykernel_launcher.py:19: RuntimeWarning: divide by zero encountered in log1p\n"
     ]
    },
    {
     "name": "stdout",
     "output_type": "stream",
     "text": [
      "[2019-02-24 18:21:21,217][INFO]: Experiment_16 at t=500\n"
     ]
    },
    {
     "name": "stderr",
     "output_type": "stream",
     "text": [
      "/Users/vru959/anaconda2/envs/py3k/lib/python3.6/site-packages/ipykernel_launcher.py:19: RuntimeWarning: divide by zero encountered in log1p\n",
      "/Users/vru959/anaconda2/envs/py3k/lib/python3.6/site-packages/ipykernel_launcher.py:19: RuntimeWarning: invalid value encountered in multiply\n",
      "/Users/vru959/anaconda2/envs/py3k/lib/python3.6/site-packages/ipykernel_launcher.py:19: RuntimeWarning: divide by zero encountered in log\n",
      "/Users/vru959/anaconda2/envs/py3k/lib/python3.6/site-packages/ipykernel_launcher.py:19: RuntimeWarning: divide by zero encountered in log\n",
      "/Users/vru959/anaconda2/envs/py3k/lib/python3.6/site-packages/ipykernel_launcher.py:19: RuntimeWarning: invalid value encountered in multiply\n",
      "/Users/vru959/anaconda2/envs/py3k/lib/python3.6/site-packages/ipykernel_launcher.py:19: RuntimeWarning: divide by zero encountered in log1p\n",
      "/Users/vru959/anaconda2/envs/py3k/lib/python3.6/site-packages/ipykernel_launcher.py:19: RuntimeWarning: divide by zero encountered in log1p\n",
      "/Users/vru959/anaconda2/envs/py3k/lib/python3.6/site-packages/ipykernel_launcher.py:19: RuntimeWarning: invalid value encountered in multiply\n",
      "/Users/vru959/anaconda2/envs/py3k/lib/python3.6/site-packages/ipykernel_launcher.py:19: RuntimeWarning: divide by zero encountered in log\n",
      "/Users/vru959/anaconda2/envs/py3k/lib/python3.6/site-packages/ipykernel_launcher.py:19: RuntimeWarning: divide by zero encountered in log\n",
      "/Users/vru959/anaconda2/envs/py3k/lib/python3.6/site-packages/ipykernel_launcher.py:19: RuntimeWarning: invalid value encountered in multiply\n",
      "/Users/vru959/anaconda2/envs/py3k/lib/python3.6/site-packages/ipykernel_launcher.py:19: RuntimeWarning: divide by zero encountered in log1p\n",
      "/Users/vru959/anaconda2/envs/py3k/lib/python3.6/site-packages/ipykernel_launcher.py:19: RuntimeWarning: divide by zero encountered in log1p\n",
      "/Users/vru959/anaconda2/envs/py3k/lib/python3.6/site-packages/ipykernel_launcher.py:19: RuntimeWarning: invalid value encountered in multiply\n",
      "/Users/vru959/anaconda2/envs/py3k/lib/python3.6/site-packages/ipykernel_launcher.py:19: RuntimeWarning: divide by zero encountered in log\n",
      "/Users/vru959/anaconda2/envs/py3k/lib/python3.6/site-packages/ipykernel_launcher.py:19: RuntimeWarning: divide by zero encountered in log\n",
      "/Users/vru959/anaconda2/envs/py3k/lib/python3.6/site-packages/ipykernel_launcher.py:19: RuntimeWarning: invalid value encountered in multiply\n",
      "/Users/vru959/anaconda2/envs/py3k/lib/python3.6/site-packages/ipykernel_launcher.py:19: RuntimeWarning: divide by zero encountered in log1p\n",
      "/Users/vru959/anaconda2/envs/py3k/lib/python3.6/site-packages/ipykernel_launcher.py:19: RuntimeWarning: divide by zero encountered in log1p\n",
      "/Users/vru959/anaconda2/envs/py3k/lib/python3.6/site-packages/ipykernel_launcher.py:19: RuntimeWarning: invalid value encountered in multiply\n",
      "/Users/vru959/anaconda2/envs/py3k/lib/python3.6/site-packages/ipykernel_launcher.py:19: RuntimeWarning: divide by zero encountered in log\n",
      "/Users/vru959/anaconda2/envs/py3k/lib/python3.6/site-packages/ipykernel_launcher.py:19: RuntimeWarning: divide by zero encountered in log\n",
      "/Users/vru959/anaconda2/envs/py3k/lib/python3.6/site-packages/ipykernel_launcher.py:19: RuntimeWarning: invalid value encountered in multiply\n",
      "/Users/vru959/anaconda2/envs/py3k/lib/python3.6/site-packages/ipykernel_launcher.py:19: RuntimeWarning: divide by zero encountered in log1p\n",
      "/Users/vru959/anaconda2/envs/py3k/lib/python3.6/site-packages/ipykernel_launcher.py:19: RuntimeWarning: divide by zero encountered in log1p\n",
      "/Users/vru959/anaconda2/envs/py3k/lib/python3.6/site-packages/ipykernel_launcher.py:19: RuntimeWarning: invalid value encountered in multiply\n",
      "/Users/vru959/anaconda2/envs/py3k/lib/python3.6/site-packages/ipykernel_launcher.py:19: RuntimeWarning: divide by zero encountered in log\n",
      "/Users/vru959/anaconda2/envs/py3k/lib/python3.6/site-packages/ipykernel_launcher.py:19: RuntimeWarning: divide by zero encountered in log\n",
      "/Users/vru959/anaconda2/envs/py3k/lib/python3.6/site-packages/ipykernel_launcher.py:19: RuntimeWarning: invalid value encountered in multiply\n",
      "/Users/vru959/anaconda2/envs/py3k/lib/python3.6/site-packages/ipykernel_launcher.py:19: RuntimeWarning: divide by zero encountered in log1p\n"
     ]
    },
    {
     "name": "stdout",
     "output_type": "stream",
     "text": [
      "[2019-02-24 18:21:23,571][INFO]: Experiment_17 at t=500\n"
     ]
    },
    {
     "name": "stderr",
     "output_type": "stream",
     "text": [
      "/Users/vru959/anaconda2/envs/py3k/lib/python3.6/site-packages/ipykernel_launcher.py:19: RuntimeWarning: divide by zero encountered in log1p\n",
      "/Users/vru959/anaconda2/envs/py3k/lib/python3.6/site-packages/ipykernel_launcher.py:19: RuntimeWarning: invalid value encountered in multiply\n",
      "/Users/vru959/anaconda2/envs/py3k/lib/python3.6/site-packages/ipykernel_launcher.py:19: RuntimeWarning: divide by zero encountered in log\n",
      "/Users/vru959/anaconda2/envs/py3k/lib/python3.6/site-packages/ipykernel_launcher.py:19: RuntimeWarning: divide by zero encountered in log\n",
      "/Users/vru959/anaconda2/envs/py3k/lib/python3.6/site-packages/ipykernel_launcher.py:19: RuntimeWarning: invalid value encountered in multiply\n",
      "/Users/vru959/anaconda2/envs/py3k/lib/python3.6/site-packages/ipykernel_launcher.py:19: RuntimeWarning: divide by zero encountered in log1p\n"
     ]
    },
    {
     "name": "stdout",
     "output_type": "stream",
     "text": [
      "[2019-02-24 18:21:24,035][INFO]: Experiment_15 at t=500\n"
     ]
    },
    {
     "name": "stderr",
     "output_type": "stream",
     "text": [
      "/Users/vru959/anaconda2/envs/py3k/lib/python3.6/site-packages/ipykernel_launcher.py:19: RuntimeWarning: divide by zero encountered in log1p\n",
      "/Users/vru959/anaconda2/envs/py3k/lib/python3.6/site-packages/ipykernel_launcher.py:19: RuntimeWarning: invalid value encountered in multiply\n",
      "/Users/vru959/anaconda2/envs/py3k/lib/python3.6/site-packages/ipykernel_launcher.py:19: RuntimeWarning: divide by zero encountered in log\n",
      "/Users/vru959/anaconda2/envs/py3k/lib/python3.6/site-packages/ipykernel_launcher.py:19: RuntimeWarning: divide by zero encountered in log\n",
      "/Users/vru959/anaconda2/envs/py3k/lib/python3.6/site-packages/ipykernel_launcher.py:19: RuntimeWarning: invalid value encountered in multiply\n",
      "/Users/vru959/anaconda2/envs/py3k/lib/python3.6/site-packages/ipykernel_launcher.py:19: RuntimeWarning: divide by zero encountered in log1p\n",
      "/Users/vru959/anaconda2/envs/py3k/lib/python3.6/site-packages/ipykernel_launcher.py:19: RuntimeWarning: divide by zero encountered in log1p\n",
      "/Users/vru959/anaconda2/envs/py3k/lib/python3.6/site-packages/ipykernel_launcher.py:19: RuntimeWarning: invalid value encountered in multiply\n",
      "/Users/vru959/anaconda2/envs/py3k/lib/python3.6/site-packages/ipykernel_launcher.py:19: RuntimeWarning: divide by zero encountered in log\n",
      "/Users/vru959/anaconda2/envs/py3k/lib/python3.6/site-packages/ipykernel_launcher.py:19: RuntimeWarning: divide by zero encountered in log\n",
      "/Users/vru959/anaconda2/envs/py3k/lib/python3.6/site-packages/ipykernel_launcher.py:19: RuntimeWarning: invalid value encountered in multiply\n",
      "/Users/vru959/anaconda2/envs/py3k/lib/python3.6/site-packages/ipykernel_launcher.py:19: RuntimeWarning: divide by zero encountered in log1p\n",
      "/Users/vru959/anaconda2/envs/py3k/lib/python3.6/site-packages/ipykernel_launcher.py:19: RuntimeWarning: divide by zero encountered in log1p\n",
      "/Users/vru959/anaconda2/envs/py3k/lib/python3.6/site-packages/ipykernel_launcher.py:19: RuntimeWarning: invalid value encountered in multiply\n",
      "/Users/vru959/anaconda2/envs/py3k/lib/python3.6/site-packages/ipykernel_launcher.py:19: RuntimeWarning: divide by zero encountered in log\n",
      "/Users/vru959/anaconda2/envs/py3k/lib/python3.6/site-packages/ipykernel_launcher.py:19: RuntimeWarning: divide by zero encountered in log\n",
      "/Users/vru959/anaconda2/envs/py3k/lib/python3.6/site-packages/ipykernel_launcher.py:19: RuntimeWarning: invalid value encountered in multiply\n",
      "/Users/vru959/anaconda2/envs/py3k/lib/python3.6/site-packages/ipykernel_launcher.py:19: RuntimeWarning: divide by zero encountered in log1p\n",
      "/Users/vru959/anaconda2/envs/py3k/lib/python3.6/site-packages/ipykernel_launcher.py:19: RuntimeWarning: divide by zero encountered in log1p\n",
      "/Users/vru959/anaconda2/envs/py3k/lib/python3.6/site-packages/ipykernel_launcher.py:19: RuntimeWarning: invalid value encountered in multiply\n",
      "/Users/vru959/anaconda2/envs/py3k/lib/python3.6/site-packages/ipykernel_launcher.py:19: RuntimeWarning: divide by zero encountered in log\n",
      "/Users/vru959/anaconda2/envs/py3k/lib/python3.6/site-packages/ipykernel_launcher.py:19: RuntimeWarning: divide by zero encountered in log\n",
      "/Users/vru959/anaconda2/envs/py3k/lib/python3.6/site-packages/ipykernel_launcher.py:19: RuntimeWarning: invalid value encountered in multiply\n",
      "/Users/vru959/anaconda2/envs/py3k/lib/python3.6/site-packages/ipykernel_launcher.py:19: RuntimeWarning: divide by zero encountered in log1p\n",
      "/Users/vru959/anaconda2/envs/py3k/lib/python3.6/site-packages/ipykernel_launcher.py:19: RuntimeWarning: divide by zero encountered in log1p\n",
      "/Users/vru959/anaconda2/envs/py3k/lib/python3.6/site-packages/ipykernel_launcher.py:19: RuntimeWarning: invalid value encountered in multiply\n",
      "/Users/vru959/anaconda2/envs/py3k/lib/python3.6/site-packages/ipykernel_launcher.py:19: RuntimeWarning: divide by zero encountered in log\n",
      "/Users/vru959/anaconda2/envs/py3k/lib/python3.6/site-packages/ipykernel_launcher.py:19: RuntimeWarning: divide by zero encountered in log\n",
      "/Users/vru959/anaconda2/envs/py3k/lib/python3.6/site-packages/ipykernel_launcher.py:19: RuntimeWarning: invalid value encountered in multiply\n",
      "/Users/vru959/anaconda2/envs/py3k/lib/python3.6/site-packages/ipykernel_launcher.py:19: RuntimeWarning: divide by zero encountered in log1p\n",
      "/Users/vru959/anaconda2/envs/py3k/lib/python3.6/site-packages/ipykernel_launcher.py:19: RuntimeWarning: divide by zero encountered in log1p\n",
      "/Users/vru959/anaconda2/envs/py3k/lib/python3.6/site-packages/ipykernel_launcher.py:19: RuntimeWarning: invalid value encountered in multiply\n",
      "/Users/vru959/anaconda2/envs/py3k/lib/python3.6/site-packages/ipykernel_launcher.py:19: RuntimeWarning: divide by zero encountered in log\n",
      "/Users/vru959/anaconda2/envs/py3k/lib/python3.6/site-packages/ipykernel_launcher.py:19: RuntimeWarning: divide by zero encountered in log\n",
      "/Users/vru959/anaconda2/envs/py3k/lib/python3.6/site-packages/ipykernel_launcher.py:19: RuntimeWarning: invalid value encountered in multiply\n",
      "/Users/vru959/anaconda2/envs/py3k/lib/python3.6/site-packages/ipykernel_launcher.py:19: RuntimeWarning: divide by zero encountered in log1p\n",
      "/Users/vru959/anaconda2/envs/py3k/lib/python3.6/site-packages/ipykernel_launcher.py:19: RuntimeWarning: divide by zero encountered in log1p\n",
      "/Users/vru959/anaconda2/envs/py3k/lib/python3.6/site-packages/ipykernel_launcher.py:19: RuntimeWarning: invalid value encountered in multiply\n",
      "/Users/vru959/anaconda2/envs/py3k/lib/python3.6/site-packages/ipykernel_launcher.py:19: RuntimeWarning: divide by zero encountered in log\n",
      "/Users/vru959/anaconda2/envs/py3k/lib/python3.6/site-packages/ipykernel_launcher.py:19: RuntimeWarning: divide by zero encountered in log\n",
      "/Users/vru959/anaconda2/envs/py3k/lib/python3.6/site-packages/ipykernel_launcher.py:19: RuntimeWarning: invalid value encountered in multiply\n",
      "/Users/vru959/anaconda2/envs/py3k/lib/python3.6/site-packages/ipykernel_launcher.py:19: RuntimeWarning: divide by zero encountered in log1p\n",
      "/Users/vru959/anaconda2/envs/py3k/lib/python3.6/site-packages/ipykernel_launcher.py:19: RuntimeWarning: divide by zero encountered in log1p\n",
      "/Users/vru959/anaconda2/envs/py3k/lib/python3.6/site-packages/ipykernel_launcher.py:19: RuntimeWarning: invalid value encountered in multiply\n",
      "/Users/vru959/anaconda2/envs/py3k/lib/python3.6/site-packages/ipykernel_launcher.py:19: RuntimeWarning: divide by zero encountered in log\n",
      "/Users/vru959/anaconda2/envs/py3k/lib/python3.6/site-packages/ipykernel_launcher.py:19: RuntimeWarning: divide by zero encountered in log\n",
      "/Users/vru959/anaconda2/envs/py3k/lib/python3.6/site-packages/ipykernel_launcher.py:19: RuntimeWarning: invalid value encountered in multiply\n",
      "/Users/vru959/anaconda2/envs/py3k/lib/python3.6/site-packages/ipykernel_launcher.py:19: RuntimeWarning: divide by zero encountered in log1p\n"
     ]
    },
    {
     "name": "stdout",
     "output_type": "stream",
     "text": [
      "[2019-02-24 18:21:27,620][INFO]: Experiment_18 at t=500\n",
      "[2019-02-24 18:21:27,879][INFO]: Experiment_19 at t=500\n"
     ]
    },
    {
     "name": "stderr",
     "output_type": "stream",
     "text": [
      "/Users/vru959/anaconda2/envs/py3k/lib/python3.6/site-packages/ipykernel_launcher.py:19: RuntimeWarning: divide by zero encountered in log1p\n",
      "/Users/vru959/anaconda2/envs/py3k/lib/python3.6/site-packages/ipykernel_launcher.py:19: RuntimeWarning: invalid value encountered in multiply\n",
      "/Users/vru959/anaconda2/envs/py3k/lib/python3.6/site-packages/ipykernel_launcher.py:19: RuntimeWarning: divide by zero encountered in log\n",
      "/Users/vru959/anaconda2/envs/py3k/lib/python3.6/site-packages/ipykernel_launcher.py:19: RuntimeWarning: divide by zero encountered in log\n",
      "/Users/vru959/anaconda2/envs/py3k/lib/python3.6/site-packages/ipykernel_launcher.py:19: RuntimeWarning: invalid value encountered in multiply\n",
      "/Users/vru959/anaconda2/envs/py3k/lib/python3.6/site-packages/ipykernel_launcher.py:19: RuntimeWarning: divide by zero encountered in log1p\n",
      "/Users/vru959/anaconda2/envs/py3k/lib/python3.6/site-packages/ipykernel_launcher.py:19: RuntimeWarning: divide by zero encountered in log1p\n",
      "/Users/vru959/anaconda2/envs/py3k/lib/python3.6/site-packages/ipykernel_launcher.py:19: RuntimeWarning: invalid value encountered in multiply\n",
      "/Users/vru959/anaconda2/envs/py3k/lib/python3.6/site-packages/ipykernel_launcher.py:19: RuntimeWarning: divide by zero encountered in log\n",
      "/Users/vru959/anaconda2/envs/py3k/lib/python3.6/site-packages/ipykernel_launcher.py:19: RuntimeWarning: divide by zero encountered in log\n",
      "/Users/vru959/anaconda2/envs/py3k/lib/python3.6/site-packages/ipykernel_launcher.py:19: RuntimeWarning: invalid value encountered in multiply\n",
      "/Users/vru959/anaconda2/envs/py3k/lib/python3.6/site-packages/ipykernel_launcher.py:19: RuntimeWarning: divide by zero encountered in log1p\n",
      "/Users/vru959/anaconda2/envs/py3k/lib/python3.6/site-packages/ipykernel_launcher.py:19: RuntimeWarning: divide by zero encountered in log1p\n",
      "/Users/vru959/anaconda2/envs/py3k/lib/python3.6/site-packages/ipykernel_launcher.py:19: RuntimeWarning: invalid value encountered in multiply\n",
      "/Users/vru959/anaconda2/envs/py3k/lib/python3.6/site-packages/ipykernel_launcher.py:19: RuntimeWarning: divide by zero encountered in log\n",
      "/Users/vru959/anaconda2/envs/py3k/lib/python3.6/site-packages/ipykernel_launcher.py:19: RuntimeWarning: divide by zero encountered in log\n",
      "/Users/vru959/anaconda2/envs/py3k/lib/python3.6/site-packages/ipykernel_launcher.py:19: RuntimeWarning: invalid value encountered in multiply\n",
      "/Users/vru959/anaconda2/envs/py3k/lib/python3.6/site-packages/ipykernel_launcher.py:19: RuntimeWarning: divide by zero encountered in log1p\n",
      "/Users/vru959/anaconda2/envs/py3k/lib/python3.6/site-packages/ipykernel_launcher.py:19: RuntimeWarning: divide by zero encountered in log1p\n",
      "/Users/vru959/anaconda2/envs/py3k/lib/python3.6/site-packages/ipykernel_launcher.py:19: RuntimeWarning: invalid value encountered in multiply\n",
      "/Users/vru959/anaconda2/envs/py3k/lib/python3.6/site-packages/ipykernel_launcher.py:19: RuntimeWarning: divide by zero encountered in log\n",
      "/Users/vru959/anaconda2/envs/py3k/lib/python3.6/site-packages/ipykernel_launcher.py:19: RuntimeWarning: divide by zero encountered in log\n",
      "/Users/vru959/anaconda2/envs/py3k/lib/python3.6/site-packages/ipykernel_launcher.py:19: RuntimeWarning: invalid value encountered in multiply\n",
      "/Users/vru959/anaconda2/envs/py3k/lib/python3.6/site-packages/ipykernel_launcher.py:19: RuntimeWarning: divide by zero encountered in log1p\n"
     ]
    },
    {
     "name": "stdout",
     "output_type": "stream",
     "text": [
      "[2019-02-24 18:21:30,110][INFO]: Experiment_20 at t=500\n"
     ]
    },
    {
     "name": "stderr",
     "output_type": "stream",
     "text": [
      "/Users/vru959/anaconda2/envs/py3k/lib/python3.6/site-packages/ipykernel_launcher.py:19: RuntimeWarning: divide by zero encountered in log1p\n",
      "/Users/vru959/anaconda2/envs/py3k/lib/python3.6/site-packages/ipykernel_launcher.py:19: RuntimeWarning: invalid value encountered in multiply\n",
      "/Users/vru959/anaconda2/envs/py3k/lib/python3.6/site-packages/ipykernel_launcher.py:19: RuntimeWarning: divide by zero encountered in log\n",
      "/Users/vru959/anaconda2/envs/py3k/lib/python3.6/site-packages/ipykernel_launcher.py:19: RuntimeWarning: divide by zero encountered in log\n",
      "/Users/vru959/anaconda2/envs/py3k/lib/python3.6/site-packages/ipykernel_launcher.py:19: RuntimeWarning: invalid value encountered in multiply\n",
      "/Users/vru959/anaconda2/envs/py3k/lib/python3.6/site-packages/ipykernel_launcher.py:19: RuntimeWarning: divide by zero encountered in log1p\n",
      "/Users/vru959/anaconda2/envs/py3k/lib/python3.6/site-packages/ipykernel_launcher.py:19: RuntimeWarning: divide by zero encountered in log1p\n",
      "/Users/vru959/anaconda2/envs/py3k/lib/python3.6/site-packages/ipykernel_launcher.py:19: RuntimeWarning: invalid value encountered in multiply\n",
      "/Users/vru959/anaconda2/envs/py3k/lib/python3.6/site-packages/ipykernel_launcher.py:19: RuntimeWarning: divide by zero encountered in log\n",
      "/Users/vru959/anaconda2/envs/py3k/lib/python3.6/site-packages/ipykernel_launcher.py:19: RuntimeWarning: divide by zero encountered in log\n",
      "/Users/vru959/anaconda2/envs/py3k/lib/python3.6/site-packages/ipykernel_launcher.py:19: RuntimeWarning: invalid value encountered in multiply\n",
      "/Users/vru959/anaconda2/envs/py3k/lib/python3.6/site-packages/ipykernel_launcher.py:19: RuntimeWarning: divide by zero encountered in log1p\n",
      "/Users/vru959/anaconda2/envs/py3k/lib/python3.6/site-packages/ipykernel_launcher.py:19: RuntimeWarning: divide by zero encountered in log1p\n",
      "/Users/vru959/anaconda2/envs/py3k/lib/python3.6/site-packages/ipykernel_launcher.py:19: RuntimeWarning: invalid value encountered in multiply\n",
      "/Users/vru959/anaconda2/envs/py3k/lib/python3.6/site-packages/ipykernel_launcher.py:19: RuntimeWarning: divide by zero encountered in log\n",
      "/Users/vru959/anaconda2/envs/py3k/lib/python3.6/site-packages/ipykernel_launcher.py:19: RuntimeWarning: divide by zero encountered in log\n",
      "/Users/vru959/anaconda2/envs/py3k/lib/python3.6/site-packages/ipykernel_launcher.py:19: RuntimeWarning: invalid value encountered in multiply\n",
      "/Users/vru959/anaconda2/envs/py3k/lib/python3.6/site-packages/ipykernel_launcher.py:19: RuntimeWarning: divide by zero encountered in log1p\n",
      "/Users/vru959/anaconda2/envs/py3k/lib/python3.6/site-packages/ipykernel_launcher.py:19: RuntimeWarning: divide by zero encountered in log1p\n",
      "/Users/vru959/anaconda2/envs/py3k/lib/python3.6/site-packages/ipykernel_launcher.py:19: RuntimeWarning: invalid value encountered in multiply\n",
      "/Users/vru959/anaconda2/envs/py3k/lib/python3.6/site-packages/ipykernel_launcher.py:19: RuntimeWarning: divide by zero encountered in log\n",
      "/Users/vru959/anaconda2/envs/py3k/lib/python3.6/site-packages/ipykernel_launcher.py:19: RuntimeWarning: divide by zero encountered in log\n",
      "/Users/vru959/anaconda2/envs/py3k/lib/python3.6/site-packages/ipykernel_launcher.py:19: RuntimeWarning: invalid value encountered in multiply\n",
      "/Users/vru959/anaconda2/envs/py3k/lib/python3.6/site-packages/ipykernel_launcher.py:19: RuntimeWarning: divide by zero encountered in log1p\n",
      "/Users/vru959/anaconda2/envs/py3k/lib/python3.6/site-packages/ipykernel_launcher.py:19: RuntimeWarning: divide by zero encountered in log1p\n",
      "/Users/vru959/anaconda2/envs/py3k/lib/python3.6/site-packages/ipykernel_launcher.py:19: RuntimeWarning: invalid value encountered in multiply\n",
      "/Users/vru959/anaconda2/envs/py3k/lib/python3.6/site-packages/ipykernel_launcher.py:19: RuntimeWarning: divide by zero encountered in log\n",
      "/Users/vru959/anaconda2/envs/py3k/lib/python3.6/site-packages/ipykernel_launcher.py:19: RuntimeWarning: divide by zero encountered in log\n",
      "/Users/vru959/anaconda2/envs/py3k/lib/python3.6/site-packages/ipykernel_launcher.py:19: RuntimeWarning: invalid value encountered in multiply\n",
      "/Users/vru959/anaconda2/envs/py3k/lib/python3.6/site-packages/ipykernel_launcher.py:19: RuntimeWarning: divide by zero encountered in log1p\n",
      "/Users/vru959/anaconda2/envs/py3k/lib/python3.6/site-packages/ipykernel_launcher.py:19: RuntimeWarning: divide by zero encountered in log1p\n",
      "/Users/vru959/anaconda2/envs/py3k/lib/python3.6/site-packages/ipykernel_launcher.py:19: RuntimeWarning: invalid value encountered in multiply\n",
      "/Users/vru959/anaconda2/envs/py3k/lib/python3.6/site-packages/ipykernel_launcher.py:19: RuntimeWarning: divide by zero encountered in log\n",
      "/Users/vru959/anaconda2/envs/py3k/lib/python3.6/site-packages/ipykernel_launcher.py:19: RuntimeWarning: divide by zero encountered in log\n",
      "/Users/vru959/anaconda2/envs/py3k/lib/python3.6/site-packages/ipykernel_launcher.py:19: RuntimeWarning: invalid value encountered in multiply\n",
      "/Users/vru959/anaconda2/envs/py3k/lib/python3.6/site-packages/ipykernel_launcher.py:19: RuntimeWarning: divide by zero encountered in log1p\n",
      "/Users/vru959/anaconda2/envs/py3k/lib/python3.6/site-packages/ipykernel_launcher.py:19: RuntimeWarning: divide by zero encountered in log1p\n",
      "/Users/vru959/anaconda2/envs/py3k/lib/python3.6/site-packages/ipykernel_launcher.py:19: RuntimeWarning: invalid value encountered in multiply\n",
      "/Users/vru959/anaconda2/envs/py3k/lib/python3.6/site-packages/ipykernel_launcher.py:19: RuntimeWarning: divide by zero encountered in log\n",
      "/Users/vru959/anaconda2/envs/py3k/lib/python3.6/site-packages/ipykernel_launcher.py:19: RuntimeWarning: divide by zero encountered in log\n",
      "/Users/vru959/anaconda2/envs/py3k/lib/python3.6/site-packages/ipykernel_launcher.py:19: RuntimeWarning: invalid value encountered in multiply\n",
      "/Users/vru959/anaconda2/envs/py3k/lib/python3.6/site-packages/ipykernel_launcher.py:19: RuntimeWarning: divide by zero encountered in log1p\n",
      "/Users/vru959/anaconda2/envs/py3k/lib/python3.6/site-packages/ipykernel_launcher.py:19: RuntimeWarning: divide by zero encountered in log1p\n",
      "/Users/vru959/anaconda2/envs/py3k/lib/python3.6/site-packages/ipykernel_launcher.py:19: RuntimeWarning: invalid value encountered in multiply\n",
      "/Users/vru959/anaconda2/envs/py3k/lib/python3.6/site-packages/ipykernel_launcher.py:19: RuntimeWarning: divide by zero encountered in log\n",
      "/Users/vru959/anaconda2/envs/py3k/lib/python3.6/site-packages/ipykernel_launcher.py:19: RuntimeWarning: divide by zero encountered in log\n",
      "/Users/vru959/anaconda2/envs/py3k/lib/python3.6/site-packages/ipykernel_launcher.py:19: RuntimeWarning: invalid value encountered in multiply\n",
      "/Users/vru959/anaconda2/envs/py3k/lib/python3.6/site-packages/ipykernel_launcher.py:19: RuntimeWarning: divide by zero encountered in log1p\n",
      "/Users/vru959/anaconda2/envs/py3k/lib/python3.6/site-packages/ipykernel_launcher.py:19: RuntimeWarning: divide by zero encountered in log1p\n",
      "/Users/vru959/anaconda2/envs/py3k/lib/python3.6/site-packages/ipykernel_launcher.py:19: RuntimeWarning: invalid value encountered in multiply\n",
      "/Users/vru959/anaconda2/envs/py3k/lib/python3.6/site-packages/ipykernel_launcher.py:19: RuntimeWarning: divide by zero encountered in log\n",
      "/Users/vru959/anaconda2/envs/py3k/lib/python3.6/site-packages/ipykernel_launcher.py:19: RuntimeWarning: divide by zero encountered in log\n",
      "/Users/vru959/anaconda2/envs/py3k/lib/python3.6/site-packages/ipykernel_launcher.py:19: RuntimeWarning: invalid value encountered in multiply\n",
      "/Users/vru959/anaconda2/envs/py3k/lib/python3.6/site-packages/ipykernel_launcher.py:19: RuntimeWarning: divide by zero encountered in log1p\n",
      "/Users/vru959/anaconda2/envs/py3k/lib/python3.6/site-packages/ipykernel_launcher.py:19: RuntimeWarning: divide by zero encountered in log1p\n",
      "/Users/vru959/anaconda2/envs/py3k/lib/python3.6/site-packages/ipykernel_launcher.py:19: RuntimeWarning: invalid value encountered in multiply\n",
      "/Users/vru959/anaconda2/envs/py3k/lib/python3.6/site-packages/ipykernel_launcher.py:19: RuntimeWarning: divide by zero encountered in log\n",
      "/Users/vru959/anaconda2/envs/py3k/lib/python3.6/site-packages/ipykernel_launcher.py:19: RuntimeWarning: divide by zero encountered in log\n",
      "/Users/vru959/anaconda2/envs/py3k/lib/python3.6/site-packages/ipykernel_launcher.py:19: RuntimeWarning: invalid value encountered in multiply\n",
      "/Users/vru959/anaconda2/envs/py3k/lib/python3.6/site-packages/ipykernel_launcher.py:19: RuntimeWarning: divide by zero encountered in log1p\n",
      "/Users/vru959/anaconda2/envs/py3k/lib/python3.6/site-packages/ipykernel_launcher.py:19: RuntimeWarning: divide by zero encountered in log1p\n",
      "/Users/vru959/anaconda2/envs/py3k/lib/python3.6/site-packages/ipykernel_launcher.py:19: RuntimeWarning: invalid value encountered in multiply\n",
      "/Users/vru959/anaconda2/envs/py3k/lib/python3.6/site-packages/ipykernel_launcher.py:19: RuntimeWarning: divide by zero encountered in log\n",
      "/Users/vru959/anaconda2/envs/py3k/lib/python3.6/site-packages/ipykernel_launcher.py:19: RuntimeWarning: divide by zero encountered in log\n",
      "/Users/vru959/anaconda2/envs/py3k/lib/python3.6/site-packages/ipykernel_launcher.py:19: RuntimeWarning: invalid value encountered in multiply\n",
      "/Users/vru959/anaconda2/envs/py3k/lib/python3.6/site-packages/ipykernel_launcher.py:19: RuntimeWarning: divide by zero encountered in log1p\n",
      "/Users/vru959/anaconda2/envs/py3k/lib/python3.6/site-packages/ipykernel_launcher.py:19: RuntimeWarning: divide by zero encountered in log1p\n",
      "/Users/vru959/anaconda2/envs/py3k/lib/python3.6/site-packages/ipykernel_launcher.py:19: RuntimeWarning: invalid value encountered in multiply\n",
      "/Users/vru959/anaconda2/envs/py3k/lib/python3.6/site-packages/ipykernel_launcher.py:19: RuntimeWarning: divide by zero encountered in log\n",
      "/Users/vru959/anaconda2/envs/py3k/lib/python3.6/site-packages/ipykernel_launcher.py:19: RuntimeWarning: divide by zero encountered in log\n",
      "/Users/vru959/anaconda2/envs/py3k/lib/python3.6/site-packages/ipykernel_launcher.py:19: RuntimeWarning: invalid value encountered in multiply\n",
      "/Users/vru959/anaconda2/envs/py3k/lib/python3.6/site-packages/ipykernel_launcher.py:19: RuntimeWarning: divide by zero encountered in log1p\n",
      "/Users/vru959/anaconda2/envs/py3k/lib/python3.6/site-packages/ipykernel_launcher.py:19: RuntimeWarning: divide by zero encountered in log1p\n",
      "/Users/vru959/anaconda2/envs/py3k/lib/python3.6/site-packages/ipykernel_launcher.py:19: RuntimeWarning: invalid value encountered in multiply\n",
      "/Users/vru959/anaconda2/envs/py3k/lib/python3.6/site-packages/ipykernel_launcher.py:19: RuntimeWarning: divide by zero encountered in log\n",
      "/Users/vru959/anaconda2/envs/py3k/lib/python3.6/site-packages/ipykernel_launcher.py:19: RuntimeWarning: divide by zero encountered in log\n",
      "/Users/vru959/anaconda2/envs/py3k/lib/python3.6/site-packages/ipykernel_launcher.py:19: RuntimeWarning: invalid value encountered in multiply\n",
      "/Users/vru959/anaconda2/envs/py3k/lib/python3.6/site-packages/ipykernel_launcher.py:19: RuntimeWarning: divide by zero encountered in log1p\n",
      "/Users/vru959/anaconda2/envs/py3k/lib/python3.6/site-packages/ipykernel_launcher.py:19: RuntimeWarning: divide by zero encountered in log1p\n",
      "/Users/vru959/anaconda2/envs/py3k/lib/python3.6/site-packages/ipykernel_launcher.py:19: RuntimeWarning: invalid value encountered in multiply\n",
      "/Users/vru959/anaconda2/envs/py3k/lib/python3.6/site-packages/ipykernel_launcher.py:19: RuntimeWarning: divide by zero encountered in log\n",
      "/Users/vru959/anaconda2/envs/py3k/lib/python3.6/site-packages/ipykernel_launcher.py:19: RuntimeWarning: divide by zero encountered in log\n",
      "/Users/vru959/anaconda2/envs/py3k/lib/python3.6/site-packages/ipykernel_launcher.py:19: RuntimeWarning: invalid value encountered in multiply\n",
      "/Users/vru959/anaconda2/envs/py3k/lib/python3.6/site-packages/ipykernel_launcher.py:19: RuntimeWarning: divide by zero encountered in log1p\n",
      "/Users/vru959/anaconda2/envs/py3k/lib/python3.6/site-packages/ipykernel_launcher.py:19: RuntimeWarning: divide by zero encountered in log1p\n",
      "/Users/vru959/anaconda2/envs/py3k/lib/python3.6/site-packages/ipykernel_launcher.py:19: RuntimeWarning: invalid value encountered in multiply\n",
      "/Users/vru959/anaconda2/envs/py3k/lib/python3.6/site-packages/ipykernel_launcher.py:19: RuntimeWarning: divide by zero encountered in log\n",
      "/Users/vru959/anaconda2/envs/py3k/lib/python3.6/site-packages/ipykernel_launcher.py:19: RuntimeWarning: divide by zero encountered in log\n",
      "/Users/vru959/anaconda2/envs/py3k/lib/python3.6/site-packages/ipykernel_launcher.py:19: RuntimeWarning: invalid value encountered in multiply\n",
      "/Users/vru959/anaconda2/envs/py3k/lib/python3.6/site-packages/ipykernel_launcher.py:19: RuntimeWarning: divide by zero encountered in log1p\n"
     ]
    },
    {
     "name": "stdout",
     "output_type": "stream",
     "text": [
      "[2019-02-24 18:21:40,451][INFO]: Experiment_14 at t=1000\n",
      "[2019-02-24 18:21:40,541][INFO]: Experiment_14 complete.\n",
      "[2019-02-24 18:21:40,545][INFO]: Experiment_21 beginning...\n"
     ]
    },
    {
     "name": "stderr",
     "output_type": "stream",
     "text": [
      "/Users/vru959/anaconda2/envs/py3k/lib/python3.6/site-packages/ipykernel_launcher.py:19: RuntimeWarning: divide by zero encountered in log1p\n",
      "/Users/vru959/anaconda2/envs/py3k/lib/python3.6/site-packages/ipykernel_launcher.py:19: RuntimeWarning: invalid value encountered in multiply\n",
      "/Users/vru959/anaconda2/envs/py3k/lib/python3.6/site-packages/ipykernel_launcher.py:19: RuntimeWarning: divide by zero encountered in log\n",
      "/Users/vru959/anaconda2/envs/py3k/lib/python3.6/site-packages/ipykernel_launcher.py:19: RuntimeWarning: divide by zero encountered in log\n",
      "/Users/vru959/anaconda2/envs/py3k/lib/python3.6/site-packages/ipykernel_launcher.py:19: RuntimeWarning: invalid value encountered in multiply\n",
      "/Users/vru959/anaconda2/envs/py3k/lib/python3.6/site-packages/ipykernel_launcher.py:19: RuntimeWarning: divide by zero encountered in log1p\n",
      "/Users/vru959/anaconda2/envs/py3k/lib/python3.6/site-packages/ipykernel_launcher.py:19: RuntimeWarning: divide by zero encountered in log1p\n",
      "/Users/vru959/anaconda2/envs/py3k/lib/python3.6/site-packages/ipykernel_launcher.py:19: RuntimeWarning: invalid value encountered in multiply\n",
      "/Users/vru959/anaconda2/envs/py3k/lib/python3.6/site-packages/ipykernel_launcher.py:19: RuntimeWarning: divide by zero encountered in log\n",
      "/Users/vru959/anaconda2/envs/py3k/lib/python3.6/site-packages/ipykernel_launcher.py:19: RuntimeWarning: divide by zero encountered in log\n",
      "/Users/vru959/anaconda2/envs/py3k/lib/python3.6/site-packages/ipykernel_launcher.py:19: RuntimeWarning: invalid value encountered in multiply\n",
      "/Users/vru959/anaconda2/envs/py3k/lib/python3.6/site-packages/ipykernel_launcher.py:19: RuntimeWarning: divide by zero encountered in log1p\n"
     ]
    },
    {
     "name": "stdout",
     "output_type": "stream",
     "text": [
      "[2019-02-24 18:21:41,035][INFO]: Experiment_16 at t=1000\n",
      "[2019-02-24 18:21:41,090][INFO]: Experiment_16 complete.\n",
      "[2019-02-24 18:21:41,094][INFO]: Experiment_22 beginning...\n"
     ]
    },
    {
     "name": "stderr",
     "output_type": "stream",
     "text": [
      "/Users/vru959/anaconda2/envs/py3k/lib/python3.6/site-packages/ipykernel_launcher.py:19: RuntimeWarning: divide by zero encountered in log1p\n",
      "/Users/vru959/anaconda2/envs/py3k/lib/python3.6/site-packages/ipykernel_launcher.py:19: RuntimeWarning: invalid value encountered in multiply\n",
      "/Users/vru959/anaconda2/envs/py3k/lib/python3.6/site-packages/ipykernel_launcher.py:19: RuntimeWarning: divide by zero encountered in log\n",
      "/Users/vru959/anaconda2/envs/py3k/lib/python3.6/site-packages/ipykernel_launcher.py:19: RuntimeWarning: divide by zero encountered in log\n",
      "/Users/vru959/anaconda2/envs/py3k/lib/python3.6/site-packages/ipykernel_launcher.py:19: RuntimeWarning: invalid value encountered in multiply\n",
      "/Users/vru959/anaconda2/envs/py3k/lib/python3.6/site-packages/ipykernel_launcher.py:19: RuntimeWarning: divide by zero encountered in log1p\n",
      "/Users/vru959/anaconda2/envs/py3k/lib/python3.6/site-packages/ipykernel_launcher.py:19: RuntimeWarning: divide by zero encountered in log1p\n",
      "/Users/vru959/anaconda2/envs/py3k/lib/python3.6/site-packages/ipykernel_launcher.py:19: RuntimeWarning: invalid value encountered in multiply\n",
      "/Users/vru959/anaconda2/envs/py3k/lib/python3.6/site-packages/ipykernel_launcher.py:19: RuntimeWarning: divide by zero encountered in log\n",
      "/Users/vru959/anaconda2/envs/py3k/lib/python3.6/site-packages/ipykernel_launcher.py:19: RuntimeWarning: divide by zero encountered in log\n",
      "/Users/vru959/anaconda2/envs/py3k/lib/python3.6/site-packages/ipykernel_launcher.py:19: RuntimeWarning: invalid value encountered in multiply\n",
      "/Users/vru959/anaconda2/envs/py3k/lib/python3.6/site-packages/ipykernel_launcher.py:19: RuntimeWarning: divide by zero encountered in log1p\n",
      "/Users/vru959/anaconda2/envs/py3k/lib/python3.6/site-packages/ipykernel_launcher.py:19: RuntimeWarning: divide by zero encountered in log1p\n",
      "/Users/vru959/anaconda2/envs/py3k/lib/python3.6/site-packages/ipykernel_launcher.py:19: RuntimeWarning: invalid value encountered in multiply\n",
      "/Users/vru959/anaconda2/envs/py3k/lib/python3.6/site-packages/ipykernel_launcher.py:19: RuntimeWarning: divide by zero encountered in log\n",
      "/Users/vru959/anaconda2/envs/py3k/lib/python3.6/site-packages/ipykernel_launcher.py:19: RuntimeWarning: divide by zero encountered in log\n",
      "/Users/vru959/anaconda2/envs/py3k/lib/python3.6/site-packages/ipykernel_launcher.py:19: RuntimeWarning: invalid value encountered in multiply\n",
      "/Users/vru959/anaconda2/envs/py3k/lib/python3.6/site-packages/ipykernel_launcher.py:19: RuntimeWarning: divide by zero encountered in log1p\n",
      "/Users/vru959/anaconda2/envs/py3k/lib/python3.6/site-packages/ipykernel_launcher.py:19: RuntimeWarning: divide by zero encountered in log1p\n",
      "/Users/vru959/anaconda2/envs/py3k/lib/python3.6/site-packages/ipykernel_launcher.py:19: RuntimeWarning: invalid value encountered in multiply\n",
      "/Users/vru959/anaconda2/envs/py3k/lib/python3.6/site-packages/ipykernel_launcher.py:19: RuntimeWarning: divide by zero encountered in log\n",
      "/Users/vru959/anaconda2/envs/py3k/lib/python3.6/site-packages/ipykernel_launcher.py:19: RuntimeWarning: divide by zero encountered in log\n",
      "/Users/vru959/anaconda2/envs/py3k/lib/python3.6/site-packages/ipykernel_launcher.py:19: RuntimeWarning: invalid value encountered in multiply\n",
      "/Users/vru959/anaconda2/envs/py3k/lib/python3.6/site-packages/ipykernel_launcher.py:19: RuntimeWarning: divide by zero encountered in log1p\n",
      "/Users/vru959/anaconda2/envs/py3k/lib/python3.6/site-packages/ipykernel_launcher.py:19: RuntimeWarning: divide by zero encountered in log1p\n",
      "/Users/vru959/anaconda2/envs/py3k/lib/python3.6/site-packages/ipykernel_launcher.py:19: RuntimeWarning: invalid value encountered in multiply\n",
      "/Users/vru959/anaconda2/envs/py3k/lib/python3.6/site-packages/ipykernel_launcher.py:19: RuntimeWarning: divide by zero encountered in log\n",
      "/Users/vru959/anaconda2/envs/py3k/lib/python3.6/site-packages/ipykernel_launcher.py:19: RuntimeWarning: divide by zero encountered in log\n",
      "/Users/vru959/anaconda2/envs/py3k/lib/python3.6/site-packages/ipykernel_launcher.py:19: RuntimeWarning: invalid value encountered in multiply\n",
      "/Users/vru959/anaconda2/envs/py3k/lib/python3.6/site-packages/ipykernel_launcher.py:19: RuntimeWarning: divide by zero encountered in log1p\n",
      "/Users/vru959/anaconda2/envs/py3k/lib/python3.6/site-packages/ipykernel_launcher.py:19: RuntimeWarning: divide by zero encountered in log1p\n",
      "/Users/vru959/anaconda2/envs/py3k/lib/python3.6/site-packages/ipykernel_launcher.py:19: RuntimeWarning: invalid value encountered in multiply\n",
      "/Users/vru959/anaconda2/envs/py3k/lib/python3.6/site-packages/ipykernel_launcher.py:19: RuntimeWarning: divide by zero encountered in log\n",
      "/Users/vru959/anaconda2/envs/py3k/lib/python3.6/site-packages/ipykernel_launcher.py:19: RuntimeWarning: divide by zero encountered in log\n",
      "/Users/vru959/anaconda2/envs/py3k/lib/python3.6/site-packages/ipykernel_launcher.py:19: RuntimeWarning: invalid value encountered in multiply\n",
      "/Users/vru959/anaconda2/envs/py3k/lib/python3.6/site-packages/ipykernel_launcher.py:19: RuntimeWarning: divide by zero encountered in log1p\n",
      "/Users/vru959/anaconda2/envs/py3k/lib/python3.6/site-packages/ipykernel_launcher.py:19: RuntimeWarning: divide by zero encountered in log1p\n",
      "/Users/vru959/anaconda2/envs/py3k/lib/python3.6/site-packages/ipykernel_launcher.py:19: RuntimeWarning: invalid value encountered in multiply\n",
      "/Users/vru959/anaconda2/envs/py3k/lib/python3.6/site-packages/ipykernel_launcher.py:19: RuntimeWarning: divide by zero encountered in log\n",
      "/Users/vru959/anaconda2/envs/py3k/lib/python3.6/site-packages/ipykernel_launcher.py:19: RuntimeWarning: divide by zero encountered in log\n",
      "/Users/vru959/anaconda2/envs/py3k/lib/python3.6/site-packages/ipykernel_launcher.py:19: RuntimeWarning: invalid value encountered in multiply\n",
      "/Users/vru959/anaconda2/envs/py3k/lib/python3.6/site-packages/ipykernel_launcher.py:19: RuntimeWarning: divide by zero encountered in log1p\n",
      "/Users/vru959/anaconda2/envs/py3k/lib/python3.6/site-packages/ipykernel_launcher.py:19: RuntimeWarning: divide by zero encountered in log1p\n",
      "/Users/vru959/anaconda2/envs/py3k/lib/python3.6/site-packages/ipykernel_launcher.py:19: RuntimeWarning: invalid value encountered in multiply\n",
      "/Users/vru959/anaconda2/envs/py3k/lib/python3.6/site-packages/ipykernel_launcher.py:19: RuntimeWarning: divide by zero encountered in log\n",
      "/Users/vru959/anaconda2/envs/py3k/lib/python3.6/site-packages/ipykernel_launcher.py:19: RuntimeWarning: divide by zero encountered in log\n",
      "/Users/vru959/anaconda2/envs/py3k/lib/python3.6/site-packages/ipykernel_launcher.py:19: RuntimeWarning: invalid value encountered in multiply\n",
      "/Users/vru959/anaconda2/envs/py3k/lib/python3.6/site-packages/ipykernel_launcher.py:19: RuntimeWarning: divide by zero encountered in log1p\n",
      "/Users/vru959/anaconda2/envs/py3k/lib/python3.6/site-packages/ipykernel_launcher.py:19: RuntimeWarning: divide by zero encountered in log1p\n",
      "/Users/vru959/anaconda2/envs/py3k/lib/python3.6/site-packages/ipykernel_launcher.py:19: RuntimeWarning: invalid value encountered in multiply\n",
      "/Users/vru959/anaconda2/envs/py3k/lib/python3.6/site-packages/ipykernel_launcher.py:19: RuntimeWarning: divide by zero encountered in log\n",
      "/Users/vru959/anaconda2/envs/py3k/lib/python3.6/site-packages/ipykernel_launcher.py:19: RuntimeWarning: divide by zero encountered in log\n",
      "/Users/vru959/anaconda2/envs/py3k/lib/python3.6/site-packages/ipykernel_launcher.py:19: RuntimeWarning: invalid value encountered in multiply\n",
      "/Users/vru959/anaconda2/envs/py3k/lib/python3.6/site-packages/ipykernel_launcher.py:19: RuntimeWarning: divide by zero encountered in log1p\n"
     ]
    },
    {
     "name": "stdout",
     "output_type": "stream",
     "text": [
      "[2019-02-24 18:21:46,041][INFO]: Experiment_17 at t=1000\n",
      "[2019-02-24 18:21:46,126][INFO]: Experiment_17 complete.\n",
      "[2019-02-24 18:21:46,130][INFO]: Experiment_23 beginning...\n"
     ]
    },
    {
     "name": "stderr",
     "output_type": "stream",
     "text": [
      "/Users/vru959/anaconda2/envs/py3k/lib/python3.6/site-packages/ipykernel_launcher.py:19: RuntimeWarning: divide by zero encountered in log1p\n",
      "/Users/vru959/anaconda2/envs/py3k/lib/python3.6/site-packages/ipykernel_launcher.py:19: RuntimeWarning: invalid value encountered in multiply\n",
      "/Users/vru959/anaconda2/envs/py3k/lib/python3.6/site-packages/ipykernel_launcher.py:19: RuntimeWarning: divide by zero encountered in log\n",
      "/Users/vru959/anaconda2/envs/py3k/lib/python3.6/site-packages/ipykernel_launcher.py:19: RuntimeWarning: divide by zero encountered in log\n",
      "/Users/vru959/anaconda2/envs/py3k/lib/python3.6/site-packages/ipykernel_launcher.py:19: RuntimeWarning: invalid value encountered in multiply\n",
      "/Users/vru959/anaconda2/envs/py3k/lib/python3.6/site-packages/ipykernel_launcher.py:19: RuntimeWarning: divide by zero encountered in log1p\n",
      "/Users/vru959/anaconda2/envs/py3k/lib/python3.6/site-packages/ipykernel_launcher.py:19: RuntimeWarning: divide by zero encountered in log1p\n",
      "/Users/vru959/anaconda2/envs/py3k/lib/python3.6/site-packages/ipykernel_launcher.py:19: RuntimeWarning: invalid value encountered in multiply\n",
      "/Users/vru959/anaconda2/envs/py3k/lib/python3.6/site-packages/ipykernel_launcher.py:19: RuntimeWarning: divide by zero encountered in log\n",
      "/Users/vru959/anaconda2/envs/py3k/lib/python3.6/site-packages/ipykernel_launcher.py:19: RuntimeWarning: divide by zero encountered in log\n",
      "/Users/vru959/anaconda2/envs/py3k/lib/python3.6/site-packages/ipykernel_launcher.py:19: RuntimeWarning: invalid value encountered in multiply\n",
      "/Users/vru959/anaconda2/envs/py3k/lib/python3.6/site-packages/ipykernel_launcher.py:19: RuntimeWarning: divide by zero encountered in log1p\n"
     ]
    },
    {
     "name": "stdout",
     "output_type": "stream",
     "text": [
      "[2019-02-24 18:21:49,473][INFO]: Experiment_18 at t=1000\n",
      "[2019-02-24 18:21:49,567][INFO]: Experiment_18 complete.\n",
      "[2019-02-24 18:21:49,571][INFO]: Experiment_24 beginning...\n",
      "[2019-02-24 18:21:49,779][INFO]: Experiment_19 at t=1000\n",
      "[2019-02-24 18:21:49,903][INFO]: Experiment_19 complete.\n",
      "[2019-02-24 18:21:49,907][INFO]: Experiment_25 beginning...\n"
     ]
    },
    {
     "name": "stderr",
     "output_type": "stream",
     "text": [
      "/Users/vru959/anaconda2/envs/py3k/lib/python3.6/site-packages/ipykernel_launcher.py:19: RuntimeWarning: divide by zero encountered in log1p\n",
      "/Users/vru959/anaconda2/envs/py3k/lib/python3.6/site-packages/ipykernel_launcher.py:19: RuntimeWarning: invalid value encountered in multiply\n",
      "/Users/vru959/anaconda2/envs/py3k/lib/python3.6/site-packages/ipykernel_launcher.py:19: RuntimeWarning: divide by zero encountered in log\n",
      "/Users/vru959/anaconda2/envs/py3k/lib/python3.6/site-packages/ipykernel_launcher.py:19: RuntimeWarning: divide by zero encountered in log1p\n",
      "/Users/vru959/anaconda2/envs/py3k/lib/python3.6/site-packages/ipykernel_launcher.py:19: RuntimeWarning: invalid value encountered in multiply\n",
      "/Users/vru959/anaconda2/envs/py3k/lib/python3.6/site-packages/ipykernel_launcher.py:19: RuntimeWarning: divide by zero encountered in log\n",
      "/Users/vru959/anaconda2/envs/py3k/lib/python3.6/site-packages/ipykernel_launcher.py:19: RuntimeWarning: divide by zero encountered in log\n",
      "/Users/vru959/anaconda2/envs/py3k/lib/python3.6/site-packages/ipykernel_launcher.py:19: RuntimeWarning: invalid value encountered in multiply\n",
      "/Users/vru959/anaconda2/envs/py3k/lib/python3.6/site-packages/ipykernel_launcher.py:19: RuntimeWarning: divide by zero encountered in log1p\n",
      "/Users/vru959/anaconda2/envs/py3k/lib/python3.6/site-packages/ipykernel_launcher.py:19: RuntimeWarning: divide by zero encountered in log1p\n",
      "/Users/vru959/anaconda2/envs/py3k/lib/python3.6/site-packages/ipykernel_launcher.py:19: RuntimeWarning: invalid value encountered in multiply\n",
      "/Users/vru959/anaconda2/envs/py3k/lib/python3.6/site-packages/ipykernel_launcher.py:19: RuntimeWarning: divide by zero encountered in log\n",
      "/Users/vru959/anaconda2/envs/py3k/lib/python3.6/site-packages/ipykernel_launcher.py:19: RuntimeWarning: divide by zero encountered in log\n",
      "/Users/vru959/anaconda2/envs/py3k/lib/python3.6/site-packages/ipykernel_launcher.py:19: RuntimeWarning: invalid value encountered in multiply\n",
      "/Users/vru959/anaconda2/envs/py3k/lib/python3.6/site-packages/ipykernel_launcher.py:19: RuntimeWarning: divide by zero encountered in log1p\n",
      "/Users/vru959/anaconda2/envs/py3k/lib/python3.6/site-packages/ipykernel_launcher.py:19: RuntimeWarning: divide by zero encountered in log1p\n",
      "/Users/vru959/anaconda2/envs/py3k/lib/python3.6/site-packages/ipykernel_launcher.py:19: RuntimeWarning: invalid value encountered in multiply\n",
      "/Users/vru959/anaconda2/envs/py3k/lib/python3.6/site-packages/ipykernel_launcher.py:19: RuntimeWarning: divide by zero encountered in log\n",
      "/Users/vru959/anaconda2/envs/py3k/lib/python3.6/site-packages/ipykernel_launcher.py:19: RuntimeWarning: divide by zero encountered in log\n",
      "/Users/vru959/anaconda2/envs/py3k/lib/python3.6/site-packages/ipykernel_launcher.py:19: RuntimeWarning: invalid value encountered in multiply\n",
      "/Users/vru959/anaconda2/envs/py3k/lib/python3.6/site-packages/ipykernel_launcher.py:19: RuntimeWarning: divide by zero encountered in log1p\n"
     ]
    },
    {
     "name": "stdout",
     "output_type": "stream",
     "text": [
      "[2019-02-24 18:21:50,688][INFO]: Experiment_21 at t=500\n",
      "[2019-02-24 18:21:50,790][INFO]: Experiment_22 at t=500\n",
      "[2019-02-24 18:21:51,582][INFO]: Experiment_15 at t=1000\n",
      "[2019-02-24 18:21:51,666][INFO]: Experiment_15 complete.\n",
      "[2019-02-24 18:21:51,670][INFO]: Experiment_26 beginning...\n",
      "[2019-02-24 18:21:52,055][INFO]: Experiment_20 at t=1000\n",
      "[2019-02-24 18:21:52,128][INFO]: Experiment_20 complete.\n",
      "[2019-02-24 18:21:52,132][INFO]: Experiment_27 beginning...\n",
      "[2019-02-24 18:21:55,885][INFO]: Experiment_23 at t=500\n",
      "[2019-02-24 18:21:58,976][INFO]: Experiment_24 at t=500\n",
      "[2019-02-24 18:21:59,485][INFO]: Experiment_25 at t=500\n",
      "[2019-02-24 18:22:00,302][INFO]: Experiment_27 at t=500\n",
      "[2019-02-24 18:22:00,813][INFO]: Experiment_26 at t=500\n",
      "[2019-02-24 18:22:07,602][INFO]: Experiment_21 at t=1000\n"
     ]
    },
    {
     "name": "stderr",
     "output_type": "stream",
     "text": [
      "/Users/vru959/anaconda2/envs/py3k/lib/python3.6/site-packages/ipykernel_launcher.py:19: RuntimeWarning: divide by zero encountered in log1p\n",
      "/Users/vru959/anaconda2/envs/py3k/lib/python3.6/site-packages/ipykernel_launcher.py:19: RuntimeWarning: invalid value encountered in multiply\n",
      "/Users/vru959/anaconda2/envs/py3k/lib/python3.6/site-packages/ipykernel_launcher.py:19: RuntimeWarning: divide by zero encountered in log\n",
      "/Users/vru959/anaconda2/envs/py3k/lib/python3.6/site-packages/ipykernel_launcher.py:19: RuntimeWarning: divide by zero encountered in log\n",
      "/Users/vru959/anaconda2/envs/py3k/lib/python3.6/site-packages/ipykernel_launcher.py:19: RuntimeWarning: invalid value encountered in multiply\n",
      "/Users/vru959/anaconda2/envs/py3k/lib/python3.6/site-packages/ipykernel_launcher.py:19: RuntimeWarning: divide by zero encountered in log1p\n"
     ]
    },
    {
     "name": "stdout",
     "output_type": "stream",
     "text": [
      "[2019-02-24 18:22:07,681][INFO]: Experiment_21 complete.\n",
      "[2019-02-24 18:22:07,685][INFO]: Experiment_28 beginning...\n",
      "[2019-02-24 18:22:09,163][INFO]: Experiment_22 at t=1000\n",
      "[2019-02-24 18:22:09,222][INFO]: Experiment_22 complete.\n",
      "[2019-02-24 18:22:09,225][INFO]: Experiment_29 beginning...\n"
     ]
    },
    {
     "name": "stderr",
     "output_type": "stream",
     "text": [
      "/Users/vru959/anaconda2/envs/py3k/lib/python3.6/site-packages/ipykernel_launcher.py:19: RuntimeWarning: divide by zero encountered in log1p\n",
      "/Users/vru959/anaconda2/envs/py3k/lib/python3.6/site-packages/ipykernel_launcher.py:19: RuntimeWarning: invalid value encountered in multiply\n",
      "/Users/vru959/anaconda2/envs/py3k/lib/python3.6/site-packages/ipykernel_launcher.py:19: RuntimeWarning: divide by zero encountered in log\n",
      "/Users/vru959/anaconda2/envs/py3k/lib/python3.6/site-packages/ipykernel_launcher.py:19: RuntimeWarning: divide by zero encountered in log\n",
      "/Users/vru959/anaconda2/envs/py3k/lib/python3.6/site-packages/ipykernel_launcher.py:19: RuntimeWarning: invalid value encountered in multiply\n",
      "/Users/vru959/anaconda2/envs/py3k/lib/python3.6/site-packages/ipykernel_launcher.py:19: RuntimeWarning: divide by zero encountered in log1p\n",
      "/Users/vru959/anaconda2/envs/py3k/lib/python3.6/site-packages/ipykernel_launcher.py:19: RuntimeWarning: divide by zero encountered in log1p\n",
      "/Users/vru959/anaconda2/envs/py3k/lib/python3.6/site-packages/ipykernel_launcher.py:19: RuntimeWarning: invalid value encountered in multiply\n",
      "/Users/vru959/anaconda2/envs/py3k/lib/python3.6/site-packages/ipykernel_launcher.py:19: RuntimeWarning: divide by zero encountered in log\n",
      "/Users/vru959/anaconda2/envs/py3k/lib/python3.6/site-packages/ipykernel_launcher.py:19: RuntimeWarning: divide by zero encountered in log1p\n",
      "/Users/vru959/anaconda2/envs/py3k/lib/python3.6/site-packages/ipykernel_launcher.py:19: RuntimeWarning: invalid value encountered in multiply\n",
      "/Users/vru959/anaconda2/envs/py3k/lib/python3.6/site-packages/ipykernel_launcher.py:19: RuntimeWarning: divide by zero encountered in log\n",
      "/Users/vru959/anaconda2/envs/py3k/lib/python3.6/site-packages/ipykernel_launcher.py:19: RuntimeWarning: divide by zero encountered in log\n",
      "/Users/vru959/anaconda2/envs/py3k/lib/python3.6/site-packages/ipykernel_launcher.py:19: RuntimeWarning: invalid value encountered in multiply\n",
      "/Users/vru959/anaconda2/envs/py3k/lib/python3.6/site-packages/ipykernel_launcher.py:19: RuntimeWarning: divide by zero encountered in log1p\n",
      "/Users/vru959/anaconda2/envs/py3k/lib/python3.6/site-packages/scipy/optimize/optimize.py:1013: RuntimeWarning: divide by zero encountered in double_scalars\n",
      "  rhok = 1.0 / (numpy.dot(yk, sk))\n"
     ]
    },
    {
     "name": "stdout",
     "output_type": "stream",
     "text": [
      "[2019-02-24 18:22:13,975][INFO]: Experiment_23 at t=1000\n",
      "[2019-02-24 18:22:14,063][INFO]: Experiment_23 complete.\n",
      "[2019-02-24 18:22:14,067][INFO]: Experiment_30 beginning...\n"
     ]
    },
    {
     "name": "stderr",
     "output_type": "stream",
     "text": [
      "/Users/vru959/anaconda2/envs/py3k/lib/python3.6/site-packages/ipykernel_launcher.py:19: RuntimeWarning: divide by zero encountered in log1p\n",
      "/Users/vru959/anaconda2/envs/py3k/lib/python3.6/site-packages/ipykernel_launcher.py:19: RuntimeWarning: invalid value encountered in multiply\n",
      "/Users/vru959/anaconda2/envs/py3k/lib/python3.6/site-packages/ipykernel_launcher.py:19: RuntimeWarning: divide by zero encountered in log\n",
      "/Users/vru959/anaconda2/envs/py3k/lib/python3.6/site-packages/ipykernel_launcher.py:19: RuntimeWarning: divide by zero encountered in log1p\n",
      "/Users/vru959/anaconda2/envs/py3k/lib/python3.6/site-packages/ipykernel_launcher.py:19: RuntimeWarning: invalid value encountered in multiply\n",
      "/Users/vru959/anaconda2/envs/py3k/lib/python3.6/site-packages/ipykernel_launcher.py:19: RuntimeWarning: divide by zero encountered in log\n",
      "/Users/vru959/anaconda2/envs/py3k/lib/python3.6/site-packages/ipykernel_launcher.py:19: RuntimeWarning: divide by zero encountered in log\n",
      "/Users/vru959/anaconda2/envs/py3k/lib/python3.6/site-packages/ipykernel_launcher.py:19: RuntimeWarning: invalid value encountered in multiply\n",
      "/Users/vru959/anaconda2/envs/py3k/lib/python3.6/site-packages/ipykernel_launcher.py:19: RuntimeWarning: divide by zero encountered in log1p\n",
      "/Users/vru959/anaconda2/envs/py3k/lib/python3.6/site-packages/ipykernel_launcher.py:19: RuntimeWarning: divide by zero encountered in log1p\n",
      "/Users/vru959/anaconda2/envs/py3k/lib/python3.6/site-packages/ipykernel_launcher.py:19: RuntimeWarning: invalid value encountered in multiply\n",
      "/Users/vru959/anaconda2/envs/py3k/lib/python3.6/site-packages/ipykernel_launcher.py:19: RuntimeWarning: divide by zero encountered in log\n",
      "/Users/vru959/anaconda2/envs/py3k/lib/python3.6/site-packages/ipykernel_launcher.py:19: RuntimeWarning: divide by zero encountered in log\n",
      "/Users/vru959/anaconda2/envs/py3k/lib/python3.6/site-packages/ipykernel_launcher.py:19: RuntimeWarning: invalid value encountered in multiply\n",
      "/Users/vru959/anaconda2/envs/py3k/lib/python3.6/site-packages/ipykernel_launcher.py:19: RuntimeWarning: divide by zero encountered in log1p\n"
     ]
    },
    {
     "name": "stdout",
     "output_type": "stream",
     "text": [
      "[2019-02-24 18:22:18,076][INFO]: Experiment_28 at t=500\n"
     ]
    },
    {
     "name": "stderr",
     "output_type": "stream",
     "text": [
      "/Users/vru959/anaconda2/envs/py3k/lib/python3.6/site-packages/ipykernel_launcher.py:19: RuntimeWarning: divide by zero encountered in log1p\n",
      "/Users/vru959/anaconda2/envs/py3k/lib/python3.6/site-packages/ipykernel_launcher.py:19: RuntimeWarning: invalid value encountered in multiply\n",
      "/Users/vru959/anaconda2/envs/py3k/lib/python3.6/site-packages/ipykernel_launcher.py:19: RuntimeWarning: divide by zero encountered in log\n",
      "/Users/vru959/anaconda2/envs/py3k/lib/python3.6/site-packages/ipykernel_launcher.py:19: RuntimeWarning: divide by zero encountered in log\n",
      "/Users/vru959/anaconda2/envs/py3k/lib/python3.6/site-packages/ipykernel_launcher.py:19: RuntimeWarning: invalid value encountered in multiply\n",
      "/Users/vru959/anaconda2/envs/py3k/lib/python3.6/site-packages/ipykernel_launcher.py:19: RuntimeWarning: divide by zero encountered in log1p\n",
      "/Users/vru959/anaconda2/envs/py3k/lib/python3.6/site-packages/ipykernel_launcher.py:19: RuntimeWarning: divide by zero encountered in log1p\n",
      "/Users/vru959/anaconda2/envs/py3k/lib/python3.6/site-packages/ipykernel_launcher.py:19: RuntimeWarning: invalid value encountered in multiply\n",
      "/Users/vru959/anaconda2/envs/py3k/lib/python3.6/site-packages/ipykernel_launcher.py:19: RuntimeWarning: divide by zero encountered in log\n",
      "/Users/vru959/anaconda2/envs/py3k/lib/python3.6/site-packages/ipykernel_launcher.py:19: RuntimeWarning: divide by zero encountered in log\n",
      "/Users/vru959/anaconda2/envs/py3k/lib/python3.6/site-packages/ipykernel_launcher.py:19: RuntimeWarning: invalid value encountered in multiply\n",
      "/Users/vru959/anaconda2/envs/py3k/lib/python3.6/site-packages/ipykernel_launcher.py:19: RuntimeWarning: divide by zero encountered in log1p\n"
     ]
    },
    {
     "name": "stdout",
     "output_type": "stream",
     "text": [
      "[2019-02-24 18:22:18,691][INFO]: Experiment_25 at t=1000\n",
      "[2019-02-24 18:22:18,785][INFO]: Experiment_25 complete.\n",
      "[2019-02-24 18:22:18,789][INFO]: Experiment_31 beginning...\n"
     ]
    },
    {
     "name": "stderr",
     "output_type": "stream",
     "text": [
      "/Users/vru959/anaconda2/envs/py3k/lib/python3.6/site-packages/ipykernel_launcher.py:19: RuntimeWarning: divide by zero encountered in log1p\n",
      "/Users/vru959/anaconda2/envs/py3k/lib/python3.6/site-packages/ipykernel_launcher.py:19: RuntimeWarning: invalid value encountered in multiply\n",
      "/Users/vru959/anaconda2/envs/py3k/lib/python3.6/site-packages/ipykernel_launcher.py:19: RuntimeWarning: divide by zero encountered in log\n",
      "/Users/vru959/anaconda2/envs/py3k/lib/python3.6/site-packages/ipykernel_launcher.py:19: RuntimeWarning: divide by zero encountered in log\n",
      "/Users/vru959/anaconda2/envs/py3k/lib/python3.6/site-packages/ipykernel_launcher.py:19: RuntimeWarning: invalid value encountered in multiply\n",
      "/Users/vru959/anaconda2/envs/py3k/lib/python3.6/site-packages/ipykernel_launcher.py:19: RuntimeWarning: divide by zero encountered in log1p\n",
      "/Users/vru959/anaconda2/envs/py3k/lib/python3.6/site-packages/ipykernel_launcher.py:19: RuntimeWarning: divide by zero encountered in log1p\n",
      "/Users/vru959/anaconda2/envs/py3k/lib/python3.6/site-packages/ipykernel_launcher.py:19: RuntimeWarning: invalid value encountered in multiply\n",
      "/Users/vru959/anaconda2/envs/py3k/lib/python3.6/site-packages/ipykernel_launcher.py:19: RuntimeWarning: divide by zero encountered in log\n",
      "/Users/vru959/anaconda2/envs/py3k/lib/python3.6/site-packages/ipykernel_launcher.py:19: RuntimeWarning: divide by zero encountered in log\n",
      "/Users/vru959/anaconda2/envs/py3k/lib/python3.6/site-packages/ipykernel_launcher.py:19: RuntimeWarning: invalid value encountered in multiply\n",
      "/Users/vru959/anaconda2/envs/py3k/lib/python3.6/site-packages/ipykernel_launcher.py:19: RuntimeWarning: divide by zero encountered in log1p\n",
      "/Users/vru959/anaconda2/envs/py3k/lib/python3.6/site-packages/ipykernel_launcher.py:19: RuntimeWarning: divide by zero encountered in log1p\n",
      "/Users/vru959/anaconda2/envs/py3k/lib/python3.6/site-packages/ipykernel_launcher.py:19: RuntimeWarning: invalid value encountered in multiply\n",
      "/Users/vru959/anaconda2/envs/py3k/lib/python3.6/site-packages/ipykernel_launcher.py:19: RuntimeWarning: divide by zero encountered in log\n",
      "/Users/vru959/anaconda2/envs/py3k/lib/python3.6/site-packages/ipykernel_launcher.py:19: RuntimeWarning: divide by zero encountered in log\n",
      "/Users/vru959/anaconda2/envs/py3k/lib/python3.6/site-packages/ipykernel_launcher.py:19: RuntimeWarning: invalid value encountered in multiply\n",
      "/Users/vru959/anaconda2/envs/py3k/lib/python3.6/site-packages/ipykernel_launcher.py:19: RuntimeWarning: divide by zero encountered in log1p\n",
      "/Users/vru959/anaconda2/envs/py3k/lib/python3.6/site-packages/ipykernel_launcher.py:19: RuntimeWarning: divide by zero encountered in log1p\n",
      "/Users/vru959/anaconda2/envs/py3k/lib/python3.6/site-packages/ipykernel_launcher.py:19: RuntimeWarning: invalid value encountered in multiply\n",
      "/Users/vru959/anaconda2/envs/py3k/lib/python3.6/site-packages/ipykernel_launcher.py:19: RuntimeWarning: divide by zero encountered in log\n",
      "/Users/vru959/anaconda2/envs/py3k/lib/python3.6/site-packages/ipykernel_launcher.py:19: RuntimeWarning: divide by zero encountered in log\n",
      "/Users/vru959/anaconda2/envs/py3k/lib/python3.6/site-packages/ipykernel_launcher.py:19: RuntimeWarning: invalid value encountered in multiply\n",
      "/Users/vru959/anaconda2/envs/py3k/lib/python3.6/site-packages/ipykernel_launcher.py:19: RuntimeWarning: divide by zero encountered in log1p\n"
     ]
    },
    {
     "name": "stdout",
     "output_type": "stream",
     "text": [
      "[2019-02-24 18:22:19,497][INFO]: Experiment_29 at t=500\n"
     ]
    },
    {
     "name": "stderr",
     "output_type": "stream",
     "text": [
      "/Users/vru959/anaconda2/envs/py3k/lib/python3.6/site-packages/ipykernel_launcher.py:19: RuntimeWarning: divide by zero encountered in log1p\n",
      "/Users/vru959/anaconda2/envs/py3k/lib/python3.6/site-packages/ipykernel_launcher.py:19: RuntimeWarning: invalid value encountered in multiply\n",
      "/Users/vru959/anaconda2/envs/py3k/lib/python3.6/site-packages/ipykernel_launcher.py:19: RuntimeWarning: divide by zero encountered in log\n",
      "/Users/vru959/anaconda2/envs/py3k/lib/python3.6/site-packages/ipykernel_launcher.py:19: RuntimeWarning: divide by zero encountered in log\n",
      "/Users/vru959/anaconda2/envs/py3k/lib/python3.6/site-packages/ipykernel_launcher.py:19: RuntimeWarning: invalid value encountered in multiply\n",
      "/Users/vru959/anaconda2/envs/py3k/lib/python3.6/site-packages/ipykernel_launcher.py:19: RuntimeWarning: divide by zero encountered in log1p\n",
      "/Users/vru959/anaconda2/envs/py3k/lib/python3.6/site-packages/ipykernel_launcher.py:19: RuntimeWarning: divide by zero encountered in log1p\n",
      "/Users/vru959/anaconda2/envs/py3k/lib/python3.6/site-packages/ipykernel_launcher.py:19: RuntimeWarning: invalid value encountered in multiply\n",
      "/Users/vru959/anaconda2/envs/py3k/lib/python3.6/site-packages/ipykernel_launcher.py:19: RuntimeWarning: divide by zero encountered in log\n",
      "/Users/vru959/anaconda2/envs/py3k/lib/python3.6/site-packages/ipykernel_launcher.py:19: RuntimeWarning: divide by zero encountered in log\n",
      "/Users/vru959/anaconda2/envs/py3k/lib/python3.6/site-packages/ipykernel_launcher.py:19: RuntimeWarning: invalid value encountered in multiply\n",
      "/Users/vru959/anaconda2/envs/py3k/lib/python3.6/site-packages/ipykernel_launcher.py:19: RuntimeWarning: divide by zero encountered in log1p\n",
      "/Users/vru959/anaconda2/envs/py3k/lib/python3.6/site-packages/ipykernel_launcher.py:19: RuntimeWarning: divide by zero encountered in log1p\n",
      "/Users/vru959/anaconda2/envs/py3k/lib/python3.6/site-packages/ipykernel_launcher.py:19: RuntimeWarning: invalid value encountered in multiply\n",
      "/Users/vru959/anaconda2/envs/py3k/lib/python3.6/site-packages/ipykernel_launcher.py:19: RuntimeWarning: divide by zero encountered in log\n",
      "/Users/vru959/anaconda2/envs/py3k/lib/python3.6/site-packages/ipykernel_launcher.py:19: RuntimeWarning: divide by zero encountered in log\n",
      "/Users/vru959/anaconda2/envs/py3k/lib/python3.6/site-packages/ipykernel_launcher.py:19: RuntimeWarning: invalid value encountered in multiply\n",
      "/Users/vru959/anaconda2/envs/py3k/lib/python3.6/site-packages/ipykernel_launcher.py:19: RuntimeWarning: divide by zero encountered in log1p\n",
      "/Users/vru959/anaconda2/envs/py3k/lib/python3.6/site-packages/ipykernel_launcher.py:19: RuntimeWarning: divide by zero encountered in log1p\n",
      "/Users/vru959/anaconda2/envs/py3k/lib/python3.6/site-packages/ipykernel_launcher.py:19: RuntimeWarning: invalid value encountered in multiply\n",
      "/Users/vru959/anaconda2/envs/py3k/lib/python3.6/site-packages/ipykernel_launcher.py:19: RuntimeWarning: divide by zero encountered in log\n",
      "/Users/vru959/anaconda2/envs/py3k/lib/python3.6/site-packages/ipykernel_launcher.py:19: RuntimeWarning: divide by zero encountered in log\n",
      "/Users/vru959/anaconda2/envs/py3k/lib/python3.6/site-packages/ipykernel_launcher.py:19: RuntimeWarning: invalid value encountered in multiply\n",
      "/Users/vru959/anaconda2/envs/py3k/lib/python3.6/site-packages/ipykernel_launcher.py:19: RuntimeWarning: divide by zero encountered in log1p\n",
      "/Users/vru959/anaconda2/envs/py3k/lib/python3.6/site-packages/ipykernel_launcher.py:19: RuntimeWarning: divide by zero encountered in log1p\n",
      "/Users/vru959/anaconda2/envs/py3k/lib/python3.6/site-packages/ipykernel_launcher.py:19: RuntimeWarning: invalid value encountered in multiply\n",
      "/Users/vru959/anaconda2/envs/py3k/lib/python3.6/site-packages/ipykernel_launcher.py:19: RuntimeWarning: divide by zero encountered in log\n",
      "/Users/vru959/anaconda2/envs/py3k/lib/python3.6/site-packages/ipykernel_launcher.py:19: RuntimeWarning: divide by zero encountered in log1p\n",
      "/Users/vru959/anaconda2/envs/py3k/lib/python3.6/site-packages/ipykernel_launcher.py:19: RuntimeWarning: invalid value encountered in multiply\n",
      "/Users/vru959/anaconda2/envs/py3k/lib/python3.6/site-packages/ipykernel_launcher.py:19: RuntimeWarning: divide by zero encountered in log\n",
      "/Users/vru959/anaconda2/envs/py3k/lib/python3.6/site-packages/ipykernel_launcher.py:19: RuntimeWarning: divide by zero encountered in log\n",
      "/Users/vru959/anaconda2/envs/py3k/lib/python3.6/site-packages/ipykernel_launcher.py:19: RuntimeWarning: invalid value encountered in multiply\n",
      "/Users/vru959/anaconda2/envs/py3k/lib/python3.6/site-packages/ipykernel_launcher.py:19: RuntimeWarning: divide by zero encountered in log1p\n",
      "/Users/vru959/anaconda2/envs/py3k/lib/python3.6/site-packages/ipykernel_launcher.py:19: RuntimeWarning: divide by zero encountered in log1p\n",
      "/Users/vru959/anaconda2/envs/py3k/lib/python3.6/site-packages/ipykernel_launcher.py:19: RuntimeWarning: invalid value encountered in multiply\n",
      "/Users/vru959/anaconda2/envs/py3k/lib/python3.6/site-packages/ipykernel_launcher.py:19: RuntimeWarning: divide by zero encountered in log\n",
      "/Users/vru959/anaconda2/envs/py3k/lib/python3.6/site-packages/ipykernel_launcher.py:19: RuntimeWarning: divide by zero encountered in log\n",
      "/Users/vru959/anaconda2/envs/py3k/lib/python3.6/site-packages/ipykernel_launcher.py:19: RuntimeWarning: invalid value encountered in multiply\n",
      "/Users/vru959/anaconda2/envs/py3k/lib/python3.6/site-packages/ipykernel_launcher.py:19: RuntimeWarning: divide by zero encountered in log1p\n",
      "/Users/vru959/anaconda2/envs/py3k/lib/python3.6/site-packages/ipykernel_launcher.py:19: RuntimeWarning: divide by zero encountered in log1p\n",
      "/Users/vru959/anaconda2/envs/py3k/lib/python3.6/site-packages/ipykernel_launcher.py:19: RuntimeWarning: invalid value encountered in multiply\n",
      "/Users/vru959/anaconda2/envs/py3k/lib/python3.6/site-packages/ipykernel_launcher.py:19: RuntimeWarning: divide by zero encountered in log\n",
      "/Users/vru959/anaconda2/envs/py3k/lib/python3.6/site-packages/ipykernel_launcher.py:19: RuntimeWarning: divide by zero encountered in log\n",
      "/Users/vru959/anaconda2/envs/py3k/lib/python3.6/site-packages/ipykernel_launcher.py:19: RuntimeWarning: invalid value encountered in multiply\n",
      "/Users/vru959/anaconda2/envs/py3k/lib/python3.6/site-packages/ipykernel_launcher.py:19: RuntimeWarning: divide by zero encountered in log1p\n",
      "/Users/vru959/anaconda2/envs/py3k/lib/python3.6/site-packages/ipykernel_launcher.py:19: RuntimeWarning: divide by zero encountered in log1p\n",
      "/Users/vru959/anaconda2/envs/py3k/lib/python3.6/site-packages/ipykernel_launcher.py:19: RuntimeWarning: invalid value encountered in multiply\n",
      "/Users/vru959/anaconda2/envs/py3k/lib/python3.6/site-packages/ipykernel_launcher.py:19: RuntimeWarning: divide by zero encountered in log\n",
      "/Users/vru959/anaconda2/envs/py3k/lib/python3.6/site-packages/ipykernel_launcher.py:19: RuntimeWarning: divide by zero encountered in log\n",
      "/Users/vru959/anaconda2/envs/py3k/lib/python3.6/site-packages/ipykernel_launcher.py:19: RuntimeWarning: invalid value encountered in multiply\n",
      "/Users/vru959/anaconda2/envs/py3k/lib/python3.6/site-packages/ipykernel_launcher.py:19: RuntimeWarning: divide by zero encountered in log1p\n"
     ]
    },
    {
     "name": "stdout",
     "output_type": "stream",
     "text": [
      "[2019-02-24 18:22:21,564][INFO]: Experiment_24 at t=1000\n",
      "[2019-02-24 18:22:21,624][INFO]: Experiment_24 complete.\n",
      "[2019-02-24 18:22:21,628][INFO]: Experiment_32 beginning...\n",
      "[2019-02-24 18:22:21,777][INFO]: Experiment_27 at t=1000\n"
     ]
    },
    {
     "name": "stderr",
     "output_type": "stream",
     "text": [
      "/Users/vru959/anaconda2/envs/py3k/lib/python3.6/site-packages/ipykernel_launcher.py:19: RuntimeWarning: divide by zero encountered in log1p\n",
      "/Users/vru959/anaconda2/envs/py3k/lib/python3.6/site-packages/ipykernel_launcher.py:19: RuntimeWarning: invalid value encountered in multiply\n"
     ]
    },
    {
     "name": "stdout",
     "output_type": "stream",
     "text": [
      "[2019-02-24 18:22:21,838][INFO]: Experiment_27 complete.\n"
     ]
    },
    {
     "name": "stderr",
     "output_type": "stream",
     "text": [
      "/Users/vru959/anaconda2/envs/py3k/lib/python3.6/site-packages/ipykernel_launcher.py:19: RuntimeWarning: divide by zero encountered in log\n"
     ]
    },
    {
     "name": "stdout",
     "output_type": "stream",
     "text": [
      "[2019-02-24 18:22:21,842][INFO]: Experiment_33 beginning...\n"
     ]
    },
    {
     "name": "stderr",
     "output_type": "stream",
     "text": [
      "/Users/vru959/anaconda2/envs/py3k/lib/python3.6/site-packages/ipykernel_launcher.py:19: RuntimeWarning: divide by zero encountered in log\n",
      "/Users/vru959/anaconda2/envs/py3k/lib/python3.6/site-packages/ipykernel_launcher.py:19: RuntimeWarning: invalid value encountered in multiply\n",
      "/Users/vru959/anaconda2/envs/py3k/lib/python3.6/site-packages/ipykernel_launcher.py:19: RuntimeWarning: divide by zero encountered in log1p\n",
      "/Users/vru959/anaconda2/envs/py3k/lib/python3.6/site-packages/ipykernel_launcher.py:19: RuntimeWarning: divide by zero encountered in log1p\n",
      "/Users/vru959/anaconda2/envs/py3k/lib/python3.6/site-packages/ipykernel_launcher.py:19: RuntimeWarning: invalid value encountered in multiply\n",
      "/Users/vru959/anaconda2/envs/py3k/lib/python3.6/site-packages/ipykernel_launcher.py:19: RuntimeWarning: divide by zero encountered in log\n",
      "/Users/vru959/anaconda2/envs/py3k/lib/python3.6/site-packages/ipykernel_launcher.py:19: RuntimeWarning: divide by zero encountered in log\n",
      "/Users/vru959/anaconda2/envs/py3k/lib/python3.6/site-packages/ipykernel_launcher.py:19: RuntimeWarning: invalid value encountered in multiply\n",
      "/Users/vru959/anaconda2/envs/py3k/lib/python3.6/site-packages/ipykernel_launcher.py:19: RuntimeWarning: divide by zero encountered in log1p\n"
     ]
    },
    {
     "name": "stdout",
     "output_type": "stream",
     "text": [
      "[2019-02-24 18:22:22,406][INFO]: Experiment_26 at t=1000\n",
      "[2019-02-24 18:22:22,469][INFO]: Experiment_26 complete.\n",
      "[2019-02-24 18:22:22,473][INFO]: Experiment_34 beginning...\n"
     ]
    },
    {
     "name": "stderr",
     "output_type": "stream",
     "text": [
      "/Users/vru959/anaconda2/envs/py3k/lib/python3.6/site-packages/ipykernel_launcher.py:19: RuntimeWarning: divide by zero encountered in log1p\n",
      "/Users/vru959/anaconda2/envs/py3k/lib/python3.6/site-packages/ipykernel_launcher.py:19: RuntimeWarning: invalid value encountered in multiply\n",
      "/Users/vru959/anaconda2/envs/py3k/lib/python3.6/site-packages/ipykernel_launcher.py:19: RuntimeWarning: divide by zero encountered in log\n",
      "/Users/vru959/anaconda2/envs/py3k/lib/python3.6/site-packages/ipykernel_launcher.py:19: RuntimeWarning: divide by zero encountered in log\n",
      "/Users/vru959/anaconda2/envs/py3k/lib/python3.6/site-packages/ipykernel_launcher.py:19: RuntimeWarning: invalid value encountered in multiply\n",
      "/Users/vru959/anaconda2/envs/py3k/lib/python3.6/site-packages/ipykernel_launcher.py:19: RuntimeWarning: divide by zero encountered in log1p\n",
      "/Users/vru959/anaconda2/envs/py3k/lib/python3.6/site-packages/ipykernel_launcher.py:19: RuntimeWarning: divide by zero encountered in log1p\n",
      "/Users/vru959/anaconda2/envs/py3k/lib/python3.6/site-packages/ipykernel_launcher.py:19: RuntimeWarning: invalid value encountered in multiply\n",
      "/Users/vru959/anaconda2/envs/py3k/lib/python3.6/site-packages/ipykernel_launcher.py:19: RuntimeWarning: divide by zero encountered in log\n",
      "/Users/vru959/anaconda2/envs/py3k/lib/python3.6/site-packages/ipykernel_launcher.py:19: RuntimeWarning: divide by zero encountered in log\n",
      "/Users/vru959/anaconda2/envs/py3k/lib/python3.6/site-packages/ipykernel_launcher.py:19: RuntimeWarning: invalid value encountered in multiply\n",
      "/Users/vru959/anaconda2/envs/py3k/lib/python3.6/site-packages/ipykernel_launcher.py:19: RuntimeWarning: divide by zero encountered in log1p\n",
      "/Users/vru959/anaconda2/envs/py3k/lib/python3.6/site-packages/ipykernel_launcher.py:19: RuntimeWarning: divide by zero encountered in log1p\n",
      "/Users/vru959/anaconda2/envs/py3k/lib/python3.6/site-packages/ipykernel_launcher.py:19: RuntimeWarning: invalid value encountered in multiply\n",
      "/Users/vru959/anaconda2/envs/py3k/lib/python3.6/site-packages/ipykernel_launcher.py:19: RuntimeWarning: divide by zero encountered in log\n",
      "/Users/vru959/anaconda2/envs/py3k/lib/python3.6/site-packages/ipykernel_launcher.py:19: RuntimeWarning: divide by zero encountered in log\n",
      "/Users/vru959/anaconda2/envs/py3k/lib/python3.6/site-packages/ipykernel_launcher.py:19: RuntimeWarning: invalid value encountered in multiply\n",
      "/Users/vru959/anaconda2/envs/py3k/lib/python3.6/site-packages/ipykernel_launcher.py:19: RuntimeWarning: divide by zero encountered in log1p\n",
      "/Users/vru959/anaconda2/envs/py3k/lib/python3.6/site-packages/ipykernel_launcher.py:19: RuntimeWarning: divide by zero encountered in log1p\n",
      "/Users/vru959/anaconda2/envs/py3k/lib/python3.6/site-packages/ipykernel_launcher.py:19: RuntimeWarning: invalid value encountered in multiply\n",
      "/Users/vru959/anaconda2/envs/py3k/lib/python3.6/site-packages/ipykernel_launcher.py:19: RuntimeWarning: divide by zero encountered in log\n",
      "/Users/vru959/anaconda2/envs/py3k/lib/python3.6/site-packages/ipykernel_launcher.py:19: RuntimeWarning: divide by zero encountered in log\n",
      "/Users/vru959/anaconda2/envs/py3k/lib/python3.6/site-packages/ipykernel_launcher.py:19: RuntimeWarning: invalid value encountered in multiply\n",
      "/Users/vru959/anaconda2/envs/py3k/lib/python3.6/site-packages/ipykernel_launcher.py:19: RuntimeWarning: divide by zero encountered in log1p\n",
      "/Users/vru959/anaconda2/envs/py3k/lib/python3.6/site-packages/ipykernel_launcher.py:19: RuntimeWarning: divide by zero encountered in log1p\n",
      "/Users/vru959/anaconda2/envs/py3k/lib/python3.6/site-packages/ipykernel_launcher.py:19: RuntimeWarning: invalid value encountered in multiply\n",
      "/Users/vru959/anaconda2/envs/py3k/lib/python3.6/site-packages/ipykernel_launcher.py:19: RuntimeWarning: divide by zero encountered in log\n",
      "/Users/vru959/anaconda2/envs/py3k/lib/python3.6/site-packages/ipykernel_launcher.py:19: RuntimeWarning: divide by zero encountered in log\n",
      "/Users/vru959/anaconda2/envs/py3k/lib/python3.6/site-packages/ipykernel_launcher.py:19: RuntimeWarning: invalid value encountered in multiply\n",
      "/Users/vru959/anaconda2/envs/py3k/lib/python3.6/site-packages/ipykernel_launcher.py:19: RuntimeWarning: divide by zero encountered in log1p\n",
      "/Users/vru959/anaconda2/envs/py3k/lib/python3.6/site-packages/ipykernel_launcher.py:19: RuntimeWarning: divide by zero encountered in log1p\n",
      "/Users/vru959/anaconda2/envs/py3k/lib/python3.6/site-packages/ipykernel_launcher.py:19: RuntimeWarning: invalid value encountered in multiply\n",
      "/Users/vru959/anaconda2/envs/py3k/lib/python3.6/site-packages/ipykernel_launcher.py:19: RuntimeWarning: divide by zero encountered in log\n",
      "/Users/vru959/anaconda2/envs/py3k/lib/python3.6/site-packages/ipykernel_launcher.py:19: RuntimeWarning: divide by zero encountered in log\n",
      "/Users/vru959/anaconda2/envs/py3k/lib/python3.6/site-packages/ipykernel_launcher.py:19: RuntimeWarning: invalid value encountered in multiply\n",
      "/Users/vru959/anaconda2/envs/py3k/lib/python3.6/site-packages/ipykernel_launcher.py:19: RuntimeWarning: divide by zero encountered in log1p\n",
      "/Users/vru959/anaconda2/envs/py3k/lib/python3.6/site-packages/ipykernel_launcher.py:19: RuntimeWarning: divide by zero encountered in log1p\n",
      "/Users/vru959/anaconda2/envs/py3k/lib/python3.6/site-packages/ipykernel_launcher.py:19: RuntimeWarning: invalid value encountered in multiply\n",
      "/Users/vru959/anaconda2/envs/py3k/lib/python3.6/site-packages/ipykernel_launcher.py:19: RuntimeWarning: divide by zero encountered in log\n",
      "/Users/vru959/anaconda2/envs/py3k/lib/python3.6/site-packages/ipykernel_launcher.py:19: RuntimeWarning: divide by zero encountered in log\n",
      "/Users/vru959/anaconda2/envs/py3k/lib/python3.6/site-packages/ipykernel_launcher.py:19: RuntimeWarning: invalid value encountered in multiply\n",
      "/Users/vru959/anaconda2/envs/py3k/lib/python3.6/site-packages/ipykernel_launcher.py:19: RuntimeWarning: divide by zero encountered in log1p\n",
      "/Users/vru959/anaconda2/envs/py3k/lib/python3.6/site-packages/ipykernel_launcher.py:19: RuntimeWarning: divide by zero encountered in log1p\n",
      "/Users/vru959/anaconda2/envs/py3k/lib/python3.6/site-packages/ipykernel_launcher.py:19: RuntimeWarning: invalid value encountered in multiply\n",
      "/Users/vru959/anaconda2/envs/py3k/lib/python3.6/site-packages/ipykernel_launcher.py:19: RuntimeWarning: divide by zero encountered in log\n",
      "/Users/vru959/anaconda2/envs/py3k/lib/python3.6/site-packages/ipykernel_launcher.py:19: RuntimeWarning: divide by zero encountered in log\n",
      "/Users/vru959/anaconda2/envs/py3k/lib/python3.6/site-packages/ipykernel_launcher.py:19: RuntimeWarning: invalid value encountered in multiply\n",
      "/Users/vru959/anaconda2/envs/py3k/lib/python3.6/site-packages/ipykernel_launcher.py:19: RuntimeWarning: divide by zero encountered in log1p\n",
      "/Users/vru959/anaconda2/envs/py3k/lib/python3.6/site-packages/ipykernel_launcher.py:19: RuntimeWarning: divide by zero encountered in log1p\n",
      "/Users/vru959/anaconda2/envs/py3k/lib/python3.6/site-packages/ipykernel_launcher.py:19: RuntimeWarning: invalid value encountered in multiply\n",
      "/Users/vru959/anaconda2/envs/py3k/lib/python3.6/site-packages/ipykernel_launcher.py:19: RuntimeWarning: divide by zero encountered in log\n",
      "/Users/vru959/anaconda2/envs/py3k/lib/python3.6/site-packages/ipykernel_launcher.py:19: RuntimeWarning: divide by zero encountered in log\n",
      "/Users/vru959/anaconda2/envs/py3k/lib/python3.6/site-packages/ipykernel_launcher.py:19: RuntimeWarning: invalid value encountered in multiply\n",
      "/Users/vru959/anaconda2/envs/py3k/lib/python3.6/site-packages/ipykernel_launcher.py:19: RuntimeWarning: divide by zero encountered in log1p\n",
      "/Users/vru959/anaconda2/envs/py3k/lib/python3.6/site-packages/ipykernel_launcher.py:19: RuntimeWarning: divide by zero encountered in log1p\n",
      "/Users/vru959/anaconda2/envs/py3k/lib/python3.6/site-packages/ipykernel_launcher.py:19: RuntimeWarning: invalid value encountered in multiply\n",
      "/Users/vru959/anaconda2/envs/py3k/lib/python3.6/site-packages/ipykernel_launcher.py:19: RuntimeWarning: divide by zero encountered in log\n",
      "/Users/vru959/anaconda2/envs/py3k/lib/python3.6/site-packages/ipykernel_launcher.py:19: RuntimeWarning: divide by zero encountered in log\n",
      "/Users/vru959/anaconda2/envs/py3k/lib/python3.6/site-packages/ipykernel_launcher.py:19: RuntimeWarning: invalid value encountered in multiply\n",
      "/Users/vru959/anaconda2/envs/py3k/lib/python3.6/site-packages/ipykernel_launcher.py:19: RuntimeWarning: divide by zero encountered in log1p\n"
     ]
    },
    {
     "name": "stdout",
     "output_type": "stream",
     "text": [
      "[2019-02-24 18:22:27,033][INFO]: Experiment_30 at t=500\n"
     ]
    },
    {
     "name": "stderr",
     "output_type": "stream",
     "text": [
      "/Users/vru959/anaconda2/envs/py3k/lib/python3.6/site-packages/ipykernel_launcher.py:19: RuntimeWarning: divide by zero encountered in log1p\n",
      "/Users/vru959/anaconda2/envs/py3k/lib/python3.6/site-packages/ipykernel_launcher.py:19: RuntimeWarning: invalid value encountered in multiply\n",
      "/Users/vru959/anaconda2/envs/py3k/lib/python3.6/site-packages/ipykernel_launcher.py:19: RuntimeWarning: divide by zero encountered in log\n",
      "/Users/vru959/anaconda2/envs/py3k/lib/python3.6/site-packages/ipykernel_launcher.py:19: RuntimeWarning: divide by zero encountered in log\n",
      "/Users/vru959/anaconda2/envs/py3k/lib/python3.6/site-packages/ipykernel_launcher.py:19: RuntimeWarning: invalid value encountered in multiply\n",
      "/Users/vru959/anaconda2/envs/py3k/lib/python3.6/site-packages/ipykernel_launcher.py:19: RuntimeWarning: divide by zero encountered in log1p\n",
      "/Users/vru959/anaconda2/envs/py3k/lib/python3.6/site-packages/ipykernel_launcher.py:19: RuntimeWarning: divide by zero encountered in log1p\n",
      "/Users/vru959/anaconda2/envs/py3k/lib/python3.6/site-packages/ipykernel_launcher.py:19: RuntimeWarning: invalid value encountered in multiply\n",
      "/Users/vru959/anaconda2/envs/py3k/lib/python3.6/site-packages/ipykernel_launcher.py:19: RuntimeWarning: divide by zero encountered in log\n",
      "/Users/vru959/anaconda2/envs/py3k/lib/python3.6/site-packages/ipykernel_launcher.py:19: RuntimeWarning: divide by zero encountered in log\n",
      "/Users/vru959/anaconda2/envs/py3k/lib/python3.6/site-packages/ipykernel_launcher.py:19: RuntimeWarning: invalid value encountered in multiply\n",
      "/Users/vru959/anaconda2/envs/py3k/lib/python3.6/site-packages/ipykernel_launcher.py:19: RuntimeWarning: divide by zero encountered in log1p\n",
      "/Users/vru959/anaconda2/envs/py3k/lib/python3.6/site-packages/ipykernel_launcher.py:19: RuntimeWarning: divide by zero encountered in log1p\n",
      "/Users/vru959/anaconda2/envs/py3k/lib/python3.6/site-packages/ipykernel_launcher.py:19: RuntimeWarning: invalid value encountered in multiply\n",
      "/Users/vru959/anaconda2/envs/py3k/lib/python3.6/site-packages/ipykernel_launcher.py:19: RuntimeWarning: divide by zero encountered in log\n",
      "/Users/vru959/anaconda2/envs/py3k/lib/python3.6/site-packages/ipykernel_launcher.py:19: RuntimeWarning: divide by zero encountered in log\n",
      "/Users/vru959/anaconda2/envs/py3k/lib/python3.6/site-packages/ipykernel_launcher.py:19: RuntimeWarning: invalid value encountered in multiply\n",
      "/Users/vru959/anaconda2/envs/py3k/lib/python3.6/site-packages/ipykernel_launcher.py:19: RuntimeWarning: divide by zero encountered in log1p\n",
      "/Users/vru959/anaconda2/envs/py3k/lib/python3.6/site-packages/ipykernel_launcher.py:19: RuntimeWarning: divide by zero encountered in log1p\n",
      "/Users/vru959/anaconda2/envs/py3k/lib/python3.6/site-packages/ipykernel_launcher.py:19: RuntimeWarning: invalid value encountered in multiply\n",
      "/Users/vru959/anaconda2/envs/py3k/lib/python3.6/site-packages/ipykernel_launcher.py:19: RuntimeWarning: divide by zero encountered in log\n",
      "/Users/vru959/anaconda2/envs/py3k/lib/python3.6/site-packages/ipykernel_launcher.py:19: RuntimeWarning: divide by zero encountered in log\n",
      "/Users/vru959/anaconda2/envs/py3k/lib/python3.6/site-packages/ipykernel_launcher.py:19: RuntimeWarning: invalid value encountered in multiply\n",
      "/Users/vru959/anaconda2/envs/py3k/lib/python3.6/site-packages/ipykernel_launcher.py:19: RuntimeWarning: divide by zero encountered in log1p\n",
      "/Users/vru959/anaconda2/envs/py3k/lib/python3.6/site-packages/ipykernel_launcher.py:19: RuntimeWarning: divide by zero encountered in log1p\n",
      "/Users/vru959/anaconda2/envs/py3k/lib/python3.6/site-packages/ipykernel_launcher.py:19: RuntimeWarning: invalid value encountered in multiply\n",
      "/Users/vru959/anaconda2/envs/py3k/lib/python3.6/site-packages/ipykernel_launcher.py:19: RuntimeWarning: divide by zero encountered in log\n",
      "/Users/vru959/anaconda2/envs/py3k/lib/python3.6/site-packages/ipykernel_launcher.py:19: RuntimeWarning: divide by zero encountered in log\n",
      "/Users/vru959/anaconda2/envs/py3k/lib/python3.6/site-packages/ipykernel_launcher.py:19: RuntimeWarning: invalid value encountered in multiply\n",
      "/Users/vru959/anaconda2/envs/py3k/lib/python3.6/site-packages/ipykernel_launcher.py:19: RuntimeWarning: divide by zero encountered in log1p\n",
      "/Users/vru959/anaconda2/envs/py3k/lib/python3.6/site-packages/ipykernel_launcher.py:19: RuntimeWarning: divide by zero encountered in log1p\n",
      "/Users/vru959/anaconda2/envs/py3k/lib/python3.6/site-packages/ipykernel_launcher.py:19: RuntimeWarning: invalid value encountered in multiply\n",
      "/Users/vru959/anaconda2/envs/py3k/lib/python3.6/site-packages/ipykernel_launcher.py:19: RuntimeWarning: divide by zero encountered in log\n",
      "/Users/vru959/anaconda2/envs/py3k/lib/python3.6/site-packages/ipykernel_launcher.py:19: RuntimeWarning: divide by zero encountered in log\n",
      "/Users/vru959/anaconda2/envs/py3k/lib/python3.6/site-packages/ipykernel_launcher.py:19: RuntimeWarning: invalid value encountered in multiply\n",
      "/Users/vru959/anaconda2/envs/py3k/lib/python3.6/site-packages/ipykernel_launcher.py:19: RuntimeWarning: divide by zero encountered in log1p\n"
     ]
    },
    {
     "name": "stdout",
     "output_type": "stream",
     "text": [
      "[2019-02-24 18:22:30,328][INFO]: Experiment_31 at t=500\n"
     ]
    },
    {
     "name": "stderr",
     "output_type": "stream",
     "text": [
      "/Users/vru959/anaconda2/envs/py3k/lib/python3.6/site-packages/ipykernel_launcher.py:19: RuntimeWarning: divide by zero encountered in log1p\n",
      "/Users/vru959/anaconda2/envs/py3k/lib/python3.6/site-packages/ipykernel_launcher.py:19: RuntimeWarning: invalid value encountered in multiply\n",
      "/Users/vru959/anaconda2/envs/py3k/lib/python3.6/site-packages/ipykernel_launcher.py:19: RuntimeWarning: divide by zero encountered in log\n",
      "/Users/vru959/anaconda2/envs/py3k/lib/python3.6/site-packages/ipykernel_launcher.py:19: RuntimeWarning: divide by zero encountered in log\n",
      "/Users/vru959/anaconda2/envs/py3k/lib/python3.6/site-packages/ipykernel_launcher.py:19: RuntimeWarning: invalid value encountered in multiply\n",
      "/Users/vru959/anaconda2/envs/py3k/lib/python3.6/site-packages/ipykernel_launcher.py:19: RuntimeWarning: divide by zero encountered in log1p\n",
      "/Users/vru959/anaconda2/envs/py3k/lib/python3.6/site-packages/ipykernel_launcher.py:19: RuntimeWarning: divide by zero encountered in log1p\n",
      "/Users/vru959/anaconda2/envs/py3k/lib/python3.6/site-packages/ipykernel_launcher.py:19: RuntimeWarning: invalid value encountered in multiply\n",
      "/Users/vru959/anaconda2/envs/py3k/lib/python3.6/site-packages/ipykernel_launcher.py:19: RuntimeWarning: divide by zero encountered in log\n",
      "/Users/vru959/anaconda2/envs/py3k/lib/python3.6/site-packages/ipykernel_launcher.py:19: RuntimeWarning: divide by zero encountered in log\n",
      "/Users/vru959/anaconda2/envs/py3k/lib/python3.6/site-packages/ipykernel_launcher.py:19: RuntimeWarning: invalid value encountered in multiply\n",
      "/Users/vru959/anaconda2/envs/py3k/lib/python3.6/site-packages/ipykernel_launcher.py:19: RuntimeWarning: divide by zero encountered in log1p\n",
      "/Users/vru959/anaconda2/envs/py3k/lib/python3.6/site-packages/ipykernel_launcher.py:19: RuntimeWarning: divide by zero encountered in log1p\n",
      "/Users/vru959/anaconda2/envs/py3k/lib/python3.6/site-packages/ipykernel_launcher.py:19: RuntimeWarning: invalid value encountered in multiply\n",
      "/Users/vru959/anaconda2/envs/py3k/lib/python3.6/site-packages/ipykernel_launcher.py:19: RuntimeWarning: divide by zero encountered in log\n",
      "/Users/vru959/anaconda2/envs/py3k/lib/python3.6/site-packages/ipykernel_launcher.py:19: RuntimeWarning: divide by zero encountered in log\n",
      "/Users/vru959/anaconda2/envs/py3k/lib/python3.6/site-packages/ipykernel_launcher.py:19: RuntimeWarning: invalid value encountered in multiply\n",
      "/Users/vru959/anaconda2/envs/py3k/lib/python3.6/site-packages/ipykernel_launcher.py:19: RuntimeWarning: divide by zero encountered in log1p\n",
      "/Users/vru959/anaconda2/envs/py3k/lib/python3.6/site-packages/ipykernel_launcher.py:19: RuntimeWarning: divide by zero encountered in log1p\n",
      "/Users/vru959/anaconda2/envs/py3k/lib/python3.6/site-packages/ipykernel_launcher.py:19: RuntimeWarning: invalid value encountered in multiply\n",
      "/Users/vru959/anaconda2/envs/py3k/lib/python3.6/site-packages/ipykernel_launcher.py:19: RuntimeWarning: divide by zero encountered in log\n",
      "/Users/vru959/anaconda2/envs/py3k/lib/python3.6/site-packages/ipykernel_launcher.py:19: RuntimeWarning: divide by zero encountered in log\n",
      "/Users/vru959/anaconda2/envs/py3k/lib/python3.6/site-packages/ipykernel_launcher.py:19: RuntimeWarning: invalid value encountered in multiply\n",
      "/Users/vru959/anaconda2/envs/py3k/lib/python3.6/site-packages/ipykernel_launcher.py:19: RuntimeWarning: divide by zero encountered in log1p\n",
      "/Users/vru959/anaconda2/envs/py3k/lib/python3.6/site-packages/ipykernel_launcher.py:19: RuntimeWarning: divide by zero encountered in log1p\n",
      "/Users/vru959/anaconda2/envs/py3k/lib/python3.6/site-packages/ipykernel_launcher.py:19: RuntimeWarning: invalid value encountered in multiply\n",
      "/Users/vru959/anaconda2/envs/py3k/lib/python3.6/site-packages/ipykernel_launcher.py:19: RuntimeWarning: divide by zero encountered in log\n",
      "/Users/vru959/anaconda2/envs/py3k/lib/python3.6/site-packages/ipykernel_launcher.py:19: RuntimeWarning: divide by zero encountered in log\n",
      "/Users/vru959/anaconda2/envs/py3k/lib/python3.6/site-packages/ipykernel_launcher.py:19: RuntimeWarning: invalid value encountered in multiply\n",
      "/Users/vru959/anaconda2/envs/py3k/lib/python3.6/site-packages/ipykernel_launcher.py:19: RuntimeWarning: divide by zero encountered in log1p\n"
     ]
    },
    {
     "name": "stdout",
     "output_type": "stream",
     "text": [
      "[2019-02-24 18:22:32,046][INFO]: Experiment_32 at t=500\n",
      "[2019-02-24 18:22:32,092][INFO]: Experiment_33 at t=500\n",
      "[2019-02-24 18:22:32,653][INFO]: Experiment_34 at t=500\n"
     ]
    },
    {
     "name": "stderr",
     "output_type": "stream",
     "text": [
      "/Users/vru959/anaconda2/envs/py3k/lib/python3.6/site-packages/ipykernel_launcher.py:19: RuntimeWarning: divide by zero encountered in log1p\n",
      "/Users/vru959/anaconda2/envs/py3k/lib/python3.6/site-packages/ipykernel_launcher.py:19: RuntimeWarning: invalid value encountered in multiply\n",
      "/Users/vru959/anaconda2/envs/py3k/lib/python3.6/site-packages/ipykernel_launcher.py:19: RuntimeWarning: divide by zero encountered in log\n",
      "/Users/vru959/anaconda2/envs/py3k/lib/python3.6/site-packages/ipykernel_launcher.py:19: RuntimeWarning: divide by zero encountered in log\n",
      "/Users/vru959/anaconda2/envs/py3k/lib/python3.6/site-packages/ipykernel_launcher.py:19: RuntimeWarning: invalid value encountered in multiply\n",
      "/Users/vru959/anaconda2/envs/py3k/lib/python3.6/site-packages/ipykernel_launcher.py:19: RuntimeWarning: divide by zero encountered in log1p\n",
      "/Users/vru959/anaconda2/envs/py3k/lib/python3.6/site-packages/ipykernel_launcher.py:19: RuntimeWarning: divide by zero encountered in log1p\n",
      "/Users/vru959/anaconda2/envs/py3k/lib/python3.6/site-packages/ipykernel_launcher.py:19: RuntimeWarning: invalid value encountered in multiply\n",
      "/Users/vru959/anaconda2/envs/py3k/lib/python3.6/site-packages/ipykernel_launcher.py:19: RuntimeWarning: divide by zero encountered in log\n",
      "/Users/vru959/anaconda2/envs/py3k/lib/python3.6/site-packages/ipykernel_launcher.py:19: RuntimeWarning: divide by zero encountered in log\n",
      "/Users/vru959/anaconda2/envs/py3k/lib/python3.6/site-packages/ipykernel_launcher.py:19: RuntimeWarning: invalid value encountered in multiply\n",
      "/Users/vru959/anaconda2/envs/py3k/lib/python3.6/site-packages/ipykernel_launcher.py:19: RuntimeWarning: divide by zero encountered in log1p\n",
      "/Users/vru959/anaconda2/envs/py3k/lib/python3.6/site-packages/ipykernel_launcher.py:19: RuntimeWarning: divide by zero encountered in log1p\n",
      "/Users/vru959/anaconda2/envs/py3k/lib/python3.6/site-packages/ipykernel_launcher.py:19: RuntimeWarning: invalid value encountered in multiply\n",
      "/Users/vru959/anaconda2/envs/py3k/lib/python3.6/site-packages/ipykernel_launcher.py:19: RuntimeWarning: divide by zero encountered in log\n",
      "/Users/vru959/anaconda2/envs/py3k/lib/python3.6/site-packages/ipykernel_launcher.py:19: RuntimeWarning: divide by zero encountered in log\n",
      "/Users/vru959/anaconda2/envs/py3k/lib/python3.6/site-packages/ipykernel_launcher.py:19: RuntimeWarning: invalid value encountered in multiply\n",
      "/Users/vru959/anaconda2/envs/py3k/lib/python3.6/site-packages/ipykernel_launcher.py:19: RuntimeWarning: divide by zero encountered in log1p\n",
      "/Users/vru959/anaconda2/envs/py3k/lib/python3.6/site-packages/ipykernel_launcher.py:19: RuntimeWarning: divide by zero encountered in log1p\n",
      "/Users/vru959/anaconda2/envs/py3k/lib/python3.6/site-packages/ipykernel_launcher.py:19: RuntimeWarning: invalid value encountered in multiply\n",
      "/Users/vru959/anaconda2/envs/py3k/lib/python3.6/site-packages/ipykernel_launcher.py:19: RuntimeWarning: divide by zero encountered in log\n",
      "/Users/vru959/anaconda2/envs/py3k/lib/python3.6/site-packages/ipykernel_launcher.py:19: RuntimeWarning: divide by zero encountered in log\n",
      "/Users/vru959/anaconda2/envs/py3k/lib/python3.6/site-packages/ipykernel_launcher.py:19: RuntimeWarning: invalid value encountered in multiply\n",
      "/Users/vru959/anaconda2/envs/py3k/lib/python3.6/site-packages/ipykernel_launcher.py:19: RuntimeWarning: divide by zero encountered in log1p\n",
      "/Users/vru959/anaconda2/envs/py3k/lib/python3.6/site-packages/ipykernel_launcher.py:19: RuntimeWarning: divide by zero encountered in log1p\n",
      "/Users/vru959/anaconda2/envs/py3k/lib/python3.6/site-packages/ipykernel_launcher.py:19: RuntimeWarning: invalid value encountered in multiply\n",
      "/Users/vru959/anaconda2/envs/py3k/lib/python3.6/site-packages/ipykernel_launcher.py:19: RuntimeWarning: divide by zero encountered in log\n",
      "/Users/vru959/anaconda2/envs/py3k/lib/python3.6/site-packages/ipykernel_launcher.py:19: RuntimeWarning: divide by zero encountered in log\n",
      "/Users/vru959/anaconda2/envs/py3k/lib/python3.6/site-packages/ipykernel_launcher.py:19: RuntimeWarning: invalid value encountered in multiply\n",
      "/Users/vru959/anaconda2/envs/py3k/lib/python3.6/site-packages/ipykernel_launcher.py:19: RuntimeWarning: divide by zero encountered in log1p\n",
      "/Users/vru959/anaconda2/envs/py3k/lib/python3.6/site-packages/ipykernel_launcher.py:19: RuntimeWarning: divide by zero encountered in log1p\n",
      "/Users/vru959/anaconda2/envs/py3k/lib/python3.6/site-packages/ipykernel_launcher.py:19: RuntimeWarning: invalid value encountered in multiply\n",
      "/Users/vru959/anaconda2/envs/py3k/lib/python3.6/site-packages/ipykernel_launcher.py:19: RuntimeWarning: divide by zero encountered in log\n",
      "/Users/vru959/anaconda2/envs/py3k/lib/python3.6/site-packages/ipykernel_launcher.py:19: RuntimeWarning: divide by zero encountered in log\n",
      "/Users/vru959/anaconda2/envs/py3k/lib/python3.6/site-packages/ipykernel_launcher.py:19: RuntimeWarning: invalid value encountered in multiply\n",
      "/Users/vru959/anaconda2/envs/py3k/lib/python3.6/site-packages/ipykernel_launcher.py:19: RuntimeWarning: divide by zero encountered in log1p\n",
      "/Users/vru959/anaconda2/envs/py3k/lib/python3.6/site-packages/ipykernel_launcher.py:19: RuntimeWarning: divide by zero encountered in log1p\n",
      "/Users/vru959/anaconda2/envs/py3k/lib/python3.6/site-packages/ipykernel_launcher.py:19: RuntimeWarning: invalid value encountered in multiply\n",
      "/Users/vru959/anaconda2/envs/py3k/lib/python3.6/site-packages/ipykernel_launcher.py:19: RuntimeWarning: divide by zero encountered in log\n",
      "/Users/vru959/anaconda2/envs/py3k/lib/python3.6/site-packages/ipykernel_launcher.py:19: RuntimeWarning: divide by zero encountered in log\n",
      "/Users/vru959/anaconda2/envs/py3k/lib/python3.6/site-packages/ipykernel_launcher.py:19: RuntimeWarning: invalid value encountered in multiply\n",
      "/Users/vru959/anaconda2/envs/py3k/lib/python3.6/site-packages/ipykernel_launcher.py:19: RuntimeWarning: divide by zero encountered in log1p\n",
      "/Users/vru959/anaconda2/envs/py3k/lib/python3.6/site-packages/ipykernel_launcher.py:19: RuntimeWarning: divide by zero encountered in log1p\n",
      "/Users/vru959/anaconda2/envs/py3k/lib/python3.6/site-packages/ipykernel_launcher.py:19: RuntimeWarning: invalid value encountered in multiply\n",
      "/Users/vru959/anaconda2/envs/py3k/lib/python3.6/site-packages/ipykernel_launcher.py:19: RuntimeWarning: divide by zero encountered in log\n",
      "/Users/vru959/anaconda2/envs/py3k/lib/python3.6/site-packages/ipykernel_launcher.py:19: RuntimeWarning: divide by zero encountered in log\n",
      "/Users/vru959/anaconda2/envs/py3k/lib/python3.6/site-packages/ipykernel_launcher.py:19: RuntimeWarning: invalid value encountered in multiply\n",
      "/Users/vru959/anaconda2/envs/py3k/lib/python3.6/site-packages/ipykernel_launcher.py:19: RuntimeWarning: divide by zero encountered in log1p\n",
      "/Users/vru959/anaconda2/envs/py3k/lib/python3.6/site-packages/ipykernel_launcher.py:19: RuntimeWarning: divide by zero encountered in log1p\n",
      "/Users/vru959/anaconda2/envs/py3k/lib/python3.6/site-packages/ipykernel_launcher.py:19: RuntimeWarning: invalid value encountered in multiply\n",
      "/Users/vru959/anaconda2/envs/py3k/lib/python3.6/site-packages/ipykernel_launcher.py:19: RuntimeWarning: divide by zero encountered in log\n",
      "/Users/vru959/anaconda2/envs/py3k/lib/python3.6/site-packages/ipykernel_launcher.py:19: RuntimeWarning: divide by zero encountered in log\n",
      "/Users/vru959/anaconda2/envs/py3k/lib/python3.6/site-packages/ipykernel_launcher.py:19: RuntimeWarning: invalid value encountered in multiply\n",
      "/Users/vru959/anaconda2/envs/py3k/lib/python3.6/site-packages/ipykernel_launcher.py:19: RuntimeWarning: divide by zero encountered in log1p\n"
     ]
    },
    {
     "name": "stdout",
     "output_type": "stream",
     "text": [
      "[2019-02-24 18:22:36,640][INFO]: Experiment_28 at t=1000\n"
     ]
    },
    {
     "name": "stderr",
     "output_type": "stream",
     "text": [
      "/Users/vru959/anaconda2/envs/py3k/lib/python3.6/site-packages/ipykernel_launcher.py:19: RuntimeWarning: divide by zero encountered in log1p\n",
      "/Users/vru959/anaconda2/envs/py3k/lib/python3.6/site-packages/ipykernel_launcher.py:19: RuntimeWarning: invalid value encountered in multiply\n",
      "/Users/vru959/anaconda2/envs/py3k/lib/python3.6/site-packages/ipykernel_launcher.py:19: RuntimeWarning: divide by zero encountered in log\n",
      "/Users/vru959/anaconda2/envs/py3k/lib/python3.6/site-packages/ipykernel_launcher.py:19: RuntimeWarning: divide by zero encountered in log\n",
      "/Users/vru959/anaconda2/envs/py3k/lib/python3.6/site-packages/ipykernel_launcher.py:19: RuntimeWarning: invalid value encountered in multiply\n",
      "/Users/vru959/anaconda2/envs/py3k/lib/python3.6/site-packages/ipykernel_launcher.py:19: RuntimeWarning: divide by zero encountered in log1p\n"
     ]
    },
    {
     "name": "stdout",
     "output_type": "stream",
     "text": [
      "[2019-02-24 18:22:36,730][INFO]: Experiment_28 complete.\n",
      "[2019-02-24 18:22:36,734][INFO]: Experiment_35 beginning...\n"
     ]
    },
    {
     "name": "stderr",
     "output_type": "stream",
     "text": [
      "/Users/vru959/anaconda2/envs/py3k/lib/python3.6/site-packages/ipykernel_launcher.py:19: RuntimeWarning: divide by zero encountered in log1p\n",
      "/Users/vru959/anaconda2/envs/py3k/lib/python3.6/site-packages/ipykernel_launcher.py:19: RuntimeWarning: invalid value encountered in multiply\n",
      "/Users/vru959/anaconda2/envs/py3k/lib/python3.6/site-packages/ipykernel_launcher.py:19: RuntimeWarning: divide by zero encountered in log\n",
      "/Users/vru959/anaconda2/envs/py3k/lib/python3.6/site-packages/ipykernel_launcher.py:19: RuntimeWarning: divide by zero encountered in log\n",
      "/Users/vru959/anaconda2/envs/py3k/lib/python3.6/site-packages/ipykernel_launcher.py:19: RuntimeWarning: invalid value encountered in multiply\n",
      "/Users/vru959/anaconda2/envs/py3k/lib/python3.6/site-packages/ipykernel_launcher.py:19: RuntimeWarning: divide by zero encountered in log1p\n"
     ]
    },
    {
     "name": "stdout",
     "output_type": "stream",
     "text": [
      "[2019-02-24 18:22:37,688][INFO]: Experiment_29 at t=1000\n",
      "[2019-02-24 18:22:37,748][INFO]: Experiment_29 complete.\n",
      "[2019-02-24 18:22:37,751][INFO]: Experiment_36 beginning...\n"
     ]
    },
    {
     "name": "stderr",
     "output_type": "stream",
     "text": [
      "/Users/vru959/anaconda2/envs/py3k/lib/python3.6/site-packages/ipykernel_launcher.py:19: RuntimeWarning: divide by zero encountered in log1p\n",
      "/Users/vru959/anaconda2/envs/py3k/lib/python3.6/site-packages/ipykernel_launcher.py:19: RuntimeWarning: invalid value encountered in multiply\n",
      "/Users/vru959/anaconda2/envs/py3k/lib/python3.6/site-packages/ipykernel_launcher.py:19: RuntimeWarning: divide by zero encountered in log\n",
      "/Users/vru959/anaconda2/envs/py3k/lib/python3.6/site-packages/ipykernel_launcher.py:19: RuntimeWarning: divide by zero encountered in log\n",
      "/Users/vru959/anaconda2/envs/py3k/lib/python3.6/site-packages/ipykernel_launcher.py:19: RuntimeWarning: invalid value encountered in multiply\n",
      "/Users/vru959/anaconda2/envs/py3k/lib/python3.6/site-packages/ipykernel_launcher.py:19: RuntimeWarning: divide by zero encountered in log1p\n",
      "/Users/vru959/anaconda2/envs/py3k/lib/python3.6/site-packages/ipykernel_launcher.py:19: RuntimeWarning: divide by zero encountered in log1p\n",
      "/Users/vru959/anaconda2/envs/py3k/lib/python3.6/site-packages/ipykernel_launcher.py:19: RuntimeWarning: invalid value encountered in multiply\n",
      "/Users/vru959/anaconda2/envs/py3k/lib/python3.6/site-packages/ipykernel_launcher.py:19: RuntimeWarning: divide by zero encountered in log\n",
      "/Users/vru959/anaconda2/envs/py3k/lib/python3.6/site-packages/ipykernel_launcher.py:19: RuntimeWarning: divide by zero encountered in log\n",
      "/Users/vru959/anaconda2/envs/py3k/lib/python3.6/site-packages/ipykernel_launcher.py:19: RuntimeWarning: invalid value encountered in multiply\n",
      "/Users/vru959/anaconda2/envs/py3k/lib/python3.6/site-packages/ipykernel_launcher.py:19: RuntimeWarning: divide by zero encountered in log1p\n",
      "/Users/vru959/anaconda2/envs/py3k/lib/python3.6/site-packages/ipykernel_launcher.py:19: RuntimeWarning: divide by zero encountered in log1p\n",
      "/Users/vru959/anaconda2/envs/py3k/lib/python3.6/site-packages/ipykernel_launcher.py:19: RuntimeWarning: invalid value encountered in multiply\n",
      "/Users/vru959/anaconda2/envs/py3k/lib/python3.6/site-packages/ipykernel_launcher.py:19: RuntimeWarning: divide by zero encountered in log\n",
      "/Users/vru959/anaconda2/envs/py3k/lib/python3.6/site-packages/ipykernel_launcher.py:19: RuntimeWarning: divide by zero encountered in log\n",
      "/Users/vru959/anaconda2/envs/py3k/lib/python3.6/site-packages/ipykernel_launcher.py:19: RuntimeWarning: invalid value encountered in multiply\n",
      "/Users/vru959/anaconda2/envs/py3k/lib/python3.6/site-packages/ipykernel_launcher.py:19: RuntimeWarning: divide by zero encountered in log1p\n",
      "/Users/vru959/anaconda2/envs/py3k/lib/python3.6/site-packages/ipykernel_launcher.py:19: RuntimeWarning: divide by zero encountered in log1p\n",
      "/Users/vru959/anaconda2/envs/py3k/lib/python3.6/site-packages/ipykernel_launcher.py:19: RuntimeWarning: invalid value encountered in multiply\n",
      "/Users/vru959/anaconda2/envs/py3k/lib/python3.6/site-packages/ipykernel_launcher.py:19: RuntimeWarning: divide by zero encountered in log\n",
      "/Users/vru959/anaconda2/envs/py3k/lib/python3.6/site-packages/ipykernel_launcher.py:19: RuntimeWarning: divide by zero encountered in log\n",
      "/Users/vru959/anaconda2/envs/py3k/lib/python3.6/site-packages/ipykernel_launcher.py:19: RuntimeWarning: invalid value encountered in multiply\n",
      "/Users/vru959/anaconda2/envs/py3k/lib/python3.6/site-packages/ipykernel_launcher.py:19: RuntimeWarning: divide by zero encountered in log1p\n",
      "/Users/vru959/anaconda2/envs/py3k/lib/python3.6/site-packages/ipykernel_launcher.py:19: RuntimeWarning: divide by zero encountered in log1p\n",
      "/Users/vru959/anaconda2/envs/py3k/lib/python3.6/site-packages/ipykernel_launcher.py:19: RuntimeWarning: invalid value encountered in multiply\n",
      "/Users/vru959/anaconda2/envs/py3k/lib/python3.6/site-packages/ipykernel_launcher.py:19: RuntimeWarning: divide by zero encountered in log\n",
      "/Users/vru959/anaconda2/envs/py3k/lib/python3.6/site-packages/ipykernel_launcher.py:19: RuntimeWarning: divide by zero encountered in log\n",
      "/Users/vru959/anaconda2/envs/py3k/lib/python3.6/site-packages/ipykernel_launcher.py:19: RuntimeWarning: invalid value encountered in multiply\n",
      "/Users/vru959/anaconda2/envs/py3k/lib/python3.6/site-packages/ipykernel_launcher.py:19: RuntimeWarning: divide by zero encountered in log1p\n",
      "/Users/vru959/anaconda2/envs/py3k/lib/python3.6/site-packages/ipykernel_launcher.py:19: RuntimeWarning: divide by zero encountered in log1p\n",
      "/Users/vru959/anaconda2/envs/py3k/lib/python3.6/site-packages/ipykernel_launcher.py:19: RuntimeWarning: invalid value encountered in multiply\n",
      "/Users/vru959/anaconda2/envs/py3k/lib/python3.6/site-packages/ipykernel_launcher.py:19: RuntimeWarning: divide by zero encountered in log\n",
      "/Users/vru959/anaconda2/envs/py3k/lib/python3.6/site-packages/ipykernel_launcher.py:19: RuntimeWarning: divide by zero encountered in log\n",
      "/Users/vru959/anaconda2/envs/py3k/lib/python3.6/site-packages/ipykernel_launcher.py:19: RuntimeWarning: invalid value encountered in multiply\n",
      "/Users/vru959/anaconda2/envs/py3k/lib/python3.6/site-packages/ipykernel_launcher.py:19: RuntimeWarning: divide by zero encountered in log1p\n",
      "/Users/vru959/anaconda2/envs/py3k/lib/python3.6/site-packages/ipykernel_launcher.py:19: RuntimeWarning: divide by zero encountered in log1p\n",
      "/Users/vru959/anaconda2/envs/py3k/lib/python3.6/site-packages/ipykernel_launcher.py:19: RuntimeWarning: invalid value encountered in multiply\n",
      "/Users/vru959/anaconda2/envs/py3k/lib/python3.6/site-packages/ipykernel_launcher.py:19: RuntimeWarning: divide by zero encountered in log\n",
      "/Users/vru959/anaconda2/envs/py3k/lib/python3.6/site-packages/ipykernel_launcher.py:19: RuntimeWarning: divide by zero encountered in log\n",
      "/Users/vru959/anaconda2/envs/py3k/lib/python3.6/site-packages/ipykernel_launcher.py:19: RuntimeWarning: invalid value encountered in multiply\n",
      "/Users/vru959/anaconda2/envs/py3k/lib/python3.6/site-packages/ipykernel_launcher.py:19: RuntimeWarning: divide by zero encountered in log1p\n",
      "/Users/vru959/anaconda2/envs/py3k/lib/python3.6/site-packages/ipykernel_launcher.py:19: RuntimeWarning: divide by zero encountered in log1p\n",
      "/Users/vru959/anaconda2/envs/py3k/lib/python3.6/site-packages/ipykernel_launcher.py:19: RuntimeWarning: invalid value encountered in multiply\n",
      "/Users/vru959/anaconda2/envs/py3k/lib/python3.6/site-packages/ipykernel_launcher.py:19: RuntimeWarning: divide by zero encountered in log\n",
      "/Users/vru959/anaconda2/envs/py3k/lib/python3.6/site-packages/ipykernel_launcher.py:19: RuntimeWarning: divide by zero encountered in log\n",
      "/Users/vru959/anaconda2/envs/py3k/lib/python3.6/site-packages/ipykernel_launcher.py:19: RuntimeWarning: invalid value encountered in multiply\n",
      "/Users/vru959/anaconda2/envs/py3k/lib/python3.6/site-packages/ipykernel_launcher.py:19: RuntimeWarning: divide by zero encountered in log1p\n",
      "/Users/vru959/anaconda2/envs/py3k/lib/python3.6/site-packages/ipykernel_launcher.py:19: RuntimeWarning: divide by zero encountered in log1p\n",
      "/Users/vru959/anaconda2/envs/py3k/lib/python3.6/site-packages/ipykernel_launcher.py:19: RuntimeWarning: invalid value encountered in multiply\n",
      "/Users/vru959/anaconda2/envs/py3k/lib/python3.6/site-packages/ipykernel_launcher.py:19: RuntimeWarning: divide by zero encountered in log\n",
      "/Users/vru959/anaconda2/envs/py3k/lib/python3.6/site-packages/ipykernel_launcher.py:19: RuntimeWarning: divide by zero encountered in log\n",
      "/Users/vru959/anaconda2/envs/py3k/lib/python3.6/site-packages/ipykernel_launcher.py:19: RuntimeWarning: invalid value encountered in multiply\n",
      "/Users/vru959/anaconda2/envs/py3k/lib/python3.6/site-packages/ipykernel_launcher.py:19: RuntimeWarning: divide by zero encountered in log1p\n",
      "/Users/vru959/anaconda2/envs/py3k/lib/python3.6/site-packages/ipykernel_launcher.py:19: RuntimeWarning: divide by zero encountered in log1p\n",
      "/Users/vru959/anaconda2/envs/py3k/lib/python3.6/site-packages/ipykernel_launcher.py:19: RuntimeWarning: invalid value encountered in multiply\n",
      "/Users/vru959/anaconda2/envs/py3k/lib/python3.6/site-packages/ipykernel_launcher.py:19: RuntimeWarning: divide by zero encountered in log\n",
      "/Users/vru959/anaconda2/envs/py3k/lib/python3.6/site-packages/ipykernel_launcher.py:19: RuntimeWarning: divide by zero encountered in log\n",
      "/Users/vru959/anaconda2/envs/py3k/lib/python3.6/site-packages/ipykernel_launcher.py:19: RuntimeWarning: invalid value encountered in multiply\n",
      "/Users/vru959/anaconda2/envs/py3k/lib/python3.6/site-packages/ipykernel_launcher.py:19: RuntimeWarning: divide by zero encountered in log1p\n",
      "/Users/vru959/anaconda2/envs/py3k/lib/python3.6/site-packages/ipykernel_launcher.py:19: RuntimeWarning: divide by zero encountered in log1p\n",
      "/Users/vru959/anaconda2/envs/py3k/lib/python3.6/site-packages/ipykernel_launcher.py:19: RuntimeWarning: invalid value encountered in multiply\n",
      "/Users/vru959/anaconda2/envs/py3k/lib/python3.6/site-packages/ipykernel_launcher.py:19: RuntimeWarning: divide by zero encountered in log\n",
      "/Users/vru959/anaconda2/envs/py3k/lib/python3.6/site-packages/ipykernel_launcher.py:19: RuntimeWarning: divide by zero encountered in log\n",
      "/Users/vru959/anaconda2/envs/py3k/lib/python3.6/site-packages/ipykernel_launcher.py:19: RuntimeWarning: invalid value encountered in multiply\n",
      "/Users/vru959/anaconda2/envs/py3k/lib/python3.6/site-packages/ipykernel_launcher.py:19: RuntimeWarning: divide by zero encountered in log1p\n",
      "/Users/vru959/anaconda2/envs/py3k/lib/python3.6/site-packages/ipykernel_launcher.py:19: RuntimeWarning: divide by zero encountered in log1p\n",
      "/Users/vru959/anaconda2/envs/py3k/lib/python3.6/site-packages/ipykernel_launcher.py:19: RuntimeWarning: invalid value encountered in multiply\n",
      "/Users/vru959/anaconda2/envs/py3k/lib/python3.6/site-packages/ipykernel_launcher.py:19: RuntimeWarning: divide by zero encountered in log\n",
      "/Users/vru959/anaconda2/envs/py3k/lib/python3.6/site-packages/ipykernel_launcher.py:19: RuntimeWarning: divide by zero encountered in log\n",
      "/Users/vru959/anaconda2/envs/py3k/lib/python3.6/site-packages/ipykernel_launcher.py:19: RuntimeWarning: invalid value encountered in multiply\n",
      "/Users/vru959/anaconda2/envs/py3k/lib/python3.6/site-packages/ipykernel_launcher.py:19: RuntimeWarning: divide by zero encountered in log1p\n",
      "/Users/vru959/anaconda2/envs/py3k/lib/python3.6/site-packages/ipykernel_launcher.py:19: RuntimeWarning: divide by zero encountered in log1p\n",
      "/Users/vru959/anaconda2/envs/py3k/lib/python3.6/site-packages/ipykernel_launcher.py:19: RuntimeWarning: invalid value encountered in multiply\n",
      "/Users/vru959/anaconda2/envs/py3k/lib/python3.6/site-packages/ipykernel_launcher.py:19: RuntimeWarning: divide by zero encountered in log\n",
      "/Users/vru959/anaconda2/envs/py3k/lib/python3.6/site-packages/ipykernel_launcher.py:19: RuntimeWarning: divide by zero encountered in log\n",
      "/Users/vru959/anaconda2/envs/py3k/lib/python3.6/site-packages/ipykernel_launcher.py:19: RuntimeWarning: invalid value encountered in multiply\n",
      "/Users/vru959/anaconda2/envs/py3k/lib/python3.6/site-packages/ipykernel_launcher.py:19: RuntimeWarning: divide by zero encountered in log1p\n",
      "/Users/vru959/anaconda2/envs/py3k/lib/python3.6/site-packages/ipykernel_launcher.py:19: RuntimeWarning: divide by zero encountered in log1p\n",
      "/Users/vru959/anaconda2/envs/py3k/lib/python3.6/site-packages/ipykernel_launcher.py:19: RuntimeWarning: invalid value encountered in multiply\n",
      "/Users/vru959/anaconda2/envs/py3k/lib/python3.6/site-packages/ipykernel_launcher.py:19: RuntimeWarning: divide by zero encountered in log\n",
      "/Users/vru959/anaconda2/envs/py3k/lib/python3.6/site-packages/ipykernel_launcher.py:19: RuntimeWarning: divide by zero encountered in log\n",
      "/Users/vru959/anaconda2/envs/py3k/lib/python3.6/site-packages/ipykernel_launcher.py:19: RuntimeWarning: invalid value encountered in multiply\n",
      "/Users/vru959/anaconda2/envs/py3k/lib/python3.6/site-packages/ipykernel_launcher.py:19: RuntimeWarning: divide by zero encountered in log1p\n",
      "/Users/vru959/anaconda2/envs/py3k/lib/python3.6/site-packages/ipykernel_launcher.py:19: RuntimeWarning: divide by zero encountered in log1p\n",
      "/Users/vru959/anaconda2/envs/py3k/lib/python3.6/site-packages/ipykernel_launcher.py:19: RuntimeWarning: invalid value encountered in multiply\n",
      "/Users/vru959/anaconda2/envs/py3k/lib/python3.6/site-packages/ipykernel_launcher.py:19: RuntimeWarning: divide by zero encountered in log\n",
      "/Users/vru959/anaconda2/envs/py3k/lib/python3.6/site-packages/ipykernel_launcher.py:19: RuntimeWarning: divide by zero encountered in log\n",
      "/Users/vru959/anaconda2/envs/py3k/lib/python3.6/site-packages/ipykernel_launcher.py:19: RuntimeWarning: invalid value encountered in multiply\n",
      "/Users/vru959/anaconda2/envs/py3k/lib/python3.6/site-packages/ipykernel_launcher.py:19: RuntimeWarning: divide by zero encountered in log1p\n"
     ]
    },
    {
     "name": "stdout",
     "output_type": "stream",
     "text": [
      "[2019-02-24 18:22:46,539][INFO]: Experiment_35 at t=500\n",
      "[2019-02-24 18:22:46,605][INFO]: Experiment_36 at t=500\n"
     ]
    },
    {
     "name": "stderr",
     "output_type": "stream",
     "text": [
      "/Users/vru959/anaconda2/envs/py3k/lib/python3.6/site-packages/ipykernel_launcher.py:19: RuntimeWarning: divide by zero encountered in log1p\n",
      "/Users/vru959/anaconda2/envs/py3k/lib/python3.6/site-packages/ipykernel_launcher.py:19: RuntimeWarning: invalid value encountered in multiply\n",
      "/Users/vru959/anaconda2/envs/py3k/lib/python3.6/site-packages/ipykernel_launcher.py:19: RuntimeWarning: divide by zero encountered in log\n",
      "/Users/vru959/anaconda2/envs/py3k/lib/python3.6/site-packages/ipykernel_launcher.py:19: RuntimeWarning: divide by zero encountered in log\n",
      "/Users/vru959/anaconda2/envs/py3k/lib/python3.6/site-packages/ipykernel_launcher.py:19: RuntimeWarning: invalid value encountered in multiply\n",
      "/Users/vru959/anaconda2/envs/py3k/lib/python3.6/site-packages/ipykernel_launcher.py:19: RuntimeWarning: divide by zero encountered in log1p\n",
      "/Users/vru959/anaconda2/envs/py3k/lib/python3.6/site-packages/ipykernel_launcher.py:19: RuntimeWarning: divide by zero encountered in log1p\n",
      "/Users/vru959/anaconda2/envs/py3k/lib/python3.6/site-packages/ipykernel_launcher.py:19: RuntimeWarning: invalid value encountered in multiply\n",
      "/Users/vru959/anaconda2/envs/py3k/lib/python3.6/site-packages/ipykernel_launcher.py:19: RuntimeWarning: divide by zero encountered in log\n",
      "/Users/vru959/anaconda2/envs/py3k/lib/python3.6/site-packages/ipykernel_launcher.py:19: RuntimeWarning: divide by zero encountered in log\n",
      "/Users/vru959/anaconda2/envs/py3k/lib/python3.6/site-packages/ipykernel_launcher.py:19: RuntimeWarning: invalid value encountered in multiply\n",
      "/Users/vru959/anaconda2/envs/py3k/lib/python3.6/site-packages/ipykernel_launcher.py:19: RuntimeWarning: divide by zero encountered in log1p\n",
      "/Users/vru959/anaconda2/envs/py3k/lib/python3.6/site-packages/ipykernel_launcher.py:19: RuntimeWarning: divide by zero encountered in log1p\n",
      "/Users/vru959/anaconda2/envs/py3k/lib/python3.6/site-packages/ipykernel_launcher.py:19: RuntimeWarning: invalid value encountered in multiply\n",
      "/Users/vru959/anaconda2/envs/py3k/lib/python3.6/site-packages/ipykernel_launcher.py:19: RuntimeWarning: divide by zero encountered in log\n",
      "/Users/vru959/anaconda2/envs/py3k/lib/python3.6/site-packages/ipykernel_launcher.py:19: RuntimeWarning: divide by zero encountered in log\n",
      "/Users/vru959/anaconda2/envs/py3k/lib/python3.6/site-packages/ipykernel_launcher.py:19: RuntimeWarning: invalid value encountered in multiply\n",
      "/Users/vru959/anaconda2/envs/py3k/lib/python3.6/site-packages/ipykernel_launcher.py:19: RuntimeWarning: divide by zero encountered in log1p\n",
      "/Users/vru959/anaconda2/envs/py3k/lib/python3.6/site-packages/ipykernel_launcher.py:19: RuntimeWarning: divide by zero encountered in log1p\n",
      "/Users/vru959/anaconda2/envs/py3k/lib/python3.6/site-packages/ipykernel_launcher.py:19: RuntimeWarning: invalid value encountered in multiply\n",
      "/Users/vru959/anaconda2/envs/py3k/lib/python3.6/site-packages/ipykernel_launcher.py:19: RuntimeWarning: divide by zero encountered in log\n",
      "/Users/vru959/anaconda2/envs/py3k/lib/python3.6/site-packages/ipykernel_launcher.py:19: RuntimeWarning: divide by zero encountered in log\n",
      "/Users/vru959/anaconda2/envs/py3k/lib/python3.6/site-packages/ipykernel_launcher.py:19: RuntimeWarning: invalid value encountered in multiply\n",
      "/Users/vru959/anaconda2/envs/py3k/lib/python3.6/site-packages/ipykernel_launcher.py:19: RuntimeWarning: divide by zero encountered in log1p\n",
      "/Users/vru959/anaconda2/envs/py3k/lib/python3.6/site-packages/ipykernel_launcher.py:19: RuntimeWarning: divide by zero encountered in log1p\n",
      "/Users/vru959/anaconda2/envs/py3k/lib/python3.6/site-packages/ipykernel_launcher.py:19: RuntimeWarning: invalid value encountered in multiply\n",
      "/Users/vru959/anaconda2/envs/py3k/lib/python3.6/site-packages/ipykernel_launcher.py:19: RuntimeWarning: divide by zero encountered in log\n",
      "/Users/vru959/anaconda2/envs/py3k/lib/python3.6/site-packages/ipykernel_launcher.py:19: RuntimeWarning: divide by zero encountered in log\n",
      "/Users/vru959/anaconda2/envs/py3k/lib/python3.6/site-packages/ipykernel_launcher.py:19: RuntimeWarning: invalid value encountered in multiply\n",
      "/Users/vru959/anaconda2/envs/py3k/lib/python3.6/site-packages/ipykernel_launcher.py:19: RuntimeWarning: divide by zero encountered in log1p\n"
     ]
    },
    {
     "name": "stdout",
     "output_type": "stream",
     "text": [
      "[2019-02-24 18:22:49,832][INFO]: Experiment_31 at t=1000\n",
      "[2019-02-24 18:22:49,924][INFO]: Experiment_31 complete.\n",
      "[2019-02-24 18:22:49,929][INFO]: Experiment_37 beginning...\n"
     ]
    },
    {
     "name": "stderr",
     "output_type": "stream",
     "text": [
      "/Users/vru959/anaconda2/envs/py3k/lib/python3.6/site-packages/ipykernel_launcher.py:19: RuntimeWarning: divide by zero encountered in log1p\n",
      "/Users/vru959/anaconda2/envs/py3k/lib/python3.6/site-packages/ipykernel_launcher.py:19: RuntimeWarning: invalid value encountered in multiply\n"
     ]
    },
    {
     "name": "stdout",
     "output_type": "stream",
     "text": [
      "[2019-02-24 18:22:51,478][INFO]: Experiment_33 at t=1000\n"
     ]
    },
    {
     "name": "stderr",
     "output_type": "stream",
     "text": [
      "/Users/vru959/anaconda2/envs/py3k/lib/python3.6/site-packages/ipykernel_launcher.py:19: RuntimeWarning: divide by zero encountered in log\n",
      "/Users/vru959/anaconda2/envs/py3k/lib/python3.6/site-packages/ipykernel_launcher.py:19: RuntimeWarning: divide by zero encountered in log\n",
      "/Users/vru959/anaconda2/envs/py3k/lib/python3.6/site-packages/ipykernel_launcher.py:19: RuntimeWarning: invalid value encountered in multiply\n",
      "/Users/vru959/anaconda2/envs/py3k/lib/python3.6/site-packages/ipykernel_launcher.py:19: RuntimeWarning: divide by zero encountered in log1p\n"
     ]
    },
    {
     "name": "stdout",
     "output_type": "stream",
     "text": [
      "[2019-02-24 18:22:51,572][INFO]: Experiment_33 complete.\n",
      "[2019-02-24 18:22:51,577][INFO]: Experiment_38 beginning...\n"
     ]
    },
    {
     "name": "stderr",
     "output_type": "stream",
     "text": [
      "/Users/vru959/anaconda2/envs/py3k/lib/python3.6/site-packages/ipykernel_launcher.py:19: RuntimeWarning: divide by zero encountered in log1p\n",
      "/Users/vru959/anaconda2/envs/py3k/lib/python3.6/site-packages/ipykernel_launcher.py:19: RuntimeWarning: invalid value encountered in multiply\n",
      "/Users/vru959/anaconda2/envs/py3k/lib/python3.6/site-packages/ipykernel_launcher.py:19: RuntimeWarning: divide by zero encountered in log\n",
      "/Users/vru959/anaconda2/envs/py3k/lib/python3.6/site-packages/ipykernel_launcher.py:19: RuntimeWarning: divide by zero encountered in log\n",
      "/Users/vru959/anaconda2/envs/py3k/lib/python3.6/site-packages/ipykernel_launcher.py:19: RuntimeWarning: invalid value encountered in multiply\n",
      "/Users/vru959/anaconda2/envs/py3k/lib/python3.6/site-packages/ipykernel_launcher.py:19: RuntimeWarning: divide by zero encountered in log1p\n"
     ]
    },
    {
     "name": "stdout",
     "output_type": "stream",
     "text": [
      "[2019-02-24 18:22:51,969][INFO]: Experiment_30 at t=1000\n",
      "[2019-02-24 18:22:52,069][INFO]: Experiment_30 complete.\n",
      "[2019-02-24 18:22:52,073][INFO]: Experiment_39 beginning...\n",
      "[2019-02-24 18:22:52,127][INFO]: Experiment_32 at t=1000\n",
      "[2019-02-24 18:22:52,241][INFO]: Experiment_32 complete.\n",
      "[2019-02-24 18:22:52,248][INFO]: Experiment_40 beginning...\n",
      "[2019-02-24 18:22:52,312][INFO]: Experiment_34 at t=1000\n",
      "[2019-02-24 18:22:52,418][INFO]: Experiment_34 complete.\n",
      "[2019-02-24 18:22:52,422][INFO]: Experiment_41 beginning...\n",
      "[2019-02-24 18:22:59,296][INFO]: Experiment_37 at t=500\n",
      "[2019-02-24 18:23:00,464][INFO]: Experiment_39 at t=500\n",
      "[2019-02-24 18:23:00,734][INFO]: Experiment_38 at t=500\n",
      "[2019-02-24 18:23:01,161][INFO]: Experiment_40 at t=500\n",
      "[2019-02-24 18:23:01,674][INFO]: Experiment_41 at t=500\n"
     ]
    },
    {
     "name": "stderr",
     "output_type": "stream",
     "text": [
      "/Users/vru959/anaconda2/envs/py3k/lib/python3.6/site-packages/ipykernel_launcher.py:19: RuntimeWarning: divide by zero encountered in log1p\n",
      "/Users/vru959/anaconda2/envs/py3k/lib/python3.6/site-packages/ipykernel_launcher.py:19: RuntimeWarning: invalid value encountered in multiply\n",
      "/Users/vru959/anaconda2/envs/py3k/lib/python3.6/site-packages/ipykernel_launcher.py:19: RuntimeWarning: divide by zero encountered in log\n",
      "/Users/vru959/anaconda2/envs/py3k/lib/python3.6/site-packages/ipykernel_launcher.py:19: RuntimeWarning: divide by zero encountered in log1p\n",
      "/Users/vru959/anaconda2/envs/py3k/lib/python3.6/site-packages/ipykernel_launcher.py:19: RuntimeWarning: invalid value encountered in multiply\n",
      "/Users/vru959/anaconda2/envs/py3k/lib/python3.6/site-packages/ipykernel_launcher.py:19: RuntimeWarning: divide by zero encountered in log\n",
      "/Users/vru959/anaconda2/envs/py3k/lib/python3.6/site-packages/ipykernel_launcher.py:19: RuntimeWarning: divide by zero encountered in log\n",
      "/Users/vru959/anaconda2/envs/py3k/lib/python3.6/site-packages/ipykernel_launcher.py:19: RuntimeWarning: invalid value encountered in multiply\n",
      "/Users/vru959/anaconda2/envs/py3k/lib/python3.6/site-packages/ipykernel_launcher.py:19: RuntimeWarning: divide by zero encountered in log1p\n"
     ]
    },
    {
     "name": "stdout",
     "output_type": "stream",
     "text": [
      "[2019-02-24 18:23:03,503][INFO]: Experiment_35 at t=1000\n",
      "[2019-02-24 18:23:03,552][INFO]: Experiment_35 complete.\n",
      "[2019-02-24 18:23:03,556][INFO]: Experiment_42 beginning...\n",
      "[2019-02-24 18:23:03,951][INFO]: Experiment_36 at t=1000\n",
      "[2019-02-24 18:23:04,011][INFO]: Experiment_36 complete.\n",
      "[2019-02-24 18:23:04,015][INFO]: Experiment_43 beginning...\n"
     ]
    },
    {
     "name": "stderr",
     "output_type": "stream",
     "text": [
      "/Users/vru959/anaconda2/envs/py3k/lib/python3.6/site-packages/ipykernel_launcher.py:19: RuntimeWarning: divide by zero encountered in log1p\n",
      "/Users/vru959/anaconda2/envs/py3k/lib/python3.6/site-packages/ipykernel_launcher.py:19: RuntimeWarning: invalid value encountered in multiply\n",
      "/Users/vru959/anaconda2/envs/py3k/lib/python3.6/site-packages/ipykernel_launcher.py:19: RuntimeWarning: divide by zero encountered in log\n",
      "/Users/vru959/anaconda2/envs/py3k/lib/python3.6/site-packages/ipykernel_launcher.py:19: RuntimeWarning: divide by zero encountered in log\n",
      "/Users/vru959/anaconda2/envs/py3k/lib/python3.6/site-packages/ipykernel_launcher.py:19: RuntimeWarning: invalid value encountered in multiply\n",
      "/Users/vru959/anaconda2/envs/py3k/lib/python3.6/site-packages/ipykernel_launcher.py:19: RuntimeWarning: divide by zero encountered in log1p\n",
      "/Users/vru959/anaconda2/envs/py3k/lib/python3.6/site-packages/ipykernel_launcher.py:19: RuntimeWarning: divide by zero encountered in log1p\n",
      "/Users/vru959/anaconda2/envs/py3k/lib/python3.6/site-packages/ipykernel_launcher.py:19: RuntimeWarning: invalid value encountered in multiply\n",
      "/Users/vru959/anaconda2/envs/py3k/lib/python3.6/site-packages/ipykernel_launcher.py:19: RuntimeWarning: divide by zero encountered in log\n",
      "/Users/vru959/anaconda2/envs/py3k/lib/python3.6/site-packages/ipykernel_launcher.py:19: RuntimeWarning: divide by zero encountered in log1p\n",
      "/Users/vru959/anaconda2/envs/py3k/lib/python3.6/site-packages/ipykernel_launcher.py:19: RuntimeWarning: invalid value encountered in multiply\n",
      "/Users/vru959/anaconda2/envs/py3k/lib/python3.6/site-packages/ipykernel_launcher.py:19: RuntimeWarning: divide by zero encountered in log\n",
      "/Users/vru959/anaconda2/envs/py3k/lib/python3.6/site-packages/ipykernel_launcher.py:19: RuntimeWarning: divide by zero encountered in log\n",
      "/Users/vru959/anaconda2/envs/py3k/lib/python3.6/site-packages/ipykernel_launcher.py:19: RuntimeWarning: invalid value encountered in multiply\n",
      "/Users/vru959/anaconda2/envs/py3k/lib/python3.6/site-packages/ipykernel_launcher.py:19: RuntimeWarning: divide by zero encountered in log1p\n",
      "/Users/vru959/anaconda2/envs/py3k/lib/python3.6/site-packages/ipykernel_launcher.py:19: RuntimeWarning: divide by zero encountered in log1p\n",
      "/Users/vru959/anaconda2/envs/py3k/lib/python3.6/site-packages/ipykernel_launcher.py:19: RuntimeWarning: invalid value encountered in multiply\n",
      "/Users/vru959/anaconda2/envs/py3k/lib/python3.6/site-packages/ipykernel_launcher.py:19: RuntimeWarning: divide by zero encountered in log\n",
      "/Users/vru959/anaconda2/envs/py3k/lib/python3.6/site-packages/ipykernel_launcher.py:19: RuntimeWarning: divide by zero encountered in log1p\n",
      "/Users/vru959/anaconda2/envs/py3k/lib/python3.6/site-packages/ipykernel_launcher.py:19: RuntimeWarning: invalid value encountered in multiply\n",
      "/Users/vru959/anaconda2/envs/py3k/lib/python3.6/site-packages/ipykernel_launcher.py:19: RuntimeWarning: divide by zero encountered in log\n",
      "/Users/vru959/anaconda2/envs/py3k/lib/python3.6/site-packages/ipykernel_launcher.py:19: RuntimeWarning: divide by zero encountered in log\n",
      "/Users/vru959/anaconda2/envs/py3k/lib/python3.6/site-packages/ipykernel_launcher.py:19: RuntimeWarning: invalid value encountered in multiply\n",
      "/Users/vru959/anaconda2/envs/py3k/lib/python3.6/site-packages/ipykernel_launcher.py:19: RuntimeWarning: divide by zero encountered in log1p\n",
      "/Users/vru959/anaconda2/envs/py3k/lib/python3.6/site-packages/ipykernel_launcher.py:19: RuntimeWarning: divide by zero encountered in log1p\n",
      "/Users/vru959/anaconda2/envs/py3k/lib/python3.6/site-packages/ipykernel_launcher.py:19: RuntimeWarning: invalid value encountered in multiply\n",
      "/Users/vru959/anaconda2/envs/py3k/lib/python3.6/site-packages/ipykernel_launcher.py:19: RuntimeWarning: divide by zero encountered in log\n",
      "/Users/vru959/anaconda2/envs/py3k/lib/python3.6/site-packages/ipykernel_launcher.py:19: RuntimeWarning: divide by zero encountered in log\n",
      "/Users/vru959/anaconda2/envs/py3k/lib/python3.6/site-packages/ipykernel_launcher.py:19: RuntimeWarning: invalid value encountered in multiply\n",
      "/Users/vru959/anaconda2/envs/py3k/lib/python3.6/site-packages/ipykernel_launcher.py:19: RuntimeWarning: divide by zero encountered in log1p\n",
      "/Users/vru959/anaconda2/envs/py3k/lib/python3.6/site-packages/ipykernel_launcher.py:19: RuntimeWarning: divide by zero encountered in log1p\n",
      "/Users/vru959/anaconda2/envs/py3k/lib/python3.6/site-packages/ipykernel_launcher.py:19: RuntimeWarning: invalid value encountered in multiply\n",
      "/Users/vru959/anaconda2/envs/py3k/lib/python3.6/site-packages/ipykernel_launcher.py:19: RuntimeWarning: divide by zero encountered in log\n",
      "/Users/vru959/anaconda2/envs/py3k/lib/python3.6/site-packages/ipykernel_launcher.py:19: RuntimeWarning: divide by zero encountered in log\n",
      "/Users/vru959/anaconda2/envs/py3k/lib/python3.6/site-packages/ipykernel_launcher.py:19: RuntimeWarning: invalid value encountered in multiply\n",
      "/Users/vru959/anaconda2/envs/py3k/lib/python3.6/site-packages/ipykernel_launcher.py:19: RuntimeWarning: divide by zero encountered in log1p\n",
      "/Users/vru959/anaconda2/envs/py3k/lib/python3.6/site-packages/ipykernel_launcher.py:19: RuntimeWarning: divide by zero encountered in log1p\n",
      "/Users/vru959/anaconda2/envs/py3k/lib/python3.6/site-packages/ipykernel_launcher.py:19: RuntimeWarning: invalid value encountered in multiply\n",
      "/Users/vru959/anaconda2/envs/py3k/lib/python3.6/site-packages/ipykernel_launcher.py:19: RuntimeWarning: divide by zero encountered in log\n",
      "/Users/vru959/anaconda2/envs/py3k/lib/python3.6/site-packages/ipykernel_launcher.py:19: RuntimeWarning: divide by zero encountered in log\n",
      "/Users/vru959/anaconda2/envs/py3k/lib/python3.6/site-packages/ipykernel_launcher.py:19: RuntimeWarning: invalid value encountered in multiply\n",
      "/Users/vru959/anaconda2/envs/py3k/lib/python3.6/site-packages/ipykernel_launcher.py:19: RuntimeWarning: divide by zero encountered in log1p\n",
      "/Users/vru959/anaconda2/envs/py3k/lib/python3.6/site-packages/ipykernel_launcher.py:19: RuntimeWarning: divide by zero encountered in log1p\n",
      "/Users/vru959/anaconda2/envs/py3k/lib/python3.6/site-packages/ipykernel_launcher.py:19: RuntimeWarning: invalid value encountered in multiply\n",
      "/Users/vru959/anaconda2/envs/py3k/lib/python3.6/site-packages/ipykernel_launcher.py:19: RuntimeWarning: divide by zero encountered in log\n",
      "/Users/vru959/anaconda2/envs/py3k/lib/python3.6/site-packages/ipykernel_launcher.py:19: RuntimeWarning: divide by zero encountered in log\n",
      "/Users/vru959/anaconda2/envs/py3k/lib/python3.6/site-packages/ipykernel_launcher.py:19: RuntimeWarning: invalid value encountered in multiply\n",
      "/Users/vru959/anaconda2/envs/py3k/lib/python3.6/site-packages/ipykernel_launcher.py:19: RuntimeWarning: divide by zero encountered in log1p\n",
      "/Users/vru959/anaconda2/envs/py3k/lib/python3.6/site-packages/ipykernel_launcher.py:19: RuntimeWarning: divide by zero encountered in log1p\n",
      "/Users/vru959/anaconda2/envs/py3k/lib/python3.6/site-packages/ipykernel_launcher.py:19: RuntimeWarning: invalid value encountered in multiply\n",
      "/Users/vru959/anaconda2/envs/py3k/lib/python3.6/site-packages/ipykernel_launcher.py:19: RuntimeWarning: divide by zero encountered in log\n",
      "/Users/vru959/anaconda2/envs/py3k/lib/python3.6/site-packages/ipykernel_launcher.py:19: RuntimeWarning: divide by zero encountered in log\n",
      "/Users/vru959/anaconda2/envs/py3k/lib/python3.6/site-packages/ipykernel_launcher.py:19: RuntimeWarning: invalid value encountered in multiply\n",
      "/Users/vru959/anaconda2/envs/py3k/lib/python3.6/site-packages/ipykernel_launcher.py:19: RuntimeWarning: divide by zero encountered in log1p\n",
      "/Users/vru959/anaconda2/envs/py3k/lib/python3.6/site-packages/ipykernel_launcher.py:19: RuntimeWarning: divide by zero encountered in log1p\n",
      "/Users/vru959/anaconda2/envs/py3k/lib/python3.6/site-packages/ipykernel_launcher.py:19: RuntimeWarning: invalid value encountered in multiply\n",
      "/Users/vru959/anaconda2/envs/py3k/lib/python3.6/site-packages/ipykernel_launcher.py:19: RuntimeWarning: divide by zero encountered in log\n",
      "/Users/vru959/anaconda2/envs/py3k/lib/python3.6/site-packages/ipykernel_launcher.py:19: RuntimeWarning: divide by zero encountered in log\n",
      "/Users/vru959/anaconda2/envs/py3k/lib/python3.6/site-packages/ipykernel_launcher.py:19: RuntimeWarning: invalid value encountered in multiply\n",
      "/Users/vru959/anaconda2/envs/py3k/lib/python3.6/site-packages/ipykernel_launcher.py:19: RuntimeWarning: divide by zero encountered in log1p\n"
     ]
    },
    {
     "name": "stdout",
     "output_type": "stream",
     "text": [
      "[2019-02-24 18:23:12,679][INFO]: Experiment_43 at t=500\n",
      "[2019-02-24 18:23:12,831][INFO]: Experiment_42 at t=500\n"
     ]
    },
    {
     "name": "stderr",
     "output_type": "stream",
     "text": [
      "/Users/vru959/anaconda2/envs/py3k/lib/python3.6/site-packages/ipykernel_launcher.py:19: RuntimeWarning: divide by zero encountered in log1p\n",
      "/Users/vru959/anaconda2/envs/py3k/lib/python3.6/site-packages/ipykernel_launcher.py:19: RuntimeWarning: invalid value encountered in multiply\n",
      "/Users/vru959/anaconda2/envs/py3k/lib/python3.6/site-packages/ipykernel_launcher.py:19: RuntimeWarning: divide by zero encountered in log\n",
      "/Users/vru959/anaconda2/envs/py3k/lib/python3.6/site-packages/ipykernel_launcher.py:19: RuntimeWarning: divide by zero encountered in log\n",
      "/Users/vru959/anaconda2/envs/py3k/lib/python3.6/site-packages/ipykernel_launcher.py:19: RuntimeWarning: invalid value encountered in multiply\n",
      "/Users/vru959/anaconda2/envs/py3k/lib/python3.6/site-packages/ipykernel_launcher.py:19: RuntimeWarning: divide by zero encountered in log1p\n",
      "/Users/vru959/anaconda2/envs/py3k/lib/python3.6/site-packages/ipykernel_launcher.py:19: RuntimeWarning: divide by zero encountered in log1p\n",
      "/Users/vru959/anaconda2/envs/py3k/lib/python3.6/site-packages/ipykernel_launcher.py:19: RuntimeWarning: invalid value encountered in multiply\n",
      "/Users/vru959/anaconda2/envs/py3k/lib/python3.6/site-packages/ipykernel_launcher.py:19: RuntimeWarning: divide by zero encountered in log\n",
      "/Users/vru959/anaconda2/envs/py3k/lib/python3.6/site-packages/ipykernel_launcher.py:19: RuntimeWarning: divide by zero encountered in log\n",
      "/Users/vru959/anaconda2/envs/py3k/lib/python3.6/site-packages/ipykernel_launcher.py:19: RuntimeWarning: invalid value encountered in multiply\n",
      "/Users/vru959/anaconda2/envs/py3k/lib/python3.6/site-packages/ipykernel_launcher.py:19: RuntimeWarning: divide by zero encountered in log1p\n",
      "/Users/vru959/anaconda2/envs/py3k/lib/python3.6/site-packages/ipykernel_launcher.py:19: RuntimeWarning: divide by zero encountered in log1p\n",
      "/Users/vru959/anaconda2/envs/py3k/lib/python3.6/site-packages/ipykernel_launcher.py:19: RuntimeWarning: invalid value encountered in multiply\n",
      "/Users/vru959/anaconda2/envs/py3k/lib/python3.6/site-packages/ipykernel_launcher.py:19: RuntimeWarning: divide by zero encountered in log\n",
      "/Users/vru959/anaconda2/envs/py3k/lib/python3.6/site-packages/ipykernel_launcher.py:19: RuntimeWarning: divide by zero encountered in log\n",
      "/Users/vru959/anaconda2/envs/py3k/lib/python3.6/site-packages/ipykernel_launcher.py:19: RuntimeWarning: invalid value encountered in multiply\n",
      "/Users/vru959/anaconda2/envs/py3k/lib/python3.6/site-packages/ipykernel_launcher.py:19: RuntimeWarning: divide by zero encountered in log1p\n"
     ]
    },
    {
     "name": "stdout",
     "output_type": "stream",
     "text": [
      "[2019-02-24 18:23:19,021][INFO]: Experiment_39 at t=1000\n",
      "[2019-02-24 18:23:19,097][INFO]: Experiment_39 complete.\n",
      "[2019-02-24 18:23:19,101][INFO]: Experiment_44 beginning...\n",
      "[2019-02-24 18:23:19,811][INFO]: Experiment_40 at t=1000\n",
      "[2019-02-24 18:23:19,913][INFO]: Experiment_40 complete.\n",
      "[2019-02-24 18:23:19,917][INFO]: Experiment_45 beginning...\n",
      "[2019-02-24 18:23:20,224][INFO]: Experiment_41 at t=1000\n",
      "[2019-02-24 18:23:20,354][INFO]: Experiment_41 complete.\n",
      "[2019-02-24 18:23:20,362][INFO]: Experiment_46 beginning...\n",
      "[2019-02-24 18:23:21,056][INFO]: Experiment_37 at t=1000\n",
      "[2019-02-24 18:23:21,109][INFO]: Experiment_37 complete.\n",
      "[2019-02-24 18:23:21,112][INFO]: Experiment_47 beginning...\n",
      "[2019-02-24 18:23:21,969][INFO]: Experiment_38 at t=1000\n",
      "[2019-02-24 18:23:22,047][INFO]: Experiment_38 complete.\n",
      "[2019-02-24 18:23:22,051][INFO]: Experiment_48 beginning...\n"
     ]
    },
    {
     "name": "stderr",
     "output_type": "stream",
     "text": [
      "/Users/vru959/anaconda2/envs/py3k/lib/python3.6/site-packages/ipykernel_launcher.py:19: RuntimeWarning: divide by zero encountered in log1p\n",
      "/Users/vru959/anaconda2/envs/py3k/lib/python3.6/site-packages/ipykernel_launcher.py:19: RuntimeWarning: invalid value encountered in multiply\n",
      "/Users/vru959/anaconda2/envs/py3k/lib/python3.6/site-packages/ipykernel_launcher.py:19: RuntimeWarning: divide by zero encountered in log\n",
      "/Users/vru959/anaconda2/envs/py3k/lib/python3.6/site-packages/ipykernel_launcher.py:19: RuntimeWarning: divide by zero encountered in log\n",
      "/Users/vru959/anaconda2/envs/py3k/lib/python3.6/site-packages/ipykernel_launcher.py:19: RuntimeWarning: invalid value encountered in multiply\n",
      "/Users/vru959/anaconda2/envs/py3k/lib/python3.6/site-packages/ipykernel_launcher.py:19: RuntimeWarning: divide by zero encountered in log1p\n",
      "/Users/vru959/anaconda2/envs/py3k/lib/python3.6/site-packages/ipykernel_launcher.py:19: RuntimeWarning: divide by zero encountered in log1p\n",
      "/Users/vru959/anaconda2/envs/py3k/lib/python3.6/site-packages/ipykernel_launcher.py:19: RuntimeWarning: invalid value encountered in multiply\n",
      "/Users/vru959/anaconda2/envs/py3k/lib/python3.6/site-packages/ipykernel_launcher.py:19: RuntimeWarning: divide by zero encountered in log\n",
      "/Users/vru959/anaconda2/envs/py3k/lib/python3.6/site-packages/ipykernel_launcher.py:19: RuntimeWarning: divide by zero encountered in log\n",
      "/Users/vru959/anaconda2/envs/py3k/lib/python3.6/site-packages/ipykernel_launcher.py:19: RuntimeWarning: invalid value encountered in multiply\n",
      "/Users/vru959/anaconda2/envs/py3k/lib/python3.6/site-packages/ipykernel_launcher.py:19: RuntimeWarning: divide by zero encountered in log1p\n"
     ]
    },
    {
     "name": "stdout",
     "output_type": "stream",
     "text": [
      "[2019-02-24 18:23:28,656][INFO]: Experiment_44 at t=500\n",
      "[2019-02-24 18:23:30,118][INFO]: Experiment_45 at t=500\n",
      "[2019-02-24 18:23:30,411][INFO]: Experiment_46 at t=500\n",
      "[2019-02-24 18:23:30,503][INFO]: Experiment_42 at t=1000\n",
      "[2019-02-24 18:23:30,553][INFO]: Experiment_42 complete.\n",
      "[2019-02-24 18:23:30,557][INFO]: Experiment_49 beginning...\n",
      "[2019-02-24 18:23:31,187][INFO]: Experiment_47 at t=500\n",
      "[2019-02-24 18:23:31,559][INFO]: Experiment_43 at t=1000\n",
      "[2019-02-24 18:23:31,638][INFO]: Experiment_43 complete.\n",
      "[2019-02-24 18:23:31,642][INFO]: Experiment_50 beginning...\n",
      "[2019-02-24 18:23:32,869][INFO]: Experiment_48 at t=500\n",
      "[2019-02-24 18:23:40,167][INFO]: Experiment_49 at t=500\n",
      "[2019-02-24 18:23:41,521][INFO]: Experiment_50 at t=500\n",
      "[2019-02-24 18:23:46,412][INFO]: Experiment_44 at t=1000\n",
      "[2019-02-24 18:23:46,484][INFO]: Experiment_44 complete.\n",
      "[2019-02-24 18:23:46,489][INFO]: Experiment_51 beginning...\n"
     ]
    },
    {
     "name": "stderr",
     "output_type": "stream",
     "text": [
      "/Users/vru959/anaconda2/envs/py3k/lib/python3.6/site-packages/ipykernel_launcher.py:19: RuntimeWarning: divide by zero encountered in log1p\n",
      "/Users/vru959/anaconda2/envs/py3k/lib/python3.6/site-packages/ipykernel_launcher.py:19: RuntimeWarning: invalid value encountered in multiply\n",
      "/Users/vru959/anaconda2/envs/py3k/lib/python3.6/site-packages/ipykernel_launcher.py:19: RuntimeWarning: divide by zero encountered in log\n",
      "/Users/vru959/anaconda2/envs/py3k/lib/python3.6/site-packages/ipykernel_launcher.py:19: RuntimeWarning: divide by zero encountered in log\n",
      "/Users/vru959/anaconda2/envs/py3k/lib/python3.6/site-packages/ipykernel_launcher.py:19: RuntimeWarning: invalid value encountered in multiply\n",
      "/Users/vru959/anaconda2/envs/py3k/lib/python3.6/site-packages/ipykernel_launcher.py:19: RuntimeWarning: divide by zero encountered in log1p\n",
      "/Users/vru959/anaconda2/envs/py3k/lib/python3.6/site-packages/ipykernel_launcher.py:19: RuntimeWarning: divide by zero encountered in log1p\n",
      "/Users/vru959/anaconda2/envs/py3k/lib/python3.6/site-packages/ipykernel_launcher.py:19: RuntimeWarning: invalid value encountered in multiply\n",
      "/Users/vru959/anaconda2/envs/py3k/lib/python3.6/site-packages/ipykernel_launcher.py:19: RuntimeWarning: divide by zero encountered in log\n",
      "/Users/vru959/anaconda2/envs/py3k/lib/python3.6/site-packages/ipykernel_launcher.py:19: RuntimeWarning: divide by zero encountered in log\n",
      "/Users/vru959/anaconda2/envs/py3k/lib/python3.6/site-packages/ipykernel_launcher.py:19: RuntimeWarning: invalid value encountered in multiply\n",
      "/Users/vru959/anaconda2/envs/py3k/lib/python3.6/site-packages/ipykernel_launcher.py:19: RuntimeWarning: divide by zero encountered in log1p\n",
      "/Users/vru959/anaconda2/envs/py3k/lib/python3.6/site-packages/ipykernel_launcher.py:19: RuntimeWarning: divide by zero encountered in log1p\n",
      "/Users/vru959/anaconda2/envs/py3k/lib/python3.6/site-packages/ipykernel_launcher.py:19: RuntimeWarning: invalid value encountered in multiply\n",
      "/Users/vru959/anaconda2/envs/py3k/lib/python3.6/site-packages/ipykernel_launcher.py:19: RuntimeWarning: divide by zero encountered in log\n",
      "/Users/vru959/anaconda2/envs/py3k/lib/python3.6/site-packages/ipykernel_launcher.py:19: RuntimeWarning: divide by zero encountered in log\n",
      "/Users/vru959/anaconda2/envs/py3k/lib/python3.6/site-packages/ipykernel_launcher.py:19: RuntimeWarning: invalid value encountered in multiply\n",
      "/Users/vru959/anaconda2/envs/py3k/lib/python3.6/site-packages/ipykernel_launcher.py:19: RuntimeWarning: divide by zero encountered in log1p\n"
     ]
    },
    {
     "name": "stdout",
     "output_type": "stream",
     "text": [
      "[2019-02-24 18:23:49,128][INFO]: Experiment_45 at t=1000\n",
      "[2019-02-24 18:23:49,190][INFO]: Experiment_45 complete.\n",
      "[2019-02-24 18:23:49,194][INFO]: Experiment_52 beginning...\n",
      "[2019-02-24 18:23:49,534][INFO]: Experiment_46 at t=1000\n",
      "[2019-02-24 18:23:49,585][INFO]: Experiment_46 complete.\n",
      "[2019-02-24 18:23:49,589][INFO]: Experiment_53 beginning...\n",
      "[2019-02-24 18:23:50,065][INFO]: Experiment_47 at t=1000\n",
      "[2019-02-24 18:23:50,152][INFO]: Experiment_47 complete.\n",
      "[2019-02-24 18:23:50,155][INFO]: Experiment_54 beginning...\n"
     ]
    },
    {
     "name": "stderr",
     "output_type": "stream",
     "text": [
      "/Users/vru959/anaconda2/envs/py3k/lib/python3.6/site-packages/ipykernel_launcher.py:19: RuntimeWarning: divide by zero encountered in log1p\n",
      "/Users/vru959/anaconda2/envs/py3k/lib/python3.6/site-packages/ipykernel_launcher.py:19: RuntimeWarning: invalid value encountered in multiply\n",
      "/Users/vru959/anaconda2/envs/py3k/lib/python3.6/site-packages/ipykernel_launcher.py:19: RuntimeWarning: divide by zero encountered in log\n",
      "/Users/vru959/anaconda2/envs/py3k/lib/python3.6/site-packages/ipykernel_launcher.py:19: RuntimeWarning: divide by zero encountered in log\n",
      "/Users/vru959/anaconda2/envs/py3k/lib/python3.6/site-packages/ipykernel_launcher.py:19: RuntimeWarning: invalid value encountered in multiply\n",
      "/Users/vru959/anaconda2/envs/py3k/lib/python3.6/site-packages/ipykernel_launcher.py:19: RuntimeWarning: divide by zero encountered in log1p\n"
     ]
    },
    {
     "name": "stdout",
     "output_type": "stream",
     "text": [
      "[2019-02-24 18:23:51,434][INFO]: Experiment_48 at t=1000\n",
      "[2019-02-24 18:23:51,493][INFO]: Experiment_48 complete.\n",
      "[2019-02-24 18:23:51,497][INFO]: Experiment_55 beginning...\n"
     ]
    },
    {
     "name": "stderr",
     "output_type": "stream",
     "text": [
      "/Users/vru959/anaconda2/envs/py3k/lib/python3.6/site-packages/ipykernel_launcher.py:19: RuntimeWarning: divide by zero encountered in log1p\n",
      "/Users/vru959/anaconda2/envs/py3k/lib/python3.6/site-packages/ipykernel_launcher.py:19: RuntimeWarning: invalid value encountered in multiply\n",
      "/Users/vru959/anaconda2/envs/py3k/lib/python3.6/site-packages/ipykernel_launcher.py:19: RuntimeWarning: divide by zero encountered in log\n",
      "/Users/vru959/anaconda2/envs/py3k/lib/python3.6/site-packages/ipykernel_launcher.py:19: RuntimeWarning: divide by zero encountered in log\n",
      "/Users/vru959/anaconda2/envs/py3k/lib/python3.6/site-packages/ipykernel_launcher.py:19: RuntimeWarning: invalid value encountered in multiply\n",
      "/Users/vru959/anaconda2/envs/py3k/lib/python3.6/site-packages/ipykernel_launcher.py:19: RuntimeWarning: divide by zero encountered in log1p\n",
      "/Users/vru959/anaconda2/envs/py3k/lib/python3.6/site-packages/ipykernel_launcher.py:19: RuntimeWarning: divide by zero encountered in log1p\n",
      "/Users/vru959/anaconda2/envs/py3k/lib/python3.6/site-packages/ipykernel_launcher.py:19: RuntimeWarning: invalid value encountered in multiply\n",
      "/Users/vru959/anaconda2/envs/py3k/lib/python3.6/site-packages/ipykernel_launcher.py:19: RuntimeWarning: divide by zero encountered in log\n",
      "/Users/vru959/anaconda2/envs/py3k/lib/python3.6/site-packages/ipykernel_launcher.py:19: RuntimeWarning: divide by zero encountered in log\n",
      "/Users/vru959/anaconda2/envs/py3k/lib/python3.6/site-packages/ipykernel_launcher.py:19: RuntimeWarning: invalid value encountered in multiply\n",
      "/Users/vru959/anaconda2/envs/py3k/lib/python3.6/site-packages/ipykernel_launcher.py:19: RuntimeWarning: divide by zero encountered in log1p\n"
     ]
    },
    {
     "name": "stdout",
     "output_type": "stream",
     "text": [
      "[2019-02-24 18:23:57,865][INFO]: Experiment_51 at t=500\n",
      "[2019-02-24 18:24:00,292][INFO]: Experiment_52 at t=500\n",
      "[2019-02-24 18:24:01,070][INFO]: Experiment_53 at t=500\n",
      "[2019-02-24 18:24:01,270][INFO]: Experiment_50 at t=1000\n",
      "[2019-02-24 18:24:01,322][INFO]: Experiment_50 complete.\n",
      "[2019-02-24 18:24:01,326][INFO]: Experiment_56 beginning...\n",
      "[2019-02-24 18:24:01,640][INFO]: Experiment_54 at t=500\n",
      "[2019-02-24 18:24:01,677][INFO]: Experiment_49 at t=1000\n",
      "[2019-02-24 18:24:01,738][INFO]: Experiment_49 complete.\n",
      "[2019-02-24 18:24:01,742][INFO]: Experiment_57 beginning...\n",
      "[2019-02-24 18:24:02,735][INFO]: Experiment_55 at t=500\n"
     ]
    },
    {
     "name": "stderr",
     "output_type": "stream",
     "text": [
      "/Users/vru959/anaconda2/envs/py3k/lib/python3.6/site-packages/ipykernel_launcher.py:19: RuntimeWarning: divide by zero encountered in log1p\n",
      "/Users/vru959/anaconda2/envs/py3k/lib/python3.6/site-packages/ipykernel_launcher.py:19: RuntimeWarning: invalid value encountered in multiply\n",
      "/Users/vru959/anaconda2/envs/py3k/lib/python3.6/site-packages/ipykernel_launcher.py:19: RuntimeWarning: divide by zero encountered in log\n",
      "/Users/vru959/anaconda2/envs/py3k/lib/python3.6/site-packages/ipykernel_launcher.py:19: RuntimeWarning: divide by zero encountered in log\n",
      "/Users/vru959/anaconda2/envs/py3k/lib/python3.6/site-packages/ipykernel_launcher.py:19: RuntimeWarning: invalid value encountered in multiply\n",
      "/Users/vru959/anaconda2/envs/py3k/lib/python3.6/site-packages/ipykernel_launcher.py:19: RuntimeWarning: divide by zero encountered in log1p\n",
      "/Users/vru959/anaconda2/envs/py3k/lib/python3.6/site-packages/ipykernel_launcher.py:19: RuntimeWarning: divide by zero encountered in log1p\n",
      "/Users/vru959/anaconda2/envs/py3k/lib/python3.6/site-packages/ipykernel_launcher.py:19: RuntimeWarning: invalid value encountered in multiply\n",
      "/Users/vru959/anaconda2/envs/py3k/lib/python3.6/site-packages/ipykernel_launcher.py:19: RuntimeWarning: divide by zero encountered in log\n",
      "/Users/vru959/anaconda2/envs/py3k/lib/python3.6/site-packages/ipykernel_launcher.py:19: RuntimeWarning: divide by zero encountered in log\n",
      "/Users/vru959/anaconda2/envs/py3k/lib/python3.6/site-packages/ipykernel_launcher.py:19: RuntimeWarning: invalid value encountered in multiply\n",
      "/Users/vru959/anaconda2/envs/py3k/lib/python3.6/site-packages/ipykernel_launcher.py:19: RuntimeWarning: divide by zero encountered in log1p\n",
      "/Users/vru959/anaconda2/envs/py3k/lib/python3.6/site-packages/ipykernel_launcher.py:19: RuntimeWarning: divide by zero encountered in log1p\n",
      "/Users/vru959/anaconda2/envs/py3k/lib/python3.6/site-packages/ipykernel_launcher.py:19: RuntimeWarning: invalid value encountered in multiply\n",
      "/Users/vru959/anaconda2/envs/py3k/lib/python3.6/site-packages/ipykernel_launcher.py:19: RuntimeWarning: divide by zero encountered in log\n",
      "/Users/vru959/anaconda2/envs/py3k/lib/python3.6/site-packages/ipykernel_launcher.py:19: RuntimeWarning: divide by zero encountered in log\n",
      "/Users/vru959/anaconda2/envs/py3k/lib/python3.6/site-packages/ipykernel_launcher.py:19: RuntimeWarning: invalid value encountered in multiply\n",
      "/Users/vru959/anaconda2/envs/py3k/lib/python3.6/site-packages/ipykernel_launcher.py:19: RuntimeWarning: divide by zero encountered in log1p\n",
      "/Users/vru959/anaconda2/envs/py3k/lib/python3.6/site-packages/ipykernel_launcher.py:19: RuntimeWarning: divide by zero encountered in log1p\n",
      "/Users/vru959/anaconda2/envs/py3k/lib/python3.6/site-packages/ipykernel_launcher.py:19: RuntimeWarning: invalid value encountered in multiply\n",
      "/Users/vru959/anaconda2/envs/py3k/lib/python3.6/site-packages/ipykernel_launcher.py:19: RuntimeWarning: divide by zero encountered in log\n",
      "/Users/vru959/anaconda2/envs/py3k/lib/python3.6/site-packages/ipykernel_launcher.py:19: RuntimeWarning: divide by zero encountered in log\n",
      "/Users/vru959/anaconda2/envs/py3k/lib/python3.6/site-packages/ipykernel_launcher.py:19: RuntimeWarning: invalid value encountered in multiply\n",
      "/Users/vru959/anaconda2/envs/py3k/lib/python3.6/site-packages/ipykernel_launcher.py:19: RuntimeWarning: divide by zero encountered in log1p\n",
      "/Users/vru959/anaconda2/envs/py3k/lib/python3.6/site-packages/ipykernel_launcher.py:19: RuntimeWarning: divide by zero encountered in log1p\n",
      "/Users/vru959/anaconda2/envs/py3k/lib/python3.6/site-packages/ipykernel_launcher.py:19: RuntimeWarning: invalid value encountered in multiply\n",
      "/Users/vru959/anaconda2/envs/py3k/lib/python3.6/site-packages/ipykernel_launcher.py:19: RuntimeWarning: divide by zero encountered in log\n",
      "/Users/vru959/anaconda2/envs/py3k/lib/python3.6/site-packages/ipykernel_launcher.py:19: RuntimeWarning: divide by zero encountered in log\n",
      "/Users/vru959/anaconda2/envs/py3k/lib/python3.6/site-packages/ipykernel_launcher.py:19: RuntimeWarning: invalid value encountered in multiply\n",
      "/Users/vru959/anaconda2/envs/py3k/lib/python3.6/site-packages/ipykernel_launcher.py:19: RuntimeWarning: divide by zero encountered in log1p\n"
     ]
    },
    {
     "name": "stdout",
     "output_type": "stream",
     "text": [
      "[2019-02-24 18:24:10,461][INFO]: Experiment_56 at t=500\n",
      "[2019-02-24 18:24:10,723][INFO]: Experiment_57 at t=500\n"
     ]
    },
    {
     "name": "stderr",
     "output_type": "stream",
     "text": [
      "/Users/vru959/anaconda2/envs/py3k/lib/python3.6/site-packages/ipykernel_launcher.py:19: RuntimeWarning: divide by zero encountered in log1p\n",
      "/Users/vru959/anaconda2/envs/py3k/lib/python3.6/site-packages/ipykernel_launcher.py:19: RuntimeWarning: invalid value encountered in multiply\n",
      "/Users/vru959/anaconda2/envs/py3k/lib/python3.6/site-packages/ipykernel_launcher.py:19: RuntimeWarning: divide by zero encountered in log\n",
      "/Users/vru959/anaconda2/envs/py3k/lib/python3.6/site-packages/ipykernel_launcher.py:19: RuntimeWarning: divide by zero encountered in log\n",
      "/Users/vru959/anaconda2/envs/py3k/lib/python3.6/site-packages/ipykernel_launcher.py:19: RuntimeWarning: invalid value encountered in multiply\n",
      "/Users/vru959/anaconda2/envs/py3k/lib/python3.6/site-packages/ipykernel_launcher.py:19: RuntimeWarning: divide by zero encountered in log1p\n",
      "/Users/vru959/anaconda2/envs/py3k/lib/python3.6/site-packages/ipykernel_launcher.py:19: RuntimeWarning: divide by zero encountered in log1p\n",
      "/Users/vru959/anaconda2/envs/py3k/lib/python3.6/site-packages/ipykernel_launcher.py:19: RuntimeWarning: invalid value encountered in multiply\n",
      "/Users/vru959/anaconda2/envs/py3k/lib/python3.6/site-packages/ipykernel_launcher.py:19: RuntimeWarning: divide by zero encountered in log\n",
      "/Users/vru959/anaconda2/envs/py3k/lib/python3.6/site-packages/ipykernel_launcher.py:19: RuntimeWarning: divide by zero encountered in log\n",
      "/Users/vru959/anaconda2/envs/py3k/lib/python3.6/site-packages/ipykernel_launcher.py:19: RuntimeWarning: invalid value encountered in multiply\n",
      "/Users/vru959/anaconda2/envs/py3k/lib/python3.6/site-packages/ipykernel_launcher.py:19: RuntimeWarning: divide by zero encountered in log1p\n"
     ]
    },
    {
     "name": "stdout",
     "output_type": "stream",
     "text": [
      "[2019-02-24 18:24:16,190][INFO]: Experiment_51 at t=1000\n",
      "[2019-02-24 18:24:16,290][INFO]: Experiment_51 complete.\n",
      "[2019-02-24 18:24:16,294][INFO]: Experiment_58 beginning...\n",
      "[2019-02-24 18:24:19,315][INFO]: Experiment_52 at t=1000\n",
      "[2019-02-24 18:24:19,413][INFO]: Experiment_52 complete.\n",
      "[2019-02-24 18:24:19,417][INFO]: Experiment_59 beginning...\n",
      "[2019-02-24 18:24:21,289][INFO]: Experiment_53 at t=1000\n",
      "[2019-02-24 18:24:21,399][INFO]: Experiment_53 complete.\n",
      "[2019-02-24 18:24:21,403][INFO]: Experiment_60 beginning...\n",
      "[2019-02-24 18:24:22,539][INFO]: Experiment_55 at t=1000\n",
      "[2019-02-24 18:24:22,584][INFO]: Experiment_55 complete.\n",
      "[2019-02-24 18:24:22,588][INFO]: Experiment_61 beginning...\n",
      "[2019-02-24 18:24:23,809][INFO]: Experiment_54 at t=1000\n",
      "[2019-02-24 18:24:23,881][INFO]: Experiment_54 complete.\n",
      "[2019-02-24 18:24:23,885][INFO]: Experiment_62 beginning...\n",
      "[2019-02-24 18:24:26,084][INFO]: Experiment_58 at t=500\n",
      "[2019-02-24 18:24:28,936][INFO]: Experiment_56 at t=1000\n",
      "[2019-02-24 18:24:28,962][INFO]: Experiment_57 at t=1000\n",
      "[2019-02-24 18:24:29,011][INFO]: Experiment_56 complete.\n",
      "[2019-02-24 18:24:29,016][INFO]: Experiment_63 beginning...\n",
      "[2019-02-24 18:24:29,040][INFO]: Experiment_57 complete.\n",
      "[2019-02-24 18:24:29,045][INFO]: Experiment_64 beginning...\n",
      "[2019-02-24 18:24:29,624][INFO]: Experiment_59 at t=500\n"
     ]
    },
    {
     "name": "stderr",
     "output_type": "stream",
     "text": [
      "/Users/vru959/anaconda2/envs/py3k/lib/python3.6/site-packages/ipykernel_launcher.py:19: RuntimeWarning: divide by zero encountered in log1p\n",
      "/Users/vru959/anaconda2/envs/py3k/lib/python3.6/site-packages/ipykernel_launcher.py:19: RuntimeWarning: invalid value encountered in multiply\n",
      "/Users/vru959/anaconda2/envs/py3k/lib/python3.6/site-packages/ipykernel_launcher.py:19: RuntimeWarning: divide by zero encountered in log\n",
      "/Users/vru959/anaconda2/envs/py3k/lib/python3.6/site-packages/ipykernel_launcher.py:19: RuntimeWarning: divide by zero encountered in log\n",
      "/Users/vru959/anaconda2/envs/py3k/lib/python3.6/site-packages/ipykernel_launcher.py:19: RuntimeWarning: invalid value encountered in multiply\n",
      "/Users/vru959/anaconda2/envs/py3k/lib/python3.6/site-packages/ipykernel_launcher.py:19: RuntimeWarning: divide by zero encountered in log1p\n",
      "/Users/vru959/anaconda2/envs/py3k/lib/python3.6/site-packages/ipykernel_launcher.py:19: RuntimeWarning: divide by zero encountered in log1p\n",
      "/Users/vru959/anaconda2/envs/py3k/lib/python3.6/site-packages/ipykernel_launcher.py:19: RuntimeWarning: invalid value encountered in multiply\n",
      "/Users/vru959/anaconda2/envs/py3k/lib/python3.6/site-packages/ipykernel_launcher.py:19: RuntimeWarning: divide by zero encountered in log\n",
      "/Users/vru959/anaconda2/envs/py3k/lib/python3.6/site-packages/ipykernel_launcher.py:19: RuntimeWarning: divide by zero encountered in log\n",
      "/Users/vru959/anaconda2/envs/py3k/lib/python3.6/site-packages/ipykernel_launcher.py:19: RuntimeWarning: invalid value encountered in multiply\n",
      "/Users/vru959/anaconda2/envs/py3k/lib/python3.6/site-packages/ipykernel_launcher.py:19: RuntimeWarning: divide by zero encountered in log1p\n"
     ]
    },
    {
     "name": "stdout",
     "output_type": "stream",
     "text": [
      "[2019-02-24 18:24:31,563][INFO]: Experiment_60 at t=500\n"
     ]
    },
    {
     "name": "stderr",
     "output_type": "stream",
     "text": [
      "/Users/vru959/anaconda2/envs/py3k/lib/python3.6/site-packages/ipykernel_launcher.py:19: RuntimeWarning: divide by zero encountered in log1p\n",
      "/Users/vru959/anaconda2/envs/py3k/lib/python3.6/site-packages/ipykernel_launcher.py:19: RuntimeWarning: invalid value encountered in multiply\n",
      "/Users/vru959/anaconda2/envs/py3k/lib/python3.6/site-packages/ipykernel_launcher.py:19: RuntimeWarning: divide by zero encountered in log\n",
      "/Users/vru959/anaconda2/envs/py3k/lib/python3.6/site-packages/ipykernel_launcher.py:19: RuntimeWarning: divide by zero encountered in log\n",
      "/Users/vru959/anaconda2/envs/py3k/lib/python3.6/site-packages/ipykernel_launcher.py:19: RuntimeWarning: invalid value encountered in multiply\n",
      "/Users/vru959/anaconda2/envs/py3k/lib/python3.6/site-packages/ipykernel_launcher.py:19: RuntimeWarning: divide by zero encountered in log1p\n",
      "/Users/vru959/anaconda2/envs/py3k/lib/python3.6/site-packages/ipykernel_launcher.py:19: RuntimeWarning: divide by zero encountered in log1p\n",
      "/Users/vru959/anaconda2/envs/py3k/lib/python3.6/site-packages/ipykernel_launcher.py:19: RuntimeWarning: invalid value encountered in multiply\n",
      "/Users/vru959/anaconda2/envs/py3k/lib/python3.6/site-packages/ipykernel_launcher.py:19: RuntimeWarning: divide by zero encountered in log\n",
      "/Users/vru959/anaconda2/envs/py3k/lib/python3.6/site-packages/ipykernel_launcher.py:19: RuntimeWarning: divide by zero encountered in log\n",
      "/Users/vru959/anaconda2/envs/py3k/lib/python3.6/site-packages/ipykernel_launcher.py:19: RuntimeWarning: invalid value encountered in multiply\n",
      "/Users/vru959/anaconda2/envs/py3k/lib/python3.6/site-packages/ipykernel_launcher.py:19: RuntimeWarning: divide by zero encountered in log1p\n"
     ]
    },
    {
     "name": "stdout",
     "output_type": "stream",
     "text": [
      "[2019-02-24 18:24:32,902][INFO]: Experiment_61 at t=500\n",
      "[2019-02-24 18:24:34,227][INFO]: Experiment_62 at t=500\n",
      "[2019-02-24 18:24:40,576][INFO]: Experiment_63 at t=500\n",
      "[2019-02-24 18:24:40,704][INFO]: Experiment_64 at t=500\n"
     ]
    },
    {
     "name": "stderr",
     "output_type": "stream",
     "text": [
      "/Users/vru959/anaconda2/envs/py3k/lib/python3.6/site-packages/scipy/optimize/optimize.py:663: RuntimeWarning: invalid value encountered in double_scalars\n",
      "  grad[k] = (f(*((xk + d,) + args)) - f0) / d[k]\n",
      "/Users/vru959/anaconda2/envs/py3k/lib/python3.6/site-packages/ipykernel_launcher.py:19: RuntimeWarning: divide by zero encountered in log1p\n",
      "/Users/vru959/anaconda2/envs/py3k/lib/python3.6/site-packages/ipykernel_launcher.py:19: RuntimeWarning: divide by zero encountered in log1p\n",
      "/Users/vru959/anaconda2/envs/py3k/lib/python3.6/site-packages/ipykernel_launcher.py:19: RuntimeWarning: invalid value encountered in multiply\n",
      "/Users/vru959/anaconda2/envs/py3k/lib/python3.6/site-packages/ipykernel_launcher.py:19: RuntimeWarning: divide by zero encountered in log\n",
      "/Users/vru959/anaconda2/envs/py3k/lib/python3.6/site-packages/ipykernel_launcher.py:19: RuntimeWarning: divide by zero encountered in log1p\n",
      "/Users/vru959/anaconda2/envs/py3k/lib/python3.6/site-packages/ipykernel_launcher.py:19: RuntimeWarning: invalid value encountered in multiply\n",
      "/Users/vru959/anaconda2/envs/py3k/lib/python3.6/site-packages/ipykernel_launcher.py:19: RuntimeWarning: divide by zero encountered in log\n",
      "/Users/vru959/anaconda2/envs/py3k/lib/python3.6/site-packages/ipykernel_launcher.py:19: RuntimeWarning: divide by zero encountered in log\n",
      "/Users/vru959/anaconda2/envs/py3k/lib/python3.6/site-packages/ipykernel_launcher.py:19: RuntimeWarning: invalid value encountered in multiply\n",
      "/Users/vru959/anaconda2/envs/py3k/lib/python3.6/site-packages/ipykernel_launcher.py:19: RuntimeWarning: divide by zero encountered in log1p\n"
     ]
    },
    {
     "name": "stdout",
     "output_type": "stream",
     "text": [
      "[2019-02-24 18:24:47,920][INFO]: Experiment_58 at t=1000\n",
      "[2019-02-24 18:24:47,973][INFO]: Experiment_58 complete.\n",
      "[2019-02-24 18:24:47,977][INFO]: Experiment_65 beginning...\n",
      "[2019-02-24 18:24:50,602][INFO]: Experiment_59 at t=1000\n",
      "[2019-02-24 18:24:50,721][INFO]: Experiment_59 complete.\n",
      "[2019-02-24 18:24:50,726][INFO]: Experiment_66 beginning...\n"
     ]
    },
    {
     "name": "stderr",
     "output_type": "stream",
     "text": [
      "/Users/vru959/anaconda2/envs/py3k/lib/python3.6/site-packages/ipykernel_launcher.py:19: RuntimeWarning: divide by zero encountered in log1p\n",
      "/Users/vru959/anaconda2/envs/py3k/lib/python3.6/site-packages/ipykernel_launcher.py:19: RuntimeWarning: invalid value encountered in multiply\n",
      "/Users/vru959/anaconda2/envs/py3k/lib/python3.6/site-packages/ipykernel_launcher.py:19: RuntimeWarning: divide by zero encountered in log\n",
      "/Users/vru959/anaconda2/envs/py3k/lib/python3.6/site-packages/ipykernel_launcher.py:19: RuntimeWarning: divide by zero encountered in log\n",
      "/Users/vru959/anaconda2/envs/py3k/lib/python3.6/site-packages/ipykernel_launcher.py:19: RuntimeWarning: invalid value encountered in multiply\n",
      "/Users/vru959/anaconda2/envs/py3k/lib/python3.6/site-packages/ipykernel_launcher.py:19: RuntimeWarning: divide by zero encountered in log1p\n"
     ]
    },
    {
     "name": "stdout",
     "output_type": "stream",
     "text": [
      "[2019-02-24 18:24:55,148][INFO]: Experiment_61 at t=1000\n",
      "[2019-02-24 18:24:55,239][INFO]: Experiment_61 complete.\n",
      "[2019-02-24 18:24:55,244][INFO]: Experiment_67 beginning...\n",
      "[2019-02-24 18:24:56,144][INFO]: Experiment_60 at t=1000\n",
      "[2019-02-24 18:24:56,348][INFO]: Experiment_60 complete.\n",
      "[2019-02-24 18:24:56,352][INFO]: Experiment_68 beginning...\n",
      "[2019-02-24 18:24:57,206][INFO]: Experiment_62 at t=1000\n",
      "[2019-02-24 18:24:57,305][INFO]: Experiment_62 complete.\n",
      "[2019-02-24 18:24:57,309][INFO]: Experiment_69 beginning...\n",
      "[2019-02-24 18:24:59,777][INFO]: Experiment_65 at t=500\n",
      "[2019-02-24 18:25:02,657][INFO]: Experiment_66 at t=500\n",
      "[2019-02-24 18:25:02,676][INFO]: Experiment_64 at t=1000\n",
      "[2019-02-24 18:25:02,727][INFO]: Experiment_64 complete.\n",
      "[2019-02-24 18:25:02,731][INFO]: Experiment_70 beginning...\n",
      "[2019-02-24 18:25:03,161][INFO]: Experiment_63 at t=1000\n",
      "[2019-02-24 18:25:03,216][INFO]: Experiment_63 complete.\n",
      "[2019-02-24 18:25:03,220][INFO]: Experiment_71 beginning...\n",
      "[2019-02-24 18:25:05,610][INFO]: Experiment_67 at t=500\n",
      "[2019-02-24 18:25:06,109][INFO]: Experiment_68 at t=500\n",
      "[2019-02-24 18:25:07,662][INFO]: Experiment_69 at t=500\n",
      "[2019-02-24 18:25:11,234][INFO]: Experiment_70 at t=500\n",
      "[2019-02-24 18:25:12,106][INFO]: Experiment_71 at t=500\n",
      "[2019-02-24 18:25:16,525][INFO]: Experiment_65 at t=1000\n",
      "[2019-02-24 18:25:16,577][INFO]: Experiment_65 complete.\n",
      "[2019-02-24 18:25:16,581][INFO]: Experiment_72 beginning...\n",
      "[2019-02-24 18:25:18,583][INFO]: Experiment_66 at t=1000\n",
      "[2019-02-24 18:25:18,630][INFO]: Experiment_66 complete.\n",
      "[2019-02-24 18:25:18,634][INFO]: Experiment_73 beginning...\n",
      "[2019-02-24 18:25:20,951][INFO]: Experiment_67 at t=1000\n",
      "[2019-02-24 18:25:21,005][INFO]: Experiment_67 complete.\n",
      "[2019-02-24 18:25:21,009][INFO]: Experiment_74 beginning...\n",
      "[2019-02-24 18:25:22,625][INFO]: Experiment_68 at t=1000\n",
      "[2019-02-24 18:25:22,692][INFO]: Experiment_68 complete.\n",
      "[2019-02-24 18:25:22,696][INFO]: Experiment_75 beginning...\n",
      "[2019-02-24 18:25:26,555][INFO]: Experiment_72 at t=500\n",
      "[2019-02-24 18:25:28,795][INFO]: Experiment_73 at t=500\n",
      "[2019-02-24 18:25:30,393][INFO]: Experiment_69 at t=1000\n",
      "[2019-02-24 18:25:30,538][INFO]: Experiment_69 complete.\n",
      "[2019-02-24 18:25:30,542][INFO]: Experiment_76 beginning...\n",
      "[2019-02-24 18:25:30,827][INFO]: Experiment_74 at t=500\n",
      "[2019-02-24 18:25:31,473][INFO]: Experiment_70 at t=1000\n",
      "[2019-02-24 18:25:31,520][INFO]: Experiment_70 complete.\n",
      "[2019-02-24 18:25:31,523][INFO]: Experiment_77 beginning...\n",
      "[2019-02-24 18:25:32,338][INFO]: Experiment_75 at t=500\n",
      "[2019-02-24 18:25:32,522][INFO]: Experiment_71 at t=1000\n",
      "[2019-02-24 18:25:32,586][INFO]: Experiment_71 complete.\n",
      "[2019-02-24 18:25:32,589][INFO]: Experiment_78 beginning...\n"
     ]
    },
    {
     "name": "stderr",
     "output_type": "stream",
     "text": [
      "/Users/vru959/anaconda2/envs/py3k/lib/python3.6/site-packages/ipykernel_launcher.py:19: RuntimeWarning: divide by zero encountered in log1p\n",
      "/Users/vru959/anaconda2/envs/py3k/lib/python3.6/site-packages/ipykernel_launcher.py:19: RuntimeWarning: invalid value encountered in multiply\n",
      "/Users/vru959/anaconda2/envs/py3k/lib/python3.6/site-packages/ipykernel_launcher.py:19: RuntimeWarning: divide by zero encountered in log\n",
      "/Users/vru959/anaconda2/envs/py3k/lib/python3.6/site-packages/ipykernel_launcher.py:19: RuntimeWarning: divide by zero encountered in log\n",
      "/Users/vru959/anaconda2/envs/py3k/lib/python3.6/site-packages/ipykernel_launcher.py:19: RuntimeWarning: invalid value encountered in multiply\n",
      "/Users/vru959/anaconda2/envs/py3k/lib/python3.6/site-packages/ipykernel_launcher.py:19: RuntimeWarning: divide by zero encountered in log1p\n",
      "/Users/vru959/anaconda2/envs/py3k/lib/python3.6/site-packages/ipykernel_launcher.py:19: RuntimeWarning: divide by zero encountered in log1p\n",
      "/Users/vru959/anaconda2/envs/py3k/lib/python3.6/site-packages/ipykernel_launcher.py:19: RuntimeWarning: invalid value encountered in multiply\n",
      "/Users/vru959/anaconda2/envs/py3k/lib/python3.6/site-packages/ipykernel_launcher.py:19: RuntimeWarning: divide by zero encountered in log\n",
      "/Users/vru959/anaconda2/envs/py3k/lib/python3.6/site-packages/ipykernel_launcher.py:19: RuntimeWarning: divide by zero encountered in log\n",
      "/Users/vru959/anaconda2/envs/py3k/lib/python3.6/site-packages/ipykernel_launcher.py:19: RuntimeWarning: invalid value encountered in multiply\n",
      "/Users/vru959/anaconda2/envs/py3k/lib/python3.6/site-packages/ipykernel_launcher.py:19: RuntimeWarning: divide by zero encountered in log1p\n",
      "/Users/vru959/anaconda2/envs/py3k/lib/python3.6/site-packages/ipykernel_launcher.py:19: RuntimeWarning: divide by zero encountered in log1p\n",
      "/Users/vru959/anaconda2/envs/py3k/lib/python3.6/site-packages/ipykernel_launcher.py:19: RuntimeWarning: invalid value encountered in multiply\n",
      "/Users/vru959/anaconda2/envs/py3k/lib/python3.6/site-packages/ipykernel_launcher.py:19: RuntimeWarning: divide by zero encountered in log\n",
      "/Users/vru959/anaconda2/envs/py3k/lib/python3.6/site-packages/ipykernel_launcher.py:19: RuntimeWarning: divide by zero encountered in log\n",
      "/Users/vru959/anaconda2/envs/py3k/lib/python3.6/site-packages/ipykernel_launcher.py:19: RuntimeWarning: invalid value encountered in multiply\n",
      "/Users/vru959/anaconda2/envs/py3k/lib/python3.6/site-packages/ipykernel_launcher.py:19: RuntimeWarning: divide by zero encountered in log1p\n",
      "/Users/vru959/anaconda2/envs/py3k/lib/python3.6/site-packages/ipykernel_launcher.py:19: RuntimeWarning: divide by zero encountered in log1p\n",
      "/Users/vru959/anaconda2/envs/py3k/lib/python3.6/site-packages/ipykernel_launcher.py:19: RuntimeWarning: invalid value encountered in multiply\n",
      "/Users/vru959/anaconda2/envs/py3k/lib/python3.6/site-packages/ipykernel_launcher.py:19: RuntimeWarning: divide by zero encountered in log\n",
      "/Users/vru959/anaconda2/envs/py3k/lib/python3.6/site-packages/ipykernel_launcher.py:19: RuntimeWarning: divide by zero encountered in log\n",
      "/Users/vru959/anaconda2/envs/py3k/lib/python3.6/site-packages/ipykernel_launcher.py:19: RuntimeWarning: invalid value encountered in multiply\n",
      "/Users/vru959/anaconda2/envs/py3k/lib/python3.6/site-packages/ipykernel_launcher.py:19: RuntimeWarning: divide by zero encountered in log1p\n",
      "/Users/vru959/anaconda2/envs/py3k/lib/python3.6/site-packages/ipykernel_launcher.py:19: RuntimeWarning: divide by zero encountered in log1p\n",
      "/Users/vru959/anaconda2/envs/py3k/lib/python3.6/site-packages/ipykernel_launcher.py:19: RuntimeWarning: invalid value encountered in multiply\n",
      "/Users/vru959/anaconda2/envs/py3k/lib/python3.6/site-packages/ipykernel_launcher.py:19: RuntimeWarning: divide by zero encountered in log\n",
      "/Users/vru959/anaconda2/envs/py3k/lib/python3.6/site-packages/ipykernel_launcher.py:19: RuntimeWarning: divide by zero encountered in log\n",
      "/Users/vru959/anaconda2/envs/py3k/lib/python3.6/site-packages/ipykernel_launcher.py:19: RuntimeWarning: invalid value encountered in multiply\n",
      "/Users/vru959/anaconda2/envs/py3k/lib/python3.6/site-packages/ipykernel_launcher.py:19: RuntimeWarning: divide by zero encountered in log1p\n",
      "/Users/vru959/anaconda2/envs/py3k/lib/python3.6/site-packages/ipykernel_launcher.py:19: RuntimeWarning: divide by zero encountered in log1p\n",
      "/Users/vru959/anaconda2/envs/py3k/lib/python3.6/site-packages/ipykernel_launcher.py:19: RuntimeWarning: invalid value encountered in multiply\n",
      "/Users/vru959/anaconda2/envs/py3k/lib/python3.6/site-packages/ipykernel_launcher.py:19: RuntimeWarning: divide by zero encountered in log\n",
      "/Users/vru959/anaconda2/envs/py3k/lib/python3.6/site-packages/ipykernel_launcher.py:19: RuntimeWarning: divide by zero encountered in log\n",
      "/Users/vru959/anaconda2/envs/py3k/lib/python3.6/site-packages/ipykernel_launcher.py:19: RuntimeWarning: invalid value encountered in multiply\n",
      "/Users/vru959/anaconda2/envs/py3k/lib/python3.6/site-packages/ipykernel_launcher.py:19: RuntimeWarning: divide by zero encountered in log1p\n"
     ]
    },
    {
     "name": "stdout",
     "output_type": "stream",
     "text": [
      "[2019-02-24 18:25:39,835][INFO]: Experiment_76 at t=500\n"
     ]
    },
    {
     "name": "stderr",
     "output_type": "stream",
     "text": [
      "/Users/vru959/anaconda2/envs/py3k/lib/python3.6/site-packages/ipykernel_launcher.py:19: RuntimeWarning: divide by zero encountered in log1p\n",
      "/Users/vru959/anaconda2/envs/py3k/lib/python3.6/site-packages/ipykernel_launcher.py:19: RuntimeWarning: invalid value encountered in multiply\n",
      "/Users/vru959/anaconda2/envs/py3k/lib/python3.6/site-packages/ipykernel_launcher.py:19: RuntimeWarning: divide by zero encountered in log\n",
      "/Users/vru959/anaconda2/envs/py3k/lib/python3.6/site-packages/ipykernel_launcher.py:19: RuntimeWarning: divide by zero encountered in log\n",
      "/Users/vru959/anaconda2/envs/py3k/lib/python3.6/site-packages/ipykernel_launcher.py:19: RuntimeWarning: invalid value encountered in multiply\n",
      "/Users/vru959/anaconda2/envs/py3k/lib/python3.6/site-packages/ipykernel_launcher.py:19: RuntimeWarning: divide by zero encountered in log1p\n"
     ]
    },
    {
     "name": "stdout",
     "output_type": "stream",
     "text": [
      "[2019-02-24 18:25:40,751][INFO]: Experiment_77 at t=500\n",
      "[2019-02-24 18:25:41,662][INFO]: Experiment_78 at t=500\n",
      "[2019-02-24 18:25:43,105][INFO]: Experiment_72 at t=1000\n",
      "[2019-02-24 18:25:43,155][INFO]: Experiment_72 complete.\n",
      "[2019-02-24 18:25:43,159][INFO]: Experiment_79 beginning...\n"
     ]
    },
    {
     "name": "stderr",
     "output_type": "stream",
     "text": [
      "/Users/vru959/anaconda2/envs/py3k/lib/python3.6/site-packages/ipykernel_launcher.py:19: RuntimeWarning: divide by zero encountered in log1p\n",
      "/Users/vru959/anaconda2/envs/py3k/lib/python3.6/site-packages/ipykernel_launcher.py:19: RuntimeWarning: invalid value encountered in multiply\n",
      "/Users/vru959/anaconda2/envs/py3k/lib/python3.6/site-packages/ipykernel_launcher.py:19: RuntimeWarning: divide by zero encountered in log\n",
      "/Users/vru959/anaconda2/envs/py3k/lib/python3.6/site-packages/ipykernel_launcher.py:19: RuntimeWarning: divide by zero encountered in log\n",
      "/Users/vru959/anaconda2/envs/py3k/lib/python3.6/site-packages/ipykernel_launcher.py:19: RuntimeWarning: invalid value encountered in multiply\n",
      "/Users/vru959/anaconda2/envs/py3k/lib/python3.6/site-packages/ipykernel_launcher.py:19: RuntimeWarning: divide by zero encountered in log1p\n",
      "/Users/vru959/anaconda2/envs/py3k/lib/python3.6/site-packages/ipykernel_launcher.py:19: RuntimeWarning: divide by zero encountered in log1p\n",
      "/Users/vru959/anaconda2/envs/py3k/lib/python3.6/site-packages/ipykernel_launcher.py:19: RuntimeWarning: invalid value encountered in multiply\n",
      "/Users/vru959/anaconda2/envs/py3k/lib/python3.6/site-packages/ipykernel_launcher.py:19: RuntimeWarning: divide by zero encountered in log\n",
      "/Users/vru959/anaconda2/envs/py3k/lib/python3.6/site-packages/ipykernel_launcher.py:19: RuntimeWarning: divide by zero encountered in log\n",
      "/Users/vru959/anaconda2/envs/py3k/lib/python3.6/site-packages/ipykernel_launcher.py:19: RuntimeWarning: invalid value encountered in multiply\n",
      "/Users/vru959/anaconda2/envs/py3k/lib/python3.6/site-packages/ipykernel_launcher.py:19: RuntimeWarning: divide by zero encountered in log1p\n"
     ]
    },
    {
     "name": "stdout",
     "output_type": "stream",
     "text": [
      "[2019-02-24 18:25:50,195][INFO]: Experiment_74 at t=1000\n",
      "[2019-02-24 18:25:50,307][INFO]: Experiment_74 complete.\n",
      "[2019-02-24 18:25:50,311][INFO]: Experiment_80 beginning...\n",
      "[2019-02-24 18:25:51,686][INFO]: Experiment_73 at t=1000\n",
      "[2019-02-24 18:25:51,701][INFO]: Experiment_75 at t=1000\n",
      "[2019-02-24 18:25:51,745][INFO]: Experiment_75 complete.\n",
      "[2019-02-24 18:25:51,749][INFO]: Experiment_81 beginning...\n",
      "[2019-02-24 18:25:51,755][INFO]: Experiment_73 complete.\n",
      "[2019-02-24 18:25:51,759][INFO]: Experiment_82 beginning...\n",
      "[2019-02-24 18:25:53,045][INFO]: Experiment_79 at t=500\n",
      "[2019-02-24 18:26:00,113][INFO]: Experiment_80 at t=500\n",
      "[2019-02-24 18:26:01,433][INFO]: Experiment_81 at t=500\n",
      "[2019-02-24 18:26:01,459][INFO]: Experiment_76 at t=1000\n",
      "[2019-02-24 18:26:01,584][INFO]: Experiment_76 complete.\n",
      "[2019-02-24 18:26:01,588][INFO]: Experiment_83 beginning...\n",
      "[2019-02-24 18:26:01,686][INFO]: Experiment_82 at t=500\n",
      "[2019-02-24 18:26:02,194][INFO]: Experiment_77 at t=1000\n",
      "[2019-02-24 18:26:02,250][INFO]: Experiment_77 complete.\n",
      "[2019-02-24 18:26:02,254][INFO]: Experiment_84 beginning...\n",
      "[2019-02-24 18:26:02,996][INFO]: Experiment_78 at t=1000\n",
      "[2019-02-24 18:26:03,058][INFO]: Experiment_78 complete.\n",
      "[2019-02-24 18:26:03,062][INFO]: Experiment_85 beginning...\n"
     ]
    },
    {
     "name": "stderr",
     "output_type": "stream",
     "text": [
      "/Users/vru959/anaconda2/envs/py3k/lib/python3.6/site-packages/ipykernel_launcher.py:19: RuntimeWarning: divide by zero encountered in log1p\n",
      "/Users/vru959/anaconda2/envs/py3k/lib/python3.6/site-packages/ipykernel_launcher.py:19: RuntimeWarning: invalid value encountered in multiply\n",
      "/Users/vru959/anaconda2/envs/py3k/lib/python3.6/site-packages/ipykernel_launcher.py:19: RuntimeWarning: divide by zero encountered in log\n",
      "/Users/vru959/anaconda2/envs/py3k/lib/python3.6/site-packages/ipykernel_launcher.py:19: RuntimeWarning: divide by zero encountered in log\n",
      "/Users/vru959/anaconda2/envs/py3k/lib/python3.6/site-packages/ipykernel_launcher.py:19: RuntimeWarning: invalid value encountered in multiply\n",
      "/Users/vru959/anaconda2/envs/py3k/lib/python3.6/site-packages/ipykernel_launcher.py:19: RuntimeWarning: divide by zero encountered in log1p\n",
      "/Users/vru959/anaconda2/envs/py3k/lib/python3.6/site-packages/ipykernel_launcher.py:19: RuntimeWarning: divide by zero encountered in log1p\n",
      "/Users/vru959/anaconda2/envs/py3k/lib/python3.6/site-packages/ipykernel_launcher.py:19: RuntimeWarning: invalid value encountered in multiply\n",
      "/Users/vru959/anaconda2/envs/py3k/lib/python3.6/site-packages/ipykernel_launcher.py:19: RuntimeWarning: divide by zero encountered in log\n",
      "/Users/vru959/anaconda2/envs/py3k/lib/python3.6/site-packages/ipykernel_launcher.py:19: RuntimeWarning: divide by zero encountered in log\n",
      "/Users/vru959/anaconda2/envs/py3k/lib/python3.6/site-packages/ipykernel_launcher.py:19: RuntimeWarning: invalid value encountered in multiply\n",
      "/Users/vru959/anaconda2/envs/py3k/lib/python3.6/site-packages/ipykernel_launcher.py:19: RuntimeWarning: divide by zero encountered in log1p\n",
      "/Users/vru959/anaconda2/envs/py3k/lib/python3.6/site-packages/ipykernel_launcher.py:19: RuntimeWarning: divide by zero encountered in log1p\n",
      "/Users/vru959/anaconda2/envs/py3k/lib/python3.6/site-packages/ipykernel_launcher.py:19: RuntimeWarning: invalid value encountered in multiply\n",
      "/Users/vru959/anaconda2/envs/py3k/lib/python3.6/site-packages/ipykernel_launcher.py:19: RuntimeWarning: divide by zero encountered in log\n",
      "/Users/vru959/anaconda2/envs/py3k/lib/python3.6/site-packages/ipykernel_launcher.py:19: RuntimeWarning: divide by zero encountered in log\n",
      "/Users/vru959/anaconda2/envs/py3k/lib/python3.6/site-packages/ipykernel_launcher.py:19: RuntimeWarning: invalid value encountered in multiply\n",
      "/Users/vru959/anaconda2/envs/py3k/lib/python3.6/site-packages/ipykernel_launcher.py:19: RuntimeWarning: divide by zero encountered in log1p\n"
     ]
    },
    {
     "name": "stdout",
     "output_type": "stream",
     "text": [
      "[2019-02-24 18:26:10,186][INFO]: Experiment_79 at t=1000\n",
      "[2019-02-24 18:26:10,242][INFO]: Experiment_79 complete.\n",
      "[2019-02-24 18:26:10,245][INFO]: Experiment_86 beginning...\n",
      "[2019-02-24 18:26:10,810][INFO]: Experiment_83 at t=500\n",
      "[2019-02-24 18:26:11,884][INFO]: Experiment_84 at t=500\n",
      "[2019-02-24 18:26:12,712][INFO]: Experiment_85 at t=500\n",
      "[2019-02-24 18:26:16,685][INFO]: Experiment_80 at t=1000\n",
      "[2019-02-24 18:26:16,835][INFO]: Experiment_80 complete.\n",
      "[2019-02-24 18:26:16,839][INFO]: Experiment_87 beginning...\n",
      "[2019-02-24 18:26:17,636][INFO]: Experiment_81 at t=1000\n",
      "[2019-02-24 18:26:17,686][INFO]: Experiment_81 complete.\n",
      "[2019-02-24 18:26:17,690][INFO]: Experiment_88 beginning...\n",
      "[2019-02-24 18:26:19,708][INFO]: Experiment_86 at t=500\n",
      "[2019-02-24 18:26:21,147][INFO]: Experiment_82 at t=1000\n",
      "[2019-02-24 18:26:21,204][INFO]: Experiment_82 complete.\n",
      "[2019-02-24 18:26:21,208][INFO]: Experiment_89 beginning...\n"
     ]
    },
    {
     "name": "stderr",
     "output_type": "stream",
     "text": [
      "/Users/vru959/anaconda2/envs/py3k/lib/python3.6/site-packages/ipykernel_launcher.py:19: RuntimeWarning: divide by zero encountered in log1p\n",
      "/Users/vru959/anaconda2/envs/py3k/lib/python3.6/site-packages/ipykernel_launcher.py:19: RuntimeWarning: invalid value encountered in multiply\n",
      "/Users/vru959/anaconda2/envs/py3k/lib/python3.6/site-packages/ipykernel_launcher.py:19: RuntimeWarning: divide by zero encountered in log\n",
      "/Users/vru959/anaconda2/envs/py3k/lib/python3.6/site-packages/ipykernel_launcher.py:19: RuntimeWarning: divide by zero encountered in log1p\n",
      "/Users/vru959/anaconda2/envs/py3k/lib/python3.6/site-packages/ipykernel_launcher.py:19: RuntimeWarning: invalid value encountered in multiply\n",
      "/Users/vru959/anaconda2/envs/py3k/lib/python3.6/site-packages/ipykernel_launcher.py:19: RuntimeWarning: divide by zero encountered in log\n",
      "/Users/vru959/anaconda2/envs/py3k/lib/python3.6/site-packages/ipykernel_launcher.py:19: RuntimeWarning: divide by zero encountered in log\n",
      "/Users/vru959/anaconda2/envs/py3k/lib/python3.6/site-packages/ipykernel_launcher.py:19: RuntimeWarning: invalid value encountered in multiply\n",
      "/Users/vru959/anaconda2/envs/py3k/lib/python3.6/site-packages/ipykernel_launcher.py:19: RuntimeWarning: divide by zero encountered in log1p\n",
      "/Users/vru959/anaconda2/envs/py3k/lib/python3.6/site-packages/ipykernel_launcher.py:19: RuntimeWarning: divide by zero encountered in log1p\n",
      "/Users/vru959/anaconda2/envs/py3k/lib/python3.6/site-packages/ipykernel_launcher.py:19: RuntimeWarning: invalid value encountered in multiply\n",
      "/Users/vru959/anaconda2/envs/py3k/lib/python3.6/site-packages/ipykernel_launcher.py:19: RuntimeWarning: divide by zero encountered in log\n",
      "/Users/vru959/anaconda2/envs/py3k/lib/python3.6/site-packages/ipykernel_launcher.py:19: RuntimeWarning: divide by zero encountered in log\n",
      "/Users/vru959/anaconda2/envs/py3k/lib/python3.6/site-packages/ipykernel_launcher.py:19: RuntimeWarning: invalid value encountered in multiply\n",
      "/Users/vru959/anaconda2/envs/py3k/lib/python3.6/site-packages/ipykernel_launcher.py:19: RuntimeWarning: divide by zero encountered in log1p\n"
     ]
    },
    {
     "name": "stdout",
     "output_type": "stream",
     "text": [
      "[2019-02-24 18:26:27,406][INFO]: Experiment_87 at t=500\n"
     ]
    },
    {
     "name": "stderr",
     "output_type": "stream",
     "text": [
      "/Users/vru959/anaconda2/envs/py3k/lib/python3.6/site-packages/ipykernel_launcher.py:19: RuntimeWarning: divide by zero encountered in log1p\n",
      "/Users/vru959/anaconda2/envs/py3k/lib/python3.6/site-packages/ipykernel_launcher.py:19: RuntimeWarning: invalid value encountered in multiply\n",
      "/Users/vru959/anaconda2/envs/py3k/lib/python3.6/site-packages/ipykernel_launcher.py:19: RuntimeWarning: divide by zero encountered in log\n",
      "/Users/vru959/anaconda2/envs/py3k/lib/python3.6/site-packages/ipykernel_launcher.py:19: RuntimeWarning: divide by zero encountered in log\n",
      "/Users/vru959/anaconda2/envs/py3k/lib/python3.6/site-packages/ipykernel_launcher.py:19: RuntimeWarning: invalid value encountered in multiply\n",
      "/Users/vru959/anaconda2/envs/py3k/lib/python3.6/site-packages/ipykernel_launcher.py:19: RuntimeWarning: divide by zero encountered in log1p\n"
     ]
    },
    {
     "name": "stdout",
     "output_type": "stream",
     "text": [
      "[2019-02-24 18:26:28,216][INFO]: Experiment_88 at t=500\n"
     ]
    },
    {
     "name": "stderr",
     "output_type": "stream",
     "text": [
      "/Users/vru959/anaconda2/envs/py3k/lib/python3.6/site-packages/ipykernel_launcher.py:19: RuntimeWarning: divide by zero encountered in log1p\n",
      "/Users/vru959/anaconda2/envs/py3k/lib/python3.6/site-packages/ipykernel_launcher.py:19: RuntimeWarning: invalid value encountered in multiply\n",
      "/Users/vru959/anaconda2/envs/py3k/lib/python3.6/site-packages/ipykernel_launcher.py:19: RuntimeWarning: divide by zero encountered in log\n",
      "/Users/vru959/anaconda2/envs/py3k/lib/python3.6/site-packages/ipykernel_launcher.py:19: RuntimeWarning: divide by zero encountered in log\n",
      "/Users/vru959/anaconda2/envs/py3k/lib/python3.6/site-packages/ipykernel_launcher.py:19: RuntimeWarning: invalid value encountered in multiply\n",
      "/Users/vru959/anaconda2/envs/py3k/lib/python3.6/site-packages/ipykernel_launcher.py:19: RuntimeWarning: divide by zero encountered in log1p\n",
      "/Users/vru959/anaconda2/envs/py3k/lib/python3.6/site-packages/ipykernel_launcher.py:19: RuntimeWarning: divide by zero encountered in log1p\n",
      "/Users/vru959/anaconda2/envs/py3k/lib/python3.6/site-packages/ipykernel_launcher.py:19: RuntimeWarning: invalid value encountered in multiply\n",
      "/Users/vru959/anaconda2/envs/py3k/lib/python3.6/site-packages/ipykernel_launcher.py:19: RuntimeWarning: divide by zero encountered in log\n",
      "/Users/vru959/anaconda2/envs/py3k/lib/python3.6/site-packages/ipykernel_launcher.py:19: RuntimeWarning: divide by zero encountered in log\n",
      "/Users/vru959/anaconda2/envs/py3k/lib/python3.6/site-packages/ipykernel_launcher.py:19: RuntimeWarning: invalid value encountered in multiply\n",
      "/Users/vru959/anaconda2/envs/py3k/lib/python3.6/site-packages/ipykernel_launcher.py:19: RuntimeWarning: divide by zero encountered in log1p\n",
      "/Users/vru959/anaconda2/envs/py3k/lib/python3.6/site-packages/ipykernel_launcher.py:19: RuntimeWarning: divide by zero encountered in log1p\n",
      "/Users/vru959/anaconda2/envs/py3k/lib/python3.6/site-packages/ipykernel_launcher.py:19: RuntimeWarning: invalid value encountered in multiply\n",
      "/Users/vru959/anaconda2/envs/py3k/lib/python3.6/site-packages/ipykernel_launcher.py:19: RuntimeWarning: divide by zero encountered in log\n",
      "/Users/vru959/anaconda2/envs/py3k/lib/python3.6/site-packages/ipykernel_launcher.py:19: RuntimeWarning: divide by zero encountered in log\n",
      "/Users/vru959/anaconda2/envs/py3k/lib/python3.6/site-packages/ipykernel_launcher.py:19: RuntimeWarning: invalid value encountered in multiply\n",
      "/Users/vru959/anaconda2/envs/py3k/lib/python3.6/site-packages/ipykernel_launcher.py:19: RuntimeWarning: divide by zero encountered in log1p\n"
     ]
    },
    {
     "name": "stdout",
     "output_type": "stream",
     "text": [
      "[2019-02-24 18:26:30,642][INFO]: Experiment_83 at t=1000\n",
      "[2019-02-24 18:26:30,766][INFO]: Experiment_83 complete.\n",
      "[2019-02-24 18:26:30,770][INFO]: Experiment_90 beginning...\n",
      "[2019-02-24 18:26:31,355][INFO]: Experiment_89 at t=500\n",
      "[2019-02-24 18:26:31,913][INFO]: Experiment_84 at t=1000\n",
      "[2019-02-24 18:26:31,964][INFO]: Experiment_84 complete.\n",
      "[2019-02-24 18:26:31,967][INFO]: Experiment_91 beginning...\n"
     ]
    },
    {
     "name": "stderr",
     "output_type": "stream",
     "text": [
      "/Users/vru959/anaconda2/envs/py3k/lib/python3.6/site-packages/ipykernel_launcher.py:19: RuntimeWarning: divide by zero encountered in log1p\n",
      "/Users/vru959/anaconda2/envs/py3k/lib/python3.6/site-packages/ipykernel_launcher.py:19: RuntimeWarning: invalid value encountered in multiply\n",
      "/Users/vru959/anaconda2/envs/py3k/lib/python3.6/site-packages/ipykernel_launcher.py:19: RuntimeWarning: divide by zero encountered in log\n",
      "/Users/vru959/anaconda2/envs/py3k/lib/python3.6/site-packages/ipykernel_launcher.py:19: RuntimeWarning: divide by zero encountered in log\n",
      "/Users/vru959/anaconda2/envs/py3k/lib/python3.6/site-packages/ipykernel_launcher.py:19: RuntimeWarning: invalid value encountered in multiply\n",
      "/Users/vru959/anaconda2/envs/py3k/lib/python3.6/site-packages/ipykernel_launcher.py:19: RuntimeWarning: divide by zero encountered in log1p\n"
     ]
    },
    {
     "name": "stdout",
     "output_type": "stream",
     "text": [
      "[2019-02-24 18:26:33,134][INFO]: Experiment_85 at t=1000\n",
      "[2019-02-24 18:26:33,251][INFO]: Experiment_85 complete.\n",
      "[2019-02-24 18:26:33,256][INFO]: Experiment_92 beginning...\n"
     ]
    },
    {
     "name": "stderr",
     "output_type": "stream",
     "text": [
      "/Users/vru959/anaconda2/envs/py3k/lib/python3.6/site-packages/ipykernel_launcher.py:19: RuntimeWarning: divide by zero encountered in log1p\n",
      "/Users/vru959/anaconda2/envs/py3k/lib/python3.6/site-packages/ipykernel_launcher.py:19: RuntimeWarning: invalid value encountered in multiply\n",
      "/Users/vru959/anaconda2/envs/py3k/lib/python3.6/site-packages/ipykernel_launcher.py:19: RuntimeWarning: divide by zero encountered in log\n",
      "/Users/vru959/anaconda2/envs/py3k/lib/python3.6/site-packages/ipykernel_launcher.py:19: RuntimeWarning: divide by zero encountered in log\n",
      "/Users/vru959/anaconda2/envs/py3k/lib/python3.6/site-packages/ipykernel_launcher.py:19: RuntimeWarning: invalid value encountered in multiply\n",
      "/Users/vru959/anaconda2/envs/py3k/lib/python3.6/site-packages/ipykernel_launcher.py:19: RuntimeWarning: divide by zero encountered in log1p\n",
      "/Users/vru959/anaconda2/envs/py3k/lib/python3.6/site-packages/ipykernel_launcher.py:19: RuntimeWarning: divide by zero encountered in log1p\n",
      "/Users/vru959/anaconda2/envs/py3k/lib/python3.6/site-packages/ipykernel_launcher.py:19: RuntimeWarning: invalid value encountered in multiply\n",
      "/Users/vru959/anaconda2/envs/py3k/lib/python3.6/site-packages/ipykernel_launcher.py:19: RuntimeWarning: divide by zero encountered in log\n",
      "/Users/vru959/anaconda2/envs/py3k/lib/python3.6/site-packages/ipykernel_launcher.py:19: RuntimeWarning: divide by zero encountered in log\n",
      "/Users/vru959/anaconda2/envs/py3k/lib/python3.6/site-packages/ipykernel_launcher.py:19: RuntimeWarning: invalid value encountered in multiply\n",
      "/Users/vru959/anaconda2/envs/py3k/lib/python3.6/site-packages/ipykernel_launcher.py:19: RuntimeWarning: divide by zero encountered in log1p\n",
      "/Users/vru959/anaconda2/envs/py3k/lib/python3.6/site-packages/ipykernel_launcher.py:19: RuntimeWarning: divide by zero encountered in log1p\n",
      "/Users/vru959/anaconda2/envs/py3k/lib/python3.6/site-packages/ipykernel_launcher.py:19: RuntimeWarning: invalid value encountered in multiply\n",
      "/Users/vru959/anaconda2/envs/py3k/lib/python3.6/site-packages/ipykernel_launcher.py:19: RuntimeWarning: divide by zero encountered in log\n",
      "/Users/vru959/anaconda2/envs/py3k/lib/python3.6/site-packages/ipykernel_launcher.py:19: RuntimeWarning: divide by zero encountered in log\n",
      "/Users/vru959/anaconda2/envs/py3k/lib/python3.6/site-packages/ipykernel_launcher.py:19: RuntimeWarning: invalid value encountered in multiply\n",
      "/Users/vru959/anaconda2/envs/py3k/lib/python3.6/site-packages/ipykernel_launcher.py:19: RuntimeWarning: divide by zero encountered in log1p\n",
      "/Users/vru959/anaconda2/envs/py3k/lib/python3.6/site-packages/ipykernel_launcher.py:19: RuntimeWarning: divide by zero encountered in log1p\n",
      "/Users/vru959/anaconda2/envs/py3k/lib/python3.6/site-packages/ipykernel_launcher.py:19: RuntimeWarning: invalid value encountered in multiply\n",
      "/Users/vru959/anaconda2/envs/py3k/lib/python3.6/site-packages/ipykernel_launcher.py:19: RuntimeWarning: divide by zero encountered in log\n",
      "/Users/vru959/anaconda2/envs/py3k/lib/python3.6/site-packages/ipykernel_launcher.py:19: RuntimeWarning: divide by zero encountered in log\n",
      "/Users/vru959/anaconda2/envs/py3k/lib/python3.6/site-packages/ipykernel_launcher.py:19: RuntimeWarning: invalid value encountered in multiply\n",
      "/Users/vru959/anaconda2/envs/py3k/lib/python3.6/site-packages/ipykernel_launcher.py:19: RuntimeWarning: divide by zero encountered in log1p\n",
      "/Users/vru959/anaconda2/envs/py3k/lib/python3.6/site-packages/ipykernel_launcher.py:19: RuntimeWarning: divide by zero encountered in log1p\n",
      "/Users/vru959/anaconda2/envs/py3k/lib/python3.6/site-packages/ipykernel_launcher.py:19: RuntimeWarning: invalid value encountered in multiply\n",
      "/Users/vru959/anaconda2/envs/py3k/lib/python3.6/site-packages/ipykernel_launcher.py:19: RuntimeWarning: divide by zero encountered in log\n",
      "/Users/vru959/anaconda2/envs/py3k/lib/python3.6/site-packages/ipykernel_launcher.py:19: RuntimeWarning: divide by zero encountered in log\n",
      "/Users/vru959/anaconda2/envs/py3k/lib/python3.6/site-packages/ipykernel_launcher.py:19: RuntimeWarning: invalid value encountered in multiply\n",
      "/Users/vru959/anaconda2/envs/py3k/lib/python3.6/site-packages/ipykernel_launcher.py:19: RuntimeWarning: divide by zero encountered in log1p\n"
     ]
    },
    {
     "name": "stdout",
     "output_type": "stream",
     "text": [
      "[2019-02-24 18:26:40,321][INFO]: Experiment_86 at t=1000\n",
      "[2019-02-24 18:26:40,391][INFO]: Experiment_86 complete.\n",
      "[2019-02-24 18:26:40,395][INFO]: Experiment_93 beginning...\n",
      "[2019-02-24 18:26:41,219][INFO]: Experiment_90 at t=500\n",
      "[2019-02-24 18:26:42,337][INFO]: Experiment_91 at t=500\n",
      "[2019-02-24 18:26:43,829][INFO]: Experiment_92 at t=500\n",
      "[2019-02-24 18:26:46,219][INFO]: Experiment_87 at t=1000\n",
      "[2019-02-24 18:26:46,343][INFO]: Experiment_87 complete.\n",
      "[2019-02-24 18:26:46,347][INFO]: Experiment_94 beginning...\n"
     ]
    },
    {
     "name": "stderr",
     "output_type": "stream",
     "text": [
      "/Users/vru959/anaconda2/envs/py3k/lib/python3.6/site-packages/ipykernel_launcher.py:19: RuntimeWarning: divide by zero encountered in log1p\n",
      "/Users/vru959/anaconda2/envs/py3k/lib/python3.6/site-packages/ipykernel_launcher.py:19: RuntimeWarning: invalid value encountered in multiply\n",
      "/Users/vru959/anaconda2/envs/py3k/lib/python3.6/site-packages/ipykernel_launcher.py:19: RuntimeWarning: divide by zero encountered in log\n",
      "/Users/vru959/anaconda2/envs/py3k/lib/python3.6/site-packages/ipykernel_launcher.py:19: RuntimeWarning: divide by zero encountered in log1p\n",
      "/Users/vru959/anaconda2/envs/py3k/lib/python3.6/site-packages/ipykernel_launcher.py:19: RuntimeWarning: invalid value encountered in multiply\n",
      "/Users/vru959/anaconda2/envs/py3k/lib/python3.6/site-packages/ipykernel_launcher.py:19: RuntimeWarning: divide by zero encountered in log\n",
      "/Users/vru959/anaconda2/envs/py3k/lib/python3.6/site-packages/ipykernel_launcher.py:19: RuntimeWarning: divide by zero encountered in log\n",
      "/Users/vru959/anaconda2/envs/py3k/lib/python3.6/site-packages/ipykernel_launcher.py:19: RuntimeWarning: invalid value encountered in multiply\n",
      "/Users/vru959/anaconda2/envs/py3k/lib/python3.6/site-packages/ipykernel_launcher.py:19: RuntimeWarning: divide by zero encountered in log1p\n",
      "/Users/vru959/anaconda2/envs/py3k/lib/python3.6/site-packages/ipykernel_launcher.py:19: RuntimeWarning: divide by zero encountered in log1p\n",
      "/Users/vru959/anaconda2/envs/py3k/lib/python3.6/site-packages/ipykernel_launcher.py:19: RuntimeWarning: invalid value encountered in multiply\n",
      "/Users/vru959/anaconda2/envs/py3k/lib/python3.6/site-packages/ipykernel_launcher.py:19: RuntimeWarning: divide by zero encountered in log\n",
      "/Users/vru959/anaconda2/envs/py3k/lib/python3.6/site-packages/ipykernel_launcher.py:19: RuntimeWarning: divide by zero encountered in log\n",
      "/Users/vru959/anaconda2/envs/py3k/lib/python3.6/site-packages/ipykernel_launcher.py:19: RuntimeWarning: invalid value encountered in multiply\n",
      "/Users/vru959/anaconda2/envs/py3k/lib/python3.6/site-packages/ipykernel_launcher.py:19: RuntimeWarning: divide by zero encountered in log1p\n"
     ]
    },
    {
     "name": "stdout",
     "output_type": "stream",
     "text": [
      "[2019-02-24 18:26:47,655][INFO]: Experiment_88 at t=1000\n",
      "[2019-02-24 18:26:47,711][INFO]: Experiment_88 complete.\n",
      "[2019-02-24 18:26:47,715][INFO]: Experiment_95 beginning...\n",
      "[2019-02-24 18:26:50,291][INFO]: Experiment_93 at t=500\n",
      "[2019-02-24 18:26:50,849][INFO]: Experiment_89 at t=1000\n",
      "[2019-02-24 18:26:50,910][INFO]: Experiment_89 complete.\n",
      "[2019-02-24 18:26:50,914][INFO]: Experiment_96 beginning...\n"
     ]
    },
    {
     "name": "stderr",
     "output_type": "stream",
     "text": [
      "/Users/vru959/anaconda2/envs/py3k/lib/python3.6/site-packages/ipykernel_launcher.py:19: RuntimeWarning: divide by zero encountered in log1p\n",
      "/Users/vru959/anaconda2/envs/py3k/lib/python3.6/site-packages/ipykernel_launcher.py:19: RuntimeWarning: invalid value encountered in multiply\n",
      "/Users/vru959/anaconda2/envs/py3k/lib/python3.6/site-packages/ipykernel_launcher.py:19: RuntimeWarning: divide by zero encountered in log\n",
      "/Users/vru959/anaconda2/envs/py3k/lib/python3.6/site-packages/ipykernel_launcher.py:19: RuntimeWarning: divide by zero encountered in log\n",
      "/Users/vru959/anaconda2/envs/py3k/lib/python3.6/site-packages/ipykernel_launcher.py:19: RuntimeWarning: invalid value encountered in multiply\n",
      "/Users/vru959/anaconda2/envs/py3k/lib/python3.6/site-packages/ipykernel_launcher.py:19: RuntimeWarning: divide by zero encountered in log1p\n",
      "/Users/vru959/anaconda2/envs/py3k/lib/python3.6/site-packages/ipykernel_launcher.py:19: RuntimeWarning: divide by zero encountered in log1p\n",
      "/Users/vru959/anaconda2/envs/py3k/lib/python3.6/site-packages/ipykernel_launcher.py:19: RuntimeWarning: invalid value encountered in multiply\n",
      "/Users/vru959/anaconda2/envs/py3k/lib/python3.6/site-packages/ipykernel_launcher.py:19: RuntimeWarning: divide by zero encountered in log\n",
      "/Users/vru959/anaconda2/envs/py3k/lib/python3.6/site-packages/ipykernel_launcher.py:19: RuntimeWarning: divide by zero encountered in log\n",
      "/Users/vru959/anaconda2/envs/py3k/lib/python3.6/site-packages/ipykernel_launcher.py:19: RuntimeWarning: invalid value encountered in multiply\n",
      "/Users/vru959/anaconda2/envs/py3k/lib/python3.6/site-packages/ipykernel_launcher.py:19: RuntimeWarning: divide by zero encountered in log1p\n",
      "/Users/vru959/anaconda2/envs/py3k/lib/python3.6/site-packages/ipykernel_launcher.py:19: RuntimeWarning: divide by zero encountered in log1p\n",
      "/Users/vru959/anaconda2/envs/py3k/lib/python3.6/site-packages/ipykernel_launcher.py:19: RuntimeWarning: invalid value encountered in multiply\n",
      "/Users/vru959/anaconda2/envs/py3k/lib/python3.6/site-packages/ipykernel_launcher.py:19: RuntimeWarning: divide by zero encountered in log\n",
      "/Users/vru959/anaconda2/envs/py3k/lib/python3.6/site-packages/ipykernel_launcher.py:19: RuntimeWarning: divide by zero encountered in log\n",
      "/Users/vru959/anaconda2/envs/py3k/lib/python3.6/site-packages/ipykernel_launcher.py:19: RuntimeWarning: invalid value encountered in multiply\n",
      "/Users/vru959/anaconda2/envs/py3k/lib/python3.6/site-packages/ipykernel_launcher.py:19: RuntimeWarning: divide by zero encountered in log1p\n",
      "/Users/vru959/anaconda2/envs/py3k/lib/python3.6/site-packages/ipykernel_launcher.py:19: RuntimeWarning: divide by zero encountered in log1p\n",
      "/Users/vru959/anaconda2/envs/py3k/lib/python3.6/site-packages/ipykernel_launcher.py:19: RuntimeWarning: invalid value encountered in multiply\n",
      "/Users/vru959/anaconda2/envs/py3k/lib/python3.6/site-packages/ipykernel_launcher.py:19: RuntimeWarning: divide by zero encountered in log\n",
      "/Users/vru959/anaconda2/envs/py3k/lib/python3.6/site-packages/ipykernel_launcher.py:19: RuntimeWarning: divide by zero encountered in log\n",
      "/Users/vru959/anaconda2/envs/py3k/lib/python3.6/site-packages/ipykernel_launcher.py:19: RuntimeWarning: invalid value encountered in multiply\n",
      "/Users/vru959/anaconda2/envs/py3k/lib/python3.6/site-packages/ipykernel_launcher.py:19: RuntimeWarning: divide by zero encountered in log1p\n"
     ]
    },
    {
     "name": "stdout",
     "output_type": "stream",
     "text": [
      "[2019-02-24 18:26:56,632][INFO]: Experiment_94 at t=500\n",
      "[2019-02-24 18:26:57,527][INFO]: Experiment_95 at t=500\n",
      "[2019-02-24 18:26:58,999][INFO]: Experiment_90 at t=1000\n",
      "[2019-02-24 18:26:59,054][INFO]: Experiment_90 complete.\n",
      "[2019-02-24 18:26:59,058][INFO]: Experiment_97 beginning...\n",
      "[2019-02-24 18:26:59,971][INFO]: Experiment_91 at t=1000\n",
      "[2019-02-24 18:27:00,029][INFO]: Experiment_91 complete.\n",
      "[2019-02-24 18:27:00,033][INFO]: Experiment_98 beginning...\n",
      "[2019-02-24 18:27:00,947][INFO]: Experiment_96 at t=500\n"
     ]
    },
    {
     "name": "stderr",
     "output_type": "stream",
     "text": [
      "/Users/vru959/anaconda2/envs/py3k/lib/python3.6/site-packages/ipykernel_launcher.py:19: RuntimeWarning: divide by zero encountered in log1p\n",
      "/Users/vru959/anaconda2/envs/py3k/lib/python3.6/site-packages/ipykernel_launcher.py:19: RuntimeWarning: invalid value encountered in multiply\n",
      "/Users/vru959/anaconda2/envs/py3k/lib/python3.6/site-packages/ipykernel_launcher.py:19: RuntimeWarning: divide by zero encountered in log\n",
      "/Users/vru959/anaconda2/envs/py3k/lib/python3.6/site-packages/ipykernel_launcher.py:19: RuntimeWarning: divide by zero encountered in log\n",
      "/Users/vru959/anaconda2/envs/py3k/lib/python3.6/site-packages/ipykernel_launcher.py:19: RuntimeWarning: invalid value encountered in multiply\n",
      "/Users/vru959/anaconda2/envs/py3k/lib/python3.6/site-packages/ipykernel_launcher.py:19: RuntimeWarning: divide by zero encountered in log1p\n",
      "/Users/vru959/anaconda2/envs/py3k/lib/python3.6/site-packages/ipykernel_launcher.py:19: RuntimeWarning: divide by zero encountered in log1p\n",
      "/Users/vru959/anaconda2/envs/py3k/lib/python3.6/site-packages/ipykernel_launcher.py:19: RuntimeWarning: invalid value encountered in multiply\n",
      "/Users/vru959/anaconda2/envs/py3k/lib/python3.6/site-packages/ipykernel_launcher.py:19: RuntimeWarning: divide by zero encountered in log\n",
      "/Users/vru959/anaconda2/envs/py3k/lib/python3.6/site-packages/ipykernel_launcher.py:19: RuntimeWarning: divide by zero encountered in log\n",
      "/Users/vru959/anaconda2/envs/py3k/lib/python3.6/site-packages/ipykernel_launcher.py:19: RuntimeWarning: invalid value encountered in multiply\n",
      "/Users/vru959/anaconda2/envs/py3k/lib/python3.6/site-packages/ipykernel_launcher.py:19: RuntimeWarning: divide by zero encountered in log1p\n"
     ]
    },
    {
     "name": "stdout",
     "output_type": "stream",
     "text": [
      "[2019-02-24 18:27:04,813][INFO]: Experiment_92 at t=1000\n",
      "[2019-02-24 18:27:04,886][INFO]: Experiment_92 complete.\n",
      "[2019-02-24 18:27:04,890][INFO]: Experiment_99 beginning...\n",
      "[2019-02-24 18:27:07,548][INFO]: Experiment_93 at t=1000\n",
      "[2019-02-24 18:27:07,621][INFO]: Experiment_93 complete.\n"
     ]
    },
    {
     "name": "stderr",
     "output_type": "stream",
     "text": [
      "/Users/vru959/anaconda2/envs/py3k/lib/python3.6/site-packages/ipykernel_launcher.py:19: RuntimeWarning: divide by zero encountered in log1p\n",
      "/Users/vru959/anaconda2/envs/py3k/lib/python3.6/site-packages/ipykernel_launcher.py:19: RuntimeWarning: invalid value encountered in multiply\n",
      "/Users/vru959/anaconda2/envs/py3k/lib/python3.6/site-packages/ipykernel_launcher.py:19: RuntimeWarning: divide by zero encountered in log\n",
      "/Users/vru959/anaconda2/envs/py3k/lib/python3.6/site-packages/ipykernel_launcher.py:19: RuntimeWarning: divide by zero encountered in log\n",
      "/Users/vru959/anaconda2/envs/py3k/lib/python3.6/site-packages/ipykernel_launcher.py:19: RuntimeWarning: invalid value encountered in multiply\n",
      "/Users/vru959/anaconda2/envs/py3k/lib/python3.6/site-packages/ipykernel_launcher.py:19: RuntimeWarning: divide by zero encountered in log1p\n",
      "/Users/vru959/anaconda2/envs/py3k/lib/python3.6/site-packages/ipykernel_launcher.py:19: RuntimeWarning: divide by zero encountered in log1p\n",
      "/Users/vru959/anaconda2/envs/py3k/lib/python3.6/site-packages/ipykernel_launcher.py:19: RuntimeWarning: invalid value encountered in multiply\n",
      "/Users/vru959/anaconda2/envs/py3k/lib/python3.6/site-packages/ipykernel_launcher.py:19: RuntimeWarning: divide by zero encountered in log\n",
      "/Users/vru959/anaconda2/envs/py3k/lib/python3.6/site-packages/ipykernel_launcher.py:19: RuntimeWarning: divide by zero encountered in log\n",
      "/Users/vru959/anaconda2/envs/py3k/lib/python3.6/site-packages/ipykernel_launcher.py:19: RuntimeWarning: invalid value encountered in multiply\n",
      "/Users/vru959/anaconda2/envs/py3k/lib/python3.6/site-packages/ipykernel_launcher.py:19: RuntimeWarning: divide by zero encountered in log1p\n"
     ]
    },
    {
     "name": "stdout",
     "output_type": "stream",
     "text": [
      "[2019-02-24 18:27:08,907][INFO]: Experiment_97 at t=500\n",
      "[2019-02-24 18:27:09,476][INFO]: Experiment_98 at t=500\n",
      "[2019-02-24 18:27:13,931][INFO]: Experiment_94 at t=1000\n",
      "[2019-02-24 18:27:13,980][INFO]: Experiment_94 complete.\n",
      "[2019-02-24 18:27:14,236][INFO]: Experiment_95 at t=1000\n",
      "[2019-02-24 18:27:14,279][INFO]: Experiment_95 complete.\n",
      "[2019-02-24 18:27:14,384][INFO]: Experiment_99 at t=500\n",
      "[2019-02-24 18:27:17,361][INFO]: Experiment_96 at t=1000\n",
      "[2019-02-24 18:27:17,405][INFO]: Experiment_96 complete.\n",
      "[2019-02-24 18:27:21,930][INFO]: Experiment_98 at t=1000\n",
      "[2019-02-24 18:27:21,979][INFO]: Experiment_98 complete.\n",
      "[2019-02-24 18:27:22,547][INFO]: Experiment_97 at t=1000\n",
      "[2019-02-24 18:27:22,576][INFO]: Experiment_97 complete.\n",
      "[2019-02-24 18:27:25,019][INFO]: Experiment_99 at t=1000\n",
      "[2019-02-24 18:27:25,044][INFO]: Experiment_99 complete.\n"
     ]
    }
   ],
   "source": [
    "factory.reset()\n",
    "model = LaplaceLogisticRegression(\n",
    "    m0=np.zeros(factory.num_predictors),\n",
    "    q0=np.ones(factory.num_predictors, dtype=np.float),\n",
    "    num_samples=100)\n",
    "experiment = Experiment(factory, model, logging_frequency=500)\n",
    "laplace_ts_rewards, laplace_ts_optimal_rewards = experiment.run(num_replications=100)"
   ]
  },
  {
   "cell_type": "code",
   "execution_count": 35,
   "metadata": {},
   "outputs": [],
   "source": [
    "# Save results from PG-TS experiments.\n",
    "with open('laplace_ts_rewards.pkl', 'wb') as f:\n",
    "    pickle.dump(laplace_ts_rewards, f)\n",
    "\n",
    "with open('laplace_ts_optimal_rewards.pkl', 'wb') as f:\n",
    "    pickle.dump(laplace_ts_optimal_rewards, f)"
   ]
  },
  {
   "cell_type": "code",
   "execution_count": null,
   "metadata": {},
   "outputs": [],
   "source": [
    "# Uncomment to load results from PG-TS experiments.\n",
    "# with open('laplace_ts_rewards.pkl', 'rb') as f:\n",
    "#     laplace_ts_rewards = pickle.load(f)\n",
    "\n",
    "# with open('laplace_ts_optimal_rewards.pkl', 'rb') as f:\n",
    "#     laplace_ts_optimal_rewards = pickle.load(f)"
   ]
  },
  {
   "cell_type": "code",
   "execution_count": 34,
   "metadata": {},
   "outputs": [
    {
     "data": {
      "image/png": "[encoded data removed]",
      "text/plain": [
       "<Figure size 432x288 with 1 Axes>"
      ]
     },
     "metadata": {
      "needs_background": "light"
     },
     "output_type": "display_data"
    }
   ],
   "source": [
    "plot_cum_regret(laplace_ts_rewards, laplace_ts_optimal_rewards, color='green');"
   ]
  },
  {
   "cell_type": "markdown",
   "metadata": {},
   "source": [
    "# Extensions\n",
    "\n",
    "The Polya-Gamma Logistic Regression is convenient for its conjugacy. However, for non-simulated applications, there is no generally good setting for the mean and covariance parameters. The Bayesian way to handle this issue is to place priors on both. In this section, we'll extend the Polya-Gamma algorithm by incorporating hyperpriors on the coefficient mean and variance parameters. For most of this section, we'll draw from the conjugate derivations given by Murphy in: https://www.cs.ubc.ca/~murphyk/Papers/bayesGauss.pdf.\n",
    "\n",
    "To start, we'll move away from the notation in the PG-TS paper to the more common notation:\n",
    "\n",
    "-   from: $p(\\theta) \\sim MVN(\\mathbf{b}, \\mathbf{B})$\n",
    "-   to: $p(\\theta) \\sim MVN(\\mu, \\Sigma)$\n",
    "\n",
    "We'll also work with precision matrices in some cases. The precision matrix is simply $\\Lambda = \\Sigma^{-1}$."
   ]
  },
  {
   "cell_type": "markdown",
   "metadata": {},
   "source": [
    "## Restate Polya-Gamma Logistic Regression basics"
   ]
  },
  {
   "cell_type": "markdown",
   "metadata": {},
   "source": [
    "To restate, the conditional posterior of $\\theta$ given latent variables $\\mathbf{\\omega} = [\\omega_1, \\ldots, \\omega_t]$ and past rewards $\\mathbf{r} = [r_1, \\ldots, r_t]$ is a Gaussian:\n",
    "\n",
    "$$\n",
    "p(\\theta | \\mathbf{\\omega}, \\mathbf{r})\n",
    "    = p(\\theta) \\prod_{i=1}^t L_i(\\theta | \\omega_i)\n",
    "    \\propto p(\\theta) \\ exp \\left\\{ -\\frac{1}{2} (z - \\mathbf{X}\\theta)^T \\mathbf{\\Omega} (z - \\mathbf{X}\\theta) \\right\\},\n",
    "$$\n",
    "\n",
    "where $z = (\\kappa_1 / \\omega_1, \\ldots, \\kappa_t / \\omega_t)$, $\\mathbf{\\kappa} = [r_1 - 1/2, \\ldots, r_t - 1/2]$, and $\\mathbf{\\Omega} = diag(\\omega_1, \\ldots, \\omega_t)$. This is a conditionally Gaussian likelihood in $\\theta$, with working responses $z$, design matrix $\\mathbf{X}$, and diagonal covariance matrix $\\mathbf{\\Omega}^{-1}$. With a multivariate Gaussian prior for $\\theta \\sim MVN(\\mu, \\Sigma)$:\n",
    "\n",
    "$$p(\\theta) \\propto exp\\left\\{ -\\frac{1}{2} (\\theta - \\mu)^T \\Sigma^{-1} (\\theta - \\mu) \\right\\},$$\n",
    "\n",
    "this identity leads to an efficient Gibbs sampler. The main parameters are drawn from a Gaussian distribution, which is parameterized by latent variables drawn from the PG distribution. The two steps are:\n",
    "\n",
    "\\begin{align}\n",
    "\\omega_i | \\theta &\\sim PG(1, \\mathbf{x}_i^T \\theta)\n",
    "    &\\mathbf{V}_\\omega &= (\\mathbf{X}^T \\mathbf{\\Omega} \\mathbf{X} + \\Sigma^{-1})^{-1}  \\\\\n",
    "\\theta | \\mathbf{r}, \\mathbf{\\omega} &\\sim N(\\mathbf{m}_\\omega, \\mathbf{V}_\\omega)\n",
    "    &\\mathbf{m}_\\omega &= \\mathbf{V}_\\omega (\\mathbf{X}^T \\mathbf{\\kappa} + \\Sigma^{-1}\\mu)\n",
    "\\end{align}"
   ]
  },
  {
   "cell_type": "markdown",
   "metadata": {},
   "source": [
    "## Normal Inverse Wishart\n",
    "\n",
    "The natural conjugate prior is Normal Inverse-Wishart (NIW):\n",
    "\n",
    "\\begin{align}\n",
    "\\Sigma &\\sim IW_{\\nu_0}(\\Lambda_0^{-1})  \\\\\n",
    "\\mu | \\Sigma &\\sim N(\\mu_0, \\Sigma / \\kappa_0)  \\\\\n",
    "p(\\mu, \\Sigma) &\\overset{\\text{def}}{=} NIW(\\mu_0, \\kappa_0, \\Lambda_0, \\nu_0)\n",
    "\\end{align}\n",
    "\n",
    "With this prior, the posterior is:\n",
    "\n",
    "\\begin{align}\n",
    "p(\\mu, \\Sigma | D, \\mu_0, \\kappa_0, \\Lambda_0, \\nu_0) &= NIW(\\mu, \\Sigma | \\mu_n, \\kappa_n, \\Lambda_n, \\nu_n)  \\\\\n",
    "\\kappa_n &= \\kappa_0 + n  \\\\\n",
    "\\mu_n &= \\frac{\\kappa_0 \\mu_0 + n \\bar{\\theta}}{\\kappa_n}  \\\\\n",
    "\\nu_n &= \\nu_0 + n  \\\\\n",
    "\\Lambda_n &= \\Lambda_0 + S + \\frac{\\kappa_0 n}{\\kappa_0 + n} (\\bar{\\theta} - \\mu_0)(\\bar{\\theta} - \\mu_0)^T,\n",
    "\\end{align}\n",
    "\n",
    "where $S$ is the matrix of sum of squares (scatter matrix):\n",
    "\n",
    "$$S = \\sum_{i=1}^p (\\theta_i - \\bar{\\theta})(\\theta_i - \\bar{\\theta})^T$$"
   ]
  },
  {
   "cell_type": "markdown",
   "metadata": {},
   "source": [
    "TODO:\n",
    "\n",
    "1.  I think these update equations are wrong because I just pulled from the likelihood + prior update equations. I think because $\\theta$ is not observed, we also need to incorporate info from the data. Write out the graphical model and the generic steps of a Gibbs sampler. Then re-derive the equations to verify you're working with the right ones.\n",
    "2.  Implement this updated model, ideally in a way that is modular for choice of prior."
   ]
  },
  {
   "cell_type": "code",
   "execution_count": null,
   "metadata": {},
   "outputs": [],
   "source": []
  }
 ],
 "metadata": {
  "kernelspec": {
   "display_name": "Python 3",
   "language": "python",
   "name": "python3"
  },
  "language_info": {
   "codemirror_mode": {
    "name": "ipython",
    "version": 3
   },
   "file_extension": ".py",
   "mimetype": "text/x-python",
   "name": "python",
   "nbconvert_exporter": "python",
   "pygments_lexer": "ipython3",
   "version": "3.6.8"
  }
 },
 "nbformat": 4,
 "nbformat_minor": 2
}
